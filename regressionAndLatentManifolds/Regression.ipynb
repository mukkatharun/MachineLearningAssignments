{
  "nbformat": 4,
  "nbformat_minor": 0,
  "metadata": {
    "colab": {
      "name": "Regression.ipynb",
      "provenance": []
    },
    "kernelspec": {
      "name": "python3",
      "display_name": "Python 3"
    },
    "language_info": {
      "name": "python"
    }
  },
  "cells": [
    {
      "cell_type": "code",
      "execution_count": 17,
      "metadata": {
        "id": "KbbUFFPbbBgF"
      },
      "outputs": [],
      "source": [
        "import numpy as np \n",
        "import pandas as pd # for working with dataframes\n",
        "import seaborn as sns # for data visualization \n",
        "from sklearn.ensemble import RandomForestClassifier\n",
        "from sklearn.neighbors import KNeighborsClassifier\n",
        "from sklearn.linear_model import LinearRegression\n",
        "from sklearn.neural_network import MLPClassifier\n",
        "from xgboost import XGBClassifier\n",
        "\n",
        "from sklearn.metrics import make_scorer, accuracy_score, roc_auc_score \n",
        "from sklearn.model_selection import GridSearchCV\n",
        "from sklearn.model_selection import train_test_split\n",
        "from matplotlib import pyplot as plt # for plotting\n",
        "%matplotlib inline\n",
        "sns.set_style(\"whitegrid\")\n",
        "\n",
        "import warnings\n",
        "warnings.filterwarnings(\"ignore\")"
      ]
    },
    {
      "cell_type": "code",
      "source": [
        "data.head()"
      ],
      "metadata": {
        "colab": {
          "base_uri": "https://localhost:8080/",
          "height": 444
        },
        "id": "ozEaWTcPbfcw",
        "outputId": "c394dbb5-6862-451a-a307-3def17cae05f"
      },
      "execution_count": 3,
      "outputs": [
        {
          "output_type": "execute_result",
          "data": {
            "text/html": [
              "\n",
              "  <div id=\"df-799de268-9d14-4f34-ab50-3e9dbb48956b\">\n",
              "    <div class=\"colab-df-container\">\n",
              "      <div>\n",
              "<style scoped>\n",
              "    .dataframe tbody tr th:only-of-type {\n",
              "        vertical-align: middle;\n",
              "    }\n",
              "\n",
              "    .dataframe tbody tr th {\n",
              "        vertical-align: top;\n",
              "    }\n",
              "\n",
              "    .dataframe thead th {\n",
              "        text-align: right;\n",
              "    }\n",
              "</style>\n",
              "<table border=\"1\" class=\"dataframe\">\n",
              "  <thead>\n",
              "    <tr style=\"text-align: right;\">\n",
              "      <th></th>\n",
              "      <th>genre</th>\n",
              "      <th>artist_name</th>\n",
              "      <th>track_name</th>\n",
              "      <th>track_id</th>\n",
              "      <th>popularity</th>\n",
              "      <th>acousticness</th>\n",
              "      <th>danceability</th>\n",
              "      <th>duration_ms</th>\n",
              "      <th>energy</th>\n",
              "      <th>instrumentalness</th>\n",
              "      <th>key</th>\n",
              "      <th>liveness</th>\n",
              "      <th>loudness</th>\n",
              "      <th>mode</th>\n",
              "      <th>speechiness</th>\n",
              "      <th>tempo</th>\n",
              "      <th>time_signature</th>\n",
              "      <th>valence</th>\n",
              "    </tr>\n",
              "  </thead>\n",
              "  <tbody>\n",
              "    <tr>\n",
              "      <th>0</th>\n",
              "      <td>Movie</td>\n",
              "      <td>Henri Salvador</td>\n",
              "      <td>C'est beau de faire un Show</td>\n",
              "      <td>0BRjO6ga9RKCKjfDqeFgWV</td>\n",
              "      <td>0</td>\n",
              "      <td>0.611</td>\n",
              "      <td>0.389</td>\n",
              "      <td>99373</td>\n",
              "      <td>0.910</td>\n",
              "      <td>0.000</td>\n",
              "      <td>C#</td>\n",
              "      <td>0.3460</td>\n",
              "      <td>-1.828</td>\n",
              "      <td>Major</td>\n",
              "      <td>0.0525</td>\n",
              "      <td>166.969</td>\n",
              "      <td>4/4</td>\n",
              "      <td>0.814</td>\n",
              "    </tr>\n",
              "    <tr>\n",
              "      <th>1</th>\n",
              "      <td>Movie</td>\n",
              "      <td>Martin &amp; les fées</td>\n",
              "      <td>Perdu d'avance (par Gad Elmaleh)</td>\n",
              "      <td>0BjC1NfoEOOusryehmNudP</td>\n",
              "      <td>1</td>\n",
              "      <td>0.246</td>\n",
              "      <td>0.590</td>\n",
              "      <td>137373</td>\n",
              "      <td>0.737</td>\n",
              "      <td>0.000</td>\n",
              "      <td>F#</td>\n",
              "      <td>0.1510</td>\n",
              "      <td>-5.559</td>\n",
              "      <td>Minor</td>\n",
              "      <td>0.0868</td>\n",
              "      <td>174.003</td>\n",
              "      <td>4/4</td>\n",
              "      <td>0.816</td>\n",
              "    </tr>\n",
              "    <tr>\n",
              "      <th>2</th>\n",
              "      <td>Movie</td>\n",
              "      <td>Joseph Williams</td>\n",
              "      <td>Don't Let Me Be Lonely Tonight</td>\n",
              "      <td>0CoSDzoNIKCRs124s9uTVy</td>\n",
              "      <td>3</td>\n",
              "      <td>0.952</td>\n",
              "      <td>0.663</td>\n",
              "      <td>170267</td>\n",
              "      <td>0.131</td>\n",
              "      <td>0.000</td>\n",
              "      <td>C</td>\n",
              "      <td>0.1030</td>\n",
              "      <td>-13.879</td>\n",
              "      <td>Minor</td>\n",
              "      <td>0.0362</td>\n",
              "      <td>99.488</td>\n",
              "      <td>5/4</td>\n",
              "      <td>0.368</td>\n",
              "    </tr>\n",
              "    <tr>\n",
              "      <th>3</th>\n",
              "      <td>Movie</td>\n",
              "      <td>Henri Salvador</td>\n",
              "      <td>Dis-moi Monsieur Gordon Cooper</td>\n",
              "      <td>0Gc6TVm52BwZD07Ki6tIvf</td>\n",
              "      <td>0</td>\n",
              "      <td>0.703</td>\n",
              "      <td>0.240</td>\n",
              "      <td>152427</td>\n",
              "      <td>0.326</td>\n",
              "      <td>0.000</td>\n",
              "      <td>C#</td>\n",
              "      <td>0.0985</td>\n",
              "      <td>-12.178</td>\n",
              "      <td>Major</td>\n",
              "      <td>0.0395</td>\n",
              "      <td>171.758</td>\n",
              "      <td>4/4</td>\n",
              "      <td>0.227</td>\n",
              "    </tr>\n",
              "    <tr>\n",
              "      <th>4</th>\n",
              "      <td>Movie</td>\n",
              "      <td>Fabien Nataf</td>\n",
              "      <td>Ouverture</td>\n",
              "      <td>0IuslXpMROHdEPvSl1fTQK</td>\n",
              "      <td>4</td>\n",
              "      <td>0.950</td>\n",
              "      <td>0.331</td>\n",
              "      <td>82625</td>\n",
              "      <td>0.225</td>\n",
              "      <td>0.123</td>\n",
              "      <td>F</td>\n",
              "      <td>0.2020</td>\n",
              "      <td>-21.150</td>\n",
              "      <td>Major</td>\n",
              "      <td>0.0456</td>\n",
              "      <td>140.576</td>\n",
              "      <td>4/4</td>\n",
              "      <td>0.390</td>\n",
              "    </tr>\n",
              "  </tbody>\n",
              "</table>\n",
              "</div>\n",
              "      <button class=\"colab-df-convert\" onclick=\"convertToInteractive('df-799de268-9d14-4f34-ab50-3e9dbb48956b')\"\n",
              "              title=\"Convert this dataframe to an interactive table.\"\n",
              "              style=\"display:none;\">\n",
              "        \n",
              "  <svg xmlns=\"http://www.w3.org/2000/svg\" height=\"24px\"viewBox=\"0 0 24 24\"\n",
              "       width=\"24px\">\n",
              "    <path d=\"M0 0h24v24H0V0z\" fill=\"none\"/>\n",
              "    <path d=\"M18.56 5.44l.94 2.06.94-2.06 2.06-.94-2.06-.94-.94-2.06-.94 2.06-2.06.94zm-11 1L8.5 8.5l.94-2.06 2.06-.94-2.06-.94L8.5 2.5l-.94 2.06-2.06.94zm10 10l.94 2.06.94-2.06 2.06-.94-2.06-.94-.94-2.06-.94 2.06-2.06.94z\"/><path d=\"M17.41 7.96l-1.37-1.37c-.4-.4-.92-.59-1.43-.59-.52 0-1.04.2-1.43.59L10.3 9.45l-7.72 7.72c-.78.78-.78 2.05 0 2.83L4 21.41c.39.39.9.59 1.41.59.51 0 1.02-.2 1.41-.59l7.78-7.78 2.81-2.81c.8-.78.8-2.07 0-2.86zM5.41 20L4 18.59l7.72-7.72 1.47 1.35L5.41 20z\"/>\n",
              "  </svg>\n",
              "      </button>\n",
              "      \n",
              "  <style>\n",
              "    .colab-df-container {\n",
              "      display:flex;\n",
              "      flex-wrap:wrap;\n",
              "      gap: 12px;\n",
              "    }\n",
              "\n",
              "    .colab-df-convert {\n",
              "      background-color: #E8F0FE;\n",
              "      border: none;\n",
              "      border-radius: 50%;\n",
              "      cursor: pointer;\n",
              "      display: none;\n",
              "      fill: #1967D2;\n",
              "      height: 32px;\n",
              "      padding: 0 0 0 0;\n",
              "      width: 32px;\n",
              "    }\n",
              "\n",
              "    .colab-df-convert:hover {\n",
              "      background-color: #E2EBFA;\n",
              "      box-shadow: 0px 1px 2px rgba(60, 64, 67, 0.3), 0px 1px 3px 1px rgba(60, 64, 67, 0.15);\n",
              "      fill: #174EA6;\n",
              "    }\n",
              "\n",
              "    [theme=dark] .colab-df-convert {\n",
              "      background-color: #3B4455;\n",
              "      fill: #D2E3FC;\n",
              "    }\n",
              "\n",
              "    [theme=dark] .colab-df-convert:hover {\n",
              "      background-color: #434B5C;\n",
              "      box-shadow: 0px 1px 3px 1px rgba(0, 0, 0, 0.15);\n",
              "      filter: drop-shadow(0px 1px 2px rgba(0, 0, 0, 0.3));\n",
              "      fill: #FFFFFF;\n",
              "    }\n",
              "  </style>\n",
              "\n",
              "      <script>\n",
              "        const buttonEl =\n",
              "          document.querySelector('#df-799de268-9d14-4f34-ab50-3e9dbb48956b button.colab-df-convert');\n",
              "        buttonEl.style.display =\n",
              "          google.colab.kernel.accessAllowed ? 'block' : 'none';\n",
              "\n",
              "        async function convertToInteractive(key) {\n",
              "          const element = document.querySelector('#df-799de268-9d14-4f34-ab50-3e9dbb48956b');\n",
              "          const dataTable =\n",
              "            await google.colab.kernel.invokeFunction('convertToInteractive',\n",
              "                                                     [key], {});\n",
              "          if (!dataTable) return;\n",
              "\n",
              "          const docLinkHtml = 'Like what you see? Visit the ' +\n",
              "            '<a target=\"_blank\" href=https://colab.research.google.com/notebooks/data_table.ipynb>data table notebook</a>'\n",
              "            + ' to learn more about interactive tables.';\n",
              "          element.innerHTML = '';\n",
              "          dataTable['output_type'] = 'display_data';\n",
              "          await google.colab.output.renderOutput(dataTable, element);\n",
              "          const docLink = document.createElement('div');\n",
              "          docLink.innerHTML = docLinkHtml;\n",
              "          element.appendChild(docLink);\n",
              "        }\n",
              "      </script>\n",
              "    </div>\n",
              "  </div>\n",
              "  "
            ],
            "text/plain": [
              "   genre        artist_name  ... time_signature valence\n",
              "0  Movie     Henri Salvador  ...            4/4   0.814\n",
              "1  Movie  Martin & les fées  ...            4/4   0.816\n",
              "2  Movie    Joseph Williams  ...            5/4   0.368\n",
              "3  Movie     Henri Salvador  ...            4/4   0.227\n",
              "4  Movie       Fabien Nataf  ...            4/4   0.390\n",
              "\n",
              "[5 rows x 18 columns]"
            ]
          },
          "metadata": {},
          "execution_count": 3
        }
      ]
    },
    {
      "cell_type": "code",
      "source": [
        "data.info()"
      ],
      "metadata": {
        "colab": {
          "base_uri": "https://localhost:8080/"
        },
        "id": "-mxQ7IEIbhHL",
        "outputId": "9feb05bc-c341-4a03-c9a6-55f566f99191"
      },
      "execution_count": 4,
      "outputs": [
        {
          "output_type": "stream",
          "name": "stdout",
          "text": [
            "<class 'pandas.core.frame.DataFrame'>\n",
            "RangeIndex: 232725 entries, 0 to 232724\n",
            "Data columns (total 18 columns):\n",
            " #   Column            Non-Null Count   Dtype  \n",
            "---  ------            --------------   -----  \n",
            " 0   genre             232725 non-null  object \n",
            " 1   artist_name       232725 non-null  object \n",
            " 2   track_name        232725 non-null  object \n",
            " 3   track_id          232725 non-null  object \n",
            " 4   popularity        232725 non-null  int64  \n",
            " 5   acousticness      232725 non-null  float64\n",
            " 6   danceability      232725 non-null  float64\n",
            " 7   duration_ms       232725 non-null  int64  \n",
            " 8   energy            232725 non-null  float64\n",
            " 9   instrumentalness  232725 non-null  float64\n",
            " 10  key               232725 non-null  object \n",
            " 11  liveness          232725 non-null  float64\n",
            " 12  loudness          232725 non-null  float64\n",
            " 13  mode              232725 non-null  object \n",
            " 14  speechiness       232725 non-null  float64\n",
            " 15  tempo             232725 non-null  float64\n",
            " 16  time_signature    232725 non-null  object \n",
            " 17  valence           232725 non-null  float64\n",
            "dtypes: float64(9), int64(2), object(7)\n",
            "memory usage: 32.0+ MB\n"
          ]
        }
      ]
    },
    {
      "cell_type": "code",
      "source": [
        "data.isnull().sum()"
      ],
      "metadata": {
        "colab": {
          "base_uri": "https://localhost:8080/"
        },
        "id": "WHGuzGpUbkAU",
        "outputId": "9ba00352-3928-46ba-85c8-8294799b84e7"
      },
      "execution_count": 5,
      "outputs": [
        {
          "output_type": "execute_result",
          "data": {
            "text/plain": [
              "genre               0\n",
              "artist_name         0\n",
              "track_name          0\n",
              "track_id            0\n",
              "popularity          0\n",
              "acousticness        0\n",
              "danceability        0\n",
              "duration_ms         0\n",
              "energy              0\n",
              "instrumentalness    0\n",
              "key                 0\n",
              "liveness            0\n",
              "loudness            0\n",
              "mode                0\n",
              "speechiness         0\n",
              "tempo               0\n",
              "time_signature      0\n",
              "valence             0\n",
              "dtype: int64"
            ]
          },
          "metadata": {},
          "execution_count": 5
        }
      ]
    },
    {
      "cell_type": "markdown",
      "source": [
        "Visualization of Popularity Distribution"
      ],
      "metadata": {
        "id": "FT-UAo2Hb8Lx"
      }
    },
    {
      "cell_type": "code",
      "source": [
        "sns.distplot(data['popularity']).set_title('Popularity Distribution')"
      ],
      "metadata": {
        "colab": {
          "base_uri": "https://localhost:8080/",
          "height": 312
        },
        "id": "0-u899LCbmzw",
        "outputId": "1974151a-5005-4330-b29e-3c6fbd7ad8c5"
      },
      "execution_count": 6,
      "outputs": [
        {
          "output_type": "execute_result",
          "data": {
            "text/plain": [
              "Text(0.5, 1.0, 'Popularity Distribution')"
            ]
          },
          "metadata": {},
          "execution_count": 6
        },
        {
          "output_type": "display_data",
          "data": {
            "image/png": "[encoded data removed]",
            "text/plain": [
              "<Figure size 432x288 with 1 Axes>"
            ]
          },
          "metadata": {
            "needs_background": "light"
          }
        }
      ]
    },
    {
      "cell_type": "code",
      "source": [
        "sns.barplot(x = 'time_signature', y = 'popularity', data = data)\n",
        "plt.title('Popularity Based on Time')"
      ],
      "metadata": {
        "colab": {
          "base_uri": "https://localhost:8080/",
          "height": 313
        },
        "id": "8v1P9qttbpRm",
        "outputId": "d8c7ac69-49aa-4bbf-eef4-9153f8b0b37e"
      },
      "execution_count": 7,
      "outputs": [
        {
          "output_type": "execute_result",
          "data": {
            "text/plain": [
              "Text(0.5, 1.0, 'Popularity Based on Time')"
            ]
          },
          "metadata": {},
          "execution_count": 7
        },
        {
          "output_type": "display_data",
          "data": {
            "image/png": "[encoded data removed]",
            "text/plain": [
              "<Figure size 432x288 with 1 Axes>"
            ]
          },
          "metadata": {
            "needs_background": "light"
          }
        }
      ]
    },
    {
      "cell_type": "markdown",
      "source": [
        "Popularity based on mode"
      ],
      "metadata": {
        "id": "3UspLrcGbzjO"
      }
    },
    {
      "cell_type": "code",
      "source": [
        "sns.barplot(x = 'mode', y = 'popularity', data = data)\n",
        "plt.title('Popularity Based on Mode')"
      ],
      "metadata": {
        "colab": {
          "base_uri": "https://localhost:8080/",
          "height": 312
        },
        "id": "2yvSnRumbs-c",
        "outputId": "b9f736a6-bf85-49c6-c0f4-0a83ea2a0513"
      },
      "execution_count": 8,
      "outputs": [
        {
          "output_type": "execute_result",
          "data": {
            "text/plain": [
              "Text(0.5, 1.0, 'Popularity Based on Mode')"
            ]
          },
          "metadata": {},
          "execution_count": 8
        },
        {
          "output_type": "display_data",
          "data": {
            "image/png": "[encoded data removed]",
            "text/plain": [
              "<Figure size 432x288 with 1 Axes>"
            ]
          },
          "metadata": {
            "needs_background": "light"
          }
        }
      ]
    },
    {
      "cell_type": "code",
      "source": [
        "sns.jointplot(x = 'acousticness', y = 'popularity', data = data)\n"
      ],
      "metadata": {
        "colab": {
          "base_uri": "https://localhost:8080/",
          "height": 458
        },
        "id": "pwu3jjKMbv_t",
        "outputId": "5cc1611f-f59c-4150-8dcf-70f4c0881eeb"
      },
      "execution_count": 9,
      "outputs": [
        {
          "output_type": "execute_result",
          "data": {
            "text/plain": [
              "<seaborn.axisgrid.JointGrid at 0x7f4b64a6bdd0>"
            ]
          },
          "metadata": {},
          "execution_count": 9
        },
        {
          "output_type": "display_data",
          "data": {
            "image/png": "[encoded data removed]",
            "text/plain": [
              "<Figure size 432x432 with 3 Axes>"
            ]
          },
          "metadata": {
            "needs_background": "light"
          }
        }
      ]
    },
    {
      "cell_type": "code",
      "source": [
        "popular_below_50 = data[data.popularity < 50]\n",
        "sns.distplot(popular_below_50['acousticness'])\n",
        "plt.title('Acoustiness for Songs with Less than 50 Popularity')"
      ],
      "metadata": {
        "colab": {
          "base_uri": "https://localhost:8080/",
          "height": 312
        },
        "id": "FcqAwWSKb_lO",
        "outputId": "0b86c37d-1147-4585-b1ac-654f7a523bb5"
      },
      "execution_count": 10,
      "outputs": [
        {
          "output_type": "execute_result",
          "data": {
            "text/plain": [
              "Text(0.5, 1.0, 'Acoustiness for Songs with Less than 50 Popularity')"
            ]
          },
          "metadata": {},
          "execution_count": 10
        },
        {
          "output_type": "display_data",
          "data": {
            "image/png": "[encoded data removed]",
            "text/plain": [
              "<Figure size 432x288 with 1 Axes>"
            ]
          },
          "metadata": {
            "needs_background": "light"
          }
        }
      ]
    },
    {
      "cell_type": "code",
      "source": [
        "popular_below_50 = data[data.popularity < 50]\n",
        "sns.distplot(popular_below_50['loudness'])\n",
        "plt.title('Loudness for Songs with Less than 50 Popularity')"
      ],
      "metadata": {
        "colab": {
          "base_uri": "https://localhost:8080/",
          "height": 312
        },
        "id": "LOQSRXrGcC7_",
        "outputId": "310e4d06-c8f0-4c5b-b29f-75dde10494ca"
      },
      "execution_count": 11,
      "outputs": [
        {
          "output_type": "execute_result",
          "data": {
            "text/plain": [
              "Text(0.5, 1.0, 'Loudness for Songs with Less than 50 Popularity')"
            ]
          },
          "metadata": {},
          "execution_count": 11
        },
        {
          "output_type": "display_data",
          "data": {
            "image/png": "[encoded data removed]",
            "text/plain": [
              "<Figure size 432x288 with 1 Axes>"
            ]
          },
          "metadata": {
            "needs_background": "light"
          }
        }
      ]
    },
    {
      "cell_type": "markdown",
      "source": [
        "There are 3 categorical variables (key, mode, and time signature) that need to be converted from text to numbers using one-hot-encoding. We also define popularity as a binary variable. For our purposes, we will define above 57 as \"popular\" since that's the border of the top 25% of songs and encode that as 1, and below 75 as \"not popular\" and encode that as 0.\n",
        "\n",
        "Key: Since there are 12 letter keys (not distinguishing between major and minor), we will convert A to 0, A# to 1, and so on and so forth until B is 12."
      ],
      "metadata": {
        "id": "nVCs6VegcIbn"
      }
    },
    {
      "cell_type": "code",
      "source": [
        "list_of_keys = data['key'].unique()\n",
        "for i in range(len(list_of_keys)):\n",
        "    data.loc[data['key'] == list_of_keys[i], 'key'] = i\n",
        "data.sample(5)"
      ],
      "metadata": {
        "colab": {
          "base_uri": "https://localhost:8080/",
          "height": 374
        },
        "id": "qtfnVwSjcFNI",
        "outputId": "70705b0c-55cd-4988-9756-047c9f08ef6a"
      },
      "execution_count": 12,
      "outputs": [
        {
          "output_type": "execute_result",
          "data": {
            "text/html": [
              "\n",
              "  <div id=\"df-72a9eed2-a744-4246-af56-e8142a5bef66\">\n",
              "    <div class=\"colab-df-container\">\n",
              "      <div>\n",
              "<style scoped>\n",
              "    .dataframe tbody tr th:only-of-type {\n",
              "        vertical-align: middle;\n",
              "    }\n",
              "\n",
              "    .dataframe tbody tr th {\n",
              "        vertical-align: top;\n",
              "    }\n",
              "\n",
              "    .dataframe thead th {\n",
              "        text-align: right;\n",
              "    }\n",
              "</style>\n",
              "<table border=\"1\" class=\"dataframe\">\n",
              "  <thead>\n",
              "    <tr style=\"text-align: right;\">\n",
              "      <th></th>\n",
              "      <th>genre</th>\n",
              "      <th>artist_name</th>\n",
              "      <th>track_name</th>\n",
              "      <th>track_id</th>\n",
              "      <th>popularity</th>\n",
              "      <th>acousticness</th>\n",
              "      <th>danceability</th>\n",
              "      <th>duration_ms</th>\n",
              "      <th>energy</th>\n",
              "      <th>instrumentalness</th>\n",
              "      <th>key</th>\n",
              "      <th>liveness</th>\n",
              "      <th>loudness</th>\n",
              "      <th>mode</th>\n",
              "      <th>speechiness</th>\n",
              "      <th>tempo</th>\n",
              "      <th>time_signature</th>\n",
              "      <th>valence</th>\n",
              "    </tr>\n",
              "  </thead>\n",
              "  <tbody>\n",
              "    <tr>\n",
              "      <th>232114</th>\n",
              "      <td>Soul</td>\n",
              "      <td>The Delfonics</td>\n",
              "      <td>Stop and Look (And You Have Found Love)</td>\n",
              "      <td>3rku9V5AEQU1anXvfyUTmD</td>\n",
              "      <td>36</td>\n",
              "      <td>0.7790</td>\n",
              "      <td>0.687</td>\n",
              "      <td>166693</td>\n",
              "      <td>0.4550</td>\n",
              "      <td>0.050100</td>\n",
              "      <td>9</td>\n",
              "      <td>0.0833</td>\n",
              "      <td>-6.963</td>\n",
              "      <td>Minor</td>\n",
              "      <td>0.0298</td>\n",
              "      <td>93.206</td>\n",
              "      <td>4/4</td>\n",
              "      <td>0.370</td>\n",
              "    </tr>\n",
              "    <tr>\n",
              "      <th>12292</th>\n",
              "      <td>Alternative</td>\n",
              "      <td>Brandon Heath</td>\n",
              "      <td>Jesus In Disguise</td>\n",
              "      <td>6gAifEnsklSTHLp8XbiuCK</td>\n",
              "      <td>41</td>\n",
              "      <td>0.1830</td>\n",
              "      <td>0.514</td>\n",
              "      <td>218627</td>\n",
              "      <td>0.6970</td>\n",
              "      <td>0.000044</td>\n",
              "      <td>7</td>\n",
              "      <td>0.3580</td>\n",
              "      <td>-6.439</td>\n",
              "      <td>Minor</td>\n",
              "      <td>0.0260</td>\n",
              "      <td>83.962</td>\n",
              "      <td>4/4</td>\n",
              "      <td>0.503</td>\n",
              "    </tr>\n",
              "    <tr>\n",
              "      <th>179875</th>\n",
              "      <td>Jazz</td>\n",
              "      <td>Chris Standring</td>\n",
              "      <td>Soul Express</td>\n",
              "      <td>6j9WWYS5j00w1MltPhTlH3</td>\n",
              "      <td>31</td>\n",
              "      <td>0.8640</td>\n",
              "      <td>0.696</td>\n",
              "      <td>278667</td>\n",
              "      <td>0.4000</td>\n",
              "      <td>0.817000</td>\n",
              "      <td>2</td>\n",
              "      <td>0.1030</td>\n",
              "      <td>-9.791</td>\n",
              "      <td>Major</td>\n",
              "      <td>0.0581</td>\n",
              "      <td>98.000</td>\n",
              "      <td>4/4</td>\n",
              "      <td>0.632</td>\n",
              "    </tr>\n",
              "    <tr>\n",
              "      <th>146773</th>\n",
              "      <td>Jazz</td>\n",
              "      <td>Mujo</td>\n",
              "      <td>Christmas Chill</td>\n",
              "      <td>5DPOA0BfvqhGuiuosDgzMN</td>\n",
              "      <td>49</td>\n",
              "      <td>0.3180</td>\n",
              "      <td>0.638</td>\n",
              "      <td>125067</td>\n",
              "      <td>0.0703</td>\n",
              "      <td>0.937000</td>\n",
              "      <td>2</td>\n",
              "      <td>0.1070</td>\n",
              "      <td>-12.257</td>\n",
              "      <td>Major</td>\n",
              "      <td>0.1650</td>\n",
              "      <td>77.366</td>\n",
              "      <td>4/4</td>\n",
              "      <td>0.648</td>\n",
              "    </tr>\n",
              "    <tr>\n",
              "      <th>38623</th>\n",
              "      <td>Electronic</td>\n",
              "      <td>Hot Chip</td>\n",
              "      <td>Colours</td>\n",
              "      <td>3VoR1vvkJqskGQ6RFMSPVN</td>\n",
              "      <td>39</td>\n",
              "      <td>0.0983</td>\n",
              "      <td>0.746</td>\n",
              "      <td>328947</td>\n",
              "      <td>0.5810</td>\n",
              "      <td>0.001090</td>\n",
              "      <td>2</td>\n",
              "      <td>0.0807</td>\n",
              "      <td>-7.247</td>\n",
              "      <td>Major</td>\n",
              "      <td>0.0575</td>\n",
              "      <td>154.017</td>\n",
              "      <td>4/4</td>\n",
              "      <td>0.424</td>\n",
              "    </tr>\n",
              "  </tbody>\n",
              "</table>\n",
              "</div>\n",
              "      <button class=\"colab-df-convert\" onclick=\"convertToInteractive('df-72a9eed2-a744-4246-af56-e8142a5bef66')\"\n",
              "              title=\"Convert this dataframe to an interactive table.\"\n",
              "              style=\"display:none;\">\n",
              "        \n",
              "  <svg xmlns=\"http://www.w3.org/2000/svg\" height=\"24px\"viewBox=\"0 0 24 24\"\n",
              "       width=\"24px\">\n",
              "    <path d=\"M0 0h24v24H0V0z\" fill=\"none\"/>\n",
              "    <path d=\"M18.56 5.44l.94 2.06.94-2.06 2.06-.94-2.06-.94-.94-2.06-.94 2.06-2.06.94zm-11 1L8.5 8.5l.94-2.06 2.06-.94-2.06-.94L8.5 2.5l-.94 2.06-2.06.94zm10 10l.94 2.06.94-2.06 2.06-.94-2.06-.94-.94-2.06-.94 2.06-2.06.94z\"/><path d=\"M17.41 7.96l-1.37-1.37c-.4-.4-.92-.59-1.43-.59-.52 0-1.04.2-1.43.59L10.3 9.45l-7.72 7.72c-.78.78-.78 2.05 0 2.83L4 21.41c.39.39.9.59 1.41.59.51 0 1.02-.2 1.41-.59l7.78-7.78 2.81-2.81c.8-.78.8-2.07 0-2.86zM5.41 20L4 18.59l7.72-7.72 1.47 1.35L5.41 20z\"/>\n",
              "  </svg>\n",
              "      </button>\n",
              "      \n",
              "  <style>\n",
              "    .colab-df-container {\n",
              "      display:flex;\n",
              "      flex-wrap:wrap;\n",
              "      gap: 12px;\n",
              "    }\n",
              "\n",
              "    .colab-df-convert {\n",
              "      background-color: #E8F0FE;\n",
              "      border: none;\n",
              "      border-radius: 50%;\n",
              "      cursor: pointer;\n",
              "      display: none;\n",
              "      fill: #1967D2;\n",
              "      height: 32px;\n",
              "      padding: 0 0 0 0;\n",
              "      width: 32px;\n",
              "    }\n",
              "\n",
              "    .colab-df-convert:hover {\n",
              "      background-color: #E2EBFA;\n",
              "      box-shadow: 0px 1px 2px rgba(60, 64, 67, 0.3), 0px 1px 3px 1px rgba(60, 64, 67, 0.15);\n",
              "      fill: #174EA6;\n",
              "    }\n",
              "\n",
              "    [theme=dark] .colab-df-convert {\n",
              "      background-color: #3B4455;\n",
              "      fill: #D2E3FC;\n",
              "    }\n",
              "\n",
              "    [theme=dark] .colab-df-convert:hover {\n",
              "      background-color: #434B5C;\n",
              "      box-shadow: 0px 1px 3px 1px rgba(0, 0, 0, 0.15);\n",
              "      filter: drop-shadow(0px 1px 2px rgba(0, 0, 0, 0.3));\n",
              "      fill: #FFFFFF;\n",
              "    }\n",
              "  </style>\n",
              "\n",
              "      <script>\n",
              "        const buttonEl =\n",
              "          document.querySelector('#df-72a9eed2-a744-4246-af56-e8142a5bef66 button.colab-df-convert');\n",
              "        buttonEl.style.display =\n",
              "          google.colab.kernel.accessAllowed ? 'block' : 'none';\n",
              "\n",
              "        async function convertToInteractive(key) {\n",
              "          const element = document.querySelector('#df-72a9eed2-a744-4246-af56-e8142a5bef66');\n",
              "          const dataTable =\n",
              "            await google.colab.kernel.invokeFunction('convertToInteractive',\n",
              "                                                     [key], {});\n",
              "          if (!dataTable) return;\n",
              "\n",
              "          const docLinkHtml = 'Like what you see? Visit the ' +\n",
              "            '<a target=\"_blank\" href=https://colab.research.google.com/notebooks/data_table.ipynb>data table notebook</a>'\n",
              "            + ' to learn more about interactive tables.';\n",
              "          element.innerHTML = '';\n",
              "          dataTable['output_type'] = 'display_data';\n",
              "          await google.colab.output.renderOutput(dataTable, element);\n",
              "          const docLink = document.createElement('div');\n",
              "          docLink.innerHTML = docLinkHtml;\n",
              "          element.appendChild(docLink);\n",
              "        }\n",
              "      </script>\n",
              "    </div>\n",
              "  </div>\n",
              "  "
            ],
            "text/plain": [
              "              genre      artist_name  ... time_signature valence\n",
              "232114         Soul    The Delfonics  ...            4/4   0.370\n",
              "12292   Alternative    Brandon Heath  ...            4/4   0.503\n",
              "179875         Jazz  Chris Standring  ...            4/4   0.632\n",
              "146773         Jazz             Mujo  ...            4/4   0.648\n",
              "38623    Electronic         Hot Chip  ...            4/4   0.424\n",
              "\n",
              "[5 rows x 18 columns]"
            ]
          },
          "metadata": {},
          "execution_count": 12
        }
      ]
    },
    {
      "cell_type": "markdown",
      "source": [
        "Mode: We will assign major = 1 and minor = 0.\n",
        "\n"
      ],
      "metadata": {
        "id": "qMhRJCfEcWtM"
      }
    },
    {
      "cell_type": "code",
      "source": [
        "data.loc[data[\"mode\"] == 'Major', \"mode\"] = 1\n",
        "data.loc[data[\"mode\"] == 'Minor', \"mode\"] = 0\n",
        "data.sample(5)"
      ],
      "metadata": {
        "colab": {
          "base_uri": "https://localhost:8080/",
          "height": 357
        },
        "id": "yncCZ7KJcTiI",
        "outputId": "9f58a1f5-d015-422c-b384-51435ea2eb7f"
      },
      "execution_count": 13,
      "outputs": [
        {
          "output_type": "execute_result",
          "data": {
            "text/html": [
              "\n",
              "  <div id=\"df-482c153e-ff0e-4371-b124-98bae1dbc2fd\">\n",
              "    <div class=\"colab-df-container\">\n",
              "      <div>\n",
              "<style scoped>\n",
              "    .dataframe tbody tr th:only-of-type {\n",
              "        vertical-align: middle;\n",
              "    }\n",
              "\n",
              "    .dataframe tbody tr th {\n",
              "        vertical-align: top;\n",
              "    }\n",
              "\n",
              "    .dataframe thead th {\n",
              "        text-align: right;\n",
              "    }\n",
              "</style>\n",
              "<table border=\"1\" class=\"dataframe\">\n",
              "  <thead>\n",
              "    <tr style=\"text-align: right;\">\n",
              "      <th></th>\n",
              "      <th>genre</th>\n",
              "      <th>artist_name</th>\n",
              "      <th>track_name</th>\n",
              "      <th>track_id</th>\n",
              "      <th>popularity</th>\n",
              "      <th>acousticness</th>\n",
              "      <th>danceability</th>\n",
              "      <th>duration_ms</th>\n",
              "      <th>energy</th>\n",
              "      <th>instrumentalness</th>\n",
              "      <th>key</th>\n",
              "      <th>liveness</th>\n",
              "      <th>loudness</th>\n",
              "      <th>mode</th>\n",
              "      <th>speechiness</th>\n",
              "      <th>tempo</th>\n",
              "      <th>time_signature</th>\n",
              "      <th>valence</th>\n",
              "    </tr>\n",
              "  </thead>\n",
              "  <tbody>\n",
              "    <tr>\n",
              "      <th>158868</th>\n",
              "      <td>Reggaeton</td>\n",
              "      <td>Don Omar</td>\n",
              "      <td>Ella Ella</td>\n",
              "      <td>7AObnx2EzL6FeYjmdjPCoA</td>\n",
              "      <td>48</td>\n",
              "      <td>0.1880</td>\n",
              "      <td>0.821</td>\n",
              "      <td>202600</td>\n",
              "      <td>0.667</td>\n",
              "      <td>0.000</td>\n",
              "      <td>2</td>\n",
              "      <td>0.0647</td>\n",
              "      <td>-5.845</td>\n",
              "      <td>0</td>\n",
              "      <td>0.1240</td>\n",
              "      <td>96.415</td>\n",
              "      <td>4/4</td>\n",
              "      <td>0.688</td>\n",
              "    </tr>\n",
              "    <tr>\n",
              "      <th>95646</th>\n",
              "      <td>Indie</td>\n",
              "      <td>Xuitcasecity</td>\n",
              "      <td>Waiting For</td>\n",
              "      <td>3hVATUDG5MiMJbakl6YBlB</td>\n",
              "      <td>55</td>\n",
              "      <td>0.5220</td>\n",
              "      <td>0.728</td>\n",
              "      <td>161649</td>\n",
              "      <td>0.715</td>\n",
              "      <td>0.000</td>\n",
              "      <td>5</td>\n",
              "      <td>0.0886</td>\n",
              "      <td>-5.610</td>\n",
              "      <td>0</td>\n",
              "      <td>0.1210</td>\n",
              "      <td>125.115</td>\n",
              "      <td>4/4</td>\n",
              "      <td>0.366</td>\n",
              "    </tr>\n",
              "    <tr>\n",
              "      <th>20709</th>\n",
              "      <td>Dance</td>\n",
              "      <td>Akon</td>\n",
              "      <td>Cashin Out</td>\n",
              "      <td>3mrvebxoRoQmQz7XOYS2Yl</td>\n",
              "      <td>49</td>\n",
              "      <td>0.1720</td>\n",
              "      <td>0.791</td>\n",
              "      <td>255021</td>\n",
              "      <td>0.697</td>\n",
              "      <td>0.000</td>\n",
              "      <td>0</td>\n",
              "      <td>0.2270</td>\n",
              "      <td>-3.469</td>\n",
              "      <td>0</td>\n",
              "      <td>0.0997</td>\n",
              "      <td>130.030</td>\n",
              "      <td>4/4</td>\n",
              "      <td>0.659</td>\n",
              "    </tr>\n",
              "    <tr>\n",
              "      <th>167101</th>\n",
              "      <td>Classical</td>\n",
              "      <td>Wolfgang Amadeus Mozart</td>\n",
              "      <td>Sonata for Piano and Violin in C, K.296: 3. Ro...</td>\n",
              "      <td>5KF8le3desnkYKVxfw2ugL</td>\n",
              "      <td>22</td>\n",
              "      <td>0.9900</td>\n",
              "      <td>0.450</td>\n",
              "      <td>295000</td>\n",
              "      <td>0.130</td>\n",
              "      <td>0.527</td>\n",
              "      <td>2</td>\n",
              "      <td>0.0772</td>\n",
              "      <td>-20.672</td>\n",
              "      <td>1</td>\n",
              "      <td>0.0607</td>\n",
              "      <td>168.593</td>\n",
              "      <td>4/4</td>\n",
              "      <td>0.850</td>\n",
              "    </tr>\n",
              "    <tr>\n",
              "      <th>77708</th>\n",
              "      <td>Children’s Music</td>\n",
              "      <td>YUNGBLUD</td>\n",
              "      <td>Loner</td>\n",
              "      <td>5QMmZqzh93EY6gJG4PmzHA</td>\n",
              "      <td>68</td>\n",
              "      <td>0.0285</td>\n",
              "      <td>0.270</td>\n",
              "      <td>215185</td>\n",
              "      <td>0.948</td>\n",
              "      <td>0.000</td>\n",
              "      <td>0</td>\n",
              "      <td>0.1520</td>\n",
              "      <td>-2.979</td>\n",
              "      <td>1</td>\n",
              "      <td>0.1360</td>\n",
              "      <td>98.765</td>\n",
              "      <td>4/4</td>\n",
              "      <td>0.475</td>\n",
              "    </tr>\n",
              "  </tbody>\n",
              "</table>\n",
              "</div>\n",
              "      <button class=\"colab-df-convert\" onclick=\"convertToInteractive('df-482c153e-ff0e-4371-b124-98bae1dbc2fd')\"\n",
              "              title=\"Convert this dataframe to an interactive table.\"\n",
              "              style=\"display:none;\">\n",
              "        \n",
              "  <svg xmlns=\"http://www.w3.org/2000/svg\" height=\"24px\"viewBox=\"0 0 24 24\"\n",
              "       width=\"24px\">\n",
              "    <path d=\"M0 0h24v24H0V0z\" fill=\"none\"/>\n",
              "    <path d=\"M18.56 5.44l.94 2.06.94-2.06 2.06-.94-2.06-.94-.94-2.06-.94 2.06-2.06.94zm-11 1L8.5 8.5l.94-2.06 2.06-.94-2.06-.94L8.5 2.5l-.94 2.06-2.06.94zm10 10l.94 2.06.94-2.06 2.06-.94-2.06-.94-.94-2.06-.94 2.06-2.06.94z\"/><path d=\"M17.41 7.96l-1.37-1.37c-.4-.4-.92-.59-1.43-.59-.52 0-1.04.2-1.43.59L10.3 9.45l-7.72 7.72c-.78.78-.78 2.05 0 2.83L4 21.41c.39.39.9.59 1.41.59.51 0 1.02-.2 1.41-.59l7.78-7.78 2.81-2.81c.8-.78.8-2.07 0-2.86zM5.41 20L4 18.59l7.72-7.72 1.47 1.35L5.41 20z\"/>\n",
              "  </svg>\n",
              "      </button>\n",
              "      \n",
              "  <style>\n",
              "    .colab-df-container {\n",
              "      display:flex;\n",
              "      flex-wrap:wrap;\n",
              "      gap: 12px;\n",
              "    }\n",
              "\n",
              "    .colab-df-convert {\n",
              "      background-color: #E8F0FE;\n",
              "      border: none;\n",
              "      border-radius: 50%;\n",
              "      cursor: pointer;\n",
              "      display: none;\n",
              "      fill: #1967D2;\n",
              "      height: 32px;\n",
              "      padding: 0 0 0 0;\n",
              "      width: 32px;\n",
              "    }\n",
              "\n",
              "    .colab-df-convert:hover {\n",
              "      background-color: #E2EBFA;\n",
              "      box-shadow: 0px 1px 2px rgba(60, 64, 67, 0.3), 0px 1px 3px 1px rgba(60, 64, 67, 0.15);\n",
              "      fill: #174EA6;\n",
              "    }\n",
              "\n",
              "    [theme=dark] .colab-df-convert {\n",
              "      background-color: #3B4455;\n",
              "      fill: #D2E3FC;\n",
              "    }\n",
              "\n",
              "    [theme=dark] .colab-df-convert:hover {\n",
              "      background-color: #434B5C;\n",
              "      box-shadow: 0px 1px 3px 1px rgba(0, 0, 0, 0.15);\n",
              "      filter: drop-shadow(0px 1px 2px rgba(0, 0, 0, 0.3));\n",
              "      fill: #FFFFFF;\n",
              "    }\n",
              "  </style>\n",
              "\n",
              "      <script>\n",
              "        const buttonEl =\n",
              "          document.querySelector('#df-482c153e-ff0e-4371-b124-98bae1dbc2fd button.colab-df-convert');\n",
              "        buttonEl.style.display =\n",
              "          google.colab.kernel.accessAllowed ? 'block' : 'none';\n",
              "\n",
              "        async function convertToInteractive(key) {\n",
              "          const element = document.querySelector('#df-482c153e-ff0e-4371-b124-98bae1dbc2fd');\n",
              "          const dataTable =\n",
              "            await google.colab.kernel.invokeFunction('convertToInteractive',\n",
              "                                                     [key], {});\n",
              "          if (!dataTable) return;\n",
              "\n",
              "          const docLinkHtml = 'Like what you see? Visit the ' +\n",
              "            '<a target=\"_blank\" href=https://colab.research.google.com/notebooks/data_table.ipynb>data table notebook</a>'\n",
              "            + ' to learn more about interactive tables.';\n",
              "          element.innerHTML = '';\n",
              "          dataTable['output_type'] = 'display_data';\n",
              "          await google.colab.output.renderOutput(dataTable, element);\n",
              "          const docLink = document.createElement('div');\n",
              "          docLink.innerHTML = docLinkHtml;\n",
              "          element.appendChild(docLink);\n",
              "        }\n",
              "      </script>\n",
              "    </div>\n",
              "  </div>\n",
              "  "
            ],
            "text/plain": [
              "                   genre              artist_name  ... time_signature valence\n",
              "158868         Reggaeton                 Don Omar  ...            4/4   0.688\n",
              "95646              Indie             Xuitcasecity  ...            4/4   0.366\n",
              "20709              Dance                     Akon  ...            4/4   0.659\n",
              "167101         Classical  Wolfgang Amadeus Mozart  ...            4/4   0.850\n",
              "77708   Children’s Music                 YUNGBLUD  ...            4/4   0.475\n",
              "\n",
              "[5 rows x 18 columns]"
            ]
          },
          "metadata": {},
          "execution_count": 13
        }
      ]
    },
    {
      "cell_type": "code",
      "source": [
        "list_of_time_signatures = data['time_signature'].unique()\n",
        "for i in range(len(list_of_time_signatures)):\n",
        "    data.loc[data['time_signature'] == list_of_time_signatures[i], 'time_signature'] = i\n",
        "data.sample(5)"
      ],
      "metadata": {
        "colab": {
          "base_uri": "https://localhost:8080/",
          "height": 461
        },
        "id": "BoXC09WDcVFn",
        "outputId": "efe56ffb-e004-42a5-d5de-74e80d9f1f30"
      },
      "execution_count": 14,
      "outputs": [
        {
          "output_type": "execute_result",
          "data": {
            "text/html": [
              "\n",
              "  <div id=\"df-c5a3c803-0969-4922-9c39-bb6b194ac3b9\">\n",
              "    <div class=\"colab-df-container\">\n",
              "      <div>\n",
              "<style scoped>\n",
              "    .dataframe tbody tr th:only-of-type {\n",
              "        vertical-align: middle;\n",
              "    }\n",
              "\n",
              "    .dataframe tbody tr th {\n",
              "        vertical-align: top;\n",
              "    }\n",
              "\n",
              "    .dataframe thead th {\n",
              "        text-align: right;\n",
              "    }\n",
              "</style>\n",
              "<table border=\"1\" class=\"dataframe\">\n",
              "  <thead>\n",
              "    <tr style=\"text-align: right;\">\n",
              "      <th></th>\n",
              "      <th>genre</th>\n",
              "      <th>artist_name</th>\n",
              "      <th>track_name</th>\n",
              "      <th>track_id</th>\n",
              "      <th>popularity</th>\n",
              "      <th>acousticness</th>\n",
              "      <th>danceability</th>\n",
              "      <th>duration_ms</th>\n",
              "      <th>energy</th>\n",
              "      <th>instrumentalness</th>\n",
              "      <th>key</th>\n",
              "      <th>liveness</th>\n",
              "      <th>loudness</th>\n",
              "      <th>mode</th>\n",
              "      <th>speechiness</th>\n",
              "      <th>tempo</th>\n",
              "      <th>time_signature</th>\n",
              "      <th>valence</th>\n",
              "    </tr>\n",
              "  </thead>\n",
              "  <tbody>\n",
              "    <tr>\n",
              "      <th>52641</th>\n",
              "      <td>Blues</td>\n",
              "      <td>Phish</td>\n",
              "      <td>Birds Of A Feather</td>\n",
              "      <td>0xCUU7DSGDTVOjiZEyy0md</td>\n",
              "      <td>25</td>\n",
              "      <td>0.231000</td>\n",
              "      <td>0.561</td>\n",
              "      <td>254867</td>\n",
              "      <td>0.8670</td>\n",
              "      <td>0.007620</td>\n",
              "      <td>4</td>\n",
              "      <td>0.1380</td>\n",
              "      <td>-5.334</td>\n",
              "      <td>0</td>\n",
              "      <td>0.1270</td>\n",
              "      <td>171.192</td>\n",
              "      <td>0</td>\n",
              "      <td>0.871</td>\n",
              "    </tr>\n",
              "    <tr>\n",
              "      <th>128256</th>\n",
              "      <td>Classical</td>\n",
              "      <td>Wolfgang Amadeus Mozart</td>\n",
              "      <td>Piano Concerto No.20 in D minor, K.466: 1. All...</td>\n",
              "      <td>26Sy5Q3KlhTap2zVcAAVFc</td>\n",
              "      <td>31</td>\n",
              "      <td>0.981000</td>\n",
              "      <td>0.327</td>\n",
              "      <td>918413</td>\n",
              "      <td>0.0775</td>\n",
              "      <td>0.801000</td>\n",
              "      <td>8</td>\n",
              "      <td>0.0786</td>\n",
              "      <td>-24.232</td>\n",
              "      <td>0</td>\n",
              "      <td>0.0401</td>\n",
              "      <td>128.069</td>\n",
              "      <td>0</td>\n",
              "      <td>0.149</td>\n",
              "    </tr>\n",
              "    <tr>\n",
              "      <th>219586</th>\n",
              "      <td>World</td>\n",
              "      <td>Vieux Farka Touré</td>\n",
              "      <td>All the Same</td>\n",
              "      <td>0ZEzJcDzp185JquZQNZf8V</td>\n",
              "      <td>30</td>\n",
              "      <td>0.705000</td>\n",
              "      <td>0.452</td>\n",
              "      <td>269693</td>\n",
              "      <td>0.6990</td>\n",
              "      <td>0.000002</td>\n",
              "      <td>11</td>\n",
              "      <td>0.1560</td>\n",
              "      <td>-6.800</td>\n",
              "      <td>1</td>\n",
              "      <td>0.0358</td>\n",
              "      <td>149.975</td>\n",
              "      <td>0</td>\n",
              "      <td>0.426</td>\n",
              "    </tr>\n",
              "    <tr>\n",
              "      <th>38592</th>\n",
              "      <td>Electronic</td>\n",
              "      <td>Destructo</td>\n",
              "      <td>Catching Plays (feat. Pusha T &amp; Starrah) - Cos...</td>\n",
              "      <td>5jIDADV9AVzPBeMJqMhvHg</td>\n",
              "      <td>28</td>\n",
              "      <td>0.004910</td>\n",
              "      <td>0.836</td>\n",
              "      <td>283841</td>\n",
              "      <td>0.7300</td>\n",
              "      <td>0.002340</td>\n",
              "      <td>11</td>\n",
              "      <td>0.2350</td>\n",
              "      <td>-6.753</td>\n",
              "      <td>1</td>\n",
              "      <td>0.1720</td>\n",
              "      <td>123.988</td>\n",
              "      <td>0</td>\n",
              "      <td>0.425</td>\n",
              "    </tr>\n",
              "    <tr>\n",
              "      <th>34127</th>\n",
              "      <td>Anime</td>\n",
              "      <td>Last Note.</td>\n",
              "      <td>Akatsuki Arrival</td>\n",
              "      <td>6n5ruNvjNSEll7gE1vkRxs</td>\n",
              "      <td>16</td>\n",
              "      <td>0.000793</td>\n",
              "      <td>0.496</td>\n",
              "      <td>280000</td>\n",
              "      <td>0.9680</td>\n",
              "      <td>0.000003</td>\n",
              "      <td>7</td>\n",
              "      <td>0.0860</td>\n",
              "      <td>-2.751</td>\n",
              "      <td>1</td>\n",
              "      <td>0.0848</td>\n",
              "      <td>125.021</td>\n",
              "      <td>0</td>\n",
              "      <td>0.559</td>\n",
              "    </tr>\n",
              "  </tbody>\n",
              "</table>\n",
              "</div>\n",
              "      <button class=\"colab-df-convert\" onclick=\"convertToInteractive('df-c5a3c803-0969-4922-9c39-bb6b194ac3b9')\"\n",
              "              title=\"Convert this dataframe to an interactive table.\"\n",
              "              style=\"display:none;\">\n",
              "        \n",
              "  <svg xmlns=\"http://www.w3.org/2000/svg\" height=\"24px\"viewBox=\"0 0 24 24\"\n",
              "       width=\"24px\">\n",
              "    <path d=\"M0 0h24v24H0V0z\" fill=\"none\"/>\n",
              "    <path d=\"M18.56 5.44l.94 2.06.94-2.06 2.06-.94-2.06-.94-.94-2.06-.94 2.06-2.06.94zm-11 1L8.5 8.5l.94-2.06 2.06-.94-2.06-.94L8.5 2.5l-.94 2.06-2.06.94zm10 10l.94 2.06.94-2.06 2.06-.94-2.06-.94-.94-2.06-.94 2.06-2.06.94z\"/><path d=\"M17.41 7.96l-1.37-1.37c-.4-.4-.92-.59-1.43-.59-.52 0-1.04.2-1.43.59L10.3 9.45l-7.72 7.72c-.78.78-.78 2.05 0 2.83L4 21.41c.39.39.9.59 1.41.59.51 0 1.02-.2 1.41-.59l7.78-7.78 2.81-2.81c.8-.78.8-2.07 0-2.86zM5.41 20L4 18.59l7.72-7.72 1.47 1.35L5.41 20z\"/>\n",
              "  </svg>\n",
              "      </button>\n",
              "      \n",
              "  <style>\n",
              "    .colab-df-container {\n",
              "      display:flex;\n",
              "      flex-wrap:wrap;\n",
              "      gap: 12px;\n",
              "    }\n",
              "\n",
              "    .colab-df-convert {\n",
              "      background-color: #E8F0FE;\n",
              "      border: none;\n",
              "      border-radius: 50%;\n",
              "      cursor: pointer;\n",
              "      display: none;\n",
              "      fill: #1967D2;\n",
              "      height: 32px;\n",
              "      padding: 0 0 0 0;\n",
              "      width: 32px;\n",
              "    }\n",
              "\n",
              "    .colab-df-convert:hover {\n",
              "      background-color: #E2EBFA;\n",
              "      box-shadow: 0px 1px 2px rgba(60, 64, 67, 0.3), 0px 1px 3px 1px rgba(60, 64, 67, 0.15);\n",
              "      fill: #174EA6;\n",
              "    }\n",
              "\n",
              "    [theme=dark] .colab-df-convert {\n",
              "      background-color: #3B4455;\n",
              "      fill: #D2E3FC;\n",
              "    }\n",
              "\n",
              "    [theme=dark] .colab-df-convert:hover {\n",
              "      background-color: #434B5C;\n",
              "      box-shadow: 0px 1px 3px 1px rgba(0, 0, 0, 0.15);\n",
              "      filter: drop-shadow(0px 1px 2px rgba(0, 0, 0, 0.3));\n",
              "      fill: #FFFFFF;\n",
              "    }\n",
              "  </style>\n",
              "\n",
              "      <script>\n",
              "        const buttonEl =\n",
              "          document.querySelector('#df-c5a3c803-0969-4922-9c39-bb6b194ac3b9 button.colab-df-convert');\n",
              "        buttonEl.style.display =\n",
              "          google.colab.kernel.accessAllowed ? 'block' : 'none';\n",
              "\n",
              "        async function convertToInteractive(key) {\n",
              "          const element = document.querySelector('#df-c5a3c803-0969-4922-9c39-bb6b194ac3b9');\n",
              "          const dataTable =\n",
              "            await google.colab.kernel.invokeFunction('convertToInteractive',\n",
              "                                                     [key], {});\n",
              "          if (!dataTable) return;\n",
              "\n",
              "          const docLinkHtml = 'Like what you see? Visit the ' +\n",
              "            '<a target=\"_blank\" href=https://colab.research.google.com/notebooks/data_table.ipynb>data table notebook</a>'\n",
              "            + ' to learn more about interactive tables.';\n",
              "          element.innerHTML = '';\n",
              "          dataTable['output_type'] = 'display_data';\n",
              "          await google.colab.output.renderOutput(dataTable, element);\n",
              "          const docLink = document.createElement('div');\n",
              "          docLink.innerHTML = docLinkHtml;\n",
              "          element.appendChild(docLink);\n",
              "        }\n",
              "      </script>\n",
              "    </div>\n",
              "  </div>\n",
              "  "
            ],
            "text/plain": [
              "             genre              artist_name  ... time_signature valence\n",
              "52641        Blues                    Phish  ...              0   0.871\n",
              "128256   Classical  Wolfgang Amadeus Mozart  ...              0   0.149\n",
              "219586       World        Vieux Farka Touré  ...              0   0.426\n",
              "38592   Electronic                Destructo  ...              0   0.425\n",
              "34127        Anime               Last Note.  ...              0   0.559\n",
              "\n",
              "[5 rows x 18 columns]"
            ]
          },
          "metadata": {},
          "execution_count": 14
        }
      ]
    },
    {
      "cell_type": "code",
      "source": [
        "data['key']=data['key'].astype(str).astype(int)\n",
        "data['mode']=data['mode'].astype(str).astype(int)\n",
        "data['time_signature']=data['time_signature'].astype(str).astype(int)\n",
        "\n",
        "print(data.dtypes)"
      ],
      "metadata": {
        "colab": {
          "base_uri": "https://localhost:8080/"
        },
        "id": "99jwpFtgcaKM",
        "outputId": "0fd1199f-e064-4f55-e1ff-1c00917ce878"
      },
      "execution_count": 15,
      "outputs": [
        {
          "output_type": "stream",
          "name": "stdout",
          "text": [
            "genre                object\n",
            "artist_name          object\n",
            "track_name           object\n",
            "track_id             object\n",
            "popularity            int64\n",
            "acousticness        float64\n",
            "danceability        float64\n",
            "duration_ms           int64\n",
            "energy              float64\n",
            "instrumentalness    float64\n",
            "key                   int64\n",
            "liveness            float64\n",
            "loudness            float64\n",
            "mode                  int64\n",
            "speechiness         float64\n",
            "tempo               float64\n",
            "time_signature        int64\n",
            "valence             float64\n",
            "dtype: object\n"
          ]
        }
      ]
    },
    {
      "cell_type": "markdown",
      "source": [
        "Popularity"
      ],
      "metadata": {
        "id": "rK7nHjmTcf32"
      }
    },
    {
      "cell_type": "code",
      "source": [
        "data.loc[data['popularity'] < 57, 'popularity'] = 0 \n",
        "data.loc[data['popularity'] >= 57, 'popularity'] = 1\n",
        "data.loc[data['popularity'] == 1]"
      ],
      "metadata": {
        "colab": {
          "base_uri": "https://localhost:8080/",
          "height": 748
        },
        "id": "spMAMhHlcb0E",
        "outputId": "9bdd3fc6-d891-4156-c947-44ec34078e32"
      },
      "execution_count": 16,
      "outputs": [
        {
          "output_type": "execute_result",
          "data": {
            "text/html": [
              "\n",
              "  <div id=\"df-cd8abe9b-f211-4e48-aba8-f9fb31c9618a\">\n",
              "    <div class=\"colab-df-container\">\n",
              "      <div>\n",
              "<style scoped>\n",
              "    .dataframe tbody tr th:only-of-type {\n",
              "        vertical-align: middle;\n",
              "    }\n",
              "\n",
              "    .dataframe tbody tr th {\n",
              "        vertical-align: top;\n",
              "    }\n",
              "\n",
              "    .dataframe thead th {\n",
              "        text-align: right;\n",
              "    }\n",
              "</style>\n",
              "<table border=\"1\" class=\"dataframe\">\n",
              "  <thead>\n",
              "    <tr style=\"text-align: right;\">\n",
              "      <th></th>\n",
              "      <th>genre</th>\n",
              "      <th>artist_name</th>\n",
              "      <th>track_name</th>\n",
              "      <th>track_id</th>\n",
              "      <th>popularity</th>\n",
              "      <th>acousticness</th>\n",
              "      <th>danceability</th>\n",
              "      <th>duration_ms</th>\n",
              "      <th>energy</th>\n",
              "      <th>instrumentalness</th>\n",
              "      <th>key</th>\n",
              "      <th>liveness</th>\n",
              "      <th>loudness</th>\n",
              "      <th>mode</th>\n",
              "      <th>speechiness</th>\n",
              "      <th>tempo</th>\n",
              "      <th>time_signature</th>\n",
              "      <th>valence</th>\n",
              "    </tr>\n",
              "  </thead>\n",
              "  <tbody>\n",
              "    <tr>\n",
              "      <th>135</th>\n",
              "      <td>R&amp;B</td>\n",
              "      <td>Mary J. Blige</td>\n",
              "      <td>Be Without You - Kendu Mix</td>\n",
              "      <td>2YegxR5As7BeQuVp2U6pek</td>\n",
              "      <td>1</td>\n",
              "      <td>0.08300</td>\n",
              "      <td>0.724</td>\n",
              "      <td>246333</td>\n",
              "      <td>0.689</td>\n",
              "      <td>0.000000</td>\n",
              "      <td>8</td>\n",
              "      <td>0.3040</td>\n",
              "      <td>-5.922</td>\n",
              "      <td>0</td>\n",
              "      <td>0.1350</td>\n",
              "      <td>146.496</td>\n",
              "      <td>0</td>\n",
              "      <td>0.6930</td>\n",
              "    </tr>\n",
              "    <tr>\n",
              "      <th>136</th>\n",
              "      <td>R&amp;B</td>\n",
              "      <td>Rihanna</td>\n",
              "      <td>Desperado</td>\n",
              "      <td>6KFaHC9G178beAp7P0Vi5S</td>\n",
              "      <td>1</td>\n",
              "      <td>0.32300</td>\n",
              "      <td>0.685</td>\n",
              "      <td>186467</td>\n",
              "      <td>0.610</td>\n",
              "      <td>0.000000</td>\n",
              "      <td>2</td>\n",
              "      <td>0.1020</td>\n",
              "      <td>-5.221</td>\n",
              "      <td>0</td>\n",
              "      <td>0.0439</td>\n",
              "      <td>94.384</td>\n",
              "      <td>2</td>\n",
              "      <td>0.3230</td>\n",
              "    </tr>\n",
              "    <tr>\n",
              "      <th>137</th>\n",
              "      <td>R&amp;B</td>\n",
              "      <td>Yung Bleu</td>\n",
              "      <td>Ice On My Baby (feat. Kevin Gates) - Remix</td>\n",
              "      <td>6muW8cSjJ3rusKJ0vH5olw</td>\n",
              "      <td>1</td>\n",
              "      <td>0.06750</td>\n",
              "      <td>0.762</td>\n",
              "      <td>199520</td>\n",
              "      <td>0.520</td>\n",
              "      <td>0.000004</td>\n",
              "      <td>3</td>\n",
              "      <td>0.1140</td>\n",
              "      <td>-5.237</td>\n",
              "      <td>0</td>\n",
              "      <td>0.0959</td>\n",
              "      <td>75.047</td>\n",
              "      <td>0</td>\n",
              "      <td>0.0862</td>\n",
              "    </tr>\n",
              "    <tr>\n",
              "      <th>138</th>\n",
              "      <td>R&amp;B</td>\n",
              "      <td>Surfaces</td>\n",
              "      <td>Heaven Falls / Fall on Me</td>\n",
              "      <td>7yHqOZfsXYlicyoMt62yC6</td>\n",
              "      <td>1</td>\n",
              "      <td>0.36000</td>\n",
              "      <td>0.563</td>\n",
              "      <td>240597</td>\n",
              "      <td>0.366</td>\n",
              "      <td>0.002430</td>\n",
              "      <td>11</td>\n",
              "      <td>0.0955</td>\n",
              "      <td>-6.896</td>\n",
              "      <td>0</td>\n",
              "      <td>0.1210</td>\n",
              "      <td>85.352</td>\n",
              "      <td>0</td>\n",
              "      <td>0.7680</td>\n",
              "    </tr>\n",
              "    <tr>\n",
              "      <th>139</th>\n",
              "      <td>R&amp;B</td>\n",
              "      <td>Olivia O'Brien</td>\n",
              "      <td>Love Myself</td>\n",
              "      <td>4XzgjxGKqULifVf7mnDIQK</td>\n",
              "      <td>1</td>\n",
              "      <td>0.59600</td>\n",
              "      <td>0.653</td>\n",
              "      <td>213947</td>\n",
              "      <td>0.621</td>\n",
              "      <td>0.000000</td>\n",
              "      <td>11</td>\n",
              "      <td>0.0811</td>\n",
              "      <td>-5.721</td>\n",
              "      <td>0</td>\n",
              "      <td>0.0409</td>\n",
              "      <td>100.006</td>\n",
              "      <td>0</td>\n",
              "      <td>0.4660</td>\n",
              "    </tr>\n",
              "    <tr>\n",
              "      <th>...</th>\n",
              "      <td>...</td>\n",
              "      <td>...</td>\n",
              "      <td>...</td>\n",
              "      <td>...</td>\n",
              "      <td>...</td>\n",
              "      <td>...</td>\n",
              "      <td>...</td>\n",
              "      <td>...</td>\n",
              "      <td>...</td>\n",
              "      <td>...</td>\n",
              "      <td>...</td>\n",
              "      <td>...</td>\n",
              "      <td>...</td>\n",
              "      <td>...</td>\n",
              "      <td>...</td>\n",
              "      <td>...</td>\n",
              "      <td>...</td>\n",
              "      <td>...</td>\n",
              "    </tr>\n",
              "    <tr>\n",
              "      <th>230312</th>\n",
              "      <td>Soul</td>\n",
              "      <td>James Brown</td>\n",
              "      <td>Get Up (I Feel Like Being A) Sex Machine - Pts...</td>\n",
              "      <td>6hpmTwgNCz81H2bFEREx29</td>\n",
              "      <td>1</td>\n",
              "      <td>0.27300</td>\n",
              "      <td>0.833</td>\n",
              "      <td>318800</td>\n",
              "      <td>0.661</td>\n",
              "      <td>0.000149</td>\n",
              "      <td>9</td>\n",
              "      <td>0.2940</td>\n",
              "      <td>-7.595</td>\n",
              "      <td>0</td>\n",
              "      <td>0.1010</td>\n",
              "      <td>108.314</td>\n",
              "      <td>0</td>\n",
              "      <td>0.8580</td>\n",
              "    </tr>\n",
              "    <tr>\n",
              "      <th>230782</th>\n",
              "      <td>Soul</td>\n",
              "      <td>Alex Hepburn</td>\n",
              "      <td>If You Stay</td>\n",
              "      <td>4sJoIeb8zWYCLHSLM0az3b</td>\n",
              "      <td>1</td>\n",
              "      <td>0.04530</td>\n",
              "      <td>0.719</td>\n",
              "      <td>194554</td>\n",
              "      <td>0.702</td>\n",
              "      <td>0.000013</td>\n",
              "      <td>11</td>\n",
              "      <td>0.0662</td>\n",
              "      <td>-4.577</td>\n",
              "      <td>1</td>\n",
              "      <td>0.0357</td>\n",
              "      <td>116.938</td>\n",
              "      <td>0</td>\n",
              "      <td>0.6130</td>\n",
              "    </tr>\n",
              "    <tr>\n",
              "      <th>230817</th>\n",
              "      <td>Soul</td>\n",
              "      <td>Paloma Faith</td>\n",
              "      <td>Make Your Own Kind of Music</td>\n",
              "      <td>5jsFFhABp2FkasGr4QcQd6</td>\n",
              "      <td>1</td>\n",
              "      <td>0.00862</td>\n",
              "      <td>0.567</td>\n",
              "      <td>163840</td>\n",
              "      <td>0.753</td>\n",
              "      <td>0.001830</td>\n",
              "      <td>5</td>\n",
              "      <td>0.1270</td>\n",
              "      <td>-4.823</td>\n",
              "      <td>1</td>\n",
              "      <td>0.0406</td>\n",
              "      <td>120.098</td>\n",
              "      <td>0</td>\n",
              "      <td>0.5660</td>\n",
              "    </tr>\n",
              "    <tr>\n",
              "      <th>230946</th>\n",
              "      <td>Soul</td>\n",
              "      <td>James Brown</td>\n",
              "      <td>Papa's Got A Brand New Bag - Pt. 1</td>\n",
              "      <td>5aZzmPUv5a2nna9sxBrmpL</td>\n",
              "      <td>1</td>\n",
              "      <td>0.51900</td>\n",
              "      <td>0.775</td>\n",
              "      <td>128973</td>\n",
              "      <td>0.725</td>\n",
              "      <td>0.054100</td>\n",
              "      <td>5</td>\n",
              "      <td>0.0944</td>\n",
              "      <td>-8.369</td>\n",
              "      <td>1</td>\n",
              "      <td>0.0944</td>\n",
              "      <td>129.681</td>\n",
              "      <td>0</td>\n",
              "      <td>0.9140</td>\n",
              "    </tr>\n",
              "    <tr>\n",
              "      <th>231493</th>\n",
              "      <td>Soul</td>\n",
              "      <td>Simply Red</td>\n",
              "      <td>The Air That I Breathe</td>\n",
              "      <td>4Sfq2ZuUK9tS66eXqCCKRF</td>\n",
              "      <td>1</td>\n",
              "      <td>0.21000</td>\n",
              "      <td>0.660</td>\n",
              "      <td>262827</td>\n",
              "      <td>0.560</td>\n",
              "      <td>0.000040</td>\n",
              "      <td>2</td>\n",
              "      <td>0.0974</td>\n",
              "      <td>-8.894</td>\n",
              "      <td>1</td>\n",
              "      <td>0.0287</td>\n",
              "      <td>89.505</td>\n",
              "      <td>0</td>\n",
              "      <td>0.6410</td>\n",
              "    </tr>\n",
              "  </tbody>\n",
              "</table>\n",
              "<p>49104 rows × 18 columns</p>\n",
              "</div>\n",
              "      <button class=\"colab-df-convert\" onclick=\"convertToInteractive('df-cd8abe9b-f211-4e48-aba8-f9fb31c9618a')\"\n",
              "              title=\"Convert this dataframe to an interactive table.\"\n",
              "              style=\"display:none;\">\n",
              "        \n",
              "  <svg xmlns=\"http://www.w3.org/2000/svg\" height=\"24px\"viewBox=\"0 0 24 24\"\n",
              "       width=\"24px\">\n",
              "    <path d=\"M0 0h24v24H0V0z\" fill=\"none\"/>\n",
              "    <path d=\"M18.56 5.44l.94 2.06.94-2.06 2.06-.94-2.06-.94-.94-2.06-.94 2.06-2.06.94zm-11 1L8.5 8.5l.94-2.06 2.06-.94-2.06-.94L8.5 2.5l-.94 2.06-2.06.94zm10 10l.94 2.06.94-2.06 2.06-.94-2.06-.94-.94-2.06-.94 2.06-2.06.94z\"/><path d=\"M17.41 7.96l-1.37-1.37c-.4-.4-.92-.59-1.43-.59-.52 0-1.04.2-1.43.59L10.3 9.45l-7.72 7.72c-.78.78-.78 2.05 0 2.83L4 21.41c.39.39.9.59 1.41.59.51 0 1.02-.2 1.41-.59l7.78-7.78 2.81-2.81c.8-.78.8-2.07 0-2.86zM5.41 20L4 18.59l7.72-7.72 1.47 1.35L5.41 20z\"/>\n",
              "  </svg>\n",
              "      </button>\n",
              "      \n",
              "  <style>\n",
              "    .colab-df-container {\n",
              "      display:flex;\n",
              "      flex-wrap:wrap;\n",
              "      gap: 12px;\n",
              "    }\n",
              "\n",
              "    .colab-df-convert {\n",
              "      background-color: #E8F0FE;\n",
              "      border: none;\n",
              "      border-radius: 50%;\n",
              "      cursor: pointer;\n",
              "      display: none;\n",
              "      fill: #1967D2;\n",
              "      height: 32px;\n",
              "      padding: 0 0 0 0;\n",
              "      width: 32px;\n",
              "    }\n",
              "\n",
              "    .colab-df-convert:hover {\n",
              "      background-color: #E2EBFA;\n",
              "      box-shadow: 0px 1px 2px rgba(60, 64, 67, 0.3), 0px 1px 3px 1px rgba(60, 64, 67, 0.15);\n",
              "      fill: #174EA6;\n",
              "    }\n",
              "\n",
              "    [theme=dark] .colab-df-convert {\n",
              "      background-color: #3B4455;\n",
              "      fill: #D2E3FC;\n",
              "    }\n",
              "\n",
              "    [theme=dark] .colab-df-convert:hover {\n",
              "      background-color: #434B5C;\n",
              "      box-shadow: 0px 1px 3px 1px rgba(0, 0, 0, 0.15);\n",
              "      filter: drop-shadow(0px 1px 2px rgba(0, 0, 0, 0.3));\n",
              "      fill: #FFFFFF;\n",
              "    }\n",
              "  </style>\n",
              "\n",
              "      <script>\n",
              "        const buttonEl =\n",
              "          document.querySelector('#df-cd8abe9b-f211-4e48-aba8-f9fb31c9618a button.colab-df-convert');\n",
              "        buttonEl.style.display =\n",
              "          google.colab.kernel.accessAllowed ? 'block' : 'none';\n",
              "\n",
              "        async function convertToInteractive(key) {\n",
              "          const element = document.querySelector('#df-cd8abe9b-f211-4e48-aba8-f9fb31c9618a');\n",
              "          const dataTable =\n",
              "            await google.colab.kernel.invokeFunction('convertToInteractive',\n",
              "                                                     [key], {});\n",
              "          if (!dataTable) return;\n",
              "\n",
              "          const docLinkHtml = 'Like what you see? Visit the ' +\n",
              "            '<a target=\"_blank\" href=https://colab.research.google.com/notebooks/data_table.ipynb>data table notebook</a>'\n",
              "            + ' to learn more about interactive tables.';\n",
              "          element.innerHTML = '';\n",
              "          dataTable['output_type'] = 'display_data';\n",
              "          await google.colab.output.renderOutput(dataTable, element);\n",
              "          const docLink = document.createElement('div');\n",
              "          docLink.innerHTML = docLinkHtml;\n",
              "          element.appendChild(docLink);\n",
              "        }\n",
              "      </script>\n",
              "    </div>\n",
              "  </div>\n",
              "  "
            ],
            "text/plain": [
              "       genre     artist_name  ... time_signature valence\n",
              "135      R&B   Mary J. Blige  ...              0  0.6930\n",
              "136      R&B         Rihanna  ...              2  0.3230\n",
              "137      R&B       Yung Bleu  ...              0  0.0862\n",
              "138      R&B        Surfaces  ...              0  0.7680\n",
              "139      R&B  Olivia O'Brien  ...              0  0.4660\n",
              "...      ...             ...  ...            ...     ...\n",
              "230312  Soul     James Brown  ...              0  0.8580\n",
              "230782  Soul    Alex Hepburn  ...              0  0.6130\n",
              "230817  Soul    Paloma Faith  ...              0  0.5660\n",
              "230946  Soul     James Brown  ...              0  0.9140\n",
              "231493  Soul      Simply Red  ...              0  0.6410\n",
              "\n",
              "[49104 rows x 18 columns]"
            ]
          },
          "metadata": {},
          "execution_count": 16
        }
      ]
    },
    {
      "cell_type": "markdown",
      "source": [
        "Model Fitting and Predicting"
      ],
      "metadata": {
        "id": "23nLCyD0cjhk"
      }
    },
    {
      "cell_type": "code",
      "source": [
        "features = [\"acousticness\", \"danceability\", \"duration_ms\", \"energy\", \"instrumentalness\", \"key\", \"liveness\", \n",
        "            \"mode\", \"speechiness\", \"tempo\", \"time_signature\", \"valence\"]"
      ],
      "metadata": {
        "id": "ly-u524KcerQ"
      },
      "execution_count": 18,
      "outputs": []
    },
    {
      "cell_type": "code",
      "source": [
        "#train and test split of data\n",
        "training = data.sample(frac = 0.8,random_state = 420)\n",
        "X_train = training[features]\n",
        "y_train = training['popularity']\n",
        "X_test = data.drop(training.index)[features]"
      ],
      "metadata": {
        "id": "_AS3zVV7csQL"
      },
      "execution_count": 20,
      "outputs": []
    },
    {
      "cell_type": "code",
      "source": [
        "#We add a validation dataset using train_test_split.\n",
        "\n",
        "X_train, X_valid, y_train, y_valid = train_test_split(X_train, y_train, test_size = 0.2, random_state = 420)"
      ],
      "metadata": {
        "id": "lnVGqmn_cuZE"
      },
      "execution_count": 21,
      "outputs": []
    },
    {
      "cell_type": "markdown",
      "source": [
        "Random Forest"
      ],
      "metadata": {
        "id": "6MH56FbRc8ER"
      }
    },
    {
      "cell_type": "code",
      "source": [
        "RFC_Model = RandomForestClassifier()\n",
        "RFC_Model.fit(X_train, y_train)\n",
        "RFC_Predict = RFC_Model.predict(X_valid)\n",
        "RFC_Accuracy = accuracy_score(y_valid, RFC_Predict)\n",
        "print(\"Accuracy: \" + str(RFC_Accuracy))\n",
        "\n",
        "RFC_AUC = roc_auc_score(y_valid, RFC_Predict) \n",
        "print(\"AUC: \" + str(RFC_AUC))"
      ],
      "metadata": {
        "colab": {
          "base_uri": "https://localhost:8080/"
        },
        "id": "y8NK3pgdc1UP",
        "outputId": "23924aef-9884-449b-eeed-014b22699d3b"
      },
      "execution_count": 22,
      "outputs": [
        {
          "output_type": "stream",
          "name": "stdout",
          "text": [
            "Accuracy: 0.9208561607046943\n",
            "AUC: 0.8324767591217018\n"
          ]
        }
      ]
    },
    {
      "cell_type": "markdown",
      "source": [
        "KNN model"
      ],
      "metadata": {
        "id": "iKN8A8UTdAMN"
      }
    },
    {
      "cell_type": "code",
      "source": [
        "KNN_Model = KNeighborsClassifier()\n",
        "KNN_Model.fit(X_train, y_train)\n",
        "KNN_Predict = KNN_Model.predict(X_valid)\n",
        "KNN_Accuracy = accuracy_score(y_valid, KNN_Predict)\n",
        "print(\"Accuracy: \" + str(KNN_Accuracy))\n",
        "\n",
        "KNN_AUC = roc_auc_score(y_valid, KNN_Predict) \n",
        "print(\"AUC: \" + str(KNN_AUC))"
      ],
      "metadata": {
        "colab": {
          "base_uri": "https://localhost:8080/"
        },
        "id": "dwG6Ko16c8fp",
        "outputId": "7f937529-29bb-4ffc-f193-3e25df857e52"
      },
      "execution_count": 23,
      "outputs": [
        {
          "output_type": "stream",
          "name": "stdout",
          "text": [
            "Accuracy: 0.7735524760983994\n",
            "AUC: 0.6154249990048827\n"
          ]
        }
      ]
    },
    {
      "cell_type": "markdown",
      "source": [
        "XG Boost"
      ],
      "metadata": {
        "id": "_JiWXV0PdD_W"
      }
    },
    {
      "cell_type": "code",
      "source": [
        "xgb = XGBClassifier(max_depth = 4)\n",
        "xgb.fit(X_train, y_train)\n",
        "xgb_yhat = xgb.predict(X_valid)\n",
        "  \n",
        "XGB_Accuracy = accuracy_score(y_valid, xgb_yhat)\n",
        "print(\"Accuracy: \" + str(XGB_Accuracy))\n",
        "\n",
        "XGB_AUC = roc_auc_score(y_valid, xgb_yhat) \n",
        "print(\"AUC: \" + str(XGB_AUC))"
      ],
      "metadata": {
        "colab": {
          "base_uri": "https://localhost:8080/"
        },
        "id": "seARQhh8dBpq",
        "outputId": "28328331-1ad4-4b85-e170-d84a206604af"
      },
      "execution_count": 24,
      "outputs": [
        {
          "output_type": "stream",
          "name": "stdout",
          "text": [
            "Accuracy: 0.7919486518423031\n",
            "AUC: 0.5172997510420607\n"
          ]
        }
      ]
    },
    {
      "cell_type": "markdown",
      "source": [
        "MLP Classifier"
      ],
      "metadata": {
        "id": "6HmxJl3jdJ12"
      }
    },
    {
      "cell_type": "code",
      "source": [
        "mlp=MLPClassifier(random_state=1, max_iter=300)\n",
        "mlp.fit(X_train, y_train)\n",
        "mlp_pred=mlp.predict(X_valid)\n",
        "\n",
        "mlp_accuracy=accuracy_score(y_valid,mlp_pred)\n",
        "print(\"Accuracy: \"+ str(mlp_accuracy))\n",
        "\n",
        "mlp_AUC = roc_auc_score(y_valid, mlp_pred) \n",
        "print(\"AUC: \" + str(mlp_AUC))"
      ],
      "metadata": {
        "colab": {
          "base_uri": "https://localhost:8080/"
        },
        "id": "gRu9UZgNdFWu",
        "outputId": "422a48e2-a57a-4f9b-b776-f70643541494"
      },
      "execution_count": 25,
      "outputs": [
        {
          "output_type": "stream",
          "name": "stdout",
          "text": [
            "Accuracy: 0.7891288000859383\n",
            "AUC: 0.4997448892819484\n"
          ]
        }
      ]
    },
    {
      "cell_type": "markdown",
      "source": [
        "Linear Regression"
      ],
      "metadata": {
        "id": "RRhiK-0NdN4K"
      }
    },
    {
      "cell_type": "code",
      "source": [
        "lp = LinearRegression(fit_intercept=True)\n",
        "lp.fit(X_train, y_train)\n",
        "lp_pred=lp.predict(X_valid)\n",
        "\n",
        "lp_accuracy=accuracy_score(y_valid,lp_pred.round(), normalize=False)\n",
        "#accuracy_score(y_true, y_pred, normalize=False)\n",
        "print(\"Accuracy: \"+ str(lp_accuracy))\n",
        "\n",
        "lp_AUC = roc_auc_score(y_valid, lp_pred) \n",
        "print(\"AUC: \" + str(lp_AUC))"
      ],
      "metadata": {
        "colab": {
          "base_uri": "https://localhost:8080/"
        },
        "id": "e8Xc--NjdLyc",
        "outputId": "b524966e-f2a4-43c3-de7b-e5a135154048"
      },
      "execution_count": 26,
      "outputs": [
        {
          "output_type": "stream",
          "name": "stdout",
          "text": [
            "Accuracy: 29401\n",
            "AUC: 0.7115378443007823\n"
          ]
        }
      ]
    },
    {
      "cell_type": "code",
      "source": [
        "from sklearn.linear_model import LinearRegression\n",
        "from sklearn.metrics import mean_squared_error\n"
      ],
      "metadata": {
        "id": "RpoNzyyPf_Yb"
      },
      "execution_count": 30,
      "outputs": []
    },
    {
      "cell_type": "code",
      "source": [
        "train_rmse = mean_squared_error(lr_pred, y_train, squared=False)\n"
      ],
      "metadata": {
        "id": "sYN9FgM4gJ8_"
      },
      "execution_count": 36,
      "outputs": []
    },
    {
      "cell_type": "code",
      "source": [
        "lr = LinearRegression()\n",
        "lr.fit(X_train, y_train)\n",
        "lr_pred=lr.predict(X_train)"
      ],
      "metadata": {
        "id": "pStRopwSgHrI"
      },
      "execution_count": 37,
      "outputs": []
    },
    {
      "cell_type": "code",
      "source": [
        "print('The RMSE loss for training set is ', train_rmse)\n"
      ],
      "metadata": {
        "colab": {
          "base_uri": "https://localhost:8080/"
        },
        "id": "_bh46FYdgL3Z",
        "outputId": "9f91ba58-500a-4a7a-e408-9ee4ba9a8b03"
      },
      "execution_count": 38,
      "outputs": [
        {
          "output_type": "stream",
          "name": "stdout",
          "text": [
            "The RMSE loss for training set is  0.39008171448531126\n"
          ]
        }
      ]
    },
    {
      "cell_type": "markdown",
      "source": [
        "Random Forest Regression"
      ],
      "metadata": {
        "id": "U-ollSEKdetI"
      }
    },
    {
      "cell_type": "code",
      "source": [
        "from sklearn.ensemble import RandomForestRegressor"
      ],
      "metadata": {
        "id": "TGKhqKfUdPzd"
      },
      "execution_count": 39,
      "outputs": []
    },
    {
      "cell_type": "code",
      "source": [
        "random_forest_model = RandomForestRegressor(n_jobs=-1, \n",
        "                                            random_state=42, \n",
        "                                            max_depth=15, \n",
        "                                            n_estimators=100, \n",
        "                                            max_features=10)\n",
        "random_forest_model.fit(X_train, y_train)"
      ],
      "metadata": {
        "colab": {
          "base_uri": "https://localhost:8080/"
        },
        "id": "gIWZWJrkdg3z",
        "outputId": "9327ab3c-6472-4d9a-bc0c-7031b9e3027a"
      },
      "execution_count": 40,
      "outputs": [
        {
          "output_type": "execute_result",
          "data": {
            "text/plain": [
              "RandomForestRegressor(max_depth=15, max_features=10, n_jobs=-1, random_state=42)"
            ]
          },
          "metadata": {},
          "execution_count": 40
        }
      ]
    },
    {
      "cell_type": "code",
      "source": [
        "train_acc = random_forest_model.score(X_train, y_train)\n",
        "train_rmse = mean_squared_error(random_forest_model.predict(X_train), y_train, squared=False)\n",
        "print('The RMSE loss for training set is ', train_rmse, ' and accuracy is ', train_acc*100, '%')"
      ],
      "metadata": {
        "colab": {
          "base_uri": "https://localhost:8080/"
        },
        "id": "Gty8i-uudnYW",
        "outputId": "029895e6-0968-40a4-ac00-6551cff773f9"
      },
      "execution_count": 41,
      "outputs": [
        {
          "output_type": "stream",
          "name": "stdout",
          "text": [
            "The RMSE loss for training set is  0.31439486903435065  and accuracy is  40.62225826681677 %\n"
          ]
        }
      ]
    },
    {
      "cell_type": "code",
      "source": [
        "val_acc = random_forest_model.score(X_valid, y_valid)\n",
        "val_rmse = mean_squared_error(random_forest_model.predict(X_valid), y_valid, squared=False)\n",
        "print('The RMSE loss for validation set is ', val_rmse, ' and accuracy is ', val_acc*100, '%')"
      ],
      "metadata": {
        "colab": {
          "base_uri": "https://localhost:8080/"
        },
        "id": "i0h8nMCtdqGw",
        "outputId": "0c186417-897b-439d-9883-e7dce0024739"
      },
      "execution_count": 42,
      "outputs": [
        {
          "output_type": "stream",
          "name": "stdout",
          "text": [
            "The RMSE loss for validation set is  0.34885072261800415  and accuracy is  26.764290704255277 %\n"
          ]
        }
      ]
    },
    {
      "cell_type": "markdown",
      "source": [
        "XG Boosting Regression"
      ],
      "metadata": {
        "id": "PnW5mcEDdths"
      }
    },
    {
      "cell_type": "code",
      "source": [
        "from xgboost import XGBRegressor"
      ],
      "metadata": {
        "id": "pGSpDaPXdr8o"
      },
      "execution_count": 43,
      "outputs": []
    },
    {
      "cell_type": "code",
      "source": [
        "gbm_model = XGBRegressor(random_state=42, \n",
        "                         n_jobs=-1, \n",
        "                         n_estimators=200, \n",
        "                         max_depth=8, \n",
        "                         learning_rate=0.2)\n",
        "gbm_model.fit(X_train, y_train)"
      ],
      "metadata": {
        "colab": {
          "base_uri": "https://localhost:8080/"
        },
        "id": "NdmbnUR1dwpe",
        "outputId": "e2aeb5ab-a84a-4756-f5f6-2caa9404dfac"
      },
      "execution_count": 44,
      "outputs": [
        {
          "output_type": "stream",
          "name": "stdout",
          "text": [
            "[06:40:58] WARNING: /workspace/src/objective/regression_obj.cu:152: reg:linear is now deprecated in favor of reg:squarederror.\n"
          ]
        },
        {
          "output_type": "execute_result",
          "data": {
            "text/plain": [
              "XGBRegressor(learning_rate=0.2, max_depth=8, n_estimators=200, n_jobs=-1,\n",
              "             random_state=42)"
            ]
          },
          "metadata": {},
          "execution_count": 44
        }
      ]
    },
    {
      "cell_type": "code",
      "source": [
        "train_acc = gbm_model.score(X_train, y_train)\n",
        "train_rmse = mean_squared_error(gbm_model.predict(X_train), y_train, squared=False)\n",
        "print('The RMSE loss for training set is ', train_rmse, ' and accuracy is ', train_acc*100, '%')"
      ],
      "metadata": {
        "colab": {
          "base_uri": "https://localhost:8080/"
        },
        "id": "mn4tuLh8dyF_",
        "outputId": "5bd8e3b6-b2e1-4101-91e7-beae9314e9e9"
      },
      "execution_count": 45,
      "outputs": [
        {
          "output_type": "stream",
          "name": "stdout",
          "text": [
            "The RMSE loss for training set is  0.2827907444466701  and accuracy is  51.95998222681166 %\n"
          ]
        }
      ]
    },
    {
      "cell_type": "code",
      "source": [
        "val_acc = gbm_model.score(X_valid, y_valid)\n",
        "val_rmse = mean_squared_error(gbm_model.predict(X_valid), y_valid, squared=False)\n",
        "print('The RMSE loss for validation set is ', val_rmse, ' and accuracy is ', val_acc*100, '%')"
      ],
      "metadata": {
        "colab": {
          "base_uri": "https://localhost:8080/"
        },
        "id": "XZFg3lcedzna",
        "outputId": "ad94a882-2c8a-4741-d5c1-673f313de0bb"
      },
      "execution_count": 46,
      "outputs": [
        {
          "output_type": "stream",
          "name": "stdout",
          "text": [
            "The RMSE loss for validation set is  0.3394067796850503  and accuracy is  30.67583224146877 %\n"
          ]
        }
      ]
    },
    {
      "cell_type": "markdown",
      "source": [
        "KNN Regressor"
      ],
      "metadata": {
        "id": "2KFHcpyod3d2"
      }
    },
    {
      "cell_type": "code",
      "source": [
        "from sklearn.neighbors import KNeighborsRegressor\n"
      ],
      "metadata": {
        "id": "s1sE76L3d1U7"
      },
      "execution_count": 47,
      "outputs": []
    },
    {
      "cell_type": "code",
      "source": [
        "knn_model = KNeighborsRegressor()\n",
        "knn_model.fit(X_train, y_train)\n"
      ],
      "metadata": {
        "colab": {
          "base_uri": "https://localhost:8080/"
        },
        "id": "yp0fO1Ond5X3",
        "outputId": "e8d66d70-d068-4b78-d055-39c50bf2ed59"
      },
      "execution_count": 48,
      "outputs": [
        {
          "output_type": "execute_result",
          "data": {
            "text/plain": [
              "KNeighborsRegressor()"
            ]
          },
          "metadata": {},
          "execution_count": 48
        }
      ]
    },
    {
      "cell_type": "code",
      "source": [
        "train_acc = knn_model.score(X_train, y_train)\n",
        "train_rmse = mean_squared_error(knn_model.predict(X_train), y_train, squared=False)\n",
        "print('The RMSE loss for training set is ', train_rmse, ' and accuracy is ', train_acc*100, '%')"
      ],
      "metadata": {
        "colab": {
          "base_uri": "https://localhost:8080/"
        },
        "id": "SbOeI-fNd87M",
        "outputId": "c751b239-817a-4ecb-a4ec-afd031117e0f"
      },
      "execution_count": 49,
      "outputs": [
        {
          "output_type": "stream",
          "name": "stdout",
          "text": [
            "The RMSE loss for training set is  0.31713601144981696  and accuracy is  39.582340571401645 %\n"
          ]
        }
      ]
    },
    {
      "cell_type": "markdown",
      "source": [
        "Model Performance Summary"
      ],
      "metadata": {
        "id": "PeMJfgXSh7D5"
      }
    },
    {
      "cell_type": "code",
      "source": [
        "model_performance_accuracy = pd.DataFrame({'Model': ['LinearRegression', \n",
        "                                                     'MLPClassifier', \n",
        "                                                     'KNeighborsClassifier',\n",
        "                                                      'Random Forest',\n",
        "                                                      'XGBClassifier'],\n",
        "                                            'Accuracy': [lp_accuracy,\n",
        "                                                         mlp_accuracy,\n",
        "                                                         KNN_Accuracy,\n",
        "                                                         RFC_Accuracy,\n",
        "                                                          XGB_Accuracy]})\n",
        "                                                         \n",
        "                                                         \n",
        "\n",
        "\n",
        "model_performance_AUC = pd.DataFrame({'Model': ['LinearRegression', \n",
        "                                                     'MLPClassifier', \n",
        "                                                     'KNeighborsClassifier',\n",
        "                                                      'Random Forest',\n",
        "                                                      'XGBClassifier'],\n",
        "                                            'AUC': [lp_AUC,\n",
        "                                                     mlp_AUC,\n",
        "                                                     KNN_AUC,\n",
        "                                                     RFC_AUC,\n",
        "                                                    XGB_AUC]})"
      ],
      "metadata": {
        "id": "w5EnQWfyd9NO"
      },
      "execution_count": 50,
      "outputs": []
    },
    {
      "cell_type": "code",
      "source": [
        "model_performance_accuracy.sort_values(by = \"Accuracy\", ascending = False)"
      ],
      "metadata": {
        "colab": {
          "base_uri": "https://localhost:8080/",
          "height": 206
        },
        "id": "lFtHHn8ih47g",
        "outputId": "18740824-f70d-4c94-ccd6-760e9c8d3221"
      },
      "execution_count": 51,
      "outputs": [
        {
          "output_type": "execute_result",
          "data": {
            "text/html": [
              "\n",
              "  <div id=\"df-a3421b47-c4f5-4d7e-bb2f-84c47729b696\">\n",
              "    <div class=\"colab-df-container\">\n",
              "      <div>\n",
              "<style scoped>\n",
              "    .dataframe tbody tr th:only-of-type {\n",
              "        vertical-align: middle;\n",
              "    }\n",
              "\n",
              "    .dataframe tbody tr th {\n",
              "        vertical-align: top;\n",
              "    }\n",
              "\n",
              "    .dataframe thead th {\n",
              "        text-align: right;\n",
              "    }\n",
              "</style>\n",
              "<table border=\"1\" class=\"dataframe\">\n",
              "  <thead>\n",
              "    <tr style=\"text-align: right;\">\n",
              "      <th></th>\n",
              "      <th>Model</th>\n",
              "      <th>Accuracy</th>\n",
              "    </tr>\n",
              "  </thead>\n",
              "  <tbody>\n",
              "    <tr>\n",
              "      <th>0</th>\n",
              "      <td>LinearRegression</td>\n",
              "      <td>29401.000000</td>\n",
              "    </tr>\n",
              "    <tr>\n",
              "      <th>3</th>\n",
              "      <td>Random Forest</td>\n",
              "      <td>0.920856</td>\n",
              "    </tr>\n",
              "    <tr>\n",
              "      <th>4</th>\n",
              "      <td>XGBClassifier</td>\n",
              "      <td>0.791949</td>\n",
              "    </tr>\n",
              "    <tr>\n",
              "      <th>1</th>\n",
              "      <td>MLPClassifier</td>\n",
              "      <td>0.789129</td>\n",
              "    </tr>\n",
              "    <tr>\n",
              "      <th>2</th>\n",
              "      <td>KNeighborsClassifier</td>\n",
              "      <td>0.773552</td>\n",
              "    </tr>\n",
              "  </tbody>\n",
              "</table>\n",
              "</div>\n",
              "      <button class=\"colab-df-convert\" onclick=\"convertToInteractive('df-a3421b47-c4f5-4d7e-bb2f-84c47729b696')\"\n",
              "              title=\"Convert this dataframe to an interactive table.\"\n",
              "              style=\"display:none;\">\n",
              "        \n",
              "  <svg xmlns=\"http://www.w3.org/2000/svg\" height=\"24px\"viewBox=\"0 0 24 24\"\n",
              "       width=\"24px\">\n",
              "    <path d=\"M0 0h24v24H0V0z\" fill=\"none\"/>\n",
              "    <path d=\"M18.56 5.44l.94 2.06.94-2.06 2.06-.94-2.06-.94-.94-2.06-.94 2.06-2.06.94zm-11 1L8.5 8.5l.94-2.06 2.06-.94-2.06-.94L8.5 2.5l-.94 2.06-2.06.94zm10 10l.94 2.06.94-2.06 2.06-.94-2.06-.94-.94-2.06-.94 2.06-2.06.94z\"/><path d=\"M17.41 7.96l-1.37-1.37c-.4-.4-.92-.59-1.43-.59-.52 0-1.04.2-1.43.59L10.3 9.45l-7.72 7.72c-.78.78-.78 2.05 0 2.83L4 21.41c.39.39.9.59 1.41.59.51 0 1.02-.2 1.41-.59l7.78-7.78 2.81-2.81c.8-.78.8-2.07 0-2.86zM5.41 20L4 18.59l7.72-7.72 1.47 1.35L5.41 20z\"/>\n",
              "  </svg>\n",
              "      </button>\n",
              "      \n",
              "  <style>\n",
              "    .colab-df-container {\n",
              "      display:flex;\n",
              "      flex-wrap:wrap;\n",
              "      gap: 12px;\n",
              "    }\n",
              "\n",
              "    .colab-df-convert {\n",
              "      background-color: #E8F0FE;\n",
              "      border: none;\n",
              "      border-radius: 50%;\n",
              "      cursor: pointer;\n",
              "      display: none;\n",
              "      fill: #1967D2;\n",
              "      height: 32px;\n",
              "      padding: 0 0 0 0;\n",
              "      width: 32px;\n",
              "    }\n",
              "\n",
              "    .colab-df-convert:hover {\n",
              "      background-color: #E2EBFA;\n",
              "      box-shadow: 0px 1px 2px rgba(60, 64, 67, 0.3), 0px 1px 3px 1px rgba(60, 64, 67, 0.15);\n",
              "      fill: #174EA6;\n",
              "    }\n",
              "\n",
              "    [theme=dark] .colab-df-convert {\n",
              "      background-color: #3B4455;\n",
              "      fill: #D2E3FC;\n",
              "    }\n",
              "\n",
              "    [theme=dark] .colab-df-convert:hover {\n",
              "      background-color: #434B5C;\n",
              "      box-shadow: 0px 1px 3px 1px rgba(0, 0, 0, 0.15);\n",
              "      filter: drop-shadow(0px 1px 2px rgba(0, 0, 0, 0.3));\n",
              "      fill: #FFFFFF;\n",
              "    }\n",
              "  </style>\n",
              "\n",
              "      <script>\n",
              "        const buttonEl =\n",
              "          document.querySelector('#df-a3421b47-c4f5-4d7e-bb2f-84c47729b696 button.colab-df-convert');\n",
              "        buttonEl.style.display =\n",
              "          google.colab.kernel.accessAllowed ? 'block' : 'none';\n",
              "\n",
              "        async function convertToInteractive(key) {\n",
              "          const element = document.querySelector('#df-a3421b47-c4f5-4d7e-bb2f-84c47729b696');\n",
              "          const dataTable =\n",
              "            await google.colab.kernel.invokeFunction('convertToInteractive',\n",
              "                                                     [key], {});\n",
              "          if (!dataTable) return;\n",
              "\n",
              "          const docLinkHtml = 'Like what you see? Visit the ' +\n",
              "            '<a target=\"_blank\" href=https://colab.research.google.com/notebooks/data_table.ipynb>data table notebook</a>'\n",
              "            + ' to learn more about interactive tables.';\n",
              "          element.innerHTML = '';\n",
              "          dataTable['output_type'] = 'display_data';\n",
              "          await google.colab.output.renderOutput(dataTable, element);\n",
              "          const docLink = document.createElement('div');\n",
              "          docLink.innerHTML = docLinkHtml;\n",
              "          element.appendChild(docLink);\n",
              "        }\n",
              "      </script>\n",
              "    </div>\n",
              "  </div>\n",
              "  "
            ],
            "text/plain": [
              "                  Model      Accuracy\n",
              "0      LinearRegression  29401.000000\n",
              "3         Random Forest      0.920856\n",
              "4         XGBClassifier      0.791949\n",
              "1         MLPClassifier      0.789129\n",
              "2  KNeighborsClassifier      0.773552"
            ]
          },
          "metadata": {},
          "execution_count": 51
        }
      ]
    },
    {
      "cell_type": "code",
      "source": [
        "model_performance_AUC.sort_values(by = \"AUC\", ascending = False)"
      ],
      "metadata": {
        "colab": {
          "base_uri": "https://localhost:8080/",
          "height": 206
        },
        "id": "LhMs-ZthizNk",
        "outputId": "9c11d275-d905-4c2e-976e-6030d74b86cc"
      },
      "execution_count": 52,
      "outputs": [
        {
          "output_type": "execute_result",
          "data": {
            "text/html": [
              "\n",
              "  <div id=\"df-afd76121-7fd9-4e13-855e-688c659db8c3\">\n",
              "    <div class=\"colab-df-container\">\n",
              "      <div>\n",
              "<style scoped>\n",
              "    .dataframe tbody tr th:only-of-type {\n",
              "        vertical-align: middle;\n",
              "    }\n",
              "\n",
              "    .dataframe tbody tr th {\n",
              "        vertical-align: top;\n",
              "    }\n",
              "\n",
              "    .dataframe thead th {\n",
              "        text-align: right;\n",
              "    }\n",
              "</style>\n",
              "<table border=\"1\" class=\"dataframe\">\n",
              "  <thead>\n",
              "    <tr style=\"text-align: right;\">\n",
              "      <th></th>\n",
              "      <th>Model</th>\n",
              "      <th>AUC</th>\n",
              "    </tr>\n",
              "  </thead>\n",
              "  <tbody>\n",
              "    <tr>\n",
              "      <th>3</th>\n",
              "      <td>Random Forest</td>\n",
              "      <td>0.832477</td>\n",
              "    </tr>\n",
              "    <tr>\n",
              "      <th>0</th>\n",
              "      <td>LinearRegression</td>\n",
              "      <td>0.711538</td>\n",
              "    </tr>\n",
              "    <tr>\n",
              "      <th>2</th>\n",
              "      <td>KNeighborsClassifier</td>\n",
              "      <td>0.615425</td>\n",
              "    </tr>\n",
              "    <tr>\n",
              "      <th>4</th>\n",
              "      <td>XGBClassifier</td>\n",
              "      <td>0.517300</td>\n",
              "    </tr>\n",
              "    <tr>\n",
              "      <th>1</th>\n",
              "      <td>MLPClassifier</td>\n",
              "      <td>0.499745</td>\n",
              "    </tr>\n",
              "  </tbody>\n",
              "</table>\n",
              "</div>\n",
              "      <button class=\"colab-df-convert\" onclick=\"convertToInteractive('df-afd76121-7fd9-4e13-855e-688c659db8c3')\"\n",
              "              title=\"Convert this dataframe to an interactive table.\"\n",
              "              style=\"display:none;\">\n",
              "        \n",
              "  <svg xmlns=\"http://www.w3.org/2000/svg\" height=\"24px\"viewBox=\"0 0 24 24\"\n",
              "       width=\"24px\">\n",
              "    <path d=\"M0 0h24v24H0V0z\" fill=\"none\"/>\n",
              "    <path d=\"M18.56 5.44l.94 2.06.94-2.06 2.06-.94-2.06-.94-.94-2.06-.94 2.06-2.06.94zm-11 1L8.5 8.5l.94-2.06 2.06-.94-2.06-.94L8.5 2.5l-.94 2.06-2.06.94zm10 10l.94 2.06.94-2.06 2.06-.94-2.06-.94-.94-2.06-.94 2.06-2.06.94z\"/><path d=\"M17.41 7.96l-1.37-1.37c-.4-.4-.92-.59-1.43-.59-.52 0-1.04.2-1.43.59L10.3 9.45l-7.72 7.72c-.78.78-.78 2.05 0 2.83L4 21.41c.39.39.9.59 1.41.59.51 0 1.02-.2 1.41-.59l7.78-7.78 2.81-2.81c.8-.78.8-2.07 0-2.86zM5.41 20L4 18.59l7.72-7.72 1.47 1.35L5.41 20z\"/>\n",
              "  </svg>\n",
              "      </button>\n",
              "      \n",
              "  <style>\n",
              "    .colab-df-container {\n",
              "      display:flex;\n",
              "      flex-wrap:wrap;\n",
              "      gap: 12px;\n",
              "    }\n",
              "\n",
              "    .colab-df-convert {\n",
              "      background-color: #E8F0FE;\n",
              "      border: none;\n",
              "      border-radius: 50%;\n",
              "      cursor: pointer;\n",
              "      display: none;\n",
              "      fill: #1967D2;\n",
              "      height: 32px;\n",
              "      padding: 0 0 0 0;\n",
              "      width: 32px;\n",
              "    }\n",
              "\n",
              "    .colab-df-convert:hover {\n",
              "      background-color: #E2EBFA;\n",
              "      box-shadow: 0px 1px 2px rgba(60, 64, 67, 0.3), 0px 1px 3px 1px rgba(60, 64, 67, 0.15);\n",
              "      fill: #174EA6;\n",
              "    }\n",
              "\n",
              "    [theme=dark] .colab-df-convert {\n",
              "      background-color: #3B4455;\n",
              "      fill: #D2E3FC;\n",
              "    }\n",
              "\n",
              "    [theme=dark] .colab-df-convert:hover {\n",
              "      background-color: #434B5C;\n",
              "      box-shadow: 0px 1px 3px 1px rgba(0, 0, 0, 0.15);\n",
              "      filter: drop-shadow(0px 1px 2px rgba(0, 0, 0, 0.3));\n",
              "      fill: #FFFFFF;\n",
              "    }\n",
              "  </style>\n",
              "\n",
              "      <script>\n",
              "        const buttonEl =\n",
              "          document.querySelector('#df-afd76121-7fd9-4e13-855e-688c659db8c3 button.colab-df-convert');\n",
              "        buttonEl.style.display =\n",
              "          google.colab.kernel.accessAllowed ? 'block' : 'none';\n",
              "\n",
              "        async function convertToInteractive(key) {\n",
              "          const element = document.querySelector('#df-afd76121-7fd9-4e13-855e-688c659db8c3');\n",
              "          const dataTable =\n",
              "            await google.colab.kernel.invokeFunction('convertToInteractive',\n",
              "                                                     [key], {});\n",
              "          if (!dataTable) return;\n",
              "\n",
              "          const docLinkHtml = 'Like what you see? Visit the ' +\n",
              "            '<a target=\"_blank\" href=https://colab.research.google.com/notebooks/data_table.ipynb>data table notebook</a>'\n",
              "            + ' to learn more about interactive tables.';\n",
              "          element.innerHTML = '';\n",
              "          dataTable['output_type'] = 'display_data';\n",
              "          await google.colab.output.renderOutput(dataTable, element);\n",
              "          const docLink = document.createElement('div');\n",
              "          docLink.innerHTML = docLinkHtml;\n",
              "          element.appendChild(docLink);\n",
              "        }\n",
              "      </script>\n",
              "    </div>\n",
              "  </div>\n",
              "  "
            ],
            "text/plain": [
              "                  Model       AUC\n",
              "3         Random Forest  0.832477\n",
              "0      LinearRegression  0.711538\n",
              "2  KNeighborsClassifier  0.615425\n",
              "4         XGBClassifier  0.517300\n",
              "1         MLPClassifier  0.499745"
            ]
          },
          "metadata": {},
          "execution_count": 52
        }
      ]
    },
    {
      "cell_type": "markdown",
      "source": [
        "Conclusion\n",
        "\n",
        "Using a dataset of 228,000 Spotify Tracks, we were able to predict popularity (greater than 57 popularity) using audio-based metrics such as key, mode etc.,without external metrics such as artist name, genre, and release date. The Random Forest Classifier was the best performing algorithm with 92.0% accuracy and 83.2% AUC. The XG Boost Classifier was the second best performing algorithm with 79% accuracy and 51% AUC."
      ],
      "metadata": {
        "id": "GvKqa44CjSww"
      }
    }
  ]
}