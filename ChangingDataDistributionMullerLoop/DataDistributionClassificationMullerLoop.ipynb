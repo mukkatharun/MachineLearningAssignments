{
  "cells": [
    {
      "cell_type": "code",
      "execution_count": 1,
      "id": "4623f79a",
      "metadata": {
        "id": "4623f79a"
      },
      "outputs": [],
      "source": [
        "import numpy as np \n",
        "import pandas as pd\n",
        "\n",
        "import seaborn as sns\n",
        "import matplotlib\n",
        "import matplotlib.pyplot as plt\n",
        "import numpy as np\n",
        "import plotly.express as px\n",
        "from sklearn.model_selection import train_test_split\n",
        "%matplotlib inline\n",
        "from sklearn.preprocessing import MinMaxScaler\n",
        "from sklearn.preprocessing import OneHotEncoder\n",
        "from sklearn.tree import DecisionTreeClassifier\n",
        "from sklearn.ensemble import RandomForestClassifier\n",
        "from sklearn.ensemble import GradientBoostingClassifier\n",
        "from sklearn.neighbors import KNeighborsClassifier\n",
        "from sklearn.ensemble import RandomForestClassifier, AdaBoostClassifier\n",
        "\n",
        "sns.set_style('darkgrid')\n",
        "matplotlib.rcParams['font.size'] = 14\n",
        "matplotlib.rcParams['figure.figsize'] = (12, 6)\n",
        "matplotlib.rcParams['figure.facecolor'] = '#00000000'"
      ]
    },
    {
      "cell_type": "code",
      "execution_count": 2,
      "id": "92d536e6",
      "metadata": {
        "colab": {
          "base_uri": "https://localhost:8080/",
          "height": 374
        },
        "id": "92d536e6",
        "outputId": "a4bc4ecc-7c01-474f-cd48-7f1d5fd89232"
      },
      "outputs": [
        {
          "output_type": "execute_result",
          "data": {
            "text/plain": [
              "                       id                                 name  popularity  \\\n",
              "0  35iwgR4jXetI318WEWsa1Q                                Carve           6   \n",
              "1  021ht4sdgPcrDgSk7JTbKY  Capítulo 2.16 - Banquero Anarquista           0   \n",
              "2  07A5yehtSnoedViJAZkNnc   Vivo para Quererte - Remasterizado           0   \n",
              "3  08FmqUhxtyLTn6pAh6bk45        El Prisionero - Remasterizado           0   \n",
              "4  08y9GfoqCWfOGsKdwojr5e                  Lady of the Evening           0   \n",
              "\n",
              "   duration_ms  explicit              artists                  id_artists  \\\n",
              "0       126903         0              ['Uli']  ['45tIt06XoI0Iio4LBEVpls']   \n",
              "1        98200         0  ['Fernando Pessoa']  ['14jtPCOoNZwquk5wd9DxrY']   \n",
              "2       181640         0  ['Ignacio Corsini']  ['5LiOoJbxVSAMkBS2fUm3X2']   \n",
              "3       176907         0  ['Ignacio Corsini']  ['5LiOoJbxVSAMkBS2fUm3X2']   \n",
              "4       163080         0      ['Dick Haymes']  ['3BiJGZsyX9sJchTqcSA7Su']   \n",
              "\n",
              "  release_date  danceability  energy  key  loudness  mode  speechiness  \\\n",
              "0   1922-02-22         0.645  0.4450    0   -13.338     1       0.4510   \n",
              "1   1922-06-01         0.695  0.2630    0   -22.136     1       0.9570   \n",
              "2   1922-03-21         0.434  0.1770    1   -21.180     1       0.0512   \n",
              "3   1922-03-21         0.321  0.0946    7   -27.961     1       0.0504   \n",
              "4         1922         0.402  0.1580    3   -16.900     0       0.0390   \n",
              "\n",
              "   acousticness  instrumentalness  liveness  valence    tempo  time_signature  \n",
              "0         0.674            0.7440     0.151    0.127  104.851             3.0  \n",
              "1         0.797            0.0000     0.148    0.655  102.009             1.0  \n",
              "2         0.994            0.0218     0.212    0.457  130.418             5.0  \n",
              "3         0.995            0.9180     0.104    0.397  169.980             3.0  \n",
              "4         0.989            0.1300     0.311    0.196  103.220             4.0  "
            ],
            "text/html": [
              "\n",
              "  <div id=\"df-8719bf86-7bca-43b9-8e9b-b7a2b6aa7cbe\">\n",
              "    <div class=\"colab-df-container\">\n",
              "      <div>\n",
              "<style scoped>\n",
              "    .dataframe tbody tr th:only-of-type {\n",
              "        vertical-align: middle;\n",
              "    }\n",
              "\n",
              "    .dataframe tbody tr th {\n",
              "        vertical-align: top;\n",
              "    }\n",
              "\n",
              "    .dataframe thead th {\n",
              "        text-align: right;\n",
              "    }\n",
              "</style>\n",
              "<table border=\"1\" class=\"dataframe\">\n",
              "  <thead>\n",
              "    <tr style=\"text-align: right;\">\n",
              "      <th></th>\n",
              "      <th>id</th>\n",
              "      <th>name</th>\n",
              "      <th>popularity</th>\n",
              "      <th>duration_ms</th>\n",
              "      <th>explicit</th>\n",
              "      <th>artists</th>\n",
              "      <th>id_artists</th>\n",
              "      <th>release_date</th>\n",
              "      <th>danceability</th>\n",
              "      <th>energy</th>\n",
              "      <th>key</th>\n",
              "      <th>loudness</th>\n",
              "      <th>mode</th>\n",
              "      <th>speechiness</th>\n",
              "      <th>acousticness</th>\n",
              "      <th>instrumentalness</th>\n",
              "      <th>liveness</th>\n",
              "      <th>valence</th>\n",
              "      <th>tempo</th>\n",
              "      <th>time_signature</th>\n",
              "    </tr>\n",
              "  </thead>\n",
              "  <tbody>\n",
              "    <tr>\n",
              "      <th>0</th>\n",
              "      <td>35iwgR4jXetI318WEWsa1Q</td>\n",
              "      <td>Carve</td>\n",
              "      <td>6</td>\n",
              "      <td>126903</td>\n",
              "      <td>0</td>\n",
              "      <td>['Uli']</td>\n",
              "      <td>['45tIt06XoI0Iio4LBEVpls']</td>\n",
              "      <td>1922-02-22</td>\n",
              "      <td>0.645</td>\n",
              "      <td>0.4450</td>\n",
              "      <td>0</td>\n",
              "      <td>-13.338</td>\n",
              "      <td>1</td>\n",
              "      <td>0.4510</td>\n",
              "      <td>0.674</td>\n",
              "      <td>0.7440</td>\n",
              "      <td>0.151</td>\n",
              "      <td>0.127</td>\n",
              "      <td>104.851</td>\n",
              "      <td>3.0</td>\n",
              "    </tr>\n",
              "    <tr>\n",
              "      <th>1</th>\n",
              "      <td>021ht4sdgPcrDgSk7JTbKY</td>\n",
              "      <td>Capítulo 2.16 - Banquero Anarquista</td>\n",
              "      <td>0</td>\n",
              "      <td>98200</td>\n",
              "      <td>0</td>\n",
              "      <td>['Fernando Pessoa']</td>\n",
              "      <td>['14jtPCOoNZwquk5wd9DxrY']</td>\n",
              "      <td>1922-06-01</td>\n",
              "      <td>0.695</td>\n",
              "      <td>0.2630</td>\n",
              "      <td>0</td>\n",
              "      <td>-22.136</td>\n",
              "      <td>1</td>\n",
              "      <td>0.9570</td>\n",
              "      <td>0.797</td>\n",
              "      <td>0.0000</td>\n",
              "      <td>0.148</td>\n",
              "      <td>0.655</td>\n",
              "      <td>102.009</td>\n",
              "      <td>1.0</td>\n",
              "    </tr>\n",
              "    <tr>\n",
              "      <th>2</th>\n",
              "      <td>07A5yehtSnoedViJAZkNnc</td>\n",
              "      <td>Vivo para Quererte - Remasterizado</td>\n",
              "      <td>0</td>\n",
              "      <td>181640</td>\n",
              "      <td>0</td>\n",
              "      <td>['Ignacio Corsini']</td>\n",
              "      <td>['5LiOoJbxVSAMkBS2fUm3X2']</td>\n",
              "      <td>1922-03-21</td>\n",
              "      <td>0.434</td>\n",
              "      <td>0.1770</td>\n",
              "      <td>1</td>\n",
              "      <td>-21.180</td>\n",
              "      <td>1</td>\n",
              "      <td>0.0512</td>\n",
              "      <td>0.994</td>\n",
              "      <td>0.0218</td>\n",
              "      <td>0.212</td>\n",
              "      <td>0.457</td>\n",
              "      <td>130.418</td>\n",
              "      <td>5.0</td>\n",
              "    </tr>\n",
              "    <tr>\n",
              "      <th>3</th>\n",
              "      <td>08FmqUhxtyLTn6pAh6bk45</td>\n",
              "      <td>El Prisionero - Remasterizado</td>\n",
              "      <td>0</td>\n",
              "      <td>176907</td>\n",
              "      <td>0</td>\n",
              "      <td>['Ignacio Corsini']</td>\n",
              "      <td>['5LiOoJbxVSAMkBS2fUm3X2']</td>\n",
              "      <td>1922-03-21</td>\n",
              "      <td>0.321</td>\n",
              "      <td>0.0946</td>\n",
              "      <td>7</td>\n",
              "      <td>-27.961</td>\n",
              "      <td>1</td>\n",
              "      <td>0.0504</td>\n",
              "      <td>0.995</td>\n",
              "      <td>0.9180</td>\n",
              "      <td>0.104</td>\n",
              "      <td>0.397</td>\n",
              "      <td>169.980</td>\n",
              "      <td>3.0</td>\n",
              "    </tr>\n",
              "    <tr>\n",
              "      <th>4</th>\n",
              "      <td>08y9GfoqCWfOGsKdwojr5e</td>\n",
              "      <td>Lady of the Evening</td>\n",
              "      <td>0</td>\n",
              "      <td>163080</td>\n",
              "      <td>0</td>\n",
              "      <td>['Dick Haymes']</td>\n",
              "      <td>['3BiJGZsyX9sJchTqcSA7Su']</td>\n",
              "      <td>1922</td>\n",
              "      <td>0.402</td>\n",
              "      <td>0.1580</td>\n",
              "      <td>3</td>\n",
              "      <td>-16.900</td>\n",
              "      <td>0</td>\n",
              "      <td>0.0390</td>\n",
              "      <td>0.989</td>\n",
              "      <td>0.1300</td>\n",
              "      <td>0.311</td>\n",
              "      <td>0.196</td>\n",
              "      <td>103.220</td>\n",
              "      <td>4.0</td>\n",
              "    </tr>\n",
              "  </tbody>\n",
              "</table>\n",
              "</div>\n",
              "      <button class=\"colab-df-convert\" onclick=\"convertToInteractive('df-8719bf86-7bca-43b9-8e9b-b7a2b6aa7cbe')\"\n",
              "              title=\"Convert this dataframe to an interactive table.\"\n",
              "              style=\"display:none;\">\n",
              "        \n",
              "  <svg xmlns=\"http://www.w3.org/2000/svg\" height=\"24px\"viewBox=\"0 0 24 24\"\n",
              "       width=\"24px\">\n",
              "    <path d=\"M0 0h24v24H0V0z\" fill=\"none\"/>\n",
              "    <path d=\"M18.56 5.44l.94 2.06.94-2.06 2.06-.94-2.06-.94-.94-2.06-.94 2.06-2.06.94zm-11 1L8.5 8.5l.94-2.06 2.06-.94-2.06-.94L8.5 2.5l-.94 2.06-2.06.94zm10 10l.94 2.06.94-2.06 2.06-.94-2.06-.94-.94-2.06-.94 2.06-2.06.94z\"/><path d=\"M17.41 7.96l-1.37-1.37c-.4-.4-.92-.59-1.43-.59-.52 0-1.04.2-1.43.59L10.3 9.45l-7.72 7.72c-.78.78-.78 2.05 0 2.83L4 21.41c.39.39.9.59 1.41.59.51 0 1.02-.2 1.41-.59l7.78-7.78 2.81-2.81c.8-.78.8-2.07 0-2.86zM5.41 20L4 18.59l7.72-7.72 1.47 1.35L5.41 20z\"/>\n",
              "  </svg>\n",
              "      </button>\n",
              "      \n",
              "  <style>\n",
              "    .colab-df-container {\n",
              "      display:flex;\n",
              "      flex-wrap:wrap;\n",
              "      gap: 12px;\n",
              "    }\n",
              "\n",
              "    .colab-df-convert {\n",
              "      background-color: #E8F0FE;\n",
              "      border: none;\n",
              "      border-radius: 50%;\n",
              "      cursor: pointer;\n",
              "      display: none;\n",
              "      fill: #1967D2;\n",
              "      height: 32px;\n",
              "      padding: 0 0 0 0;\n",
              "      width: 32px;\n",
              "    }\n",
              "\n",
              "    .colab-df-convert:hover {\n",
              "      background-color: #E2EBFA;\n",
              "      box-shadow: 0px 1px 2px rgba(60, 64, 67, 0.3), 0px 1px 3px 1px rgba(60, 64, 67, 0.15);\n",
              "      fill: #174EA6;\n",
              "    }\n",
              "\n",
              "    [theme=dark] .colab-df-convert {\n",
              "      background-color: #3B4455;\n",
              "      fill: #D2E3FC;\n",
              "    }\n",
              "\n",
              "    [theme=dark] .colab-df-convert:hover {\n",
              "      background-color: #434B5C;\n",
              "      box-shadow: 0px 1px 3px 1px rgba(0, 0, 0, 0.15);\n",
              "      filter: drop-shadow(0px 1px 2px rgba(0, 0, 0, 0.3));\n",
              "      fill: #FFFFFF;\n",
              "    }\n",
              "  </style>\n",
              "\n",
              "      <script>\n",
              "        const buttonEl =\n",
              "          document.querySelector('#df-8719bf86-7bca-43b9-8e9b-b7a2b6aa7cbe button.colab-df-convert');\n",
              "        buttonEl.style.display =\n",
              "          google.colab.kernel.accessAllowed ? 'block' : 'none';\n",
              "\n",
              "        async function convertToInteractive(key) {\n",
              "          const element = document.querySelector('#df-8719bf86-7bca-43b9-8e9b-b7a2b6aa7cbe');\n",
              "          const dataTable =\n",
              "            await google.colab.kernel.invokeFunction('convertToInteractive',\n",
              "                                                     [key], {});\n",
              "          if (!dataTable) return;\n",
              "\n",
              "          const docLinkHtml = 'Like what you see? Visit the ' +\n",
              "            '<a target=\"_blank\" href=https://colab.research.google.com/notebooks/data_table.ipynb>data table notebook</a>'\n",
              "            + ' to learn more about interactive tables.';\n",
              "          element.innerHTML = '';\n",
              "          dataTable['output_type'] = 'display_data';\n",
              "          await google.colab.output.renderOutput(dataTable, element);\n",
              "          const docLink = document.createElement('div');\n",
              "          docLink.innerHTML = docLinkHtml;\n",
              "          element.appendChild(docLink);\n",
              "        }\n",
              "      </script>\n",
              "    </div>\n",
              "  </div>\n",
              "  "
            ]
          },
          "metadata": {},
          "execution_count": 2
        }
      ],
      "source": [
        "df=pd.read_csv('tracks.csv')\n",
        "df.head()"
      ]
    },
    {
      "cell_type": "code",
      "execution_count": 3,
      "id": "6147527d",
      "metadata": {
        "colab": {
          "base_uri": "https://localhost:8080/"
        },
        "id": "6147527d",
        "outputId": "b277cf5d-b828-4798-857e-1f532ed7b51f"
      },
      "outputs": [
        {
          "output_type": "execute_result",
          "data": {
            "text/plain": [
              "array([ 6,  0,  1,  4, 41, 38, 30, 28, 27, 26, 25, 23, 22, 20, 18, 17, 16,\n",
              "       15, 14, 11, 10,  8,  9,  5,  7,  2, 39, 33, 32, 24, 21, 19, 13, 12,\n",
              "        3, 51, 48, 40, 34, 29, 47, 43, 37, 35, 31, 55, 50, 36, 42, 65, 53,\n",
              "       45, 49, 46, 44, 52, 56, 54, 61])"
            ]
          },
          "metadata": {},
          "execution_count": 3
        }
      ],
      "source": [
        "df['popularity'].unique()"
      ]
    },
    {
      "cell_type": "code",
      "execution_count": 4,
      "id": "0bf48313",
      "metadata": {
        "colab": {
          "base_uri": "https://localhost:8080/",
          "height": 364
        },
        "id": "0bf48313",
        "outputId": "15019fcd-aee2-46ff-cfd4-4f1778b7cb45"
      },
      "outputs": [
        {
          "output_type": "execute_result",
          "data": {
            "text/plain": [
              "         popularity   duration_ms      explicit  danceability        energy  \\\n",
              "count  19798.000000  1.979800e+04  19798.000000  19798.000000  19798.000000   \n",
              "mean       2.306193  2.043118e+05      0.002576      0.545826      0.270603   \n",
              "std        5.791890  1.475477e+05      0.050690      0.170170      0.163781   \n",
              "min        0.000000  3.344000e+03      0.000000      0.000000      0.000000   \n",
              "25%        0.000000  1.547848e+05      0.000000      0.419000      0.158000   \n",
              "50%        0.000000  1.810670e+05      0.000000      0.575000      0.242000   \n",
              "75%        1.000000  2.014368e+05      0.000000      0.687000      0.345000   \n",
              "max       65.000000  3.499774e+06      1.000000      0.957000      1.000000   \n",
              "\n",
              "                key      loudness          mode   speechiness  acousticness  \\\n",
              "count  19798.000000  19798.000000  19798.000000  19798.000000  19798.000000   \n",
              "mean       5.100111    -15.078783      0.712244      0.221591      0.871056   \n",
              "std        3.463034      5.436974      0.452728      0.323215      0.207554   \n",
              "min        0.000000    -60.000000      0.000000      0.000000      0.000000   \n",
              "25%        2.000000    -18.800000      0.000000      0.042600      0.855000   \n",
              "50%        5.000000    -14.451000      1.000000      0.061400      0.968000   \n",
              "75%        8.000000    -11.124250      1.000000      0.165000      0.991000   \n",
              "max       11.000000      3.855000      1.000000      0.969000      0.996000   \n",
              "\n",
              "       instrumentalness      liveness       valence         tempo  \\\n",
              "count      19798.000000  19798.000000  19798.000000  19798.000000   \n",
              "mean           0.309512      0.216351      0.557762    110.215214   \n",
              "std            0.381783      0.158502      0.249358     31.261457   \n",
              "min            0.000000      0.000000      0.000000      0.000000   \n",
              "25%            0.000004      0.112000      0.369000     84.921250   \n",
              "50%            0.028400      0.158000      0.587000    108.586000   \n",
              "75%            0.764750      0.274000      0.759000    127.525000   \n",
              "max            0.999000      0.986000      1.000000    221.741000   \n",
              "\n",
              "       time_signature  \n",
              "count    19797.000000  \n",
              "mean         3.749659  \n",
              "std          0.693375  \n",
              "min          0.000000  \n",
              "25%          4.000000  \n",
              "50%          4.000000  \n",
              "75%          4.000000  \n",
              "max          5.000000  "
            ],
            "text/html": [
              "\n",
              "  <div id=\"df-a88c9183-6a67-4daa-ab5b-4616e8e6b5e6\">\n",
              "    <div class=\"colab-df-container\">\n",
              "      <div>\n",
              "<style scoped>\n",
              "    .dataframe tbody tr th:only-of-type {\n",
              "        vertical-align: middle;\n",
              "    }\n",
              "\n",
              "    .dataframe tbody tr th {\n",
              "        vertical-align: top;\n",
              "    }\n",
              "\n",
              "    .dataframe thead th {\n",
              "        text-align: right;\n",
              "    }\n",
              "</style>\n",
              "<table border=\"1\" class=\"dataframe\">\n",
              "  <thead>\n",
              "    <tr style=\"text-align: right;\">\n",
              "      <th></th>\n",
              "      <th>popularity</th>\n",
              "      <th>duration_ms</th>\n",
              "      <th>explicit</th>\n",
              "      <th>danceability</th>\n",
              "      <th>energy</th>\n",
              "      <th>key</th>\n",
              "      <th>loudness</th>\n",
              "      <th>mode</th>\n",
              "      <th>speechiness</th>\n",
              "      <th>acousticness</th>\n",
              "      <th>instrumentalness</th>\n",
              "      <th>liveness</th>\n",
              "      <th>valence</th>\n",
              "      <th>tempo</th>\n",
              "      <th>time_signature</th>\n",
              "    </tr>\n",
              "  </thead>\n",
              "  <tbody>\n",
              "    <tr>\n",
              "      <th>count</th>\n",
              "      <td>19798.000000</td>\n",
              "      <td>1.979800e+04</td>\n",
              "      <td>19798.000000</td>\n",
              "      <td>19798.000000</td>\n",
              "      <td>19798.000000</td>\n",
              "      <td>19798.000000</td>\n",
              "      <td>19798.000000</td>\n",
              "      <td>19798.000000</td>\n",
              "      <td>19798.000000</td>\n",
              "      <td>19798.000000</td>\n",
              "      <td>19798.000000</td>\n",
              "      <td>19798.000000</td>\n",
              "      <td>19798.000000</td>\n",
              "      <td>19798.000000</td>\n",
              "      <td>19797.000000</td>\n",
              "    </tr>\n",
              "    <tr>\n",
              "      <th>mean</th>\n",
              "      <td>2.306193</td>\n",
              "      <td>2.043118e+05</td>\n",
              "      <td>0.002576</td>\n",
              "      <td>0.545826</td>\n",
              "      <td>0.270603</td>\n",
              "      <td>5.100111</td>\n",
              "      <td>-15.078783</td>\n",
              "      <td>0.712244</td>\n",
              "      <td>0.221591</td>\n",
              "      <td>0.871056</td>\n",
              "      <td>0.309512</td>\n",
              "      <td>0.216351</td>\n",
              "      <td>0.557762</td>\n",
              "      <td>110.215214</td>\n",
              "      <td>3.749659</td>\n",
              "    </tr>\n",
              "    <tr>\n",
              "      <th>std</th>\n",
              "      <td>5.791890</td>\n",
              "      <td>1.475477e+05</td>\n",
              "      <td>0.050690</td>\n",
              "      <td>0.170170</td>\n",
              "      <td>0.163781</td>\n",
              "      <td>3.463034</td>\n",
              "      <td>5.436974</td>\n",
              "      <td>0.452728</td>\n",
              "      <td>0.323215</td>\n",
              "      <td>0.207554</td>\n",
              "      <td>0.381783</td>\n",
              "      <td>0.158502</td>\n",
              "      <td>0.249358</td>\n",
              "      <td>31.261457</td>\n",
              "      <td>0.693375</td>\n",
              "    </tr>\n",
              "    <tr>\n",
              "      <th>min</th>\n",
              "      <td>0.000000</td>\n",
              "      <td>3.344000e+03</td>\n",
              "      <td>0.000000</td>\n",
              "      <td>0.000000</td>\n",
              "      <td>0.000000</td>\n",
              "      <td>0.000000</td>\n",
              "      <td>-60.000000</td>\n",
              "      <td>0.000000</td>\n",
              "      <td>0.000000</td>\n",
              "      <td>0.000000</td>\n",
              "      <td>0.000000</td>\n",
              "      <td>0.000000</td>\n",
              "      <td>0.000000</td>\n",
              "      <td>0.000000</td>\n",
              "      <td>0.000000</td>\n",
              "    </tr>\n",
              "    <tr>\n",
              "      <th>25%</th>\n",
              "      <td>0.000000</td>\n",
              "      <td>1.547848e+05</td>\n",
              "      <td>0.000000</td>\n",
              "      <td>0.419000</td>\n",
              "      <td>0.158000</td>\n",
              "      <td>2.000000</td>\n",
              "      <td>-18.800000</td>\n",
              "      <td>0.000000</td>\n",
              "      <td>0.042600</td>\n",
              "      <td>0.855000</td>\n",
              "      <td>0.000004</td>\n",
              "      <td>0.112000</td>\n",
              "      <td>0.369000</td>\n",
              "      <td>84.921250</td>\n",
              "      <td>4.000000</td>\n",
              "    </tr>\n",
              "    <tr>\n",
              "      <th>50%</th>\n",
              "      <td>0.000000</td>\n",
              "      <td>1.810670e+05</td>\n",
              "      <td>0.000000</td>\n",
              "      <td>0.575000</td>\n",
              "      <td>0.242000</td>\n",
              "      <td>5.000000</td>\n",
              "      <td>-14.451000</td>\n",
              "      <td>1.000000</td>\n",
              "      <td>0.061400</td>\n",
              "      <td>0.968000</td>\n",
              "      <td>0.028400</td>\n",
              "      <td>0.158000</td>\n",
              "      <td>0.587000</td>\n",
              "      <td>108.586000</td>\n",
              "      <td>4.000000</td>\n",
              "    </tr>\n",
              "    <tr>\n",
              "      <th>75%</th>\n",
              "      <td>1.000000</td>\n",
              "      <td>2.014368e+05</td>\n",
              "      <td>0.000000</td>\n",
              "      <td>0.687000</td>\n",
              "      <td>0.345000</td>\n",
              "      <td>8.000000</td>\n",
              "      <td>-11.124250</td>\n",
              "      <td>1.000000</td>\n",
              "      <td>0.165000</td>\n",
              "      <td>0.991000</td>\n",
              "      <td>0.764750</td>\n",
              "      <td>0.274000</td>\n",
              "      <td>0.759000</td>\n",
              "      <td>127.525000</td>\n",
              "      <td>4.000000</td>\n",
              "    </tr>\n",
              "    <tr>\n",
              "      <th>max</th>\n",
              "      <td>65.000000</td>\n",
              "      <td>3.499774e+06</td>\n",
              "      <td>1.000000</td>\n",
              "      <td>0.957000</td>\n",
              "      <td>1.000000</td>\n",
              "      <td>11.000000</td>\n",
              "      <td>3.855000</td>\n",
              "      <td>1.000000</td>\n",
              "      <td>0.969000</td>\n",
              "      <td>0.996000</td>\n",
              "      <td>0.999000</td>\n",
              "      <td>0.986000</td>\n",
              "      <td>1.000000</td>\n",
              "      <td>221.741000</td>\n",
              "      <td>5.000000</td>\n",
              "    </tr>\n",
              "  </tbody>\n",
              "</table>\n",
              "</div>\n",
              "      <button class=\"colab-df-convert\" onclick=\"convertToInteractive('df-a88c9183-6a67-4daa-ab5b-4616e8e6b5e6')\"\n",
              "              title=\"Convert this dataframe to an interactive table.\"\n",
              "              style=\"display:none;\">\n",
              "        \n",
              "  <svg xmlns=\"http://www.w3.org/2000/svg\" height=\"24px\"viewBox=\"0 0 24 24\"\n",
              "       width=\"24px\">\n",
              "    <path d=\"M0 0h24v24H0V0z\" fill=\"none\"/>\n",
              "    <path d=\"M18.56 5.44l.94 2.06.94-2.06 2.06-.94-2.06-.94-.94-2.06-.94 2.06-2.06.94zm-11 1L8.5 8.5l.94-2.06 2.06-.94-2.06-.94L8.5 2.5l-.94 2.06-2.06.94zm10 10l.94 2.06.94-2.06 2.06-.94-2.06-.94-.94-2.06-.94 2.06-2.06.94z\"/><path d=\"M17.41 7.96l-1.37-1.37c-.4-.4-.92-.59-1.43-.59-.52 0-1.04.2-1.43.59L10.3 9.45l-7.72 7.72c-.78.78-.78 2.05 0 2.83L4 21.41c.39.39.9.59 1.41.59.51 0 1.02-.2 1.41-.59l7.78-7.78 2.81-2.81c.8-.78.8-2.07 0-2.86zM5.41 20L4 18.59l7.72-7.72 1.47 1.35L5.41 20z\"/>\n",
              "  </svg>\n",
              "      </button>\n",
              "      \n",
              "  <style>\n",
              "    .colab-df-container {\n",
              "      display:flex;\n",
              "      flex-wrap:wrap;\n",
              "      gap: 12px;\n",
              "    }\n",
              "\n",
              "    .colab-df-convert {\n",
              "      background-color: #E8F0FE;\n",
              "      border: none;\n",
              "      border-radius: 50%;\n",
              "      cursor: pointer;\n",
              "      display: none;\n",
              "      fill: #1967D2;\n",
              "      height: 32px;\n",
              "      padding: 0 0 0 0;\n",
              "      width: 32px;\n",
              "    }\n",
              "\n",
              "    .colab-df-convert:hover {\n",
              "      background-color: #E2EBFA;\n",
              "      box-shadow: 0px 1px 2px rgba(60, 64, 67, 0.3), 0px 1px 3px 1px rgba(60, 64, 67, 0.15);\n",
              "      fill: #174EA6;\n",
              "    }\n",
              "\n",
              "    [theme=dark] .colab-df-convert {\n",
              "      background-color: #3B4455;\n",
              "      fill: #D2E3FC;\n",
              "    }\n",
              "\n",
              "    [theme=dark] .colab-df-convert:hover {\n",
              "      background-color: #434B5C;\n",
              "      box-shadow: 0px 1px 3px 1px rgba(0, 0, 0, 0.15);\n",
              "      filter: drop-shadow(0px 1px 2px rgba(0, 0, 0, 0.3));\n",
              "      fill: #FFFFFF;\n",
              "    }\n",
              "  </style>\n",
              "\n",
              "      <script>\n",
              "        const buttonEl =\n",
              "          document.querySelector('#df-a88c9183-6a67-4daa-ab5b-4616e8e6b5e6 button.colab-df-convert');\n",
              "        buttonEl.style.display =\n",
              "          google.colab.kernel.accessAllowed ? 'block' : 'none';\n",
              "\n",
              "        async function convertToInteractive(key) {\n",
              "          const element = document.querySelector('#df-a88c9183-6a67-4daa-ab5b-4616e8e6b5e6');\n",
              "          const dataTable =\n",
              "            await google.colab.kernel.invokeFunction('convertToInteractive',\n",
              "                                                     [key], {});\n",
              "          if (!dataTable) return;\n",
              "\n",
              "          const docLinkHtml = 'Like what you see? Visit the ' +\n",
              "            '<a target=\"_blank\" href=https://colab.research.google.com/notebooks/data_table.ipynb>data table notebook</a>'\n",
              "            + ' to learn more about interactive tables.';\n",
              "          element.innerHTML = '';\n",
              "          dataTable['output_type'] = 'display_data';\n",
              "          await google.colab.output.renderOutput(dataTable, element);\n",
              "          const docLink = document.createElement('div');\n",
              "          docLink.innerHTML = docLinkHtml;\n",
              "          element.appendChild(docLink);\n",
              "        }\n",
              "      </script>\n",
              "    </div>\n",
              "  </div>\n",
              "  "
            ]
          },
          "metadata": {},
          "execution_count": 4
        }
      ],
      "source": [
        "df.describe()"
      ]
    },
    {
      "cell_type": "markdown",
      "id": "0c7fbf1f",
      "metadata": {
        "id": "0c7fbf1f"
      },
      "source": [
        "Identifying the features that contribute to the classification output label"
      ]
    },
    {
      "cell_type": "code",
      "execution_count": 5,
      "id": "18688d66",
      "metadata": {
        "colab": {
          "base_uri": "https://localhost:8080/",
          "height": 358
        },
        "id": "18688d66",
        "outputId": "dbd13368-4e4c-44e4-a417-1ce7ee0808e5"
      },
      "outputs": [
        {
          "output_type": "display_data",
          "data": {
            "text/plain": [
              "<Figure size 432x288 with 2 Axes>"
            ],
            "image/png": "[encoded data removed]"
          },
          "metadata": {
            "needs_background": "light"
          }
        }
      ],
      "source": [
        "corr = df[['danceability', \n",
        "                  'energy', \n",
        "                  'loudness', \n",
        "                  'speechiness', \n",
        "                  'acousticness', \n",
        "                  'instrumentalness', \n",
        "                  'liveness',\n",
        "                  'valence', \n",
        "                  'tempo' ]].corr()\n",
        "# plt.figsize(14,12)\n",
        "plt.title('Correlation between the audio features')\n",
        "sns.heatmap(corr, annot=True);"
      ]
    },
    {
      "cell_type": "markdown",
      "id": "fbcba941",
      "metadata": {
        "id": "fbcba941"
      },
      "source": [
        "The latest songs are having high popularity when compared to old songs"
      ]
    },
    {
      "cell_type": "code",
      "execution_count": 6,
      "id": "1feab3ff",
      "metadata": {
        "scrolled": false,
        "colab": {
          "base_uri": "https://localhost:8080/",
          "height": 542
        },
        "id": "1feab3ff",
        "outputId": "0bedf507-6b81-49c6-d0e1-158bc267ca4e"
      },
      "outputs": [
        {
          "output_type": "display_data",
          "data": {
            "text/html": [
              "<html>\n",
              "<head><meta charset=\"utf-8\" /></head>\n",
              "<body>\n",
              "    <div>            <script src=\"https://cdnjs.cloudflare.com/ajax/libs/mathjax/2.7.5/MathJax.js?config=TeX-AMS-MML_SVG\"></script><script type=\"text/javascript\">if (window.MathJax) {MathJax.Hub.Config({SVG: {font: \"STIX-Web\"}});}</script>                <script type=\"text/javascript\">window.PlotlyConfig = {MathJaxConfig: 'local'};</script>\n",
              "        <script src=\"https://cdn.plot.ly/plotly-2.8.3.min.js\"></script>                <div id=\"fb208197-f4c2-42b8-93d4-4ea463487cc0\" class=\"plotly-graph-div\" style=\"height:525px; width:100%;\"></div>            <script type=\"text/javascript\">                                    window.PLOTLYENV=window.PLOTLYENV || {};                                    if (document.getElementById(\"fb208197-f4c2-42b8-93d4-4ea463487cc0\")) {                    Plotly.newPlot(                        \"fb208197-f4c2-42b8-93d4-4ea463487cc0\",                        [{\"hovertemplate\":\"release_date=%{x}<br>popularity=%{y}<extra></extra>\",\"legendgroup\":\"\",\"marker\":{\"color\":\"#636efa\",\"symbol\":\"circle\"},\"mode\":\"markers\",\"name\":\"\",\"showlegend\":false,\"x\":[\"1922-02-22\",\"1922-06-01\",\"1922-03-21\",\"1922-03-21\",\"1922\",\"1922\",\"1922\",\"1922\",\"1922\",\"1922-03-29\",\"1922-06-01\",\"1922-06-01\",\"1922-02-22\",\"1922\",\"1922\",\"1922-06-01\",\"1922-06-01\",\"1922-06-01\",\"1922\",\"1922-03-21\",\"1922\",\"1922-06-01\",\"1922-03-29\",\"1922-06-01\",\"1922-06-01\",\"1922\",\"1922\",\"1922-03-29\",\"1922\",\"1922-01-06\",\"1922\",\"1922-03-29\",\"1922\",\"1922-03-29\",\"1922-03-21\",\"1922-06-01\",\"1922\",\"1922\",\"1922-03-21\",\"1922\",\"1922-06-01\",\"1922-03-29\",\"1922\",\"1922\",\"1922-06-01\",\"1922\",\"1922\",\"1922\",\"1922-06-01\",\"1922-06-01\",\"1922-06-01\",\"1922\",\"1922-03-29\",\"1922-03-29\",\"1922-01-06\",\"1922-03-21\",\"1922\",\"1922-03-21\",\"1922-06-01\",\"1922\",\"1922-03-21\",\"1922-06-01\",\"1922-02-22\",\"1922-03-21\",\"1922-06-01\",\"1922-03-29\",\"1922-01-06\",\"1922-06-01\",\"1922-01-06\",\"1922-06-01\",\"1922-06-01\",\"1922-06-01\",\"1922-06-01\",\"1922\",\"1922-06-01\",\"1922-06-01\",\"1922-06-01\",\"1922-03-21\",\"1922-03-21\",\"1922\",\"1922-03-21\",\"1922\",\"1922-06-01\",\"1922-06-01\",\"1922\",\"1922\",\"1922-06-01\",\"1922-06-01\",\"1922-06-01\",\"1922\",\"1922-03-29\",\"1922-03-21\",\"1922-06-01\",\"1922\",\"1922-01-06\",\"1922\",\"1922\",\"1922-06-01\",\"1922-03-21\",\"1922-01-06\",\"1922\",\"1922\",\"1922\",\"1922-06-01\",\"1922-03-29\",\"1922-03-21\",\"1922-02-22\",\"1922-03-29\",\"1922\",\"1922-06-01\",\"1922-06-01\",\"1922-03-29\",\"1922-02-22\",\"1922-06-01\",\"1922-06-01\",\"1922\",\"1922-03-29\",\"1922\",\"1922-06-01\",\"1922-06-01\",\"1922-06-01\",\"1922-03-29\",\"1922\",\"1922-03-29\",\"1922-01-06\",\"1922-03-21\",\"1922-03-21\",\"1922\",\"1922-03-29\",\"1922-03-29\",\"1922\",\"1922-02-22\",\"1922-06-01\",\"1922-03-29\",\"1922\",\"1922-03-29\",\"1922-03-21\",\"1922-06-01\",\"1922-06-01\",\"1922-06-01\",\"1922-06-01\",\"1922-06-01\",\"1922-06-01\",\"1922-03-21\",\"1922\",\"1922-06-01\",\"1922\",\"1922-06-01\",\"1922\",\"1923\",\"1923\",\"1923\",\"1923\",\"1923\",\"1923\",\"1923\",\"1923\",\"1923\",\"1923\",\"1923\",\"1923\",\"1923\",\"1923\",\"1923\",\"1923\",\"1923\",\"1923\",\"1923\",\"1923\",\"1923\",\"1923\",\"1923\",\"1923\",\"1923\",\"1923\",\"1923\",\"1923\",\"1923\",\"1923\",\"1923\",\"1923\",\"1923\",\"1923\",\"1923\",\"1923\",\"1923\",\"1923\",\"1923\",\"1923\",\"1923\",\"1923\",\"1923\",\"1923\",\"1923\",\"1923\",\"1923\",\"1923\",\"1923\",\"1923\",\"1923\",\"1923\",\"1923\",\"1923\",\"1923\",\"1923\",\"1923\",\"1923\",\"1923\",\"1923\",\"1923\",\"1923\",\"1923\",\"1923\",\"1923\",\"1923\",\"1923\",\"1923\",\"1923\",\"1923\",\"1923\",\"1923\",\"1923\",\"1923\",\"1923\",\"1923\",\"1923\",\"1923\",\"1923\",\"1923\",\"1923\",\"1923\",\"1923\",\"1923\",\"1923\",\"1923\",\"1923\",\"1923\",\"1923-12-27\",\"1923-12-27\",\"1923-12-27\",\"1923-12-27\",\"1923-12-27\",\"1923-12-27\",\"1923-12-27\",\"1923-12-27\",\"1923-12-27\",\"1923-07-09\",\"1923-12-27\",\"1923-12-27\",\"1923-12-27\",\"1923-12-27\",\"1923\",\"1923-03-29\",\"1923-12-27\",\"1923-12-27\",\"1923-12-27\",\"1923-12-27\",\"1923-12-27\",\"1923-12-27\",\"1923-12-27\",\"1923-12-27\",\"1923-12-27\",\"1923\",\"1923-12-27\",\"1923-12-27\",\"1923-12-27\",\"1923-12-27\",\"1923-12-27\",\"1923-12-27\",\"1923-12-27\",\"1923-12-27\",\"1923\",\"1923-12-27\",\"1923-12-27\",\"1923\",\"1923-12-27\",\"1923-12-27\",\"1923-12-27\",\"1923-12-27\",\"1923-03-29\",\"1923\",\"1923-12-27\",\"1923-12-27\",\"1923-12-27\",\"1923-12-27\",\"1923-12-27\",\"1923\",\"1923-03-29\",\"1923-12-27\",\"1923-12-27\",\"1923-12-27\",\"1923-12-27\",\"1923-12-27\",\"1923-12-27\",\"1923\",\"1923-12-27\",\"1923-12-27\",\"1923-12-27\",\"1923-12-27\",\"1923-12-27\",\"1923\",\"1923-12-27\",\"1923-12-27\",\"1923-12-27\",\"1923-12-27\",\"1923\",\"1923-12-27\",\"1923\",\"1923-12-27\",\"1923-12-27\",\"1923-12-27\",\"1923-12-27\",\"1923\",\"1923-12-18\",\"1923-12-27\",\"1923-12-27\",\"1923-12-27\",\"1923-12-27\",\"1923-12-27\",\"1923-12-27\",\"1923-12-27\",\"1923-12-27\",\"1923-12-27\",\"1923-07-09\",\"1923-12-27\",\"1923-12-27\",\"1923-12-27\",\"1923\",\"1923-12-27\",\"1923-12-27\",\"1923-01-04\",\"1923-03-01\",\"1923-12-27\",\"1923-12-27\",\"1923-12-27\",\"1923\",\"1923-12-27\",\"1923-12-27\",\"1923-12-27\",\"1923-12-27\",\"1923-12-27\",\"1923-12-18\",\"1923-12-27\",\"1923-12-27\",\"1923-12-27\",\"1923-12-27\",\"1923-12-27\",\"1923-07-09\",\"1923-12-27\",\"1923-12-27\",\"1923-12-27\",\"1923-12-27\",\"1923-12-27\",\"1923-12-27\",\"1923-07-09\",\"1923-03-29\",\"1923-12-27\",\"1923-12-27\",\"1923-07-09\",\"1923-12-27\",\"1923-12-27\",\"1923-12-27\",\"1923-12-27\",\"1923-12-27\",\"1923\",\"1923-07-09\",\"1923-12-27\",\"1923-03-29\",\"1923-12-27\",\"1923-12-27\",\"1923-12-27\",\"1923\",\"1923-12-27\",\"1923-12-27\",\"1923-12-27\",\"1923-12-27\",\"1923-12-27\",\"1923-12-27\",\"1923-12-27\",\"1923-12-27\",\"1923-12-27\",\"1923-12-27\",\"1923-12-27\",\"1923-12-27\",\"1923-12-27\",\"1923-12-27\",\"1923-12-27\",\"1923-12-27\",\"1923-12-27\",\"1923-07-09\",\"1923-12-27\",\"1923-12-27\",\"1923-12-27\",\"1923-12-27\",\"1923-12-27\",\"1923\",\"1923-03-29\",\"1923-12-27\",\"1923-03-29\",\"1923\",\"1923-12-27\",\"1923-12-27\",\"1923-12-27\",\"1923-02-26\",\"1923-12-27\",\"1923-12-27\",\"1923-12-27\",\"1923-12-27\",\"1923\",\"1923-12-27\",\"1923-03-29\",\"1923-12-27\",\"1923-12-27\",\"1923-12-27\",\"1923-12-27\",\"1923-12-27\",\"1923-03-29\",\"1923\",\"1923-12-27\",\"1923-12-27\",\"1923-12-27\",\"1923-12-27\",\"1923-12-27\",\"1923-12-27\",\"1923\",\"1923-07-09\",\"1923-12-27\",\"1923-12-27\",\"1923-12-27\",\"1923-12-27\",\"1923-12-27\",\"1923-12-27\",\"1923-12-27\",\"1923\",\"1923-12-27\",\"1923-12-27\",\"1923-12-27\",\"1923-12-27\",\"1923-03-29\",\"1923-12-27\",\"1923-12-27\",\"1923-12-27\",\"1923-12-27\",\"1923-12-27\",\"1923-12-27\",\"1923-12-27\",\"1923-12-27\",\"1923-12-27\",\"1923-12-27\",\"1923-12-27\",\"1923-07-09\",\"1923-12-27\",\"1923-07-09\",\"1923-12-27\",\"1923-12-27\",\"1923\",\"1923-12-27\",\"1923-12-27\",\"1923-12-27\",\"1923-12-27\",\"1923\",\"1923\",\"1923-12-27\",\"1923-12-27\",\"1923-12-27\",\"1923-12-27\",\"1923-12-27\",\"1923-12-27\",\"1923-12-27\",\"1923\",\"1923-12-27\",\"1923-12-27\",\"1923\",\"1923-12-27\",\"1923-12-27\",\"1923-12-27\",\"1923-12-27\",\"1923-12-27\",\"1923-12-27\",\"1923\",\"1923-12-27\",\"1923-12-27\",\"1923-12-27\",\"1923-12-27\",\"1923-12-27\",\"1923-12-27\",\"1923-12-27\",\"1923-12-27\",\"1923-12-27\",\"1923\",\"1923-12-27\",\"1923\",\"1923-12-27\",\"1923-12-27\",\"1923-12-27\",\"1923-12-27\",\"1923-12-27\",\"1923-12-27\",\"1923-12-27\",\"1923-12-27\",\"1923-12-27\",\"1923-12-27\",\"1923-12-27\",\"1923-07-09\",\"1923-12-27\",\"1923-12-27\",\"1923-12-27\",\"1923-12-27\",\"1923-12-27\",\"1923-12-27\",\"1923-03-29\",\"1923\",\"1923-12-27\",\"1923-12-27\",\"1923-12-27\",\"1923-12-27\",\"1923-12-27\",\"1923-12-27\",\"1923-12-27\",\"1923-12-27\",\"1923-12-27\",\"1923-03-29\",\"1923-12-27\",\"1923-12-27\",\"1923-12-27\",\"1923-12-27\",\"1923-12-27\",\"1923\",\"1923-12-27\",\"1923-12-27\",\"1923-12-27\",\"1923\",\"1923-12-27\",\"1923-03-29\",\"1923-12-27\",\"1923-12-27\",\"1923-12-27\",\"1923\",\"1923-12-27\",\"1923\",\"1923-12-27\",\"1923-12-27\",\"1923-12-27\",\"1923-12-27\",\"1923-12-27\",\"1923\",\"1923-07-09\",\"1923-12-27\",\"1923-12-27\",\"1923-03-29\",\"1923\",\"1923\",\"1923\",\"1923-07-09\",\"1923-07-09\",\"1923\",\"1923-12-27\",\"1923\",\"1923-12-27\",\"1923-12-27\",\"1923-12-27\",\"1923-12-27\",\"1923-12-27\",\"1923-03-29\",\"1923-12-27\",\"1923-12-27\",\"1923-12-27\",\"1923-12-27\",\"1923-07-09\",\"1923-03-25\",\"1923-12-27\",\"1923-12-27\",\"1923-12-27\",\"1923-12-27\",\"1923-12-27\",\"1923-12-27\",\"1923-12-27\",\"1923\",\"1923-12-27\",\"1923-12-27\",\"1923-12-27\",\"1923-12-27\",\"1923-12-27\",\"1923-12-27\",\"1923-03-29\",\"1923-12-27\",\"1923-12-27\",\"1923-12-27\",\"1923-12-27\",\"1923-12-27\",\"1923-12-27\",\"1923-12-27\",\"1923-12-27\",\"1923-12-27\",\"1923\",\"1923-12-27\",\"1923-12-27\",\"1923-12-27\",\"1923-07-09\",\"1923-12-27\",\"1923-12-27\",\"1923-12-27\",\"1923-07-09\",\"1923-12-27\",\"1923-12-27\",\"1923-12-27\",\"1923-01-12\",\"1923-12-27\",\"1923-12-27\",\"1923-02-06\",\"1923-12-27\",\"1923-12-27\",\"1923-12-27\",\"1923-12-27\",\"1923-12-27\",\"1923-12-27\",\"1923-12-27\",\"1923\",\"1923-12-27\",\"1923-12-27\",\"1923-03-29\",\"1923\",\"1923\",\"1923\",\"1923-12-27\",\"1923-12-27\",\"1923-12-27\",\"1923-12-27\",\"1923-07-09\",\"1923-12-27\",\"1923-12-27\",\"1923-12-27\",\"1923-12-27\",\"1923-12-27\",\"1923-12-27\",\"1923-12-27\",\"1923\",\"1923-12-27\",\"1923-12-27\",\"1923-12-27\",\"1923-12-27\",\"1923-12-27\",\"1923-12-27\",\"1923\",\"1923-12-27\",\"1923-12-27\",\"1923-12-27\",\"1923-12-27\",\"1923-12-27\",\"1923-12-27\",\"1923-12-27\",\"1923-12-27\",\"1923\",\"1923-12-27\",\"1923\",\"1923-12-27\",\"1923\",\"1923-12-27\",\"1923-12-27\",\"1923-12-27\",\"1923-12-27\",\"1923-12-27\",\"1923-12-27\",\"1923-12-27\",\"1923-12-27\",\"1923-12-27\",\"1923-12-27\",\"1923-07-09\",\"1923-03-29\",\"1923-03-29\",\"1923-12-27\",\"1923-01-12\",\"1923-12-27\",\"1923-12-27\",\"1923-07-09\",\"1923\",\"1923\",\"1923-12-27\",\"1923-12-27\",\"1923-12-27\",\"1923-12-27\",\"1923-12-27\",\"1923-12-27\",\"1923-12-27\",\"1923\",\"1923-12-27\",\"1923-12-27\",\"1923-12-27\",\"1923-12-27\",\"1923-12-27\",\"1923-12-27\",\"1923\",\"1923-12-27\",\"1923\",\"1923-12-27\",\"1923-12-27\",\"1924-03-29\",\"1924-03-29\",\"1924-07-11\",\"1924\",\"1924\",\"1924-01-12\",\"1924\",\"1924-07-12\",\"1924-01-01\",\"1924\",\"1924\",\"1924-07-11\",\"1924\",\"1924\",\"1924-07-11\",\"1924\",\"1924-08-31\",\"1924-07-12\",\"1924-07-11\",\"1924-03-29\",\"1924\",\"1924\",\"1924\",\"1924-03-29\",\"1924-07-11\",\"1924\",\"1924\",\"1924-07-11\",\"1924\",\"1924\",\"1924-07-11\",\"1924\",\"1924\",\"1924\",\"1924\",\"1924\",\"1924\",\"1924\",\"1924-07-12\",\"1924-01-12\",\"1924\",\"1924\",\"1924\",\"1924\",\"1924\",\"1924-07-12\",\"1924\",\"1924-07-11\",\"1924\",\"1924\",\"1924\",\"1924-12-18\",\"1924-07-12\",\"1924\",\"1924\",\"1924\",\"1924-07-12\",\"1924\",\"1924-07-12\",\"1924\",\"1924-01-01\",\"1924\",\"1924\",\"1924-03-29\",\"1924\",\"1924\",\"1924-07-12\",\"1924\",\"1924\",\"1924\",\"1924\",\"1924\",\"1924-01-12\",\"1924\",\"1924-07-11\",\"1924\",\"1924\",\"1924-07-11\",\"1924\",\"1924-01-01\",\"1924\",\"1924\",\"1924\",\"1924-07-12\",\"1924-07-12\",\"1924-07-11\",\"1924\",\"1924\",\"1924\",\"1924\",\"1924\",\"1924-07-12\",\"1924\",\"1924\",\"1924\",\"1924-01-01\",\"1924\",\"1924-07-11\",\"1924\",\"1924-07-12\",\"1924-07-12\",\"1924\",\"1924-07-12\",\"1924\",\"1924-07-11\",\"1924-07-11\",\"1924\",\"1924\",\"1924\",\"1924-07-11\",\"1924-07-11\",\"1924-01-01\",\"1924-01-01\",\"1924\",\"1924\",\"1924\",\"1924-01-12\",\"1924\",\"1924\",\"1924-01-01\",\"1924\",\"1924-03-29\",\"1924\",\"1924\",\"1924-03-29\",\"1924\",\"1924\",\"1924-07-12\",\"1924\",\"1924-07-12\",\"1924\",\"1924-07-11\",\"1924\",\"1924\",\"1924\",\"1924\",\"1924-07-12\",\"1924\",\"1924\",\"1924\",\"1924-07-11\",\"1924-07-11\",\"1924-03-29\",\"1924\",\"1924\",\"1924\",\"1924-07-12\",\"1924\",\"1924-07-11\",\"1924\",\"1924\",\"1924\",\"1924\",\"1924-07-11\",\"1924\",\"1924-07-12\",\"1924\",\"1924\",\"1924\",\"1924\",\"1924\",\"1924\",\"1924\",\"1924\",\"1924\",\"1924-12-31\",\"1924\",\"1924\",\"1924-07-12\",\"1924\",\"1924\",\"1924-01-01\",\"1924\",\"1924\",\"1924\",\"1924-07-12\",\"1924\",\"1924-07-11\",\"1924\",\"1924\",\"1924\",\"1924\",\"1924\",\"1924\",\"1924-03-29\",\"1924\",\"1924\",\"1924-12-27\",\"1924-07-11\",\"1924\",\"1924\",\"1924\",\"1924\",\"1924\",\"1924\",\"1924\",\"1924\",\"1924-01-01\",\"1924\",\"1924\",\"1924\",\"1924\",\"1924\",\"1924\",\"1924-03-29\",\"1924\",\"1924\",\"1924-07-11\",\"1924\",\"1924-03-29\",\"1924\",\"1924-01-01\",\"1924\",\"1924\",\"1924\",\"1924\",\"1924\",\"1924\",\"1924-07-12\",\"1924\",\"1924\",\"1924\",\"1924-03-29\",\"1924-07-11\",\"1924\",\"1924\",\"1924-07-11\",\"1924-01-01\",\"1924\",\"1924\",\"1924\",\"1924\",\"1924\",\"1924\",\"1924\",\"1924\",\"1924-07-12\",\"1924\",\"1924\",\"1924-01-01\",\"1924\",\"1924\",\"1924\",\"1924\",\"1924\",\"1924\",\"1924\",\"1924\",\"1924-07-11\",\"1924-03-29\",\"1924\",\"1924\",\"1924\",\"1924\",\"1924\",\"1924\",\"1924\",\"1924\",\"1924-07-11\",\"1924\",\"1924\",\"1924-01-01\",\"1924\",\"1924\",\"1924\",\"1924-01-01\",\"1924\",\"1924-07-11\",\"1924\",\"1924-07-12\",\"1924-01-01\",\"1924\",\"1924\",\"1924-07-12\",\"1924\",\"1924\",\"1924-03-29\",\"1924-03-29\",\"1924-07-12\",\"1924-07-12\",\"1924-12-31\",\"1924-07-11\",\"1924-07-12\",\"1924\",\"1924\",\"1924\",\"1924-03-29\",\"1924\",\"1924\",\"1924-12-27\",\"1924\",\"1924\",\"1924\",\"1924\",\"1924\",\"1924-01-12\",\"1924-01-01\",\"1924\",\"1924-12-27\",\"1924\",\"1924-07-12\",\"1924\",\"1924\",\"1924\",\"1924\",\"1924\",\"1924\",\"1924-01-01\",\"1924\",\"1924-07-12\",\"1924\",\"1924\",\"1924-01-01\",\"1924-07-11\",\"1924\",\"1924\",\"1924\",\"1924-07-12\",\"1924\",\"1924\",\"1924\",\"1924\",\"1924-07-11\",\"1924\",\"1924\",\"1924-01-01\",\"1924\",\"1924\",\"1924-01-01\",\"1924\",\"1924\",\"1924\",\"1924-07-12\",\"1924-01-01\",\"1924-07-11\",\"1924\",\"1924\",\"1924\",\"1924\",\"1924-03-29\",\"1924\",\"1924\",\"1924\",\"1924\",\"1924-07-12\",\"1924-07-11\",\"1924-07-12\",\"1924-03-29\",\"1924\",\"1924\",\"1924\",\"1924\",\"1924\",\"1924\",\"1924\",\"1924\",\"1924\",\"1924-07-12\",\"1924-03-03\",\"1924\",\"1924\",\"1924\",\"1924-12-27\",\"1924\",\"1924\",\"1924\",\"1924\",\"1924-07-11\",\"1924\",\"1924\",\"1924\",\"1924-01-01\",\"1924\",\"1924\",\"1924\",\"1924-12-27\",\"1924\",\"1924-07-12\",\"1924\",\"1924-01-01\",\"1924\",\"1924\",\"1924-07-12\",\"1924\",\"1924\",\"1924\",\"1924-07-11\",\"1924-12-27\",\"1924-07-12\",\"1924\",\"1924\",\"1924\",\"1924\",\"1924\",\"1924\",\"1924\",\"1924\",\"1924\",\"1924\",\"1924-01-01\",\"1924\",\"1924-07-11\",\"1924\",\"1924-03-29\",\"1924\",\"1924-07-11\",\"1924\",\"1924\",\"1924\",\"1924-01-01\",\"1924\",\"1924\",\"1924\",\"1924\",\"1924\",\"1924\",\"1924\",\"1924-07-11\",\"1924\",\"1924-01-12\",\"1924\",\"1924-07-11\",\"1924\",\"1924\",\"1924\",\"1924-07-11\",\"1924\",\"1924\",\"1924-07-12\",\"1924-12-18\",\"1924\",\"1924-12-31\",\"1925\",\"1925\",\"1925\",\"1925\",\"1925\",\"1925\",\"1925\",\"1925\",\"1925\",\"1925\",\"1925\",\"1925\",\"1925\",\"1925\",\"1925\",\"1925\",\"1925\",\"1925\",\"1925\",\"1925\",\"1925\",\"1925\",\"1925\",\"1925\",\"1925\",\"1925\",\"1925\",\"1925\",\"1925\",\"1925\",\"1925\",\"1925\",\"1925\",\"1925\",\"1925\",\"1925\",\"1925\",\"1925\",\"1925\",\"1925\",\"1925\",\"1925\",\"1925\",\"1925\",\"1925\",\"1925\",\"1925\",\"1925\",\"1925\",\"1925\",\"1925\",\"1925\",\"1925\",\"1925\",\"1925\",\"1925\",\"1925\",\"1925\",\"1925\",\"1925\",\"1925\",\"1925\",\"1925\",\"1925\",\"1925\",\"1925\",\"1925\",\"1925\",\"1925\",\"1925\",\"1925\",\"1925\",\"1925\",\"1925-07-12\",\"1925\",\"1925-03-24\",\"1925-03-24\",\"1925\",\"1925\",\"1925\",\"1925-03-24\",\"1925-03-24\",\"1925-03-24\",\"1925-03-24\",\"1925-03-24\",\"1925\",\"1925-04-25\",\"1925\",\"1925\",\"1925-07-12\",\"1925-03-24\",\"1925\",\"1925\",\"1925\",\"1925-01-01\",\"1925\",\"1925-03-24\",\"1925-03-24\",\"1925-04-25\",\"1925\",\"1925-03-24\",\"1925\",\"1925-03-24\",\"1925-04-25\",\"1925-03-24\",\"1925\",\"1925\",\"1925-03-24\",\"1925-03-24\",\"1925\",\"1925\",\"1925-04-25\",\"1925-03-24\",\"1925\",\"1925-03-24\",\"1925\",\"1925-03-24\",\"1925\",\"1925-04-25\",\"1925\",\"1925-03-24\",\"1925-11-12\",\"1925\",\"1925\",\"1925\",\"1925-03-24\",\"1925-03-24\",\"1925-03-24\",\"1925\",\"1925\",\"1925-03-24\",\"1925\",\"1925-03-24\",\"1925\",\"1925\",\"1925-04-25\",\"1925\",\"1925\",\"1925-03-24\",\"1925-08-02\",\"1925-03-24\",\"1925-04-25\",\"1925-03-24\",\"1925-04-25\",\"1925\",\"1925\",\"1925-03-24\",\"1925-03-24\",\"1925-03-24\",\"1925\",\"1925-04-25\",\"1925-03-24\",\"1925\",\"1925\",\"1925\",\"1925-03-24\",\"1925\",\"1925\",\"1925-03-24\",\"1925-04-25\",\"1925\",\"1925\",\"1925-07-12\",\"1925\",\"1925\",\"1925\",\"1925-07-12\",\"1925\",\"1925\",\"1925\",\"1925-03-24\",\"1925\",\"1925\",\"1925-08-02\",\"1925-03-24\",\"1925-03-24\",\"1925\",\"1925-03-24\",\"1925\",\"1925-03-24\",\"1925-07-12\",\"1925\",\"1925\",\"1925\",\"1925-03-24\",\"1925-04-25\",\"1925\",\"1925\",\"1925-03-24\",\"1925\",\"1925-03-24\",\"1925\",\"1925\",\"1925\",\"1925\",\"1925\",\"1925\",\"1925\",\"1925\",\"1925-03-24\",\"1925-03-24\",\"1925\",\"1925-04-25\",\"1925\",\"1925-03-24\",\"1925\",\"1925\",\"1925-03-24\",\"1925-03-24\",\"1925-03-24\",\"1925\",\"1925-03-24\",\"1925\",\"1925-03-24\",\"1925-03-24\",\"1925-03-24\",\"1925-03-24\",\"1925-03-24\",\"1925-03-24\",\"1925\",\"1925\",\"1925\",\"1925-03-24\",\"1925-03-24\",\"1925\",\"1925-03-24\",\"1925\",\"1925\",\"1925\",\"1925\",\"1925\",\"1925-01-01\",\"1925-03-24\",\"1925-03-24\",\"1925\",\"1925\",\"1925\",\"1925-03-24\",\"1925-08-02\",\"1925\",\"1925-03-24\",\"1925\",\"1925\",\"1925\",\"1925\",\"1925-03-24\",\"1925-03-24\",\"1925-03-24\",\"1925\",\"1925\",\"1925\",\"1925\",\"1925\",\"1925-03-24\",\"1925-07-12\",\"1925\",\"1925-03-24\",\"1925-03-24\",\"1925\",\"1925\",\"1925\",\"1925\",\"1925-01-01\",\"1925\",\"1925-03-24\",\"1925-03-24\",\"1925-03-24\",\"1925-03-24\",\"1925\",\"1925\",\"1925-04-25\",\"1925\",\"1925\",\"1925\",\"1925-03-24\",\"1925\",\"1925-03-24\",\"1925-03-24\",\"1925-04-25\",\"1925\",\"1925\",\"1925\",\"1925\",\"1925\",\"1925-03-24\",\"1925\",\"1925-03-24\",\"1925-08-02\",\"1925\",\"1925-04-25\",\"1925\",\"1925\",\"1925-08-02\",\"1925\",\"1925-03-24\",\"1925\",\"1925-08-02\",\"1925\",\"1925\",\"1925-03-24\",\"1925-03-24\",\"1925\",\"1925\",\"1925\",\"1925-04-25\",\"1925-07-12\",\"1925\",\"1925-01-01\",\"1925\",\"1925-03-24\",\"1925-03-24\",\"1925\",\"1925-03-24\",\"1925\",\"1925-03-24\",\"1925\",\"1925\",\"1925-03-24\",\"1925-04-25\",\"1925\",\"1925-03-24\",\"1925\",\"1925\",\"1925-03-24\",\"1925\",\"1925\",\"1925\",\"1925-01-01\",\"1925\",\"1925-04-25\",\"1925\",\"1925\",\"1925\",\"1925\",\"1925-01-01\",\"1925\",\"1925-03-24\",\"1925-03-24\",\"1925\",\"1925-04-25\",\"1925\",\"1925-03-24\",\"1925-03-24\",\"1925\",\"1925\",\"1925\",\"1925\",\"1925-08-02\",\"1925\",\"1925-03-24\",\"1925-03-24\",\"1925\",\"1925-03-24\",\"1925-08-02\",\"1925\",\"1925\",\"1925-03-24\",\"1925-04-25\",\"1925\",\"1925\",\"1925-01-01\",\"1925-04-25\",\"1925-03-24\",\"1925-03-24\",\"1925-03-24\",\"1925-03-24\",\"1925\",\"1925\",\"1925\",\"1925\",\"1925-03-24\",\"1925-03-24\",\"1925-08-02\",\"1925-03-24\",\"1925-03-24\",\"1925-03-24\",\"1925\",\"1925-03-24\",\"1925-08-02\",\"1925\",\"1925-07-12\",\"1925\",\"1925\",\"1925-03-24\",\"1925-03-24\",\"1925-04-28\",\"1925\",\"1925-04-25\",\"1925\",\"1925-07-12\",\"1925-03-24\",\"1925\",\"1925\",\"1925-03-24\",\"1925\",\"1925\",\"1925-03-24\",\"1925-03-24\",\"1925-03-24\",\"1925-01-12\",\"1925\",\"1925-04-25\",\"1925-07-12\",\"1925-03-24\",\"1925\",\"1925-04-25\",\"1925\",\"1925-03-24\",\"1925\",\"1925\",\"1925\",\"1925-03-24\",\"1925\",\"1925\",\"1925-03-24\",\"1925\",\"1925\",\"1925\",\"1925-03-24\",\"1925-03-24\",\"1925-04-25\",\"1925\",\"1925-03-24\",\"1925-04-25\",\"1925\",\"1925\",\"1925\",\"1925-03-24\",\"1925\",\"1925\",\"1925\",\"1925\",\"1925\",\"1925\",\"1925-03-24\",\"1925-04-25\",\"1925-04-25\",\"1925-03-24\",\"1925\",\"1925\",\"1925\",\"1925\",\"1925\",\"1925-03-24\",\"1925\",\"1925\",\"1925-03-24\",\"1925\",\"1925-03-24\",\"1925-07-12\",\"1925-01-01\",\"1925\",\"1925\",\"1925-04-25\",\"1925-03-24\",\"1925\",\"1925-01-01\",\"1925\",\"1925\",\"1925-03-24\",\"1925-03-24\",\"1925\",\"1925-03-24\",\"1925\",\"1925-03-24\",\"1925\",\"1925-03-24\",\"1925\",\"1925\",\"1925\",\"1925\",\"1925\",\"1925-08-02\",\"1925\",\"1925\",\"1925\",\"1925-04-25\",\"1925-03-24\",\"1925-03-24\",\"1925\",\"1925-03-24\",\"1925-03-24\",\"1925-04-25\",\"1925\",\"1925-01-01\",\"1925\",\"1925\",\"1925\",\"1925\",\"1925-08-02\",\"1925-03-24\",\"1925\",\"1925\",\"1925\",\"1925-03-24\",\"1925\",\"1925-03-24\",\"1925\",\"1925\",\"1925\",\"1925-03-24\",\"1925\",\"1925\",\"1925-03-24\",\"1925-03-24\",\"1925-03-24\",\"1925\",\"1925-03-24\",\"1925\",\"1925-03-24\",\"1925\",\"1925-03-24\",\"1925\",\"1925\",\"1925\",\"1925-01-01\",\"1925-03-24\",\"1925-03-24\",\"1925\",\"1925-03-24\",\"1925\",\"1925\",\"1925\",\"1925-08-02\",\"1925-04-25\",\"1925\",\"1925\",\"1925\",\"1925\",\"1925-03-24\",\"1925\",\"1925\",\"1925-03-24\",\"1925\",\"1925-04-25\",\"1925-03-24\",\"1925\",\"1925-03-24\",\"1925\",\"1925\",\"1925\",\"1925\",\"1925-03-24\",\"1925\",\"1925-03-24\",\"1925\",\"1925\",\"1925\",\"1925-01-01\",\"1925-01-12\",\"1925\",\"1925-03-24\",\"1925\",\"1925\",\"1925\",\"1925\",\"1925\",\"1925-03-24\",\"1925-03-24\",\"1925-03-24\",\"1925-11-03\",\"1925-07-12\",\"1925\",\"1925\",\"1925-01-01\",\"1925-01-01\",\"1925-03-24\",\"1925-03-24\",\"1925-03-24\",\"1925\",\"1925\",\"1925-03-24\",\"1925-03-24\",\"1925\",\"1925-03-24\",\"1925\",\"1925-03-24\",\"1925\",\"1925\",\"1925\",\"1925\",\"1925-01-12\",\"1925-03-24\",\"1925\",\"1925\",\"1925\",\"1925-03-24\",\"1925\",\"1925-03-24\",\"1925-03-24\",\"1925\",\"1925-03-24\",\"1925\",\"1925\",\"1925-03-24\",\"1925\",\"1925-07-12\",\"1925-03-24\",\"1925-03-24\",\"1925-03-24\",\"1925\",\"1925-03-24\",\"1925-03-24\",\"1925-04-25\",\"1925\",\"1925-03-24\",\"1925-01-01\",\"1925\",\"1925-03-24\",\"1925\",\"1925\",\"1925-04-25\",\"1925-08-02\",\"1925\",\"1925\",\"1925\",\"1925-03-24\",\"1925-08-02\",\"1925\",\"1925-07-12\",\"1925-03-24\",\"1925\",\"1925\",\"1925-07-12\",\"1925-03-24\",\"1925\",\"1925-03-24\",\"1925-03-24\",\"1925\",\"1925\",\"1925-03-24\",\"1925-03-24\",\"1925\",\"1925-03-24\",\"1925\",\"1925\",\"1925-03-24\",\"1925\",\"1925\",\"1925\",\"1925\",\"1925\",\"1925\",\"1925-03-24\",\"1925\",\"1925\",\"1925-03-24\",\"1925\",\"1925\",\"1925\",\"1925-04-25\",\"1925\",\"1925-01-12\",\"1925\",\"1925-03-24\",\"1925\",\"1925-03-24\",\"1925\",\"1925-03-24\",\"1925\",\"1925-07-12\",\"1925\",\"1925-03-24\",\"1925-03-24\",\"1925\",\"1925-03-24\",\"1925-03-24\",\"1925\",\"1925-08-02\",\"1925-04-25\",\"1925-08-02\",\"1925\",\"1925\",\"1925-03-24\",\"1925\",\"1925-03-24\",\"1925-03-24\",\"1925\",\"1925\",\"1925-07-12\",\"1925\",\"1925-03-24\",\"1925\",\"1925\",\"1925-03-24\",\"1925\",\"1925\",\"1925-03-24\",\"1925-03-24\",\"1925\",\"1925-01-01\",\"1925\",\"1925\",\"1925-01-01\",\"1925\",\"1925\",\"1925\",\"1925-03-24\",\"1925-03-24\",\"1925\",\"1925-04-25\",\"1925\",\"1925-03-24\",\"1925-03-24\",\"1925-03-24\",\"1925-03-24\",\"1925-03-24\",\"1925\",\"1925-01-01\",\"1925-03-24\",\"1925\",\"1925\",\"1925-07-12\",\"1925-03-24\",\"1925-03-24\",\"1925\",\"1925-03-24\",\"1925\",\"1925-03-24\",\"1925-08-02\",\"1925-03-24\",\"1925\",\"1925\",\"1925-03-24\",\"1925\",\"1925-04-25\",\"1925-07-12\",\"1925-04-25\",\"1925\",\"1926\",\"1926\",\"1926\",\"1926\",\"1926\",\"1926\",\"1926\",\"1926\",\"1926\",\"1926\",\"1926\",\"1926\",\"1926\",\"1926\",\"1926\",\"1926\",\"1926\",\"1926\",\"1926\",\"1926\",\"1926\",\"1926\",\"1926\",\"1926\",\"1926\",\"1926\",\"1926\",\"1926\",\"1926\",\"1926-07-01\",\"1926-07-01\",\"1926\",\"1926\",\"1926-01-01\",\"1926\",\"1926\",\"1926\",\"1926\",\"1926\",\"1926\",\"1926\",\"1926\",\"1926\",\"1926\",\"1926\",\"1926\",\"1926\",\"1926\",\"1926\",\"1926\",\"1926-01-01\",\"1926\",\"1926\",\"1926\",\"1926\",\"1926\",\"1926\",\"1926\",\"1926\",\"1926\",\"1926\",\"1926\",\"1926\",\"1926\",\"1926\",\"1926\",\"1926\",\"1926\",\"1926\",\"1926\",\"1926\",\"1926\",\"1926\",\"1926\",\"1926\",\"1926\",\"1926\",\"1926\",\"1926\",\"1926\",\"1926\",\"1926\",\"1926\",\"1926\",\"1926\",\"1926\",\"1926\",\"1926\",\"1926\",\"1926\",\"1926\",\"1926\",\"1926\",\"1926\",\"1926\",\"1926\",\"1926\",\"1926\",\"1926\",\"1926\",\"1926\",\"1926\",\"1926\",\"1926\",\"1926\",\"1926\",\"1926\",\"1926\",\"1926\",\"1926\",\"1926\",\"1926\",\"1926\",\"1926\",\"1926\",\"1926\",\"1926\",\"1926\",\"1926\",\"1926\",\"1926\",\"1926\",\"1926\",\"1926\",\"1926\",\"1926\",\"1926\",\"1926\",\"1926\",\"1926\",\"1926\",\"1926\",\"1926\",\"1926\",\"1926\",\"1926\",\"1926\",\"1926\",\"1926\",\"1926\",\"1926\",\"1926\",\"1926\",\"1926\",\"1926\",\"1926\",\"1926\",\"1926-07-01\",\"1926-01-01\",\"1926\",\"1926\",\"1926\",\"1926\",\"1926\",\"1926\",\"1926\",\"1926\",\"1926\",\"1926\",\"1926\",\"1926\",\"1926\",\"1926\",\"1926\",\"1926\",\"1926\",\"1926\",\"1926\",\"1926\",\"1926\",\"1926\",\"1926\",\"1926\",\"1926-07-15\",\"1926-08-15\",\"1926-05-14\",\"1926-10-03\",\"1926\",\"1926\",\"1926\",\"1926\",\"1926-08-15\",\"1926\",\"1926\",\"1926\",\"1926\",\"1926-07-01\",\"1926\",\"1926-07-15\",\"1926\",\"1926\",\"1926\",\"1926\",\"1926\",\"1926\",\"1926-07-12\",\"1926\",\"1926\",\"1926\",\"1926-05-14\",\"1926\",\"1926-07-01\",\"1926\",\"1926\",\"1926\",\"1926\",\"1926\",\"1926\",\"1926-07-01\",\"1926\",\"1926\",\"1926\",\"1926\",\"1926\",\"1926\",\"1926\",\"1926-07-01\",\"1926\",\"1926\",\"1926-07-12\",\"1926\",\"1926\",\"1926\",\"1926\",\"1926\",\"1926-04-25\",\"1926-07-01\",\"1926\",\"1926-10-03\",\"1926\",\"1926-07-01\",\"1926\",\"1926\",\"1926-07-01\",\"1926-07-01\",\"1926-07-15\",\"1926\",\"1926\",\"1926\",\"1926-07-15\",\"1926\",\"1926-07-15\",\"1926-01-01\",\"1926\",\"1926\",\"1926\",\"1926\",\"1926-07-01\",\"1926\",\"1926-01-01\",\"1926\",\"1926\",\"1926-04-25\",\"1926\",\"1926\",\"1926-07-15\",\"1926-07-01\",\"1926\",\"1926\",\"1926-05-14\",\"1926\",\"1926\",\"1926-01-01\",\"1926-04-25\",\"1926\",\"1926\",\"1926\",\"1926-10-03\",\"1926\",\"1926\",\"1926-08-15\",\"1926-08-15\",\"1926-04-25\",\"1926\",\"1926\",\"1926\",\"1926-01-01\",\"1926\",\"1926-07-15\",\"1926-07-01\",\"1926\",\"1926\",\"1926\",\"1926\",\"1926\",\"1926\",\"1926\",\"1926\",\"1926\",\"1926-07-12\",\"1926\",\"1926\",\"1926\",\"1926\",\"1926\",\"1926\",\"1926-07-01\",\"1926-07-15\",\"1926\",\"1926\",\"1926\",\"1926\",\"1926\",\"1926-05-14\",\"1926\",\"1926-07-15\",\"1926-07-01\",\"1926\",\"1926-07-15\",\"1926\",\"1926-07-15\",\"1926\",\"1926-07-15\",\"1926\",\"1926\",\"1926-07-12\",\"1926\",\"1926\",\"1926\",\"1926\",\"1926-07-15\",\"1926\",\"1926\",\"1926-07-15\",\"1926\",\"1926\",\"1926\",\"1926-04-25\",\"1926\",\"1926\",\"1926-07-01\",\"1926\",\"1926\",\"1926\",\"1926-04-25\",\"1926-05-14\",\"1926\",\"1926\",\"1926\",\"1926\",\"1926\",\"1926\",\"1926\",\"1926\",\"1926-07-01\",\"1926\",\"1926\",\"1926-07-12\",\"1926\",\"1926-07-15\",\"1926\",\"1926\",\"1926\",\"1926\",\"1926\",\"1926-01-01\",\"1926\",\"1926-04-25\",\"1926\",\"1926-07-01\",\"1926-05-14\",\"1926\",\"1926\",\"1926\",\"1926\",\"1926\",\"1926\",\"1926-07-01\",\"1926-04-25\",\"1926\",\"1926-07-01\",\"1926\",\"1926\",\"1926-07-15\",\"1926\",\"1926\",\"1926-07-15\",\"1926-01-01\",\"1926\",\"1926\",\"1926-07-15\",\"1926-07-12\",\"1926-07-01\",\"1926\",\"1926\",\"1926\",\"1926-05-14\",\"1926-05-14\",\"1926\",\"1926\",\"1926-07-01\",\"1926\",\"1926-07-01\",\"1926\",\"1926\",\"1926-04-25\",\"1926\",\"1926\",\"1926-07-01\",\"1926\",\"1926\",\"1926\",\"1926-07-15\",\"1926\",\"1926\",\"1926-07-15\",\"1926\",\"1926\",\"1926-04-16\",\"1926-04-25\",\"1926\",\"1926\",\"1926\",\"1926\",\"1926\",\"1926\",\"1926-07-15\",\"1926\",\"1926-07-01\",\"1926\",\"1926-01-12\",\"1926\",\"1926\",\"1926\",\"1926\",\"1926\",\"1926-07-15\",\"1926\",\"1926\",\"1926-07-12\",\"1926\",\"1926\",\"1926\",\"1926\",\"1926\",\"1926-05-14\",\"1926-07-12\",\"1926-01-01\",\"1926\",\"1926\",\"1926\",\"1926\",\"1926\",\"1926\",\"1926\",\"1926\",\"1926\",\"1926-08-15\",\"1926\",\"1926\",\"1926\",\"1926\",\"1926\",\"1926-08-15\",\"1926\",\"1926-05-14\",\"1926\",\"1926\",\"1926\",\"1926\",\"1926\",\"1926\",\"1926-10-03\",\"1926-08-15\",\"1926-07-01\",\"1926-01-01\",\"1926-05-14\",\"1926-01-01\",\"1926\",\"1926\",\"1926-07-15\",\"1926\",\"1926\",\"1926-07-15\",\"1926\",\"1926\",\"1926\",\"1926\",\"1926-07-15\",\"1926\",\"1926\",\"1926\",\"1926\",\"1926-08-15\",\"1926\",\"1926-04-25\",\"1926\",\"1926\",\"1926\",\"1926-07-15\",\"1926-07-15\",\"1926\",\"1926\",\"1926-08-15\",\"1926\",\"1926\",\"1926\",\"1926\",\"1926\",\"1926\",\"1926\",\"1926-07-01\",\"1926-04-25\",\"1926\",\"1926-05-14\",\"1926-07-15\",\"1926\",\"1926-07-15\",\"1926\",\"1926\",\"1926\",\"1926\",\"1926-07-15\",\"1926\",\"1926\",\"1926\",\"1926\",\"1926\",\"1926\",\"1926-10-03\",\"1926\",\"1926\",\"1926\",\"1926-05-14\",\"1926\",\"1926\",\"1926-05-14\",\"1926-07-01\",\"1926\",\"1926\",\"1926\",\"1926\",\"1926\",\"1926\",\"1926\",\"1926-08-15\",\"1926-07-01\",\"1926\",\"1926\",\"1926\",\"1926\",\"1926\",\"1926\",\"1926\",\"1926-07-15\",\"1926\",\"1926\",\"1926\",\"1926\",\"1926\",\"1926\",\"1926\",\"1926-07-01\",\"1926\",\"1926\",\"1926\",\"1926\",\"1926-04-25\",\"1926\",\"1926\",\"1926-07-15\",\"1926\",\"1926\",\"1926-08-15\",\"1926\",\"1926\",\"1926\",\"1926\",\"1926\",\"1926-07-15\",\"1926-07-01\",\"1926-07-12\",\"1926\",\"1926\",\"1926\",\"1926\",\"1926-04-25\",\"1926-07-15\",\"1926-04-25\",\"1926-07-15\",\"1926\",\"1926\",\"1926\",\"1926\",\"1926\",\"1926\",\"1926\",\"1926\",\"1926-04-25\",\"1926-07-01\",\"1926\",\"1926\",\"1926\",\"1926\",\"1926-01-01\",\"1926\",\"1926\",\"1926-07-15\",\"1926-07-12\",\"1926\",\"1926\",\"1926\",\"1926\",\"1926-08-15\",\"1926-04-16\",\"1926-07-12\",\"1926-01-01\",\"1926\",\"1926\",\"1926\",\"1926\",\"1926\",\"1926\",\"1926-05-14\",\"1926\",\"1926\",\"1926\",\"1926\",\"1926\",\"1926\",\"1926-07-12\",\"1926\",\"1926\",\"1926-05-14\",\"1926-07-01\",\"1926-01-01\",\"1926-01-01\",\"1926\",\"1926\",\"1926\",\"1926\",\"1926\",\"1926\",\"1926-01-01\",\"1926-07-15\",\"1926\",\"1926-01-01\",\"1926\",\"1926\",\"1926\",\"1926\",\"1926-07-15\",\"1926\",\"1926-10-03\",\"1926\",\"1926-08-15\",\"1926\",\"1926\",\"1926\",\"1926\",\"1926-10-03\",\"1926-08-15\",\"1926\",\"1926-07-15\",\"1926-07-15\",\"1926\",\"1926\",\"1926\",\"1926\",\"1926-08-15\",\"1926\",\"1926\",\"1926-05-14\",\"1926-07-01\",\"1926\",\"1926\",\"1926\",\"1926\",\"1926-05-14\",\"1926\",\"1926\",\"1926\",\"1926-07-12\",\"1926-07-01\",\"1926\",\"1926\",\"1926\",\"1926\",\"1926-05-14\",\"1926\",\"1926\",\"1926\",\"1926-10-03\",\"1926\",\"1926-07-01\",\"1926\",\"1926\",\"1926\",\"1926\",\"1926\",\"1926\",\"1926\",\"1926-04-25\",\"1926\",\"1926\",\"1926\",\"1926-08-15\",\"1926\",\"1926\",\"1926\",\"1926\",\"1926\",\"1926\",\"1926-08-15\",\"1926\",\"1926-04-25\",\"1926\",\"1926-01-01\",\"1926-01-01\",\"1926-07-12\",\"1926\",\"1926\",\"1926-05-14\",\"1926\",\"1926-07-15\",\"1926\",\"1926\",\"1926\",\"1926\",\"1926\",\"1926\",\"1926-05-14\",\"1926\",\"1926-01-01\",\"1926-08-15\",\"1926-04-25\",\"1926\",\"1926\",\"1926\",\"1926\",\"1926\",\"1926-01-01\",\"1926\",\"1926\",\"1926\",\"1926\",\"1926\",\"1926\",\"1926-05-14\",\"1926\",\"1926-07-12\",\"1926-07-15\",\"1926\",\"1926\",\"1926\",\"1926\",\"1926\",\"1926\",\"1926\",\"1926\",\"1926-08-15\",\"1926\",\"1926\",\"1926\",\"1926\",\"1926-07-01\",\"1926-07-12\",\"1926-07-01\",\"1926-10-03\",\"1926\",\"1926\",\"1926-07-15\",\"1926\",\"1926-05-14\",\"1926\",\"1926\",\"1926\",\"1926-07-15\",\"1926\",\"1926\",\"1926\",\"1926\",\"1926\",\"1926-10-03\",\"1926\",\"1926\",\"1926\",\"1926-07-15\",\"1926\",\"1926-04-25\",\"1926-04-25\",\"1926\",\"1926\",\"1926\",\"1926\",\"1926\",\"1926-04-25\",\"1926\",\"1926-01-12\",\"1926\",\"1926-05-14\",\"1926-10-03\",\"1926\",\"1926\",\"1926\",\"1926-07-15\",\"1926-04-25\",\"1926-08-15\",\"1926-07-01\",\"1926-05-14\",\"1926\",\"1926\",\"1926-08-15\",\"1926-07-15\",\"1926\",\"1926\",\"1926\",\"1926-07-15\",\"1926\",\"1926\",\"1926-07-15\",\"1926-05-14\",\"1926\",\"1926-01-01\",\"1926\",\"1926\",\"1926\",\"1926-07-01\",\"1926\",\"1926-05-14\",\"1926\",\"1926\",\"1926-07-12\",\"1926\",\"1926\",\"1926-04-25\",\"1926\",\"1926-05-14\",\"1926\",\"1926-07-01\",\"1926\",\"1926\",\"1926\",\"1926-01-01\",\"1926\",\"1926\",\"1926\",\"1926\",\"1926\",\"1926\",\"1926-05-14\",\"1926\",\"1926\",\"1926-07-01\",\"1926\",\"1926-01-01\",\"1926\",\"1926-07-01\",\"1926-05-14\",\"1926\",\"1926\",\"1926-07-01\",\"1926\",\"1926\",\"1926-04-25\",\"1926\",\"1926\",\"1926\",\"1926\",\"1926-08-15\",\"1926-01-01\",\"1926-07-12\",\"1926\",\"1926\",\"1926-05-14\",\"1926\",\"1926-01-01\",\"1926-04-25\",\"1926-04-25\",\"1926\",\"1926\",\"1926\",\"1926-01-01\",\"1926-05-14\",\"1926\",\"1926\",\"1926\",\"1926\",\"1926\",\"1926-05-14\",\"1926\",\"1926\",\"1926\",\"1926-07-01\",\"1926-07-15\",\"1926\",\"1926-05-14\",\"1926\",\"1926\",\"1926\",\"1926-07-12\",\"1926\",\"1926\",\"1926-10-03\",\"1926-08-15\",\"1926\",\"1926\",\"1926\",\"1926\",\"1926\",\"1926-07-15\",\"1926\",\"1926\",\"1926\",\"1926\",\"1926\",\"1926\",\"1926-10-03\",\"1926\",\"1926\",\"1926\",\"1926\",\"1926-05-14\",\"1926-07-15\",\"1926\",\"1926\",\"1926\",\"1926-07-15\",\"1926\",\"1926-04-25\",\"1926-10-03\",\"1926\",\"1926\",\"1926-05-14\",\"1926\",\"1926\",\"1926\",\"1926\",\"1926\",\"1926-07-15\",\"1926\",\"1926\",\"1926\",\"1926\",\"1926-10-03\",\"1926\",\"1926\",\"1926\",\"1926-07-01\",\"1926\",\"1926\",\"1926\",\"1926\",\"1926\",\"1926-07-15\",\"1926\",\"1926-01-01\",\"1926\",\"1926-04-25\",\"1926-04-25\",\"1926-07-15\",\"1926\",\"1926-04-25\",\"1926\",\"1926-08-15\",\"1926\",\"1926-05-14\",\"1926\",\"1926-01-01\",\"1926\",\"1926\",\"1926\",\"1926\",\"1926\",\"1926-07-15\",\"1926\",\"1926-01-01\",\"1926\",\"1926-07-15\",\"1926-08-15\",\"1926\",\"1926\",\"1926\",\"1926-07-15\",\"1926\",\"1926-08-15\",\"1926\",\"1926\",\"1926\",\"1926\",\"1926-07-15\",\"1926\",\"1926\",\"1926-07-15\",\"1926-01-01\",\"1926\",\"1926-07-15\",\"1926\",\"1926\",\"1926\",\"1926\",\"1926\",\"1926-04-25\",\"1926\",\"1926\",\"1926\",\"1926\",\"1926\",\"1926\",\"1926-05-14\",\"1927\",\"1927\",\"1927\",\"1927\",\"1927\",\"1927\",\"1927\",\"1927\",\"1927\",\"1927\",\"1927\",\"1927\",\"1927\",\"1927\",\"1927\",\"1927\",\"1927\",\"1927\",\"1927\",\"1927\",\"1927\",\"1927\",\"1927\",\"1927\",\"1927\",\"1927\",\"1927\",\"1927\",\"1927\",\"1927\",\"1927\",\"1927\",\"1927\",\"1927\",\"1927\",\"1927\",\"1927-06-26\",\"1927\",\"1927\",\"1927\",\"1927-06-26\",\"1927-05-14\",\"1927-06-26\",\"1927-09-04\",\"1927\",\"1927-08-16\",\"1927-01-12\",\"1927-09-05\",\"1927\",\"1927-08-16\",\"1927-08-26\",\"1927\",\"1927-07-29\",\"1927-08-26\",\"1927-08-26\",\"1927\",\"1927-08-16\",\"1927-05-14\",\"1927-07-29\",\"1927-07-29\",\"1927-09-17\",\"1927-07-29\",\"1927-07-29\",\"1927-07-29\",\"1927\",\"1927-09-04\",\"1927-07-29\",\"1927-07-29\",\"1927-05-14\",\"1927\",\"1927\",\"1927-08-20\",\"1927-07-29\",\"1927-07-29\",\"1927-07-29\",\"1927-08-26\",\"1927-08-16\",\"1927\",\"1927-05-14\",\"1927\",\"1927-07-29\",\"1927-09-06\",\"1927-07-29\",\"1927-07-29\",\"1927\",\"1927-08-16\",\"1927-07-29\",\"1927-09-11\",\"1927-08-26\",\"1927-08-26\",\"1927-01-01\",\"1927-08-20\",\"1927\",\"1927\",\"1927-06-01\",\"1927-01-01\",\"1927-08-26\",\"1927\",\"1927-08-26\",\"1927\",\"1927-08-26\",\"1927-08-26\",\"1927-05-14\",\"1927-08-20\",\"1927\",\"1927-01-12\",\"1927-05-14\",\"1927\",\"1927-07-29\",\"1927-07-29\",\"1927\",\"1927-09-04\",\"1927-08-20\",\"1927\",\"1927\",\"1927-09-04\",\"1927-07-29\",\"1927-08-26\",\"1927-08-16\",\"1927-07-29\",\"1927\",\"1927-07-29\",\"1927-08-26\",\"1927-05-14\",\"1927-07-29\",\"1927\",\"1927-09-16\",\"1927\",\"1927-01-01\",\"1927-08-23\",\"1927-09-11\",\"1927-07-29\",\"1927-07-29\",\"1927-05-14\",\"1927-09-16\",\"1927-08-26\",\"1927-08-26\",\"1927-08-20\",\"1927\",\"1927-07-29\",\"1927-08-26\",\"1927-07-29\",\"1927-01-01\",\"1927-07-29\",\"1927\",\"1927-09-04\",\"1927\",\"1927-05-14\",\"1927-08-20\",\"1927-07-29\",\"1927-05-14\",\"1927-08-26\",\"1927-07-29\",\"1927\",\"1927\",\"1927\",\"1927\",\"1927-01-12\",\"1927-05-14\",\"1927-07-29\",\"1927-07-29\",\"1927-05-14\",\"1927-08-20\",\"1927-07-29\",\"1927-09-06\",\"1927-09-16\",\"1927-08-16\",\"1927\",\"1927-09-11\",\"1927-08-26\",\"1927-08-16\",\"1927\",\"1927\",\"1927\",\"1927-09-04\",\"1927-08-16\",\"1927-07-29\",\"1927-08-16\",\"1927-06-26\",\"1927\",\"1927\",\"1927\",\"1927-01-01\",\"1927-01-12\",\"1927\",\"1927-07-29\",\"1927-08-26\",\"1927-08-16\",\"1927\",\"1927-08-26\",\"1927-07-29\",\"1927\",\"1927-06-26\",\"1927-08-16\",\"1927-07-29\",\"1927\",\"1927-07-29\",\"1927-08-20\",\"1927-09-16\",\"1927-09-11\",\"1927-05-14\",\"1927\",\"1927\",\"1927-09-06\",\"1927\",\"1927-09-11\",\"1927-07-29\",\"1927-07-29\",\"1927\",\"1927\",\"1927\",\"1927-07-29\",\"1927-09-06\",\"1927-08-26\",\"1927-07-29\",\"1927-08-26\",\"1927-07-29\",\"1927-08-23\",\"1927-09-16\",\"1927\",\"1927-08-26\",\"1927\",\"1927-07-29\",\"1927\",\"1927-07-29\",\"1927-09-16\",\"1927\",\"1927-08-26\",\"1927-08-20\",\"1927-09-11\",\"1927\",\"1927-05-14\",\"1927-01-02\",\"1927-08-23\",\"1927\",\"1927\",\"1927-05-14\",\"1927-07-29\",\"1927\",\"1927\",\"1927-05-14\",\"1927-07-29\",\"1927-09-17\",\"1927-07-29\",\"1927-01-01\",\"1927\",\"1927-09-04\",\"1927-09-06\",\"1927\",\"1927-07-29\",\"1927-07-29\",\"1927-08-26\",\"1927-09-11\",\"1927\",\"1927-07-29\",\"1927-07-29\",\"1927-08-16\",\"1927-07-29\",\"1927-08-16\",\"1927-08-26\",\"1927-08-26\",\"1927-07-29\",\"1927-08-20\",\"1927\",\"1927-08-16\",\"1927-08-23\",\"1927-09-11\",\"1927-08-23\",\"1927-07-29\",\"1927-05-14\",\"1927-08-16\",\"1927\",\"1927\",\"1927-07-29\",\"1927\",\"1927-08-16\",\"1927-08-26\",\"1927-07-29\",\"1927\",\"1927-07-29\",\"1927-09-06\",\"1927\",\"1927-01-01\",\"1927-08-26\",\"1927\",\"1927-09-04\",\"1927-08-26\",\"1927-07-29\",\"1927\",\"1927-07-29\",\"1927-08-16\",\"1927\",\"1927\",\"1927-07-29\",\"1927-07-29\",\"1927\",\"1927-05-14\",\"1927-06-01\",\"1927-08-26\",\"1927\",\"1927-07-29\",\"1927-09-11\",\"1927-06-01\",\"1927-09-04\",\"1927-01-02\",\"1927-08-26\",\"1927\",\"1927-08-26\",\"1927-06-01\",\"1927\",\"1927-05-14\",\"1927-05-14\",\"1927\",\"1927-09-05\",\"1927-09-17\",\"1927-08-16\",\"1927-06-01\",\"1927-05-14\",\"1927-05-14\",\"1927\",\"1927-09-04\",\"1927-06-01\",\"1927-06-26\",\"1927-07-29\",\"1927-09-17\",\"1927\",\"1927-07-29\",\"1927-08-23\",\"1927\",\"1927-05-14\",\"1927-09-16\",\"1927-08-26\",\"1927\",\"1927-08-20\",\"1927\",\"1927-09-04\",\"1927-08-16\",\"1927\",\"1927-07-29\",\"1927-09-17\",\"1927-08-26\",\"1927\",\"1927-09-05\",\"1927\",\"1927-06-01\",\"1927-09-05\",\"1927-07-29\",\"1927\",\"1927-09-11\",\"1927-07-29\",\"1927-08-16\",\"1927-07-29\",\"1927-08-26\",\"1927\",\"1927-08-16\",\"1927-08-20\",\"1927-07-29\",\"1927\",\"1927-08-26\",\"1927-09-04\",\"1927-09-04\",\"1927-08-16\",\"1927-08-26\",\"1927-08-20\",\"1927-05-14\",\"1927-08-16\",\"1927-08-26\",\"1927-08-16\",\"1927-07-29\",\"1927\",\"1927-08-26\",\"1927-08-26\",\"1927-09-16\",\"1927\",\"1927-09-16\",\"1927-07-29\",\"1927-08-16\",\"1927-07-29\",\"1927-07-29\",\"1927-08-26\",\"1927-07-29\",\"1927-08-16\",\"1927-09-17\",\"1927\",\"1927-07-29\",\"1927-08-26\",\"1927-08-16\",\"1927\",\"1927-08-16\",\"1927\",\"1927-05-14\",\"1927-08-26\",\"1927\",\"1927\",\"1927-07-29\",\"1927-07-29\",\"1927\",\"1927\",\"1927-08-26\",\"1927-01-01\",\"1927-07-29\",\"1927\",\"1927-01-01\",\"1927-01-01\",\"1927-09-17\",\"1927\",\"1927\",\"1927-06-01\",\"1927-08-26\",\"1927-09-04\",\"1927\",\"1927-08-26\",\"1927-08-26\",\"1927\",\"1927\",\"1927-08-26\",\"1927-05-14\",\"1927-09-06\",\"1927-08-26\",\"1927-09-11\",\"1927-07-29\",\"1927-08-16\",\"1927-07-29\",\"1927-08-26\",\"1927-07-29\",\"1927-08-23\",\"1927-08-20\",\"1927-08-26\",\"1927-08-26\",\"1927\",\"1927-08-20\",\"1927\",\"1927-08-26\",\"1927\",\"1927-08-26\",\"1927-07-29\",\"1927-09-16\",\"1927-07-29\",\"1927\",\"1927-07-29\",\"1927-09-05\",\"1927-08-26\",\"1927-05-14\",\"1927-08-26\",\"1927-08-26\",\"1927-08-26\",\"1927-08-16\",\"1927\",\"1927\",\"1927\",\"1927\",\"1927-07-29\",\"1927-08-26\",\"1927\",\"1927\",\"1927-08-16\",\"1927-09-04\",\"1927-08-26\",\"1927\",\"1927-08-16\",\"1927\",\"1927-07-29\",\"1927-08-20\",\"1927-07-29\",\"1927\",\"1927\",\"1927\",\"1927-08-23\",\"1927-07-29\",\"1927-07-29\",\"1927-09-04\",\"1927-04-01\",\"1927\",\"1927-06-01\",\"1927-07-29\",\"1927-01-01\",\"1927\",\"1927-08-26\",\"1927-05-28\",\"1927-08-26\",\"1927-07-29\",\"1927-08-16\",\"1927-07-29\",\"1927\",\"1927\",\"1927-05-14\",\"1927-09-04\",\"1927-08-26\",\"1927\",\"1927-08-26\",\"1927-08-16\",\"1927-05-14\",\"1927\",\"1927-07-29\",\"1927\",\"1927-09-11\",\"1927-07-29\",\"1927-07-29\",\"1927-08-20\",\"1927\",\"1927-07-29\",\"1927-01-12\",\"1927\",\"1927\",\"1927\",\"1927-07-29\",\"1927\",\"1927-08-20\",\"1927-05-14\",\"1927-09-05\",\"1927-08-26\",\"1927-09-16\",\"1927\",\"1927-08-26\",\"1927\",\"1927\",\"1927-06-26\",\"1927-05-14\",\"1927-05-14\",\"1927-09-06\",\"1927-09-04\",\"1927-09-17\",\"1927-08-26\",\"1927-05-14\",\"1927-06-01\",\"1927-09-17\",\"1927\",\"1927-09-04\",\"1927\",\"1927\",\"1927\",\"1927\",\"1927-07-29\",\"1927-09-05\",\"1927-08-16\",\"1927-05-14\",\"1927-07-29\",\"1927-08-16\",\"1927-07-29\",\"1927-01-01\",\"1927-08-26\",\"1927-08-26\",\"1927-08-16\",\"1927\",\"1927-05-14\",\"1927-08-16\",\"1927-07-29\",\"1927-07-29\",\"1927\",\"1927-09-17\",\"1927-07-29\",\"1927\",\"1927\",\"1927-08-26\",\"1927-09-04\",\"1927-09-17\",\"1927-08-26\",\"1927\",\"1927-09-11\",\"1927-07-29\",\"1927-08-26\",\"1927-09-05\",\"1927-08-16\",\"1927-07-29\",\"1927-08-20\",\"1927-09-04\",\"1927-08-16\",\"1927-07-29\",\"1927-09-16\",\"1927\",\"1927-08-26\",\"1927-05-14\",\"1927-07-29\",\"1927-09-04\",\"1927\",\"1927-08-26\",\"1927-08-26\",\"1927-07-29\",\"1927\",\"1927-08-16\",\"1927-08-26\",\"1927-09-05\",\"1927\",\"1927-08-16\",\"1927-08-16\",\"1927-07-29\",\"1927\",\"1927-09-06\",\"1927\",\"1927-05-14\",\"1927-08-20\",\"1927-08-20\",\"1927\",\"1927\",\"1927\",\"1927-01-02\",\"1927\",\"1927-08-26\",\"1927-08-20\",\"1927-09-06\",\"1927-05-14\",\"1927\",\"1927-08-20\",\"1927\",\"1927-05-14\",\"1927-09-05\",\"1927\",\"1927-08-20\",\"1927-07-29\",\"1927-08-16\",\"1927-05-14\",\"1927\",\"1927-07-29\",\"1927\",\"1927-01-12\",\"1927-09-16\",\"1927\",\"1927-07-29\",\"1927-07-29\",\"1927\",\"1927\",\"1927-09-11\",\"1927-05-14\",\"1927\",\"1927-08-26\",\"1927-09-05\",\"1927\",\"1927-01-01\",\"1927-06-01\",\"1927\",\"1927-09-16\",\"1927-08-20\",\"1927-07-29\",\"1927-01-12\",\"1927\",\"1927\",\"1927\",\"1927-07-29\",\"1927-01-12\",\"1927-06-26\",\"1927-07-29\",\"1927-08-16\",\"1927-08-23\",\"1927\",\"1927-08-26\",\"1927-07-29\",\"1927-05-28\",\"1927-09-16\",\"1927-08-16\",\"1927-08-16\",\"1927-08-16\",\"1927-07-29\",\"1927-08-26\",\"1927-08-26\",\"1927\",\"1927-07-29\",\"1927-12-01\",\"1927-08-16\",\"1927-08-16\",\"1927\",\"1927-07-29\",\"1927-01-12\",\"1927-01-01\",\"1927-08-16\",\"1927-08-26\",\"1927-08-23\",\"1927-05-14\",\"1927-07-29\",\"1927-08-26\",\"1927-09-06\",\"1927-07-29\",\"1927-06-01\",\"1927-09-16\",\"1927-01-02\",\"1927-01-09\",\"1927-01-02\",\"1927\",\"1927-08-26\",\"1927-09-16\",\"1927-07-29\",\"1927-09-04\",\"1927-07-29\",\"1927-08-16\",\"1927-08-26\",\"1927\",\"1927-07-29\",\"1927-09-16\",\"1927\",\"1927-08-26\",\"1927-08-16\",\"1927-05-14\",\"1927-07-29\",\"1927\",\"1927\",\"1927-07-29\",\"1927-08-16\",\"1927-08-26\",\"1927-07-29\",\"1927-07-29\",\"1927-08-16\",\"1927-05-14\",\"1927\",\"1927-09-06\",\"1927\",\"1927-07-29\",\"1927-07-29\",\"1927-01-02\",\"1927-07-29\",\"1927\",\"1927-07-29\",\"1927-05-14\",\"1927-07-29\",\"1927-06-01\",\"1927\",\"1927-08-26\",\"1927-08-26\",\"1927\",\"1927-06-01\",\"1927-08-26\",\"1927-08-16\",\"1927\",\"1927-07-29\",\"1927\",\"1927-05-14\",\"1927-08-26\",\"1927-06-01\",\"1927-09-06\",\"1927-09-04\",\"1927-08-26\",\"1927-05-14\",\"1927-08-26\",\"1927-09-04\",\"1927\",\"1927\",\"1927-07-29\",\"1927-07-29\",\"1927-08-26\",\"1927-05-14\",\"1927-06-14\",\"1927-05-14\",\"1927-07-29\",\"1927-07-29\",\"1927-07-29\",\"1927-07-29\",\"1927-07-29\",\"1927-08-16\",\"1927\",\"1927\",\"1927-09-04\",\"1927\",\"1927\",\"1927-07-29\",\"1927-08-20\",\"1927-07-29\",\"1927-08-26\",\"1927-07-29\",\"1927\",\"1927-07-29\",\"1927-05-14\",\"1927-08-16\",\"1927\",\"1927\",\"1927-08-26\",\"1927-08-20\",\"1927-07-29\",\"1927\",\"1927-08-23\",\"1927-07-29\",\"1927-09-05\",\"1927-08-23\",\"1927-01-02\",\"1927\",\"1927-07-29\",\"1927-08-26\",\"1927-07-29\",\"1927\",\"1927-09-04\",\"1927-05-14\",\"1927-08-26\",\"1927-08-16\",\"1927-08-26\",\"1927-08-26\",\"1927-09-05\",\"1927-07-29\",\"1927-07-29\",\"1927-07-29\",\"1927-05-14\",\"1927-07-29\",\"1927-07-29\",\"1927-08-26\",\"1927-07-29\",\"1927-08-26\",\"1927-07-29\",\"1927-07-29\",\"1927-08-20\",\"1927-01-12\",\"1927-09-17\",\"1927-07-29\",\"1927\",\"1927-06-01\",\"1927-07-29\",\"1927-01-02\",\"1927-08-26\",\"1927-01-12\",\"1927\",\"1927-08-26\",\"1927-05-14\",\"1927-08-20\",\"1927-05-14\",\"1927-09-11\",\"1927-08-16\",\"1927-08-16\",\"1927\",\"1927-08-26\",\"1927-07-29\",\"1927-01-01\",\"1927-09-06\",\"1927-08-26\",\"1927-08-20\",\"1927-08-26\",\"1927-08-16\",\"1927-07-29\",\"1927\",\"1927-08-26\",\"1927-08-26\",\"1927\",\"1927-09-06\",\"1927-06-26\",\"1927-05-14\",\"1927\",\"1927\",\"1927-07-29\",\"1927\",\"1927-08-26\",\"1927-07-29\",\"1927\",\"1927\",\"1927\",\"1927-09-16\",\"1927-07-29\",\"1927-01-01\",\"1927-07-29\",\"1927-07-29\",\"1927-07-29\",\"1927-01-12\",\"1927-05-14\",\"1927-01-01\",\"1927-08-26\",\"1927\",\"1927-09-06\",\"1927-07-29\",\"1927-07-29\",\"1927\",\"1927\",\"1927\",\"1927-08-20\",\"1927-08-16\",\"1927-07-29\",\"1927-07-29\",\"1927-06-01\",\"1927\",\"1927-08-23\",\"1927\",\"1927-08-26\",\"1927\",\"1927-08-20\",\"1927-07-29\",\"1927-09-11\",\"1927-05-14\",\"1927\",\"1927-07-29\",\"1927-05-14\",\"1927-07-29\",\"1927\",\"1927-09-05\",\"1927-07-29\",\"1927-06-01\",\"1927-09-17\",\"1927-05-14\",\"1927-01-09\",\"1927-07-29\",\"1927-07-29\",\"1927-07-29\",\"1927-08-16\",\"1927-07-29\",\"1927-07-29\",\"1927-05-14\",\"1927-08-26\",\"1927\",\"1927-01-01\",\"1927-07-29\",\"1927-07-29\",\"1927-08-16\",\"1927-09-11\",\"1927-09-04\",\"1927-08-20\",\"1927-09-16\",\"1927-05-14\",\"1927-08-26\",\"1927-07-29\",\"1927\",\"1927\",\"1927-08-16\",\"1927-07-29\",\"1927-08-16\",\"1927\",\"1927-06-01\",\"1927-08-26\",\"1927\",\"1927-07-29\",\"1927\",\"1927-07-29\",\"1927-09-04\",\"1927-08-16\",\"1927-08-26\",\"1927-08-26\",\"1927\",\"1927-07-29\",\"1927\",\"1927\",\"1927-07-29\",\"1927-05-11\",\"1927-07-29\",\"1927-07-29\",\"1927-05-14\",\"1927-05-14\",\"1927-08-26\",\"1927-08-16\",\"1927-08-16\",\"1927-09-17\",\"1927-06-01\",\"1927-08-26\",\"1927-05-14\",\"1927-09-04\",\"1927-07-29\",\"1927-07-29\",\"1927\",\"1927-07-29\",\"1927-09-17\",\"1927-09-06\",\"1927-08-20\",\"1927\",\"1927-09-17\",\"1927-09-04\",\"1927-08-16\",\"1927\",\"1927-05-11\",\"1927-08-16\",\"1927-09-05\",\"1927\",\"1927-08-23\",\"1927\",\"1927\",\"1927-08-23\",\"1927-05-14\",\"1927\",\"1927\",\"1927-07-29\",\"1927-07-29\",\"1927-08-16\",\"1927-07-29\",\"1927\",\"1927\",\"1927\",\"1927-07-29\",\"1927-08-26\",\"1927-07-29\",\"1927-07-29\",\"1927-09-17\",\"1927-08-23\",\"1927-07-29\",\"1927-09-17\",\"1927\",\"1927-08-16\",\"1927-08-26\",\"1927-07-29\",\"1927-01-01\",\"1927-07-29\",\"1927-07-29\",\"1927-08-16\",\"1927\",\"1927-08-26\",\"1927-08-26\",\"1927-08-16\",\"1927-08-26\",\"1927-01-01\",\"1927-05-14\",\"1927-08-23\",\"1927\",\"1927-08-16\",\"1927-09-11\",\"1927-07-29\",\"1927-07-29\",\"1927-09-06\",\"1927\",\"1927-08-26\",\"1927-08-26\",\"1927\",\"1927-05-14\",\"1927-07-29\",\"1928\",\"1928\",\"1928\",\"1928\",\"1928\",\"1928\",\"1928\",\"1928\",\"1928\",\"1928\",\"1928\",\"1928\",\"1928\",\"1928\",\"1928\",\"1928\",\"1928\",\"1928\",\"1928\",\"1928\",\"1928\",\"1928\",\"1928\",\"1928\",\"1928\",\"1928\",\"1928\",\"1928\",\"1928\",\"1928\",\"1928\",\"1928\",\"1928\",\"1928\",\"1928\",\"1928\",\"1928\",\"1928\",\"1928\",\"1928\",\"1928\",\"1928\",\"1928\",\"1928\",\"1928\",\"1928\",\"1928\",\"1928\",\"1928\",\"1928\",\"1928\",\"1928\",\"1928\",\"1928\",\"1928\",\"1928\",\"1928\",\"1928\",\"1928\",\"1928\",\"1928\",\"1928\",\"1928\",\"1928\",\"1928\",\"1928\",\"1928\",\"1928\",\"1928\",\"1928\",\"1928\",\"1928\",\"1928\",\"1928\",\"1928\",\"1928\",\"1928\",\"1928\",\"1928\",\"1928\",\"1928\",\"1928\",\"1928\",\"1928\",\"1928\",\"1928\",\"1928\",\"1928\",\"1928\",\"1928\",\"1928\",\"1928\",\"1928\",\"1928\",\"1928\",\"1928\",\"1928\",\"1928\",\"1928\",\"1928\",\"1928\",\"1928\",\"1928\",\"1928\",\"1928-09-16\",\"1928\",\"1928\",\"1928\",\"1928\",\"1928\",\"1928\",\"1928\",\"1928\",\"1928\",\"1928\",\"1928\",\"1928\",\"1928\",\"1928\",\"1928\",\"1928\",\"1928-05-14\",\"1928-05-14\",\"1928\",\"1928-09-25\",\"1928-01-01\",\"1928-09-24\",\"1928\",\"1928\",\"1928-10-03\",\"1928\",\"1928\",\"1928-05-14\",\"1928-09-17\",\"1928-08-20\",\"1928-08-13\",\"1928-05-14\",\"1928\",\"1928\",\"1928-10-10\",\"1928-09-25\",\"1928\",\"1928\",\"1928\",\"1928\",\"1928\",\"1928\",\"1928\",\"1928-08-20\",\"1928-09-16\",\"1928-12-04\",\"1928\",\"1928-09-16\",\"1928-01-01\",\"1928-09-16\",\"1928-05-14\",\"1928-01-12\",\"1928\",\"1928\",\"1928-09-25\",\"1928\",\"1928\",\"1928-01-01\",\"1928\",\"1928-09-25\",\"1928-05-14\",\"1928\",\"1928\",\"1928\",\"1928\",\"1928\",\"1928\",\"1928\",\"1928-05-14\",\"1928\",\"1928\",\"1928\",\"1928-06-01\",\"1928-01-01\",\"1928\",\"1928\",\"1928\",\"1928-06-20\",\"1928\",\"1928\",\"1928-09-25\",\"1928-09-25\",\"1928\",\"1928-09-21\",\"1928-09-16\",\"1928\",\"1928-07-01\",\"1928-09-24\",\"1928\",\"1928\",\"1928\",\"1928\",\"1928-09-24\",\"1928\",\"1928-01-12\",\"1928\",\"1928\",\"1928-06-20\",\"1928\",\"1928-09-25\",\"1928-09-24\",\"1928-08-20\",\"1928-06-01\",\"1928\",\"1928\",\"1928-09-17\",\"1928-10-03\",\"1928\",\"1928-08-20\",\"1928\",\"1928\",\"1928-01-01\",\"1928\",\"1928\",\"1928-09-25\",\"1928-05-11\",\"1928\",\"1928\",\"1928\",\"1928-09-25\",\"1928\",\"1928-09-16\",\"1928\",\"1928-09-25\",\"1928-05-14\",\"1928-10-03\",\"1928-08-13\",\"1928-09-16\",\"1928\",\"1928\",\"1928\",\"1928\",\"1928\",\"1928\",\"1928-01-01\",\"1928-05-14\",\"1928-01-01\",\"1928\",\"1928\",\"1928-05-14\",\"1928\",\"1928\",\"1928-09-20\",\"1928\",\"1928\",\"1928-01-01\",\"1928\",\"1928-05-14\",\"1928-07-01\",\"1928\",\"1928-09-25\",\"1928-09-16\",\"1928-06-01\",\"1928\",\"1928-09-25\",\"1928\",\"1928\",\"1928-09-24\",\"1928-06-01\",\"1928\",\"1928-01-12\",\"1928-07-01\",\"1928-07-01\",\"1928\",\"1928\",\"1928-08-20\",\"1928-05-14\",\"1928\",\"1928-05-14\",\"1928-09-24\",\"1928\",\"1928-09-21\",\"1928-09-25\",\"1928\",\"1928\",\"1928\",\"1928-09-25\",\"1928-06-20\",\"1928\",\"1928-09-24\",\"1928\",\"1928-01-01\",\"1928\",\"1928-05-14\",\"1928-09-24\",\"1928\",\"1928-05-14\",\"1928-09-17\",\"1928\",\"1928\",\"1928\",\"1928-05-14\",\"1928\",\"1928-01-01\",\"1928-06-20\",\"1928\",\"1928-07-01\",\"1928-09-20\",\"1928-05-14\",\"1928\",\"1928\",\"1928\",\"1928\",\"1928-05-14\",\"1928\",\"1928-07-01\",\"1928\",\"1928\",\"1928\",\"1928-10-03\",\"1928-01-01\",\"1928\",\"1928-09-25\",\"1928-09-24\",\"1928-01-01\",\"1928\",\"1928\",\"1928-09-25\",\"1928-09-16\",\"1928\",\"1928-09-17\",\"1928\",\"1928\",\"1928\",\"1928\",\"1928-08-20\",\"1928-09-20\",\"1928-09-17\",\"1928\",\"1928\",\"1928-01-01\",\"1928-01-02\",\"1928\",\"1928\",\"1928\",\"1928-06-01\",\"1928\",\"1928\",\"1928\",\"1928\",\"1928\",\"1928\",\"1928-04-01\",\"1928\",\"1928-09-21\",\"1928\",\"1928-08-20\",\"1928\",\"1928\",\"1928\",\"1928-05-14\",\"1928\",\"1928-09-17\",\"1928\",\"1928\",\"1928\",\"1928-09-21\",\"1928\",\"1928-01-01\",\"1928\",\"1928-01-12\",\"1928-06-20\",\"1928\",\"1928\",\"1928\",\"1928\",\"1928\",\"1928\",\"1928-05-14\",\"1928\",\"1928\",\"1928\",\"1928-09-17\",\"1928-09-17\",\"1928-05-14\",\"1928-09-20\",\"1928\",\"1928\",\"1928-01-01\",\"1928-07-01\",\"1928-06-20\",\"1928-09-16\",\"1928\",\"1928-06-20\",\"1928\",\"1928\",\"1928\",\"1928-09-16\",\"1928\",\"1928\",\"1928\",\"1928\",\"1928\",\"1928\",\"1928\",\"1928\",\"1928\",\"1928-08-20\",\"1928-09-16\",\"1928-01-12\",\"1928-06-20\",\"1928-07-01\",\"1928\",\"1928-09-16\",\"1928\",\"1928\",\"1928\",\"1928\",\"1928\",\"1928-01-01\",\"1928-10-03\",\"1928\",\"1928-01-12\",\"1928\",\"1928-09-17\",\"1928\",\"1928\",\"1928\",\"1928\",\"1928\",\"1928-09-16\",\"1928\",\"1928-09-21\",\"1928-05-11\",\"1928\",\"1928-05-11\",\"1928\",\"1928-01-12\",\"1928-09-21\",\"1928\",\"1928\",\"1928-01-12\",\"1928-09-20\",\"1928-09-17\",\"1928-06-20\",\"1928-01-01\",\"1928\",\"1928-09-16\",\"1928\",\"1928-05-14\",\"1928-06-01\",\"1928-09-24\",\"1928\",\"1928\",\"1928-09-25\",\"1928-09-21\",\"1928\",\"1928\",\"1928-01-01\",\"1928\",\"1928-05-14\",\"1928-05-14\",\"1928\",\"1928\",\"1928\",\"1928\",\"1928-09-16\",\"1928\",\"1928\",\"1928\",\"1928\",\"1928-09-16\",\"1928-01-12\",\"1928-05-14\",\"1928-08-20\",\"1928-05-14\",\"1928\",\"1928\",\"1928\",\"1928-10-03\",\"1928\",\"1928\",\"1928-09-21\",\"1928-09-21\",\"1928-05-14\",\"1928\",\"1928\",\"1928-09-25\",\"1928\",\"1928-07-01\",\"1928\",\"1928\",\"1928\",\"1928\",\"1928-07-01\",\"1928-06-01\",\"1928\",\"1928\",\"1928\",\"1928\",\"1928\",\"1928-09-25\",\"1928-09-16\",\"1928\",\"1928-05-14\",\"1928-05-14\",\"1928\",\"1928\",\"1928\",\"1928-09-16\",\"1928\",\"1928-01-12\",\"1928\",\"1928-09-16\",\"1928\",\"1928\",\"1928-01-01\",\"1928\",\"1928\",\"1928\",\"1928\",\"1928-05-14\",\"1928-05-14\",\"1928-09-21\",\"1928-06-20\",\"1928-06-20\",\"1928-01-01\",\"1928-09-24\",\"1928\",\"1928-09-25\",\"1928-09-24\",\"1928\",\"1928-09-24\",\"1928-01-02\",\"1928\",\"1928\",\"1928\",\"1928\",\"1928-01-01\",\"1928-05-14\",\"1928\",\"1928-05-14\",\"1928\",\"1928\",\"1928\",\"1928\",\"1928\",\"1928\",\"1928\",\"1928-06-01\",\"1928-05-14\",\"1928-09-16\",\"1928\",\"1928-10-03\",\"1928\",\"1928\",\"1928\",\"1928\",\"1928\",\"1928\",\"1928-10-03\",\"1928-01-01\",\"1928\",\"1928-09-24\",\"1928-05-14\",\"1928\",\"1928\",\"1928\",\"1928-01-01\",\"1928-09-25\",\"1928-09-21\",\"1928-08-20\",\"1928\",\"1928-05-14\",\"1928-08-20\",\"1928\",\"1928\",\"1928-09-25\",\"1928\",\"1928-09-24\",\"1928\",\"1928\",\"1928\",\"1928\",\"1928\",\"1928\",\"1928-09-20\",\"1928-09-24\",\"1928\",\"1928\",\"1928\",\"1928-01-01\",\"1928-09-25\",\"1928\",\"1928\",\"1928\",\"1928\",\"1928-09-24\",\"1928-09-16\",\"1928\",\"1928\",\"1928\",\"1928\",\"1928-09-21\",\"1928-01-01\",\"1928\",\"1928\",\"1928\",\"1928\",\"1928-05-14\",\"1928-01-01\",\"1928-05-14\",\"1928-09-17\",\"1928-09-24\",\"1928-09-21\",\"1928\",\"1928\",\"1928\",\"1928-01-01\",\"1928\",\"1928-09-24\",\"1928-09-25\",\"1928-09-20\",\"1928\",\"1928-09-25\",\"1928\",\"1928\",\"1928-09-20\",\"1928-09-24\",\"1928-05-14\",\"1928-09-25\",\"1928-01-01\",\"1928-09-21\",\"1928-09-17\",\"1928-01-02\",\"1928\",\"1928-09-24\",\"1928\",\"1928\",\"1928-05-14\",\"1928\",\"1928-01-01\",\"1928-07-01\",\"1928-09-21\",\"1928\",\"1928-09-17\",\"1928-09-20\",\"1928-09-25\",\"1928-12-04\",\"1928-09-24\",\"1928\",\"1928-10-03\",\"1928\",\"1928\",\"1928\",\"1928\",\"1928-09-20\",\"1928-09-20\",\"1928-01-12\",\"1928-06-20\",\"1928\",\"1928\",\"1928-01-12\",\"1928-09-25\",\"1928-09-25\",\"1928-09-24\",\"1928\",\"1928\",\"1928\",\"1928-09-21\",\"1928\",\"1928\",\"1928-09-24\",\"1928\",\"1928\",\"1928\",\"1928-09-21\",\"1928-05-14\",\"1928-09-25\",\"1928-01-01\",\"1928-09-24\",\"1928-07-01\",\"1928-05-14\",\"1928\",\"1928\",\"1928-01-12\",\"1928\",\"1928\",\"1928\",\"1928-05-14\",\"1928\",\"1928\",\"1928\",\"1928-09-21\",\"1928\",\"1928\",\"1928\",\"1928\",\"1928-09-20\",\"1928-01-01\",\"1928-09-24\",\"1928\",\"1928\",\"1928-09-25\",\"1928\",\"1928\",\"1928-09-25\",\"1928\",\"1928\",\"1928\",\"1928-01-12\",\"1928\",\"1928\",\"1928\",\"1928-01-12\",\"1928\",\"1928-08-20\",\"1928-09-21\",\"1928\",\"1928\",\"1928-07-01\",\"1928\",\"1928-09-20\",\"1928-01-01\",\"1928\",\"1928-09-25\",\"1928-06-20\",\"1928\",\"1928\",\"1928\",\"1928\",\"1928-09-21\",\"1928-07-01\",\"1928\",\"1928-09-25\",\"1928-09-25\",\"1928\",\"1928\",\"1928-01-12\",\"1928\",\"1928\",\"1928-01-01\",\"1928-06-20\",\"1928\",\"1928\",\"1928\",\"1928-06-01\",\"1928\",\"1928\",\"1928-09-16\",\"1928\",\"1928-01-01\",\"1928\",\"1928-01-01\",\"1928-01-12\",\"1928\",\"1928\",\"1928-08-20\",\"1928\",\"1928-09-25\",\"1928\",\"1928\",\"1928\",\"1928\",\"1928\",\"1928\",\"1928\",\"1928-05-14\",\"1928-05-14\",\"1928-10-03\",\"1928-01-01\",\"1928\",\"1928\",\"1928\",\"1928-01-12\",\"1928-05-14\",\"1928-09-21\",\"1928-09-21\",\"1928\",\"1928\",\"1928\",\"1928-08-20\",\"1928\",\"1928\",\"1928\",\"1928\",\"1928-01-01\",\"1928-01-01\",\"1928\",\"1928\",\"1928-07-01\",\"1928-01-01\",\"1928\",\"1928-07-01\",\"1928-06-20\",\"1928\",\"1928-09-21\",\"1928\",\"1928-01-01\",\"1928\",\"1928-09-25\",\"1928\",\"1928\",\"1928-01-01\",\"1928\",\"1928-08-20\",\"1928-09-16\",\"1928\",\"1928\",\"1928\",\"1928\",\"1928-09-25\",\"1928\",\"1928\",\"1928-09-24\",\"1928-09-17\",\"1928\",\"1928\",\"1928-09-16\",\"1928-07-01\",\"1928-05-14\",\"1928-06-20\",\"1928-05-14\",\"1928-07-01\",\"1928-01-01\",\"1928\",\"1928-05-14\",\"1928\",\"1928-06-20\",\"1928\",\"1928\",\"1928-01-01\",\"1928\",\"1928-01-01\",\"1928-05-14\",\"1928\",\"1928\",\"1928\",\"1928\",\"1928-09-24\",\"1928\",\"1928\",\"1928-01-01\",\"1928\",\"1928\",\"1928-09-21\",\"1928\",\"1928-01-01\",\"1928-09-24\",\"1928\",\"1928\",\"1928\",\"1928\",\"1928-10-03\",\"1928\",\"1928\",\"1928-09-21\",\"1928-09-25\",\"1928-09-16\",\"1928-01-01\",\"1928\",\"1928\",\"1928\",\"1928-09-21\",\"1928\",\"1928\",\"1928\",\"1928\",\"1928-09-24\",\"1928\",\"1928\",\"1928-05-14\",\"1928\",\"1928-05-14\",\"1928-06-01\",\"1928-05-14\",\"1928\",\"1928-09-25\",\"1928-05-14\",\"1928\",\"1928\",\"1928\",\"1928\",\"1928\",\"1928\",\"1928-01-01\",\"1928\",\"1928-09-16\",\"1928\",\"1928\",\"1928\",\"1928\",\"1928\",\"1928-09-21\",\"1928\",\"1928-01-12\",\"1928-01-12\",\"1928\",\"1928-09-16\",\"1928-06-01\",\"1928\",\"1928\",\"1928\",\"1928-09-25\",\"1928-06-01\",\"1928\",\"1928\",\"1928-01-12\",\"1928-01-01\",\"1928\",\"1928\",\"1928\",\"1928\",\"1928\",\"1928\",\"1928\",\"1928\",\"1928-10-03\",\"1928\",\"1928\",\"1928-01-01\",\"1928-01-01\",\"1928-07-01\",\"1928-05-14\",\"1928\",\"1928-05-14\",\"1928\",\"1928\",\"1928\",\"1928\",\"1928-09-24\",\"1928\",\"1928-09-25\",\"1928-05-14\",\"1928-01-12\",\"1928\",\"1928\",\"1928\",\"1928-01-01\",\"1928-09-17\",\"1928\",\"1928\",\"1928-01-01\",\"1928\",\"1928\",\"1928-05-14\",\"1928\",\"1928-01-01\",\"1928\",\"1928-01-01\",\"1928\",\"1928-05-14\",\"1928-05-14\",\"1928-09-21\",\"1928\",\"1928\",\"1928\",\"1928\",\"1928\",\"1928\",\"1928-05-14\",\"1928\",\"1928-10-03\",\"1928\",\"1928\",\"1928-01-01\",\"1928\",\"1928-01-02\",\"1928\",\"1928\",\"1928\",\"1928-09-21\",\"1928-09-17\",\"1928-07-01\",\"1928-01-01\",\"1928\",\"1928-09-24\",\"1928\",\"1928\",\"1928\",\"1928\",\"1928\",\"1928-05-14\",\"1928\",\"1928-07-01\",\"1928\",\"1928-07-01\",\"1928\",\"1928\",\"1928-01-01\",\"1928\",\"1928-08-20\",\"1928\",\"1928\",\"1928\",\"1928\",\"1928\",\"1928\",\"1928\",\"1928-09-25\",\"1928\",\"1928\",\"1928\",\"1928\",\"1928-10-03\",\"1929\",\"1929\",\"1929\",\"1929\",\"1929\",\"1929\",\"1929\",\"1929\",\"1929\",\"1929\",\"1929\",\"1929\",\"1929\",\"1929\",\"1929\",\"1929\",\"1929\",\"1929\",\"1929\",\"1929\",\"1929\",\"1929\",\"1929-11-06\",\"1929-06-19\",\"1929\",\"1929-01-01\",\"1929-12-31\",\"1929-10-22\",\"1929\",\"1929-10-15\",\"1929\",\"1929-10-22\",\"1929-10-22\",\"1929-10-31\",\"1929-10-22\",\"1929-06-19\",\"1929-06-19\",\"1929-10-22\",\"1929\",\"1929-10-18\",\"1929\",\"1929-11-06\",\"1929-10-17\",\"1929-11-06\",\"1929-10-24\",\"1929-10-18\",\"1929-01-12\",\"1929\",\"1929-11-06\",\"1929-10-22\",\"1929-08-07\",\"1929\",\"1929\",\"1929-01-08\",\"1929\",\"1929\",\"1929-06-19\",\"1929\",\"1929-01-12\",\"1929-10-18\",\"1929\",\"1929-06-21\",\"1929-01-12\",\"1929\",\"1929\",\"1929\",\"1929-01-12\",\"1929\",\"1929-01-01\",\"1929-10-24\",\"1929\",\"1929-06-20\",\"1929-11-06\",\"1929\",\"1929-01-01\",\"1929\",\"1929-10-04\",\"1929-10-18\",\"1929-05-13\",\"1929-11-05\",\"1929\",\"1929-01-01\",\"1929-01-01\",\"1929\",\"1929-01-01\",\"1929\",\"1929-06-21\",\"1929-06-20\",\"1929\",\"1929-01-01\",\"1929-01-12\",\"1929-10-18\",\"1929-11-06\",\"1929-06-21\",\"1929\",\"1929-08-07\",\"1929-10-31\",\"1929-10-18\",\"1929-11-06\",\"1929-10-22\",\"1929\",\"1929\",\"1929\",\"1929\",\"1929-10-22\",\"1929\",\"1929\",\"1929\",\"1929-10-22\",\"1929-10-22\",\"1929-10-18\",\"1929-11-05\",\"1929-08-07\",\"1929\",\"1929-10-18\",\"1929-06-20\",\"1929-06-19\",\"1929-10-04\",\"1929-10-17\",\"1929-06-19\",\"1929\",\"1929\",\"1929-01-01\",\"1929\",\"1929-10-04\",\"1929-10-17\",\"1929\",\"1929-10-15\",\"1929\",\"1929-10-18\",\"1929-10-18\",\"1929\",\"1929-11-05\",\"1929-06-19\",\"1929\",\"1929-10-18\",\"1929-06-21\",\"1929-10-15\",\"1929-11-05\",\"1929-01-01\",\"1929-10-15\",\"1929-11-06\",\"1929-10-22\",\"1929\",\"1929\",\"1929\",\"1929-11-05\",\"1929-10-22\",\"1929-10-31\",\"1929-10-15\",\"1929\",\"1929\",\"1929-01-01\",\"1929-10-17\",\"1929-10-22\",\"1929\",\"1929\",\"1929-10-18\",\"1929-11-06\",\"1929-10-04\",\"1929\",\"1929\",\"1929-10-22\",\"1929\",\"1929\",\"1929-11-06\",\"1929-01-12\",\"1929-12-31\",\"1929-10-17\",\"1929-10-18\",\"1929-08-07\",\"1929\",\"1929\",\"1929\",\"1929-01-12\",\"1929\",\"1929-11-06\",\"1929-10-18\",\"1929\",\"1929-10-22\",\"1929-01-01\",\"1929-10-17\",\"1929\",\"1929\",\"1929\",\"1929\",\"1929-10-17\",\"1929-06-21\",\"1929\",\"1929-04-17\",\"1929-10-22\",\"1929-01-01\",\"1929-11-06\",\"1929-01-12\",\"1929-10-18\",\"1929\",\"1929\",\"1929-10-04\",\"1929-10-22\",\"1929-01-01\",\"1929-01-01\",\"1929\",\"1929-10-18\",\"1929-12-31\",\"1929-10-18\",\"1929\",\"1929-11-06\",\"1929-10-15\",\"1929\",\"1929-01-08\",\"1929-10-18\",\"1929-10-22\",\"1929-08-07\",\"1929-10-18\",\"1929\",\"1929-05-13\",\"1929\",\"1929-01-11\",\"1929\",\"1929\",\"1929-01-12\",\"1929-11-06\",\"1929-01-12\",\"1929-10-22\",\"1929-10-22\",\"1929-01-12\",\"1929-10-22\",\"1929\",\"1929-06-19\",\"1929-10-04\",\"1929\",\"1929-10-04\",\"1929-10-22\",\"1929-01-01\",\"1929-10-22\",\"1929-10-18\",\"1929-10-24\",\"1929-10-15\",\"1929-10-17\",\"1929-10-22\",\"1929\",\"1929-11-05\",\"1929-10-22\",\"1929-08-07\",\"1929-10-18\",\"1929\",\"1929-08-07\",\"1929-10-17\",\"1929\",\"1929-10-04\",\"1929-11-06\",\"1929-11-06\",\"1929-06-21\",\"1929-10-31\",\"1929-10-22\",\"1929-01-08\",\"1929-10-22\",\"1929-11-05\",\"1929\",\"1929-10-22\",\"1929\",\"1929-10-04\",\"1929-10-22\",\"1929-08-07\",\"1929-10-24\",\"1929\",\"1929-11-06\",\"1929-08-07\",\"1929-06-20\",\"1929\",\"1929-11-05\",\"1929\",\"1929\",\"1929\",\"1929-10-22\",\"1929-06-21\",\"1929-01-12\",\"1929\",\"1929-10-22\",\"1929\",\"1929\",\"1929-10-04\",\"1929-10-22\",\"1929-12-31\",\"1929-12-31\",\"1929\",\"1929-10-22\",\"1929-06-20\",\"1929\",\"1929-10-22\",\"1929-10-22\",\"1929\",\"1929\",\"1929-10-22\",\"1929-01-12\",\"1929\",\"1929-10-22\",\"1929\",\"1929-01-01\",\"1929-01-12\",\"1929-10-18\",\"1929-11-06\",\"1929-10-31\",\"1929-10-18\",\"1929-10-18\",\"1929-10-22\",\"1929-10-22\",\"1929\",\"1929\",\"1929\",\"1929-01-12\",\"1929\",\"1929-10-22\",\"1929-10-18\",\"1929-06-21\",\"1929-10-22\",\"1929-06-19\",\"1929-10-18\",\"1929-01-01\",\"1929\",\"1929-11-06\",\"1929\",\"1929-10-18\",\"1929\",\"1929-06-21\",\"1929-10-31\",\"1929\",\"1929-11-05\",\"1929-01-01\",\"1929-10-31\",\"1929-10-18\",\"1929\",\"1929-10-22\",\"1929-10-31\",\"1929-10-18\",\"1929\",\"1929-10-22\",\"1929-10-22\",\"1929-10-17\",\"1929-01-12\",\"1929\",\"1929\",\"1929-01-01\",\"1929-11-06\",\"1929\",\"1929-10-15\",\"1929-01-12\",\"1929-06-21\",\"1929-10-31\",\"1929\",\"1929\",\"1929-11-05\",\"1929-10-04\",\"1929\",\"1929\",\"1929-01-12\",\"1929-01-08\",\"1929-03-12\",\"1929-01-01\",\"1929-06-19\",\"1929-10-11\",\"1929-11-06\",\"1929-06-20\",\"1929-10-18\",\"1929\",\"1929-10-15\",\"1929\",\"1929-06-19\",\"1929\",\"1929\",\"1929-06-21\",\"1929-08-07\",\"1929-11-05\",\"1929-01-12\",\"1929\",\"1929-10-31\",\"1929-10-22\",\"1929-10-18\",\"1929-01-12\",\"1929-06-20\",\"1929-10-18\",\"1929-05-13\",\"1929-08-07\",\"1929-10-22\",\"1929-10-22\",\"1929-10-15\",\"1929-08-07\",\"1929\",\"1929\",\"1929-01-06\",\"1929-08-07\",\"1929-06-21\",\"1929-06-19\",\"1929-10-18\",\"1929-01-01\",\"1929\",\"1929-11-06\",\"1929-10-22\",\"1929-06-20\",\"1929-10-18\",\"1929-10-15\",\"1929\",\"1929-08-07\",\"1929\",\"1929-10-24\",\"1929-10-24\",\"1929-01-01\",\"1929\",\"1929-10-31\",\"1929-01-11\",\"1929\",\"1929-10-22\",\"1929\",\"1929-10-18\",\"1929\",\"1929\",\"1929-08-07\",\"1929-10-22\",\"1929\",\"1929-06-20\",\"1929-12-31\",\"1929-01-01\",\"1929-10-18\",\"1929-10-22\",\"1929-06-20\",\"1929-06-19\",\"1929-01-01\",\"1929-10-18\",\"1929-12-31\",\"1929-08-07\",\"1929\",\"1929-10-04\",\"1929-01-12\",\"1929-10-18\",\"1929-11-05\",\"1929-11-06\",\"1929-06-21\",\"1929\",\"1929-10-17\",\"1929-01-01\",\"1929-10-22\",\"1929-10-17\",\"1929-11-06\",\"1929-11-05\",\"1929-06-21\",\"1929\",\"1929\",\"1929-06-19\",\"1929-10-31\",\"1929\",\"1929-08-07\",\"1929\",\"1929-06-20\",\"1929-06-21\",\"1929-10-17\",\"1929\",\"1929\",\"1929-10-22\",\"1929-10-31\",\"1929-10-04\",\"1929-03-12\",\"1929-10-31\",\"1929-12-31\",\"1929-10-15\",\"1929-11-05\",\"1929\",\"1929-08-07\",\"1929-10-22\",\"1929-10-18\",\"1929-10-04\",\"1929\",\"1929\",\"1929-10-17\",\"1929-08-07\",\"1929\",\"1929-03-12\",\"1929-10-31\",\"1929-06-20\",\"1929-11-05\",\"1929-10-15\",\"1929-04-17\",\"1929\",\"1929-01-01\",\"1929-10-18\",\"1929-03-12\",\"1929\",\"1929-05-13\",\"1929-08-07\",\"1929-10-18\",\"1929-10-18\",\"1929\",\"1929-10-22\",\"1929\",\"1929-10-22\",\"1929-10-22\",\"1929\",\"1929-10-18\",\"1929\",\"1929-10-17\",\"1929-06-21\",\"1929-01-12\",\"1929-11-05\",\"1929-10-17\",\"1929-11-06\",\"1929-10-31\",\"1929-06-20\",\"1929\",\"1929\",\"1929\",\"1929-10-22\",\"1929-11-06\",\"1929-06-21\",\"1929\",\"1929\",\"1929\",\"1929-10-18\",\"1929\",\"1929\",\"1929-06-20\",\"1929-06-21\",\"1929-10-18\",\"1929-11-05\",\"1929-10-18\",\"1929-01-12\",\"1929-11-06\",\"1929-10-17\",\"1929-01-01\",\"1929-01-12\",\"1929-11-06\",\"1929\",\"1929-01-01\",\"1929-10-18\",\"1929-11-06\",\"1929-11-06\",\"1929\",\"1929-10-22\",\"1929-06-20\",\"1929\",\"1929-08-07\",\"1929\",\"1929\",\"1929-06-21\",\"1929-08-07\",\"1929-10-31\",\"1929\",\"1929-10-18\",\"1929-06-21\",\"1929-10-22\",\"1929-08-07\",\"1929-10-31\",\"1929-11-05\",\"1929\",\"1929-01-12\",\"1929-06-20\",\"1929\",\"1929-10-04\",\"1929-10-22\",\"1929-10-22\",\"1929\",\"1929-10-17\",\"1929\",\"1929-08-07\",\"1929-10-22\",\"1929-11-06\",\"1929-11-06\",\"1929-11-06\",\"1929-11-06\",\"1929\",\"1929\",\"1929-11-06\",\"1929-10-22\",\"1929\",\"1929-10-15\",\"1929-10-15\",\"1929-10-15\",\"1929-01-12\",\"1929\",\"1929-10-18\",\"1929-10-22\",\"1929-10-18\",\"1929\",\"1929\",\"1929-10-04\",\"1929-10-22\",\"1929-06-19\",\"1929-08-07\",\"1929-10-15\",\"1929\",\"1929\",\"1929-01-01\",\"1929-06-19\",\"1929\",\"1929\",\"1929-01-01\",\"1929-01-06\",\"1929-06-19\",\"1929-10-22\",\"1929\",\"1929-06-19\",\"1929\",\"1929\",\"1929-06-20\",\"1929\",\"1929\",\"1929\",\"1929-01-12\",\"1929-10-22\",\"1929-06-20\",\"1929-01-12\",\"1929\",\"1929-06-19\",\"1929-03-12\",\"1929\",\"1929-10-18\",\"1929-10-15\",\"1929\",\"1929\",\"1929-10-22\",\"1929-10-18\",\"1929\",\"1929\",\"1929-10-04\",\"1929-06-19\",\"1929-10-22\",\"1929-10-22\",\"1929\",\"1929-06-20\",\"1929\",\"1929\",\"1929-08-07\",\"1929\",\"1929\",\"1929-12-17\",\"1929\",\"1929\",\"1929\",\"1929\",\"1929\",\"1929\",\"1929-12-17\",\"1929-12-17\",\"1929\",\"1929-12-17\",\"1929\",\"1929\",\"1929\",\"1929\",\"1929\",\"1930\",\"1930-08-18\",\"1930\",\"1930-06-14\",\"1930\",\"1930-01-01\",\"1930-01-01\",\"1930\",\"1930\",\"1930-01-01\",\"1930-01-01\",\"1930\",\"1930\",\"1930\",\"1930\",\"1930\",\"1930\",\"1930\",\"1930\",\"1930\",\"1930\",\"1930\",\"1930\",\"1930\",\"1930\",\"1930\",\"1930\",\"1930-01-01\",\"1930\",\"1930\",\"1930\",\"1930\",\"1930\",\"1930\",\"1930\",\"1930\",\"1930\",\"1930-06-14\",\"1930\",\"1930\",\"1930\",\"1930\",\"1930\",\"1930\",\"1930-06-14\",\"1930\",\"1930\",\"1930\",\"1930-08-18\",\"1930-01-01\",\"1930\",\"1930\",\"1930-06-14\",\"1930\",\"1930\",\"1930-01-01\",\"1930\",\"1930\",\"1930-01-01\",\"1930-08-18\",\"1930-01-01\",\"1930\",\"1930-01-01\",\"1930\",\"1930\",\"1930\",\"1930\",\"1930\",\"1930\",\"1930\",\"1930\",\"1930\",\"1930\",\"1930\",\"1930\",\"1930\",\"1930-01-01\",\"1930\",\"1930\",\"1930\",\"1930-01-01\",\"1930\",\"1930\",\"1930\",\"1930\",\"1930\",\"1930\",\"1930-08-18\",\"1930\",\"1930-06-14\",\"1930\",\"1930\",\"1930-01-01\",\"1930-01-01\",\"1930\",\"1930\",\"1930\",\"1930-01-01\",\"1930-01-01\",\"1930\",\"1930\",\"1930\",\"1930\",\"1930\",\"1930\",\"1930-01-01\",\"1930-01-01\",\"1930-01-01\",\"1930\",\"1930\",\"1930\",\"1930\",\"1930\",\"1930\",\"1930\",\"1930-01-01\",\"1930-01-01\",\"1930\",\"1930-01-01\",\"1930\",\"1930\",\"1930-12-01\",\"1930-06-14\",\"1930-06-21\",\"1930-03-15\",\"1930\",\"1930-01-01\",\"1930\",\"1930\",\"1930-06-21\",\"1930-12-05\",\"1930-01-01\",\"1930-01-01\",\"1930-12-05\",\"1930\",\"1930\",\"1930\",\"1930-01-01\",\"1930\",\"1930-01-01\",\"1930\",\"1930\",\"1930-01-01\",\"1930\",\"1930-01-01\",\"1930-01-01\",\"1930-01-01\",\"1930\",\"1930-01-01\",\"1930-01-01\",\"1930-01-01\",\"1930-11-20\",\"1930-11-12\",\"1930-01-01\",\"1930-01-01\",\"1930-01-01\",\"1930-06-21\",\"1930-01-01\",\"1930-01-01\",\"1930\",\"1930-01-01\",\"1930-01-01\",\"1930-01-01\",\"1930-01-01\",\"1930-01-01\",\"1930-11-20\",\"1930\",\"1930-01-01\",\"1930-08-18\",\"1930-01-01\",\"1930-12-05\",\"1930-12-31\",\"1930-01-01\",\"1930\",\"1930\",\"1930-01-01\",\"1930-01-01\",\"1930-01-01\",\"1930-12-05\",\"1930-01-01\",\"1930-11-20\",\"1930\",\"1930-01-01\",\"1930-12-03\",\"1930\",\"1930-12-05\",\"1930-01-01\",\"1930-01-01\",\"1930-01-01\",\"1930-01-01\",\"1930\",\"1930-01-01\",\"1930-01-01\",\"1930-01-01\",\"1930-01-01\",\"1930-01-01\",\"1930\",\"1930\",\"1930-01-01\",\"1930\",\"1930-01-01\",\"1930-01-01\",\"1930-01-01\",\"1930-06-14\",\"1930-01-01\",\"1930-01-01\",\"1930-01-01\",\"1930-01-01\",\"1930-01-01\",\"1930-01-01\",\"1930-01-01\",\"1930-02-28\",\"1930-01-01\",\"1930-08-18\",\"1930-01-01\",\"1930-12-05\",\"1930-11-12\",\"1930-01-01\",\"1930-01-01\",\"1930-01-01\",\"1930-01-01\",\"1930-12-03\",\"1930-01-01\",\"1930-01-01\",\"1930-01-01\",\"1930\",\"1930-01-01\",\"1930-01-01\",\"1930-01-01\",\"1930\",\"1930-01-01\",\"1930\",\"1930-01-01\",\"1930-01-01\",\"1930\",\"1930-01-01\",\"1930\",\"1930\",\"1930\",\"1930-01-01\",\"1930\",\"1930-03-02\",\"1930-03-15\",\"1930-01-01\",\"1930-08-18\",\"1930-11-16\",\"1930-01-01\",\"1930-01-12\",\"1930-11-12\",\"1930-01-01\",\"1930-01-01\",\"1930-01-01\",\"1930-01-01\",\"1930-01-01\",\"1930-01-01\",\"1930-01-01\",\"1930-01-01\",\"1930-01-01\",\"1930-01-01\",\"1930-01-01\",\"1930-01-01\",\"1930\",\"1930-08-18\",\"1930\",\"1930-01-01\",\"1930-01-01\",\"1930-06-14\",\"1930-11-20\",\"1930-01-01\",\"1930\",\"1930\",\"1930-06-21\",\"1930-12-31\",\"1930-01-01\",\"1930-06-21\",\"1930-03-11\",\"1930-01-01\",\"1930\",\"1930-04-23\",\"1930-01-01\",\"1930-01-01\",\"1930-01-01\",\"1930\",\"1930-11-16\",\"1930-01-01\",\"1930-01-01\",\"1930\",\"1930\",\"1930-01-01\",\"1930-01-01\",\"1930-01-01\",\"1930\",\"1930-11-16\",\"1930\",\"1930-01-01\",\"1930-01-01\",\"1930-03-02\",\"1930-06-20\",\"1930-01-01\",\"1930-12-01\",\"1930-01-01\",\"1930-01-01\",\"1930-06-21\",\"1930-01-01\",\"1930-06-21\",\"1930-01-01\",\"1930-01-01\",\"1930-01-01\",\"1930\",\"1930-01-01\",\"1930-01-01\",\"1930-01-01\",\"1930\",\"1930-01-01\",\"1930\",\"1930\",\"1930-01-01\",\"1930\",\"1930\",\"1930-01-01\",\"1930\",\"1930\",\"1930-01-01\",\"1930-01-01\",\"1930-01-01\",\"1930\",\"1930-01-01\",\"1930\",\"1930-01-01\",\"1930-12-01\",\"1930-01-01\",\"1930-01-01\",\"1930-12-05\",\"1930-04-01\",\"1930-12-03\",\"1930-01-01\",\"1930-01-01\",\"1930\",\"1930-01-01\",\"1930-01-01\",\"1930-01-01\",\"1930-06-20\",\"1930-01-01\",\"1930-11-20\",\"1930-01-01\",\"1930\",\"1930\",\"1930-08-18\",\"1930-12-01\",\"1930-01-01\",\"1930-01-01\",\"1930-01-01\",\"1930-01-01\",\"1930\",\"1930-01-01\",\"1930-01-01\",\"1930-01-01\",\"1930-01-01\",\"1930-01-01\",\"1930-08-18\",\"1930\",\"1930-11-16\",\"1930-12-05\",\"1930-11-20\",\"1930-05-29\",\"1930-01-01\",\"1930-01-01\",\"1930-01-01\",\"1930-01-01\",\"1930-01-01\",\"1930-01-01\",\"1930-01-01\",\"1930-01-01\",\"1930\",\"1930\",\"1930-01-01\",\"1930-12-05\",\"1930-08-18\",\"1930-01-01\",\"1930-01-01\",\"1930-11-20\",\"1930\",\"1930-06-14\",\"1930-01-01\",\"1930-11-12\",\"1930-11-20\",\"1930-01-01\",\"1930-11-12\",\"1930-01-01\",\"1930-01-01\",\"1930-01-01\",\"1930-01-01\",\"1930-01-01\",\"1930-01-01\",\"1930\",\"1930-01-01\",\"1930-01-01\",\"1930\",\"1930-12-03\",\"1930-01-01\",\"1930\",\"1930\",\"1930-05-29\",\"1930-01-01\",\"1930-01-01\",\"1930\",\"1930-01-01\",\"1930-03-02\",\"1930-01-01\",\"1930-01-01\",\"1930-06-21\",\"1930-01-01\",\"1930-01-01\",\"1930-01-01\",\"1930-01-01\",\"1930-01-01\",\"1930\",\"1930\",\"1930-01-01\",\"1930-01-01\",\"1930-01-01\",\"1930-01-01\",\"1930-01-01\",\"1930-12-03\",\"1930-01-01\",\"1930-01-01\",\"1930-01-01\",\"1930-01-01\",\"1930\",\"1930-01-01\",\"1930-01-01\",\"1930-01-01\",\"1930-08-18\",\"1930\",\"1930\",\"1930-01-01\",\"1930-01-01\",\"1930-12-03\",\"1930-01-01\",\"1930-01-01\",\"1930-01-01\",\"1930-01-01\",\"1930-01-01\",\"1930-05-29\",\"1930-01-12\",\"1930-12-01\",\"1930-01-01\",\"1930-01-01\",\"1930\",\"1930-11-16\",\"1930-11-20\",\"1930\",\"1930-12-05\",\"1930-01-01\",\"1930-01-01\",\"1930-01-01\",\"1930-12-01\",\"1930-01-01\",\"1930-01-01\",\"1930-01-01\",\"1930-01-01\",\"1930-01-01\",\"1930-01-01\",\"1930-11-12\",\"1930\",\"1930-01-01\",\"1930-01-01\",\"1930-01-01\",\"1930-01-01\",\"1930-01-01\",\"1930\",\"1930-01-01\",\"1930-01-01\",\"1930\",\"1930-01-01\",\"1930\",\"1930-11-20\",\"1930-01-01\",\"1930-06-21\",\"1930-01-01\",\"1930-01-01\",\"1930-06-14\",\"1930-01-01\",\"1930-01-01\",\"1930\",\"1930-11-13\",\"1930-01-01\",\"1930-01-01\",\"1930\",\"1930-12-01\",\"1930-01-01\",\"1930-03-15\",\"1930-01-01\",\"1930-01-01\",\"1930-01-01\",\"1930-06-20\",\"1930\",\"1930-01-01\",\"1930-06-21\",\"1930\",\"1930-01-01\",\"1930-01-01\",\"1930-12-03\",\"1930-01-01\",\"1930\",\"1930\",\"1930\",\"1930-01-01\",\"1930\",\"1930-01-01\",\"1930-06-21\",\"1930-01-01\",\"1930\",\"1930-01-01\",\"1930\",\"1930-01-01\",\"1930-12-01\",\"1930\",\"1930-12-03\",\"1930-01-01\",\"1930-12-01\",\"1930-06-20\",\"1930-01-01\",\"1930-01-01\",\"1930-06-14\",\"1930\",\"1930-01-01\",\"1930\",\"1930-01-01\",\"1930-01-12\",\"1930-01-01\",\"1930-01-01\",\"1930-08-18\",\"1930\",\"1930\",\"1930-11-16\",\"1930-06-20\",\"1930\",\"1930\",\"1930-01-01\",\"1930-01-01\",\"1930\",\"1930-01-01\",\"1930\",\"1930-01-01\",\"1930-01-01\",\"1930-01-01\",\"1930-04-23\",\"1930\",\"1930-01-01\",\"1930-01-01\",\"1930-01-01\",\"1930\",\"1930-01-01\",\"1930\",\"1930-06-21\",\"1930-01-01\",\"1930-01-01\",\"1930-11-12\",\"1930-06-21\",\"1930-01-01\",\"1930-01-01\",\"1930\",\"1930-12-03\",\"1930-01-01\",\"1930-01-01\",\"1930-01-01\",\"1930-01-01\",\"1930-01-01\",\"1930-01-01\",\"1930-03-02\",\"1930-01-01\",\"1930-01-01\",\"1930-06-21\",\"1930-01-01\",\"1930-01-01\",\"1930\",\"1930-01-01\",\"1930-11-20\",\"1930\",\"1930-01-01\",\"1930-12-05\",\"1930-01-01\",\"1930\",\"1930-01-01\",\"1930\",\"1930\",\"1930\",\"1930\",\"1930-01-01\",\"1930-01-01\",\"1930\",\"1930-01-01\",\"1930-12-03\",\"1930-01-01\",\"1930-01-01\",\"1930-12-05\",\"1930-06-21\",\"1930-01-01\",\"1930-01-01\",\"1930-01-01\",\"1930\",\"1930\",\"1930-01-01\",\"1930\",\"1930\",\"1930-11-13\",\"1930\",\"1930\",\"1930\",\"1930-01-01\",\"1930-01-01\",\"1930-01-01\",\"1930-01-01\",\"1930\",\"1930\",\"1930\",\"1930-01-01\",\"1930-01-01\",\"1930-01-01\",\"1930\",\"1930-01-01\",\"1930-12-03\",\"1930\",\"1930-01-01\",\"1930-01-01\",\"1930-11-16\",\"1930-01-01\",\"1930-01-01\",\"1930-06-21\",\"1930\",\"1930-12-31\",\"1930-01-01\",\"1930-11-12\",\"1930-06-20\",\"1930-01-01\",\"1930-01-01\",\"1930-01-01\",\"1930\",\"1930-11-20\",\"1930-01-01\",\"1930-01-01\",\"1930-01-01\",\"1930-01-01\",\"1930-01-01\",\"1930-01-01\",\"1930-01-01\",\"1930-06-21\",\"1930-01-01\",\"1930-01-01\",\"1930-01-01\",\"1930-01-01\",\"1930-01-01\",\"1930-01-01\",\"1930-01-01\",\"1930-12-03\",\"1930-11-20\",\"1930\",\"1930-01-01\",\"1930-03-15\",\"1930-01-01\",\"1930-11-16\",\"1930-01-01\",\"1930\",\"1930-11-12\",\"1930-06-21\",\"1930\",\"1930\",\"1930-01-01\",\"1930-11-16\",\"1930-01-01\",\"1930-05-11\",\"1930-01-01\",\"1930-01-01\",\"1930-01-01\",\"1930-12-05\",\"1930-01-01\",\"1930-11-20\",\"1930-01-01\",\"1930-01-01\",\"1930\",\"1930-01-01\",\"1930-01-01\",\"1930-01-01\",\"1930-08-18\",\"1930-03-02\",\"1930\",\"1930-01-01\",\"1930-11-20\",\"1930-01-01\",\"1930-12-31\",\"1930-11-12\",\"1930-01-01\",\"1930-01-01\",\"1930-06-21\",\"1930-01-01\",\"1930-12-05\",\"1930\",\"1930-01-01\",\"1930\",\"1930-01-01\",\"1930-11-12\",\"1930-01-01\",\"1930\",\"1930-01-01\",\"1930-12-01\",\"1930-01-01\",\"1930-01-01\",\"1930-01-01\",\"1930-01-01\",\"1930-11-13\",\"1930-06-20\",\"1930-01-01\",\"1930-01-01\",\"1930\",\"1930-01-01\",\"1930-01-01\",\"1930-12-03\",\"1930-01-01\",\"1930-01-01\",\"1930-12-05\",\"1930\",\"1930-12-05\",\"1930\",\"1930\",\"1930-11-16\",\"1930-01-01\",\"1930-01-01\",\"1930\",\"1930-01-01\",\"1930-01-01\",\"1930\",\"1930-12-01\",\"1930-11-12\",\"1930\",\"1930-01-01\",\"1930-11-20\",\"1930-01-01\",\"1930-01-01\",\"1930-01-01\",\"1930-01-01\",\"1930\",\"1930-01-01\",\"1930-01-01\",\"1930-01-01\",\"1930-01-01\",\"1930-12-03\",\"1930-03-15\",\"1930\",\"1930-12-03\",\"1930-01-01\",\"1930\",\"1930-01-01\",\"1930-01-01\",\"1930-06-21\",\"1930\",\"1930-03-10\",\"1930-01-01\",\"1930-01-01\",\"1930-01-01\",\"1930\",\"1930-01-01\",\"1930-01-01\",\"1930\",\"1930\",\"1930-01-01\",\"1930-01-04\",\"1930-11-13\",\"1930-01-01\",\"1930-11-16\",\"1930-08-18\",\"1930-11-12\",\"1930-03-15\",\"1930-12-05\",\"1930-01-01\",\"1930-12-01\",\"1930-01-01\",\"1930-11-12\",\"1930-11-20\",\"1930-01-01\",\"1930-01-01\",\"1930-12-31\",\"1930-01-01\",\"1930-01-01\",\"1930-01-01\",\"1930\",\"1930-06-21\",\"1930-01-01\",\"1930-01-01\",\"1930-11-20\",\"1930-01-01\",\"1930-01-01\",\"1930\",\"1930-01-01\",\"1930-01-01\",\"1930-01-01\",\"1930-01-01\",\"1930-01-01\",\"1930-01-01\",\"1930\",\"1930-01-01\",\"1930\",\"1930\",\"1930-01-01\",\"1930-01-01\",\"1930-11-13\",\"1930-01-01\",\"1930-06-21\",\"1930\",\"1930\",\"1930-01-01\",\"1930\",\"1930-01-01\",\"1930-01-01\",\"1930-01-01\",\"1930\",\"1930-01-01\",\"1930-01-01\",\"1930\",\"1930-12-05\",\"1930-01-03\",\"1930-01-01\",\"1930-01-01\",\"1930\",\"1930-01-12\",\"1930-01-12\",\"1930-06-21\",\"1930-01-01\",\"1930-01-01\",\"1930-01-01\",\"1930\",\"1930\",\"1930-01-01\",\"1930-01-01\",\"1930-05-11\",\"1930-04-23\",\"1930-01-01\",\"1930\",\"1930-01-01\",\"1930-01-01\",\"1930\",\"1930-12-05\",\"1930-06-21\",\"1930-01-01\",\"1930-12-03\",\"1930\",\"1930-01-01\",\"1930-12-05\",\"1930-01-01\",\"1930\",\"1930-01-01\",\"1930-01-01\",\"1930-01-01\",\"1930-01-01\",\"1930-12-01\",\"1930\",\"1930-06-20\",\"1930\",\"1930-01-01\",\"1930\",\"1930-06-20\",\"1930-01-01\",\"1930-01-01\",\"1930\",\"1930-01-01\",\"1930-01-01\",\"1930\",\"1930-01-01\",\"1930-01-01\",\"1930-01-01\",\"1930\",\"1930\",\"1930-01-01\",\"1930-01-01\",\"1930-12-01\",\"1930-01-01\",\"1930-08-18\",\"1930\",\"1930-01-01\",\"1930-01-12\",\"1930-01-01\",\"1930-01-01\",\"1930\",\"1930\",\"1930-11-20\",\"1930-01-01\",\"1930\",\"1930-01-01\",\"1930-01-01\",\"1930-01-01\",\"1930-04-01\",\"1930-01-01\",\"1930-01-01\",\"1930-08-18\",\"1930-01-01\",\"1930-12-01\",\"1930-01-01\",\"1930-01-01\",\"1930-01-01\",\"1930\",\"1930-01-01\",\"1930-12-01\",\"1930-08-18\",\"1930\",\"1930\",\"1930-06-21\",\"1930-11-12\",\"1930-01-01\",\"1930-01-01\",\"1930-01-01\",\"1930\",\"1930-01-01\",\"1930-01-01\",\"1930\",\"1930\",\"1930-01-12\",\"1930\",\"1930-01-01\",\"1930\",\"1930-01-01\",\"1930-12-01\",\"1930\",\"1930-01-01\",\"1930-06-21\",\"1930-01-01\",\"1930-01-01\",\"1930-08-18\",\"1930-01-01\",\"1930-01-01\",\"1930-01-01\",\"1930\",\"1930-01-01\",\"1930-11-20\",\"1930-01-01\",\"1930-01-01\",\"1930-06-21\",\"1930\",\"1930-01-01\",\"1930-01-12\",\"1930\",\"1930-12-05\",\"1930-01-01\",\"1930-01-01\",\"1930-01-01\",\"1930\",\"1930-01-01\",\"1930-01-01\",\"1930-12-05\",\"1930-01-01\",\"1930-01-01\",\"1930\",\"1930-06-21\",\"1930-01-01\",\"1930-01-01\",\"1930\",\"1930-01-01\",\"1930\",\"1930-11-20\",\"1930-01-01\",\"1930-11-16\",\"1930-01-01\",\"1930-12-03\",\"1930-01-01\",\"1930\",\"1930-11-16\",\"1930-01-01\",\"1930-04-23\",\"1930-12-05\",\"1930-01-01\",\"1930-01-01\",\"1930-01-01\",\"1930-01-01\",\"1930-01-01\",\"1930\",\"1930-01-01\",\"1930-01-01\",\"1930-01-01\",\"1930\",\"1930-11-20\",\"1930-01-01\",\"1930\",\"1930\",\"1930-01-01\",\"1930-01-01\",\"1930-01-01\",\"1930-06-21\",\"1930-01-01\",\"1930\",\"1930-11-13\",\"1930-01-01\",\"1930-06-21\",\"1930-01-01\",\"1930-01-01\",\"1930\",\"1930\",\"1930\",\"1930\",\"1930-01-01\",\"1930-01-01\",\"1930-01-01\",\"1931-01-01\",\"1931-01-01\",\"1931-01-01\",\"1931-01-01\",\"1931-01-01\",\"1931-01-01\",\"1931-01-01\",\"1931-01-01\",\"1931-01-01\",\"1931-07-01\",\"1931-01-01\",\"1931\",\"1931-01-01\",\"1931\",\"1931\",\"1931-01-01\",\"1931\",\"1931-04-16\",\"1931\",\"1931\",\"1931-06-25\",\"1931\",\"1931-01-01\",\"1931\",\"1931\",\"1931-01-01\",\"1931-01-01\",\"1931\",\"1931\",\"1931-01-01\",\"1931-01-01\",\"1931-12-01\",\"1931-12-01\",\"1931\",\"1931-12-11\",\"1931\",\"1931-01-01\",\"1931-12-01\",\"1931\",\"1931-01-01\",\"1931\",\"1931-04-16\",\"1931-12-11\",\"1931-01-01\",\"1931\",\"1931\",\"1931-07-01\",\"1931\",\"1931-12-12\",\"1931-01-01\",\"1931\",\"1931\",\"1931\",\"1931-12-01\",\"1931\",\"1931\",\"1931-12-05\",\"1931-07-01\",\"1931\",\"1931\",\"1931-12-14\",\"1931\",\"1931-07-01\",\"1931\",\"1931-01-01\",\"1931\",\"1931-12-05\",\"1931\",\"1931-01-01\",\"1931\",\"1931\",\"1931\",\"1931\",\"1931-12-11\",\"1931-12-14\",\"1931-12-14\",\"1931-12-11\",\"1931-12-11\",\"1931\",\"1931-04-13\",\"1931\",\"1931-02-01\",\"1931\",\"1931\",\"1931-12-01\",\"1931-04-16\",\"1931-04-16\",\"1931\",\"1931-12-01\",\"1931\",\"1931-01-01\",\"1931\",\"1931-06-25\",\"1931-04-16\",\"1931\",\"1931\",\"1931-01-01\",\"1931-06-25\",\"1931\",\"1931-12-12\",\"1931\",\"1931-06-25\",\"1931-02-01\",\"1931\",\"1931\",\"1931-12-14\",\"1931-12-11\",\"1931\",\"1931-03-30\",\"1931-12-14\",\"1931\",\"1931\",\"1931\",\"1931\",\"1931-02-01\",\"1931\",\"1931\",\"1931\",\"1931-12-12\",\"1931-04-16\",\"1931-12-14\",\"1931-12-12\",\"1931\",\"1931\",\"1931\",\"1931-12-12\",\"1931-12-14\",\"1931\",\"1931\",\"1931-12-11\",\"1931-12-12\",\"1931-12-01\",\"1931\",\"1931\",\"1931-01-01\",\"1931-12-12\",\"1931\",\"1931-12-14\",\"1931\",\"1931\",\"1931-03-23\",\"1931\",\"1931-12-01\",\"1931-01-01\",\"1931-06-25\",\"1931-06-25\",\"1931-12-14\",\"1931\",\"1931-01-01\",\"1931-04-16\",\"1931-12-12\",\"1931\",\"1931\",\"1931\",\"1931-01-01\",\"1931-12-14\",\"1931\",\"1931\",\"1931\",\"1931\",\"1931\",\"1931-01-01\",\"1931-01-01\",\"1931\",\"1931-01-01\",\"1931-01-01\",\"1931-12-14\",\"1931\",\"1931\",\"1931-12-12\",\"1931\",\"1931-06-25\",\"1931\",\"1931-12-14\",\"1931-01-01\",\"1931\",\"1931-11-04\",\"1931\",\"1931\",\"1931\",\"1931-12-05\",\"1931-12-11\",\"1931-01-01\",\"1931-12-01\",\"1931-06-25\",\"1931-12-14\",\"1931-12-01\",\"1931\",\"1931-12-14\",\"1931-03-30\",\"1931-12-14\",\"1931-04-16\",\"1931-02-01\",\"1931-12-14\",\"1931-12-01\",\"1931-12-01\",\"1931\",\"1931-07-01\",\"1931-06-25\",\"1931-01-01\",\"1931\",\"1931-12-01\",\"1931\",\"1931-06-25\",\"1931\",\"1931\",\"1931\",\"1931\",\"1931\",\"1931\",\"1931\",\"1931\",\"1931-06-25\",\"1931-04-16\",\"1931\",\"1931-06-25\",\"1931\",\"1931-11-04\",\"1931\",\"1931-07-01\",\"1931-12-11\",\"1931-11-04\",\"1931\",\"1931\",\"1931-12-11\",\"1931\",\"1931-12-11\",\"1931-06-25\",\"1931-06-25\",\"1931-12-12\",\"1931-12-14\",\"1931-01-01\",\"1931\",\"1931-12-01\",\"1931\",\"1931-07-01\",\"1931-02-01\",\"1931-12-01\",\"1931-01-01\",\"1931-12-01\",\"1931\",\"1931-01-01\",\"1931\",\"1931-01-01\",\"1931\",\"1931-07-01\",\"1931\",\"1931\",\"1931\",\"1931-06-25\",\"1931-12-01\",\"1931\",\"1931-07-01\",\"1931-12-01\",\"1931-01-01\",\"1931\",\"1931\",\"1931-12-14\",\"1931-03-30\",\"1931\",\"1931-06-25\",\"1931-12-12\",\"1931\",\"1931\",\"1931\",\"1931\",\"1931\",\"1931\",\"1931-04-16\",\"1931-12-12\",\"1931\",\"1931-06-25\",\"1931-01-01\",\"1931\",\"1931\",\"1931\",\"1931\",\"1931\",\"1931\",\"1931\",\"1931\",\"1931-12-14\",\"1931-11-04\",\"1931\",\"1931-12-12\",\"1931-06-25\",\"1931-12-11\",\"1931\",\"1931\",\"1931\",\"1931\",\"1931\",\"1931\",\"1931\",\"1931\",\"1931-06-25\",\"1931-12-12\",\"1931-12-14\",\"1931\",\"1931-12-14\",\"1931-03-30\",\"1931-01-12\",\"1931-01-01\",\"1931-03-30\",\"1931-12-01\",\"1931-12-14\",\"1931-01-01\",\"1931\",\"1931\",\"1931-12-11\",\"1931-12-14\",\"1931\",\"1931\",\"1931-04-16\",\"1931-06-25\",\"1931-12-14\",\"1931\",\"1931\",\"1931-12-01\",\"1931-01-12\",\"1931-12-12\",\"1931\",\"1931-01-01\",\"1931-11-04\",\"1931\",\"1931-01-01\",\"1931\",\"1931\",\"1931\",\"1931-01-01\",\"1931\",\"1931\",\"1931\",\"1931-12-11\",\"1931\",\"1931-12-14\",\"1931-12-14\",\"1931\",\"1931-12-11\",\"1931\",\"1931\",\"1931\",\"1931-12-01\",\"1931\",\"1931\",\"1931-07-01\",\"1931\",\"1931-06-25\",\"1931-01-01\",\"1931-12-12\",\"1931-12-05\",\"1931-12-05\",\"1931-01-01\",\"1931-06-25\",\"1931-12-11\",\"1931\",\"1931-01-01\",\"1931\",\"1931-04-16\",\"1931\",\"1931\",\"1931-06-25\",\"1931-12-14\",\"1931-12-12\",\"1931-12-05\",\"1931\",\"1931-12-14\",\"1931-04-16\",\"1931\",\"1931-12-14\",\"1931-12-01\",\"1931-12-12\",\"1931-12-01\",\"1931-12-05\",\"1931-12-01\",\"1931\",\"1931-12-01\",\"1931\",\"1931-12-05\",\"1931-01-01\",\"1931\",\"1931\",\"1931-01-01\",\"1931\",\"1931-11-04\",\"1931-07-01\",\"1931\",\"1931-01-01\",\"1931-12-12\",\"1931-12-11\",\"1931\",\"1931-01-01\",\"1931\",\"1931\",\"1931-12-01\",\"1931\",\"1931\",\"1931-12-14\",\"1931\",\"1931\",\"1931\",\"1931\",\"1931-01-01\",\"1931-12-14\",\"1931-12-14\",\"1931\",\"1931\",\"1931-03-30\",\"1931-01-01\",\"1931\",\"1931\",\"1931-01-12\",\"1931-12-05\",\"1931\",\"1931-12-01\",\"1931\",\"1931-07-01\",\"1931-01-01\",\"1931-01-01\",\"1931-12-01\",\"1931-11-04\",\"1931\",\"1931\",\"1931-01-01\",\"1931\",\"1931-12-11\",\"1931\",\"1931\",\"1931\",\"1931-01-01\",\"1931-01-01\",\"1931-01-01\",\"1931-12-01\",\"1931\",\"1931-01-01\",\"1931\",\"1931-12-14\",\"1931\",\"1931\",\"1931-12-01\",\"1931-11-04\",\"1931\",\"1931-12-05\",\"1931-02-01\",\"1931\",\"1931-12-14\",\"1931-12-12\",\"1931-04-16\",\"1931-02-01\",\"1931-06-25\",\"1931\",\"1931\",\"1931\",\"1931-12-01\",\"1931\",\"1931-12-05\",\"1931\",\"1931\",\"1931\",\"1931-12-14\",\"1931\",\"1931\",\"1931\",\"1931-12-11\",\"1931-01-01\",\"1931-01-01\",\"1931\",\"1931-06-25\",\"1931\",\"1931\",\"1931\",\"1931-12-05\",\"1931-01-01\",\"1931\",\"1931\",\"1931-03-30\",\"1931-01-01\",\"1931-06-25\",\"1931\",\"1931\",\"1931-12-01\",\"1931-03-30\",\"1931\",\"1931-12-14\",\"1931\",\"1931\",\"1931\",\"1931-12-14\",\"1931-03-30\",\"1931\",\"1931\",\"1931\",\"1931-04-16\",\"1931\",\"1931\",\"1931\",\"1931\",\"1931\",\"1931-12-05\",\"1931\",\"1931\",\"1931\",\"1931-11-04\",\"1931-04-13\",\"1931\",\"1931\",\"1931-11-04\",\"1931-12-12\",\"1931\",\"1931\",\"1931-12-01\",\"1931\",\"1931-04-16\",\"1931\",\"1931\",\"1931-02-01\",\"1931-12-14\",\"1931-12-14\",\"1931\",\"1931-01-01\",\"1931\",\"1931-12-14\",\"1931-12-12\",\"1931\",\"1931-12-11\",\"1931-12-11\",\"1931\",\"1931-01-01\",\"1931-06-25\",\"1931-01-12\",\"1931\",\"1931\",\"1931-06-25\",\"1931-12-12\",\"1931-12-01\",\"1931-11-04\",\"1931-01-01\",\"1931\",\"1931\",\"1931-04-16\",\"1931\",\"1931\",\"1931-12-11\",\"1931-12-01\",\"1931\",\"1931\",\"1931-11-04\",\"1931\",\"1931-12-14\",\"1931-12-11\",\"1931\",\"1931\",\"1931-06-25\",\"1931-12-01\",\"1931-12-14\",\"1931-06-25\",\"1931\",\"1931-01-12\",\"1931-12-11\",\"1931-12-12\",\"1931-04-16\",\"1931\",\"1931-06-25\",\"1931\",\"1931\",\"1931\",\"1931\",\"1931-01-01\",\"1931-03-30\",\"1931\",\"1931-12-11\",\"1931\",\"1931-12-12\",\"1931-11-04\",\"1931\",\"1931\",\"1931-02-01\",\"1931-07-01\",\"1931-12-14\",\"1931\",\"1931\",\"1931-01-12\",\"1931\",\"1931-03-30\",\"1931-12-01\",\"1931\",\"1931-01-01\",\"1931-03-30\",\"1931\",\"1931\",\"1931\",\"1931-06-25\",\"1931\",\"1931\",\"1931\",\"1931-01-01\",\"1931-06-25\",\"1931\",\"1931\",\"1931\",\"1931-12-11\",\"1931\",\"1931-03-30\",\"1931-02-01\",\"1931\",\"1931-07-01\",\"1931\",\"1931\",\"1931\",\"1931\",\"1931\",\"1931-01-01\",\"1931-12-01\",\"1931\",\"1931-07-01\",\"1931-11-04\",\"1931\",\"1931-12-05\",\"1931-12-01\",\"1931-12-11\",\"1931\",\"1931-06-25\",\"1931\",\"1931-12-01\",\"1931\",\"1931-12-11\",\"1931\",\"1931-12-12\",\"1931\",\"1931-12-05\",\"1931\",\"1931\",\"1931-01-01\",\"1931-04-16\",\"1931\",\"1931-11-04\",\"1931\",\"1931-04-16\",\"1931-04-16\",\"1931-01-01\",\"1931\",\"1931\",\"1931-01-01\",\"1931-12-11\",\"1931-03-23\",\"1931-01-01\",\"1931-12-14\",\"1931\",\"1931\",\"1931-04-16\",\"1931\",\"1931-12-05\",\"1931\",\"1931\",\"1931-07-01\",\"1931\",\"1931\",\"1931-03-30\",\"1931\",\"1931-06-25\",\"1931\",\"1931-04-16\",\"1931-12-14\",\"1931\",\"1931-06-25\",\"1931\",\"1931-12-01\",\"1931-12-11\",\"1931-12-01\",\"1931\",\"1931-06-25\",\"1931-12-12\",\"1931\",\"1931\",\"1931\",\"1931-12-01\",\"1931\",\"1931-12-12\",\"1931-01-01\",\"1931\",\"1931-07-01\",\"1931-12-01\",\"1931-12-14\",\"1931-12-01\",\"1931\",\"1931-12-01\",\"1931-12-11\",\"1931-12-11\",\"1931-01-01\",\"1931\",\"1931-03-23\",\"1931-12-12\",\"1931\",\"1931\",\"1931-12-12\",\"1931\",\"1931-04-16\",\"1931\",\"1931\",\"1931-12-14\",\"1931-12-14\",\"1931\",\"1931-12-11\",\"1931-12-12\",\"1931-12-12\",\"1931\",\"1931-06-25\",\"1931\",\"1931\",\"1931-01-01\",\"1931-01-01\",\"1931-12-14\",\"1931\",\"1931\",\"1931-12-05\",\"1931-07-01\",\"1931\",\"1931\",\"1931\",\"1931\",\"1931\",\"1931-01-01\",\"1931-06-25\",\"1931-01-01\",\"1931-04-16\",\"1931\",\"1931-03-30\",\"1931\",\"1931\",\"1931\",\"1931\",\"1931-01-01\",\"1931\",\"1931-01-01\",\"1931-12-11\",\"1931-12-11\",\"1931-12-14\",\"1931-11-04\",\"1931-12-12\",\"1931\",\"1931-12-12\",\"1931-12-01\",\"1931\",\"1931\",\"1931-12-01\",\"1931\",\"1931\",\"1931\",\"1931\",\"1931-07-01\",\"1931\",\"1931\",\"1931\",\"1931-01-01\",\"1931-01-01\",\"1931-01-01\",\"1931-01-01\",\"1931\",\"1931-01-01\",\"1931-01-01\",\"1931-01-01\",\"1931-01-01\",\"1931-01-01\",\"1931-01-01\",\"1931-01-01\",\"1931-01-01\",\"1931\",\"1931\",\"1932\",\"1932\",\"1932\",\"1932\",\"1932\",\"1932\",\"1932\",\"1932\",\"1932\",\"1932\",\"1932\",\"1932\",\"1932\",\"1932\",\"1932\",\"1932\",\"1932\",\"1932\",\"1932\",\"1932\",\"1932\",\"1932\",\"1932\",\"1932\",\"1932\",\"1932\",\"1932\",\"1932\",\"1932\",\"1932\",\"1932\",\"1932\",\"1932\",\"1932\",\"1932\",\"1932\",\"1932\",\"1932\",\"1932\",\"1932\",\"1932\",\"1932\",\"1932\",\"1932\",\"1932\",\"1932\",\"1932\",\"1932\",\"1932\",\"1932\",\"1932\",\"1932\",\"1932\",\"1932\",\"1932\",\"1932\",\"1932\",\"1932\",\"1932\",\"1932\",\"1932\",\"1932\",\"1932\",\"1932\",\"1932\",\"1932\",\"1932\",\"1932\",\"1932\",\"1932\",\"1932\",\"1932\",\"1932\",\"1932-01-01\",\"1932-12-19\",\"1932-12-01\",\"1932\",\"1932\",\"1932-12-06\",\"1932-12-26\",\"1932-12-26\",\"1932-12-01\",\"1932-12-23\",\"1932\",\"1932-12-23\",\"1932-12-23\",\"1932-06-25\",\"1932-06-25\",\"1932\",\"1932\",\"1932\",\"1932-12-23\",\"1932-12-23\",\"1932-12-23\",\"1932-12-23\",\"1932-12-23\",\"1932-12-06\",\"1932-01-01\",\"1932\",\"1932-12-01\",\"1932-12-23\",\"1932-12-23\",\"1932\",\"1932-12-23\",\"1932-12-26\",\"1932-12-23\",\"1932\",\"1932-12-26\",\"1932\",\"1932\",\"1932\",\"1932-12-06\",\"1932-12-26\",\"1932-12-01\",\"1932-12-23\",\"1932\",\"1932-12-23\",\"1932\",\"1932-12-23\",\"1932-12-06\",\"1932\",\"1932-04-25\",\"1932\",\"1932-12-23\",\"1932-12-23\",\"1932-06-25\",\"1932-12-23\",\"1932-12-26\",\"1932\",\"1932-12-19\",\"1932\",\"1932-12-23\",\"1932\",\"1932-12-06\",\"1932-12-23\",\"1932-12-26\",\"1932-12-06\",\"1932\",\"1932\",\"1932-12-23\",\"1932-06-25\",\"1932-12-23\",\"1932\",\"1932-12-23\",\"1932-12-23\",\"1932\",\"1932-12-31\",\"1932-12-26\",\"1932-12-31\",\"1932-12-23\",\"1932-12-26\",\"1932\",\"1932\",\"1932-12-26\",\"1932-04-16\",\"1932\",\"1932\",\"1932-12-01\",\"1932\",\"1932-12-23\",\"1932\",\"1932-12-06\",\"1932-12-23\",\"1932-12-01\",\"1932-12-26\",\"1932-12-23\",\"1932-12-23\",\"1932-12-26\",\"1932\",\"1932-12-23\",\"1932-12-23\",\"1932\",\"1932-12-23\",\"1932-12-26\",\"1932-12-31\",\"1932-04-25\",\"1932\",\"1932\",\"1932-12-06\",\"1932-12-26\",\"1932-12-23\",\"1932-12-23\",\"1932\",\"1932-06-06\",\"1932\",\"1932-12-26\",\"1932-12-23\",\"1932-12-26\",\"1932-12-26\",\"1932-04-16\",\"1932-12-26\",\"1932\",\"1932-12-23\",\"1932\",\"1932-12-06\",\"1932-12-23\",\"1932-12-23\",\"1932\",\"1932-12-23\",\"1932-12-23\",\"1932-12-26\",\"1932-12-31\",\"1932\",\"1932-12-23\",\"1932-12-19\",\"1932-12-23\",\"1932-12-23\",\"1932-01-01\",\"1932-12-23\",\"1932-12-23\",\"1932-01-12\",\"1932-04-25\",\"1932\",\"1932\",\"1932\",\"1932\",\"1932-05-11\",\"1932-12-01\",\"1932-12-23\",\"1932\",\"1932-01-01\",\"1932-12-26\",\"1932\",\"1932-12-23\",\"1932\",\"1932\",\"1932-01-01\",\"1932-12-23\",\"1932-12-01\",\"1932-12-23\",\"1932\",\"1932-12-26\",\"1932-12-01\",\"1932\",\"1932-12-23\",\"1932-12-23\",\"1932-12-23\",\"1932-01-01\",\"1932-12-01\",\"1932-12-26\",\"1932-12-23\",\"1932\",\"1932-12-01\",\"1932\",\"1932-12-01\",\"1932\",\"1932-12-23\",\"1932-12-23\",\"1932-12-06\",\"1932\",\"1932-12-23\",\"1932-12-23\",\"1932-12-23\",\"1932\",\"1932-12-01\",\"1932-12-26\",\"1932-12-23\",\"1932-06-25\",\"1932-12-23\",\"1932-12-23\",\"1932-01-01\",\"1932\",\"1932-12-23\",\"1932\",\"1932-12-23\",\"1932\",\"1932-12-01\",\"1932-12-23\",\"1932-12-23\",\"1932-12-23\",\"1932\",\"1932\",\"1932-12-06\",\"1932-12-06\",\"1932-12-23\",\"1932-12-23\",\"1932-12-23\",\"1932-12-06\",\"1932\",\"1932-12-23\",\"1932\",\"1932-12-23\",\"1932-12-23\",\"1932-12-26\",\"1932\",\"1932-12-23\",\"1932-12-01\",\"1932-12-23\",\"1932-12-23\",\"1932-12-23\",\"1932-12-23\",\"1932-12-01\",\"1932-12-23\",\"1932-01-01\",\"1932\",\"1932-12-23\",\"1932-12-23\",\"1932-12-23\",\"1932-12-19\",\"1932-01-01\",\"1932-12-26\",\"1932-12-23\",\"1932-06-25\",\"1932-12-23\",\"1932-12-23\",\"1932-12-23\",\"1932\",\"1932-12-01\",\"1932\",\"1932-12-01\",\"1932\",\"1932-12-23\",\"1932-12-23\",\"1932-01-01\",\"1932-12-23\",\"1932\",\"1932-12-01\",\"1932-12-23\",\"1932-12-23\",\"1932\",\"1932-12-01\",\"1932-12-06\",\"1932\",\"1932-12-01\",\"1932-12-23\",\"1932-12-26\",\"1932\",\"1932\",\"1932-12-23\",\"1932\",\"1932-12-23\",\"1932\",\"1932-12-26\",\"1932\",\"1932\",\"1932-12-23\",\"1932-01-01\",\"1932-12-19\",\"1932-12-23\",\"1932-01-01\",\"1932-12-23\",\"1932-12-23\",\"1932\",\"1932-06-25\",\"1932\",\"1932-12-23\",\"1932-04-17\",\"1932-12-23\",\"1932-12-23\",\"1932\",\"1932-12-19\",\"1932-12-23\",\"1932\",\"1932-04-25\",\"1932-12-06\",\"1932-12-23\",\"1932-12-23\",\"1932-12-23\",\"1932-12-23\",\"1932\",\"1932\",\"1932-12-23\",\"1932\",\"1932-12-23\",\"1932-12-01\",\"1932-12-23\",\"1932\",\"1932-12-23\",\"1932\",\"1932-12-23\",\"1932-12-01\",\"1932\",\"1932\",\"1932\",\"1932\",\"1932\",\"1932\",\"1932\",\"1932-06-25\",\"1932-12-23\",\"1932-12-23\",\"1932-12-19\",\"1932-12-01\",\"1932-05-11\",\"1932\",\"1932-12-23\",\"1932\",\"1932-12-23\",\"1932\",\"1932\",\"1932\",\"1932-12-23\",\"1932-12-23\",\"1932-12-26\",\"1932-12-01\",\"1932-12-23\",\"1932-07-07\",\"1932-12-23\",\"1932-12-23\",\"1932-12-23\",\"1932-12-23\",\"1932\",\"1932\",\"1932-12-23\",\"1932\",\"1932-12-23\",\"1932-12-26\",\"1932-12-06\",\"1932\",\"1932-12-23\",\"1932\",\"1932-06-25\",\"1932-12-23\",\"1932-12-26\",\"1932-12-26\",\"1932-12-23\",\"1932-12-01\",\"1932\",\"1932-12-23\",\"1932-12-26\",\"1932\",\"1932\",\"1932-12-23\",\"1932-12-23\",\"1932-12-23\",\"1932-12-01\",\"1932\",\"1932-12-23\",\"1932\",\"1932-12-26\",\"1932\",\"1932-12-26\",\"1932\",\"1932\",\"1932-12-01\",\"1932-12-23\",\"1932-12-23\",\"1932-12-19\",\"1932-12-23\",\"1932-12-26\",\"1932-12-26\",\"1932\",\"1932-06-25\",\"1932-12-23\",\"1932-12-26\",\"1932-12-26\",\"1932-01-01\",\"1932-01-12\",\"1932-12-26\",\"1932-12-26\",\"1932\",\"1932\",\"1932-12-26\",\"1932-12-19\",\"1932\",\"1932-12-01\",\"1932-06-25\",\"1932-12-23\",\"1932\",\"1932-12-23\",\"1932\",\"1932-01-01\",\"1932-12-23\",\"1932-12-23\",\"1932\",\"1932-12-23\",\"1932-12-23\",\"1932-12-23\",\"1932-12-23\",\"1932-12-23\",\"1932-12-06\",\"1932\",\"1932-12-23\",\"1932-12-23\",\"1932\",\"1932-06-25\",\"1932-12-23\",\"1932-12-23\",\"1932-12-06\",\"1932\",\"1932-12-23\",\"1932-12-26\",\"1932-12-23\",\"1932-12-23\",\"1932-12-26\",\"1932-12-23\",\"1932-12-26\",\"1932-12-19\",\"1932-12-23\",\"1932\",\"1932-12-23\",\"1932-12-23\",\"1932-12-19\",\"1932-12-06\",\"1932-06-25\",\"1932-12-23\",\"1932-12-06\",\"1932\",\"1932-12-23\",\"1932\",\"1932\",\"1932\",\"1932\",\"1932\",\"1932\",\"1932\",\"1932-12-23\",\"1932\",\"1932\",\"1932-12-19\",\"1932-12-23\",\"1932-12-23\",\"1932\",\"1932-12-06\",\"1932-12-19\",\"1932\",\"1932-01-01\",\"1932-12-23\",\"1932\",\"1932-12-31\",\"1932\",\"1932-12-23\",\"1932-12-23\",\"1932-12-01\",\"1932-12-01\",\"1932-12-01\",\"1932-12-23\",\"1932-12-23\",\"1932\",\"1932-12-23\",\"1932\",\"1932\",\"1932-12-23\",\"1932\",\"1932-12-23\",\"1932-12-26\",\"1932\",\"1932-12-26\",\"1932-12-26\",\"1932\",\"1932-04-25\",\"1932-12-23\",\"1932-12-23\",\"1932-12-19\",\"1932\",\"1932-01-12\",\"1932-12-23\",\"1932\",\"1932-12-26\",\"1932\",\"1932-12-23\",\"1932-12-23\",\"1932-12-26\",\"1932\",\"1932-06-25\",\"1932\",\"1932-12-23\",\"1932-12-23\",\"1932-12-23\",\"1932-12-01\",\"1932\",\"1932\",\"1932-12-23\",\"1932\",\"1932-12-23\",\"1932-12-01\",\"1932-12-26\",\"1932-12-19\",\"1932\",\"1932-12-26\",\"1932-12-01\",\"1932\",\"1932-12-23\",\"1932\",\"1932-12-23\",\"1932-12-26\",\"1932-12-01\",\"1932-12-23\",\"1932-12-23\",\"1932\",\"1932-12-23\",\"1932-12-23\",\"1932-12-23\",\"1932\",\"1932-12-01\",\"1932-12-23\",\"1932-12-26\",\"1932\",\"1932\",\"1932-12-23\",\"1932-12-23\",\"1932-01-12\",\"1932-12-23\",\"1932-12-26\",\"1932\",\"1932-12-01\",\"1932\",\"1932-12-23\",\"1932-12-31\",\"1932\",\"1932\",\"1932-06-25\",\"1932-12-23\",\"1932\",\"1932\",\"1932-12-23\",\"1932-12-23\",\"1932-12-01\",\"1932\",\"1932-12-23\",\"1932-12-23\",\"1932-04-25\",\"1932\",\"1932-12-23\",\"1932-06-06\",\"1932-01-01\",\"1932-12-26\",\"1932-12-23\",\"1932\",\"1932-01-01\",\"1932\",\"1932-12-26\",\"1932\",\"1932-12-23\",\"1932\",\"1932-12-23\",\"1932-12-01\",\"1932-12-23\",\"1932-12-01\",\"1932-12-23\",\"1932-12-01\",\"1932-12-26\",\"1932-06-25\",\"1932-06-25\",\"1932-12-01\",\"1932\",\"1932-12-01\",\"1932-12-06\",\"1932-12-06\",\"1932-12-23\",\"1932-12-23\",\"1932-12-01\",\"1932-12-01\",\"1932-12-23\",\"1932-12-26\",\"1932\",\"1932-12-01\",\"1932-12-01\",\"1932-12-23\",\"1932\",\"1932-12-23\",\"1932-12-23\",\"1932-01-01\",\"1932\",\"1932-12-23\",\"1932\",\"1932-12-23\",\"1932-12-06\",\"1932-12-01\",\"1932-12-01\",\"1932-12-23\",\"1932-12-23\",\"1932-12-26\",\"1932-01-01\",\"1932-12-19\",\"1932-12-01\",\"1932\",\"1932-12-26\",\"1932\",\"1932-12-23\",\"1932-12-23\",\"1932-12-23\",\"1932\",\"1932-12-01\",\"1932-12-26\",\"1932-12-23\",\"1932\",\"1932\",\"1932-12-26\",\"1932-12-26\",\"1932-12-23\",\"1932\",\"1932\",\"1932-12-23\",\"1932-12-23\",\"1932-12-23\",\"1932-12-23\",\"1932-01-01\",\"1932-12-23\",\"1932-12-31\",\"1932-12-23\",\"1932\",\"1932-12-01\",\"1932-12-23\",\"1932-12-23\",\"1932-12-26\",\"1932-01-01\",\"1932\",\"1932-12-23\",\"1932-12-23\",\"1932-12-23\",\"1932-06-25\",\"1932\",\"1932-12-23\",\"1932\",\"1932-12-23\",\"1932\",\"1932-12-19\",\"1932\",\"1932-12-23\",\"1932-12-26\",\"1932\",\"1932-01-01\",\"1932-06-25\",\"1932-12-23\",\"1932-12-23\",\"1932\",\"1932\",\"1932\",\"1932-12-01\",\"1932\",\"1932\",\"1932-12-01\",\"1932-12-23\",\"1932-12-23\",\"1932-01-01\",\"1932-12-26\",\"1932-12-23\",\"1932\",\"1932\",\"1932-12-23\",\"1932\",\"1932-12-01\",\"1932-12-23\",\"1932-12-23\",\"1932-12-23\",\"1932\",\"1932-12-06\",\"1932-12-23\",\"1932-12-23\",\"1932-12-23\",\"1932-12-23\",\"1932-12-23\",\"1932-12-23\",\"1932-12-23\",\"1932-12-23\",\"1932\",\"1932\",\"1932-12-23\",\"1932-12-06\",\"1932-12-23\",\"1932-12-23\",\"1932\",\"1932-12-23\",\"1932-04-17\",\"1932-01-12\",\"1932\",\"1932-12-23\",\"1932-12-23\",\"1932\",\"1932-12-01\",\"1932\",\"1932-12-01\",\"1932\",\"1932-12-23\",\"1932-04-25\",\"1932\",\"1932\",\"1932-12-23\",\"1932-12-23\",\"1932-12-23\",\"1932-12-23\",\"1932-12-23\",\"1932-12-23\",\"1932-12-23\",\"1932\",\"1932-12-23\",\"1932-12-23\",\"1932-06-25\",\"1932-12-23\",\"1932-12-23\",\"1932\",\"1932-12-23\",\"1932-12-26\",\"1932\",\"1932-02-16\",\"1932\",\"1932-01-12\",\"1932-12-26\",\"1932-12-23\",\"1932-12-23\",\"1932\",\"1932-12-23\",\"1932-12-23\",\"1932\",\"1932\",\"1932\",\"1932\",\"1932\",\"1932\",\"1932\",\"1932\",\"1932-12-31\",\"1932\",\"1932\",\"1932\",\"1932\",\"1932\",\"1932\",\"1932-12-31\",\"1932\",\"1932\",\"1932\",\"1932\",\"1932\",\"1932\",\"1932\",\"1932\",\"1932-12-31\",\"1932\",\"1932\",\"1932\",\"1933\",\"1933\",\"1933\",\"1933\",\"1933\",\"1933\",\"1933\",\"1933\",\"1933\",\"1933\",\"1933\",\"1933\",\"1933\",\"1933\",\"1933\",\"1933\",\"1933\",\"1933\",\"1933\",\"1933\",\"1933\",\"1933\",\"1933\",\"1933\",\"1933\",\"1933\",\"1933\",\"1933\",\"1933\",\"1933\",\"1933\",\"1933\",\"1933\",\"1933\",\"1933\",\"1933\",\"1933\",\"1933\",\"1933\",\"1933\",\"1933\",\"1933\",\"1933\",\"1933\",\"1933\",\"1933\",\"1933\",\"1933\",\"1933\",\"1933\",\"1933\",\"1933\",\"1933\",\"1933\",\"1933\",\"1933\",\"1933\",\"1933\",\"1933\",\"1933\",\"1933\",\"1933\",\"1933\",\"1933\",\"1933\",\"1933\",\"1933\",\"1933\",\"1933\",\"1933\",\"1933\",\"1933\",\"1933\",\"1933\",\"1933\",\"1933\",\"1933\",\"1933\",\"1933\",\"1933\",\"1933\",\"1933\",\"1933\",\"1933\",\"1933\",\"1933\",\"1933\",\"1933\",\"1933\",\"1933\",\"1933\",\"1933\",\"1933\",\"1933\",\"1933\",\"1933\",\"1933\",\"1933\",\"1933\",\"1933\",\"1933\",\"1933\",\"1933\",\"1933\",\"1933\",\"1933\",\"1933\",\"1933\",\"1933\",\"1933\",\"1933\",\"1933\",\"1933\",\"1933\",\"1933\",\"1933\",\"1933\",\"1933\",\"1933\",\"1933\",\"1933\",\"1933\",\"1933\",\"1933\",\"1933\",\"1933\",\"1933\",\"1933\",\"1933\",\"1933\",\"1933\",\"1933\",\"1933\",\"1933\",\"1933\",\"1933\",\"1933\",\"1933\",\"1933\",\"1933\",\"1933\",\"1933\",\"1933\",\"1933\",\"1933\",\"1933\",\"1933\",\"1933\",\"1933\",\"1933\",\"1933\",\"1933\",\"1933\",\"1933\",\"1933\",\"1933\",\"1933\",\"1933\",\"1933\",\"1933\",\"1933\",\"1933\",\"1933\",\"1933\",\"1933\",\"1933\",\"1933\",\"1933\",\"1933\",\"1933\",\"1933\",\"1933\",\"1933\",\"1933\",\"1933\",\"1933\",\"1933\",\"1933\",\"1933\",\"1933\",\"1933\",\"1933\",\"1933\",\"1933\",\"1933\",\"1933\",\"1933\",\"1933\",\"1933\",\"1933\",\"1933\",\"1933\",\"1933\",\"1933\",\"1933\",\"1933\",\"1933\",\"1933\",\"1933\",\"1933\",\"1933\",\"1933-01-01\",\"1933\",\"1933\",\"1933\",\"1933\",\"1933\",\"1933\",\"1933\",\"1933\",\"1933\",\"1933\",\"1933\",\"1933\",\"1933\",\"1933\",\"1933\",\"1933\",\"1933\",\"1933\",\"1933\",\"1933\",\"1933\",\"1933\",\"1933\",\"1933\",\"1933\",\"1933\",\"1933\",\"1933\",\"1933\",\"1933\",\"1933\",\"1933\",\"1933\",\"1933\",\"1933\",\"1933\",\"1933\",\"1933\",\"1933\",\"1933\",\"1933\",\"1933\",\"1933\",\"1933\",\"1933\",\"1933\",\"1933\",\"1933\",\"1933\",\"1933\",\"1933\",\"1933-01-01\",\"1933\",\"1933\",\"1933\",\"1933\",\"1933\",\"1933\",\"1933\",\"1933\",\"1933\",\"1933\",\"1933\",\"1933\",\"1933\",\"1933\",\"1933\",\"1933\",\"1933\",\"1933\",\"1933\",\"1933\",\"1933\",\"1933\",\"1933\",\"1933\",\"1933\",\"1933\",\"1933\",\"1933\",\"1933\",\"1933\",\"1933\",\"1933\",\"1933-01-01\",\"1933\",\"1933\",\"1933\",\"1933\",\"1933-01-01\",\"1933\",\"1933-01-01\",\"1933\",\"1933\",\"1933-01-01\",\"1933\",\"1933\",\"1933\",\"1933\",\"1933\",\"1933-01-01\",\"1933-01-01\",\"1933-01-07\",\"1933\",\"1933\",\"1933-01-01\",\"1933\",\"1933-06-26\",\"1933-01-07\",\"1933-01-01\",\"1933\",\"1933\",\"1933-09-29\",\"1933-01-07\",\"1933-01-01\",\"1933\",\"1933\",\"1933-01-07\",\"1933-01-07\",\"1933-01-01\",\"1933-01-01\",\"1933-01-07\",\"1933\",\"1933\",\"1933-06-26\",\"1933-06-26\",\"1933\",\"1933-01-01\",\"1933\",\"1933\",\"1933-01-01\",\"1933-01-01\",\"1933-01-01\",\"1933-01-07\",\"1933-01-07\",\"1933\",\"1933-01-01\",\"1933-01-01\",\"1933-06-26\",\"1933-12-26\",\"1933-01-07\",\"1933-01-01\",\"1933-01-01\",\"1933-12-31\",\"1933\",\"1933\",\"1933-06-26\",\"1933-12-26\",\"1933\",\"1933\",\"1933-01-07\",\"1933\",\"1933-01-07\",\"1933-01-01\",\"1933\",\"1933\",\"1933-03-03\",\"1933-01-07\",\"1933-01-01\",\"1933\",\"1933-01-01\",\"1933\",\"1933\",\"1933-01-07\",\"1933-01-07\",\"1933\",\"1933\",\"1933\",\"1933-06-26\",\"1933-01-01\",\"1933-01-01\",\"1933\",\"1933-01-07\",\"1933-12-26\",\"1933\",\"1933-01-07\",\"1933-01-07\",\"1933-01-07\",\"1933-01-01\",\"1933\",\"1933-01-01\",\"1933-01-01\",\"1933-03-04\",\"1933-01-07\",\"1933-01-01\",\"1933-01-07\",\"1933-01-01\",\"1933\",\"1933\",\"1933-01-01\",\"1933-01-07\",\"1933\",\"1933-06-01\",\"1933-01-01\",\"1933-01-01\",\"1933-06-26\",\"1933-01-07\",\"1933\",\"1933\",\"1933\",\"1933\",\"1933-01-01\",\"1933-06-01\",\"1933\",\"1933\",\"1933-01-07\",\"1933\",\"1933-01-01\",\"1933-01-01\",\"1933-08-24\",\"1933-01-01\",\"1933\",\"1933-01-01\",\"1933\",\"1933-01-07\",\"1933-01-01\",\"1933-01-01\",\"1933-01-01\",\"1933-01-01\",\"1933\",\"1933-12-26\",\"1933-01-01\",\"1933\",\"1933\",\"1933\",\"1933\",\"1933-12-26\",\"1933-01-01\",\"1933-01-07\",\"1933-01-07\",\"1933\",\"1933\",\"1933-06-26\",\"1933\",\"1933\",\"1933\",\"1933-01-01\",\"1933-01-01\",\"1933\",\"1933\",\"1933\",\"1933\",\"1933-01-01\",\"1933-01-07\",\"1933-03-04\",\"1933-01-07\",\"1933\",\"1933-01-07\",\"1933\",\"1933-01-07\",\"1933-01-07\",\"1933-01-07\",\"1933-01-01\",\"1933-01-07\",\"1933\",\"1933\",\"1933\",\"1933-01-01\",\"1933\",\"1933-03-04\",\"1933-12-26\",\"1933-01-01\",\"1933\",\"1933\",\"1933-01-07\",\"1933-01-07\",\"1933-01-01\",\"1933-01-01\",\"1933\",\"1933-01-07\",\"1933\",\"1933-01-01\",\"1933-01-01\",\"1933-01-01\",\"1933-06-26\",\"1933-01-01\",\"1933\",\"1933-01-07\",\"1933-09-26\",\"1933-06-26\",\"1933-01-01\",\"1933-12-26\",\"1933-01-07\",\"1933\",\"1933-12-26\",\"1933-06-26\",\"1933-01-01\",\"1933\",\"1933-01-01\",\"1933-01-01\",\"1933\",\"1933-01-07\",\"1933\",\"1933-12-31\",\"1933\",\"1933-06-26\",\"1933\",\"1933\",\"1933-01-07\",\"1933\",\"1933-01-07\",\"1933-01-01\",\"1933-01-01\",\"1933\",\"1933\",\"1933-01-07\",\"1933-01-01\",\"1933-06-26\",\"1933\",\"1933-01-01\",\"1933-01-07\",\"1933-01-07\",\"1933\",\"1933-01-07\",\"1933-01-07\",\"1933\",\"1933\",\"1933\",\"1933-01-07\",\"1933\",\"1933-01-07\",\"1933-01-01\",\"1933-09-26\",\"1933\",\"1933-12-26\",\"1933\",\"1933-01-01\",\"1933-01-07\",\"1933-01-07\",\"1933-01-07\",\"1933\",\"1933\",\"1933-01-07\",\"1933\",\"1933-01-01\",\"1933\",\"1933-01-01\",\"1933\",\"1933-01-07\",\"1933\",\"1933\",\"1933\",\"1933-01-07\",\"1933-01-01\",\"1933-01-07\",\"1933-01-01\",\"1933\",\"1933\",\"1933-01-01\",\"1933\",\"1933\",\"1933-01-01\",\"1933-01-07\",\"1933-01-07\",\"1933\",\"1933\",\"1933-01-07\",\"1933\",\"1933-01-01\",\"1933-01-01\",\"1933\",\"1933-12-26\",\"1933-01-07\",\"1933\",\"1933\",\"1933-06-26\",\"1933-12-26\",\"1933-01-01\",\"1933-06-26\",\"1933\",\"1933-01-01\",\"1933-01-01\",\"1933-01-01\",\"1933-01-01\",\"1933-12-26\",\"1933\",\"1933-06-26\",\"1933-12-26\",\"1933\",\"1933\",\"1933-01-01\",\"1933\",\"1933-06-26\",\"1933\",\"1933\",\"1933\",\"1933\",\"1933\",\"1933\",\"1933-01-07\",\"1933-01-01\",\"1933-12-26\",\"1933-06-26\",\"1933-01-07\",\"1933-01-01\",\"1933-01-01\",\"1933-12-26\",\"1933-01-01\",\"1933\",\"1933\",\"1933-01-07\",\"1933\",\"1933\",\"1933-12-26\",\"1933\",\"1933-01-07\",\"1933\",\"1933\",\"1933\",\"1933-01-07\",\"1933\",\"1933\",\"1933\",\"1933\",\"1933\",\"1933\",\"1933-01-01\",\"1933\",\"1933\",\"1933-01-07\",\"1933-01-07\",\"1933\",\"1933\",\"1933\",\"1933-01-01\",\"1933-01-01\",\"1933\",\"1933-01-01\",\"1933\",\"1933-01-01\",\"1933-01-07\",\"1933-01-01\",\"1933-01-01\",\"1933-01-01\",\"1933-01-07\",\"1933-01-01\",\"1933-09-26\",\"1933\",\"1933\",\"1933\",\"1933-12-26\",\"1933-12-26\",\"1933\",\"1933\",\"1933-01-01\",\"1933-01-01\",\"1933\",\"1933-01-07\",\"1933\",\"1933\",\"1933-06-26\",\"1933-06-01\",\"1933\",\"1933-01-07\",\"1933\",\"1933-09-26\",\"1933\",\"1933-06-26\",\"1933\",\"1933\",\"1933\",\"1933-01-01\",\"1933\",\"1933\",\"1933-12-31\",\"1933-01-07\",\"1933\",\"1933-01-01\",\"1933-01-01\",\"1933-01-01\",\"1933-01-01\",\"1933-01-07\",\"1933-01-01\",\"1933\",\"1933\",\"1933\",\"1933\",\"1933\",\"1933\",\"1933\",\"1933\",\"1933\",\"1933\",\"1933\",\"1933\",\"1933\",\"1933\",\"1933\",\"1933\",\"1933-01-01\",\"1933\",\"1933\",\"1933\",\"1933\",\"1933\",\"1933\",\"1933\",\"1933\",\"1933\",\"1933\",\"1933\",\"1933\",\"1933\",\"1933\",\"1933\",\"1933\",\"1933-01-01\",\"1933\",\"1933\",\"1933\",\"1933\",\"1933\",\"1933\",\"1933\",\"1933\",\"1933\",\"1933\",\"1933\",\"1933\",\"1933\",\"1933\",\"1933\",\"1933\",\"1933\",\"1933\",\"1933\",\"1933\",\"1933\",\"1933\",\"1933\",\"1933\",\"1933\",\"1933\",\"1933\",\"1933\",\"1933\",\"1933\",\"1934-07-01\",\"1934\",\"1934\",\"1934\",\"1934\",\"1934\",\"1934\",\"1934\",\"1934\",\"1934\",\"1934\",\"1934\",\"1934-07-01\",\"1934-01-01\",\"1934-11-12\",\"1934-07-01\",\"1934\",\"1934-01-01\",\"1934\",\"1934\",\"1934\",\"1934\",\"1934\",\"1934-06-06\",\"1934\",\"1934\",\"1934\",\"1934\",\"1934\",\"1934\",\"1934\",\"1934\",\"1934\",\"1934\",\"1934\",\"1934\",\"1934\",\"1934-01-10\",\"1934\",\"1934\",\"1934\",\"1934\",\"1934-03-22\",\"1934\",\"1934-01-01\",\"1934-06-26\",\"1934\",\"1934\",\"1934-06-26\",\"1934-04-25\",\"1934\",\"1934-01-10\",\"1934-06-26\",\"1934\",\"1934\",\"1934-01-01\",\"1934-04-25\",\"1934\",\"1934-01-10\",\"1934-06-26\",\"1934-12-01\",\"1934\",\"1934\",\"1934-07-01\",\"1934-01-01\",\"1934\",\"1934-06-26\",\"1934\",\"1934-01-10\",\"1934-06-06\",\"1934-01-10\",\"1934-01-10\",\"1934-01-03\",\"1934-04-25\",\"1934-07-01\",\"1934-01-10\",\"1934-01-10\",\"1934\",\"1934-01-03\",\"1934-04-25\",\"1934\",\"1934-06-06\",\"1934\",\"1934-07-01\",\"1934-01-10\",\"1934-01-01\",\"1934-01-03\",\"1934-07-01\",\"1934\",\"1934\",\"1934-12-31\",\"1934\",\"1934\",\"1934\",\"1934\",\"1934\",\"1934\",\"1934-07-01\",\"1934\",\"1934\",\"1934\",\"1934-07-01\",\"1934\",\"1934\",\"1934-01-01\",\"1934-07-01\",\"1934\",\"1934\",\"1934\",\"1934\",\"1934-07-01\",\"1934-01-01\",\"1934\",\"1934\",\"1934-04-25\",\"1934\",\"1934-01-01\",\"1934\",\"1934\",\"1934-11-11\",\"1934-01-01\",\"1934\",\"1934\",\"1934-01-10\",\"1934-07-01\",\"1934-01-01\",\"1934\",\"1934-06-06\",\"1934\",\"1934-07-01\",\"1934\",\"1934-12-01\",\"1934-04-25\",\"1934\",\"1934\",\"1934\",\"1934\",\"1934-12-01\",\"1934-07-01\",\"1934\",\"1934\",\"1934\",\"1934\",\"1934-06-06\",\"1934-06-26\",\"1934\",\"1934-01-10\",\"1934\",\"1934\",\"1934-01-01\",\"1934\",\"1934-07-01\",\"1934-12-31\",\"1934-07-01\",\"1934\",\"1934\",\"1934\",\"1934-01-10\",\"1934\",\"1934-01-03\",\"1934\",\"1934\",\"1934\",\"1934\",\"1934-07-01\",\"1934\",\"1934-01-10\",\"1934-07-01\",\"1934-01-10\",\"1934-01-03\",\"1934-01-03\",\"1934-12-31\",\"1934\",\"1934\",\"1934-01-01\",\"1934-07-01\",\"1934\",\"1934-07-01\",\"1934\",\"1934\",\"1934-06-26\",\"1934\",\"1934-06-26\",\"1934-01-10\",\"1934-01-01\",\"1934-01-10\",\"1934\",\"1934-06-06\",\"1934\",\"1934\",\"1934\",\"1934\",\"1934-12-01\",\"1934-06-06\",\"1934\",\"1934-01-10\",\"1934\",\"1934\",\"1934\",\"1934-01-03\",\"1934-01-10\",\"1934-01-10\",\"1934-12-01\",\"1934\",\"1934\",\"1934-07-01\",\"1934\",\"1934\",\"1934-07-01\",\"1934-01-10\",\"1934-01-10\",\"1934-06-06\",\"1934-12-31\",\"1934-06-06\",\"1934\",\"1934-01-01\",\"1934-01-03\",\"1934-01-10\",\"1934-01-10\",\"1934\",\"1934\",\"1934-06-06\",\"1934\",\"1934\",\"1934-01-01\",\"1934\",\"1934-04-25\",\"1934\",\"1934-01-01\",\"1934\",\"1934-06-26\",\"1934-07-01\",\"1934\",\"1934\",\"1934-01-10\",\"1934\",\"1934-01-10\",\"1934-01-10\",\"1934-07-01\",\"1934\",\"1934\",\"1934-01-10\",\"1934\",\"1934\",\"1934\",\"1934\",\"1934\",\"1934\",\"1934\",\"1934-01-10\",\"1934-01-10\",\"1934-01-10\",\"1934-12-31\",\"1934-01-03\",\"1934-12-01\",\"1934\",\"1934-06-26\",\"1934\",\"1934\",\"1934-12-31\",\"1934-07-01\",\"1934-12-31\",\"1934\",\"1934-06-06\",\"1934\",\"1934\",\"1934\",\"1934-01-10\",\"1934-01-01\",\"1934-12-31\",\"1934-07-01\",\"1934-01-10\",\"1934\",\"1934-07-01\",\"1934-01-10\",\"1934-01-03\",\"1934\",\"1934\",\"1934-06-06\",\"1934-06-26\",\"1934-01-10\",\"1934\",\"1934-01-01\",\"1934\",\"1934-12-01\",\"1934\",\"1934\",\"1934-01-10\",\"1934\",\"1934-01-10\",\"1934-01-10\",\"1934-01-10\",\"1934\",\"1934-01-10\",\"1934\",\"1934-06-06\",\"1934-07-01\",\"1934-01-10\",\"1934-07-01\",\"1934-01-01\",\"1934\",\"1934\",\"1934\",\"1934\",\"1934\",\"1934-12-01\",\"1934-07-01\",\"1934-01-01\",\"1934\",\"1934-01-03\",\"1934-01-10\",\"1934\",\"1934-12-01\",\"1934-04-25\",\"1934-01-10\",\"1934\",\"1934-01-03\",\"1934-01-10\",\"1934-12-01\",\"1934-01-10\",\"1934-01-10\",\"1934-01-01\",\"1934-01-03\",\"1934-07-01\",\"1934-01-10\",\"1934-01-03\",\"1934\",\"1934-01-01\",\"1934-07-01\",\"1934\",\"1934-07-01\",\"1934\",\"1934-12-31\",\"1934\",\"1934-01-01\",\"1934-01-01\",\"1934\",\"1934-01-10\",\"1934-01-10\",\"1934-01-10\",\"1934\",\"1934-01-01\",\"1934\",\"1934-07-01\",\"1934\",\"1934-07-01\",\"1934-12-01\",\"1934\",\"1934-06-06\",\"1934-01-10\",\"1934-01-10\",\"1934\",\"1934\",\"1934\",\"1934-01-10\",\"1934\",\"1934\",\"1934\",\"1934\",\"1934\",\"1934\",\"1934-04-25\",\"1934-01-10\",\"1934\",\"1934\",\"1934-01-10\",\"1934-07-01\",\"1934\",\"1934-07-01\",\"1934-07-01\",\"1934\",\"1934\",\"1934-01-10\",\"1934-01-01\",\"1934\",\"1934-01-10\",\"1934-12-31\",\"1934-01-01\",\"1934\",\"1934\",\"1934-12-31\",\"1934\",\"1934\",\"1934\",\"1934-01-01\",\"1934-01-01\",\"1934\",\"1934\",\"1934\",\"1934\",\"1934-06-06\",\"1934\",\"1934\",\"1934-12-01\",\"1934-12-01\",\"1934-01-10\",\"1934\",\"1934-07-01\",\"1934-01-10\",\"1934-04-25\",\"1934-01-01\",\"1934\",\"1934\",\"1934-01-01\",\"1934\",\"1934\",\"1934-01-10\",\"1934-07-01\",\"1934-01-10\",\"1934-01-01\",\"1934-01-10\",\"1934-06-06\",\"1934-01-01\",\"1934\",\"1934-12-31\",\"1934-01-10\",\"1934\",\"1934\",\"1934\",\"1934-01-10\",\"1934-06-06\",\"1934-01-01\",\"1934-01-10\",\"1934-01-10\",\"1934-01-01\",\"1934-06-06\",\"1934-01-01\",\"1934-06-06\",\"1934\",\"1934\",\"1934\",\"1934-01-10\",\"1934\",\"1934-12-31\",\"1934-06-26\",\"1934-06-26\",\"1934\",\"1934\",\"1934\",\"1934\",\"1934-01-10\",\"1934\",\"1934-01-10\",\"1934\",\"1934\",\"1934-07-01\",\"1934\",\"1934-04-25\",\"1934\",\"1934\",\"1934\",\"1934\",\"1934\",\"1934-12-01\",\"1934\",\"1934\",\"1934-06-26\",\"1934-01-01\",\"1934\",\"1934-07-01\",\"1934-06-06\",\"1934-01-10\",\"1934-01-10\",\"1934\",\"1934-01-03\",\"1934\",\"1934-06-26\",\"1934-01-10\",\"1934-07-01\",\"1934-07-01\",\"1934-07-01\",\"1934\",\"1934-01-10\",\"1934-01-01\",\"1934\",\"1934-01-10\",\"1934\",\"1934-04-25\",\"1934\",\"1934\",\"1934-01-10\",\"1934-01-01\",\"1934\",\"1934-01-01\",\"1934\",\"1934-06-26\",\"1934-12-01\",\"1934-07-01\",\"1934\",\"1934\",\"1934\",\"1934-01-10\",\"1934-07-01\",\"1934\",\"1934-01-10\",\"1934-01-01\",\"1934\",\"1934-12-31\",\"1934\",\"1934\",\"1934-07-01\",\"1934-06-06\",\"1934\",\"1934-01-10\",\"1934\",\"1934-06-06\",\"1934\",\"1934\",\"1934-01-10\",\"1934\",\"1934\",\"1934-01-10\",\"1934\",\"1934-01-10\",\"1934-01-10\",\"1934-12-31\",\"1934\",\"1934-06-26\",\"1934\",\"1934-01-10\",\"1934-06-26\",\"1934-01-03\",\"1934\",\"1934-01-01\",\"1934-06-26\",\"1934-06-06\",\"1934\",\"1934\",\"1934-01-10\",\"1934\",\"1934\",\"1934-12-01\",\"1934-12-01\",\"1934\",\"1934-06-26\",\"1934\",\"1934\",\"1934-01-01\",\"1934-01-10\",\"1934\",\"1934\",\"1934-01-10\",\"1934\",\"1934-01-01\",\"1934\",\"1934-01-10\",\"1934\",\"1934-12-01\",\"1934\",\"1934-01-10\",\"1934-01-10\",\"1934-01-01\",\"1934-01-03\",\"1934\",\"1934\",\"1934\",\"1934\",\"1934-12-31\",\"1934-01-10\",\"1934-01-10\",\"1934\",\"1934\",\"1934\",\"1934-01-10\",\"1934-01-01\",\"1934-01-03\",\"1934-07-01\",\"1934\",\"1934-01-10\",\"1934\",\"1934\",\"1934\",\"1934\",\"1934\",\"1934\",\"1934\",\"1934\",\"1934\",\"1934-11-23\",\"1934-02-02\",\"1934-11-23\",\"1934\",\"1934\",\"1934-02-02\",\"1934\",\"1934-11-23\",\"1934-02-02\",\"1934-02-02\",\"1934\",\"1934-02-02\",\"1934\",\"1934-11-23\",\"1934\",\"1934\",\"1934\",\"1934\",\"1934-11-23\",\"1934\",\"1934\",\"1934-02-02\",\"1934\",\"1934\",\"1934\",\"1934-11-23\",\"1934\",\"1934\",\"1934-02-02\",\"1934-02-02\",\"1934\",\"1934\",\"1934-02-02\",\"1934\",\"1934\",\"1934\",\"1934\",\"1934\",\"1934\",\"1934\",\"1934-02-02\",\"1934-11-23\",\"1934-02-02\",\"1934-02-02\",\"1934\",\"1934-02-02\",\"1934\",\"1934\",\"1934-02-02\",\"1934\",\"1934-11-23\",\"1934-02-02\",\"1934-11-23\",\"1934\",\"1934-02-02\",\"1934-11-23\",\"1934-02-02\",\"1934-11-23\",\"1934\",\"1934\",\"1934\",\"1934\",\"1934\",\"1934-11-23\",\"1934-02-02\",\"1934-02-02\",\"1934\",\"1934-02-02\",\"1934-02-02\",\"1934-02-02\",\"1934\",\"1934\",\"1934\",\"1934\",\"1934\",\"1934\",\"1934\",\"1934-02-02\",\"1935\",\"1935\",\"1935\",\"1935\",\"1935\",\"1935\",\"1935\",\"1935\",\"1935-05-29\",\"1935-01-01\",\"1935-05-29\",\"1935-05-29\",\"1935-05-29\",\"1935\",\"1935\",\"1935\",\"1935-01-01\",\"1935\",\"1935-01-01\",\"1935\",\"1935\",\"1935\",\"1935-01-01\",\"1935-01-01\",\"1935\",\"1935\",\"1935-01-01\",\"1935\",\"1935\",\"1935\",\"1935\",\"1935\",\"1935-01-01\",\"1935-01-01\",\"1935\",\"1935-01-01\",\"1935\",\"1935\",\"1935\",\"1935\",\"1935\",\"1935\",\"1935\",\"1935\",\"1935\",\"1935-05-29\",\"1935\",\"1935\",\"1935\",\"1935\",\"1935\",\"1935-05-29\",\"1935\",\"1935-05-29\",\"1935\",\"1935\",\"1935-01-01\",\"1935\",\"1935-05-29\",\"1935\",\"1935\",\"1935\",\"1935\",\"1935-05-29\",\"1935\",\"1935\",\"1935\",\"1935\",\"1935\",\"1935-05-29\",\"1935-01-01\",\"1935-01-01\",\"1935-01-01\",\"1935\",\"1935\",\"1935\",\"1935\",\"1935\",\"1935-05-29\",\"1935\",\"1935\",\"1935-01-01\",\"1935\",\"1935\",\"1935-05-29\",\"1935\",\"1935\",\"1935\",\"1935\",\"1935\",\"1935\",\"1935\",\"1935-05-29\",\"1935\",\"1935-05-29\",\"1935\",\"1935\",\"1935\",\"1935\",\"1935\",\"1935\",\"1935\",\"1935\",\"1935\",\"1935\",\"1935\",\"1935\",\"1935\",\"1935\",\"1935\",\"1935\",\"1935-01-01\",\"1935-01-01\",\"1935\",\"1935-01-01\",\"1935-01-01\",\"1935\",\"1935\",\"1935\",\"1935\",\"1935\",\"1935-01-01\",\"1935-01-01\",\"1935\",\"1935\",\"1935\",\"1935\",\"1935-01-01\",\"1935-01-01\",\"1935-01-01\",\"1935\",\"1935\",\"1935-01-01\",\"1935\",\"1935\",\"1935-01-01\",\"1935-01-01\",\"1935\",\"1935-01-01\",\"1935\",\"1935-01-01\",\"1935\",\"1935\",\"1935\",\"1935\",\"1935-01-11\",\"1935\",\"1935-01-01\",\"1935-02-04\",\"1935\",\"1935-01-01\",\"1935\",\"1935\",\"1935\",\"1935-01-01\",\"1935\",\"1935\",\"1935-01-01\",\"1935-01-01\",\"1935-01-01\",\"1935-01-01\",\"1935\",\"1935\",\"1935\",\"1935-01-01\",\"1935-01-10\",\"1935\",\"1935-01-01\",\"1935\",\"1935\",\"1935-01-01\",\"1935-01-01\",\"1935\",\"1935-01-01\",\"1935-12-01\",\"1935\",\"1935-01-01\",\"1935\",\"1935-01-01\",\"1935\",\"1935\",\"1935\",\"1935-01-01\",\"1935-01-01\",\"1935\",\"1935\",\"1935\",\"1935-01-01\",\"1935\",\"1935\",\"1935\",\"1935\",\"1935-12-01\",\"1935-01-10\",\"1935\",\"1935\",\"1935-01-01\",\"1935\",\"1935\",\"1935\",\"1935-01-01\",\"1935\",\"1935-12-01\",\"1935\",\"1935\",\"1935\",\"1935\",\"1935\",\"1935\",\"1935-01-04\",\"1935\",\"1935\",\"1935\",\"1935-01-01\",\"1935\",\"1935-12-31\",\"1935\",\"1935-01-01\",\"1935\",\"1935\",\"1935\",\"1935\",\"1935-01-01\",\"1935\",\"1935\",\"1935-01-01\",\"1935\",\"1935\",\"1935\",\"1935\",\"1935-01-01\",\"1935-01-01\",\"1935\",\"1935-01-01\",\"1935-01-01\",\"1935-01-01\",\"1935\",\"1935\",\"1935-01-01\",\"1935\",\"1935\",\"1935\",\"1935-01-01\",\"1935-01-01\",\"1935\",\"1935\",\"1935\",\"1935\",\"1935\",\"1935\",\"1935\",\"1935\",\"1935-05-01\",\"1935-01-01\",\"1935-01-04\",\"1935-01-01\",\"1935-01-01\",\"1935-01-01\",\"1935-01-01\",\"1935\",\"1935-01-01\",\"1935\",\"1935\",\"1935\",\"1935-01-01\",\"1935-01-01\",\"1935\",\"1935\",\"1935-01-01\",\"1935\",\"1935-01-01\",\"1935\",\"1935\",\"1935-01-10\",\"1935\",\"1935\",\"1935-01-01\",\"1935-01-01\",\"1935-01-01\",\"1935-01-01\",\"1935-12-31\",\"1935\",\"1935\",\"1935-08-28\",\"1935\",\"1935\",\"1935\",\"1935\",\"1935-01-01\",\"1935\",\"1935-01-01\",\"1935\",\"1935\",\"1935-01-01\",\"1935-01-01\",\"1935\",\"1935\",\"1935-01-01\",\"1935\",\"1935\",\"1935\",\"1935-01-01\",\"1935-12-01\",\"1935-01-01\",\"1935-01-01\",\"1935-12-01\",\"1935-01-01\",\"1935\",\"1935\",\"1935-01-01\",\"1935\",\"1935\",\"1935-01-01\",\"1935-01-12\",\"1935-12-31\",\"1935-01-01\",\"1935\",\"1935\",\"1935\",\"1935\",\"1935-01-01\",\"1935-01-01\",\"1935\",\"1935-01-10\",\"1935\",\"1935\",\"1935-01-01\",\"1935\",\"1935-01-01\",\"1935-01-01\",\"1935-01-01\",\"1935\",\"1935\",\"1935\",\"1935-01-01\",\"1935\",\"1935-01-01\",\"1935\",\"1935\",\"1935\",\"1935-01-01\",\"1935\",\"1935\",\"1935\",\"1935\",\"1935\",\"1935-01-01\",\"1935\",\"1935\",\"1935\",\"1935-01-01\",\"1935\",\"1935-01-01\",\"1935-01-01\",\"1935-01-01\",\"1935\",\"1935-01-01\",\"1935-12-01\",\"1935-01-01\",\"1935\",\"1935-01-01\",\"1935-01-01\",\"1935\",\"1935\",\"1935\",\"1935\",\"1935\",\"1935\",\"1935\",\"1935-01-01\",\"1935\",\"1935\",\"1935\",\"1935-01-04\",\"1935\",\"1935\",\"1935-12-31\",\"1935\",\"1935\",\"1935-01-12\",\"1935\",\"1935\",\"1935\",\"1935\",\"1935\",\"1935-01-01\",\"1935\",\"1935\",\"1935\",\"1935\",\"1935\",\"1935-05-01\",\"1935-01-10\",\"1935\",\"1935\",\"1935-01-01\",\"1935\",\"1935\",\"1935\",\"1935\",\"1935-01-10\",\"1935-01-01\",\"1935\",\"1935\",\"1935\",\"1935-01-12\",\"1935\",\"1935-01-01\",\"1935\",\"1935-01-01\",\"1935-12-31\",\"1935\",\"1935\",\"1935\",\"1935\",\"1935-01-01\",\"1935-01-10\",\"1935\",\"1935\",\"1935\",\"1935\",\"1935-01-01\",\"1935-01-01\",\"1935\",\"1935\",\"1935\",\"1935\",\"1935\",\"1935\",\"1935\",\"1935\",\"1935\",\"1935-01-10\",\"1935-12-31\",\"1935\",\"1935\",\"1935\",\"1935\",\"1935-05-15\",\"1935-01-10\",\"1935\",\"1935\",\"1935\",\"1935\",\"1935\",\"1935-01-01\",\"1935\",\"1935\",\"1935\",\"1935-01-01\",\"1935\",\"1935\",\"1935\",\"1935\",\"1935\",\"1935\",\"1935\",\"1935-01-01\",\"1935-01-01\",\"1935-01-01\",\"1935\",\"1935\",\"1935-01-01\",\"1935-01-01\",\"1935-01-01\",\"1935\",\"1935\",\"1935-11-29\",\"1935\",\"1935-01-01\",\"1935-01-01\",\"1935\",\"1935\",\"1935-01-01\",\"1935\",\"1935\",\"1935\",\"1935-01-01\",\"1935-01-04\",\"1935\",\"1935-01-01\",\"1935\",\"1935-01-01\",\"1935\",\"1935\",\"1935\",\"1935\",\"1935-01-01\",\"1935-01-01\",\"1935-05-01\",\"1935-01-01\",\"1935\",\"1935-01-04\",\"1935\",\"1935-10-16\",\"1935-01-01\",\"1935\",\"1935\",\"1935\",\"1935-01-01\",\"1935-01-01\",\"1935\",\"1935\",\"1935\",\"1935\",\"1935\",\"1935\",\"1935-01-01\",\"1935-01-01\",\"1935\",\"1935\",\"1935-01-04\",\"1935\",\"1935-01-01\",\"1935\",\"1935\",\"1935-01-12\",\"1935\",\"1935\",\"1935\",\"1935\",\"1935-01-04\",\"1935-11-11\",\"1935\",\"1935\",\"1935\",\"1935-01-01\",\"1935\",\"1935-01-01\",\"1935\",\"1935\",\"1935\",\"1935\",\"1935-01-10\",\"1935-01-01\",\"1935-01-01\",\"1935\",\"1935-01-01\",\"1935-01-01\",\"1935\",\"1935\",\"1935\",\"1935-03-14\",\"1935-01-10\",\"1935-01-11\",\"1935\",\"1935\",\"1935\",\"1935\",\"1935\",\"1935-01-01\",\"1935-01-01\",\"1935-01-01\",\"1935\",\"1935\",\"1935-01-01\",\"1935\",\"1935\",\"1935\",\"1935-01-04\",\"1935\",\"1935\",\"1935\",\"1935\",\"1935-01-01\",\"1935-01-10\",\"1935\",\"1935\",\"1935\",\"1935\",\"1935\",\"1935\",\"1935\",\"1935-01-10\",\"1935\",\"1935-01-01\",\"1935\",\"1935\",\"1935-01-10\",\"1935\",\"1935-01-01\",\"1935-01-01\",\"1935\",\"1935\",\"1935\",\"1935\",\"1935-01-01\",\"1935\",\"1935\",\"1935-01-01\",\"1935\",\"1935\",\"1935\",\"1935-01-10\",\"1935-12-31\",\"1935-01-01\",\"1935\",\"1935-01-01\",\"1935-01-01\",\"1935-12-01\",\"1935-12-01\",\"1935\",\"1935\",\"1935\",\"1935-01-01\",\"1935\",\"1935\",\"1935-01-01\",\"1935-01-01\",\"1935-01-01\",\"1935-01-01\",\"1935\",\"1935-01-01\",\"1935\",\"1935\",\"1935-07-06\",\"1935\",\"1935\",\"1935-01-01\",\"1935-12-01\",\"1935-01-01\",\"1935\",\"1935\",\"1935\",\"1935-01-01\",\"1935-01-01\",\"1935\",\"1935\",\"1935\",\"1935\",\"1935-01-12\",\"1935\",\"1935\",\"1935\",\"1935\",\"1935\",\"1935\",\"1935\",\"1935\",\"1935\",\"1935\",\"1935\",\"1935-01-01\",\"1935\",\"1935-01-01\",\"1935\",\"1935-01-01\",\"1935-01-01\",\"1935\",\"1935\",\"1935\",\"1935-01-01\",\"1935\",\"1935\",\"1935-01-01\",\"1935-01-10\",\"1935\",\"1935\",\"1935-03-14\",\"1935-12-31\",\"1935\",\"1935\",\"1935-01-01\",\"1935\",\"1935\",\"1935\",\"1935\",\"1935\",\"1935\",\"1935\",\"1935-01-10\",\"1935\",\"1935\",\"1935\",\"1935-01-10\",\"1935\",\"1935\",\"1935\",\"1935\",\"1935\",\"1935\",\"1935-12-01\",\"1935-01-01\",\"1935\",\"1935\",\"1935-12-01\",\"1935\",\"1935\",\"1935\",\"1935\",\"1935-01-04\",\"1935-01-01\",\"1935\",\"1935\",\"1935\",\"1935-01-01\",\"1935-01-01\",\"1935\",\"1935-01-10\",\"1935-01-01\",\"1935\",\"1935\",\"1935\",\"1935-01-01\",\"1935-01-12\",\"1935-01-01\",\"1935\",\"1935\",\"1935-12-01\",\"1935\",\"1935\",\"1935\",\"1935\",\"1935-12-31\",\"1935\",\"1935-01-01\",\"1935\",\"1935\",\"1935\",\"1935\",\"1935-01-01\",\"1935-01-01\",\"1935\",\"1935\",\"1935\",\"1935\",\"1935\",\"1935\",\"1935\",\"1935\",\"1935\",\"1935\",\"1935-01-01\",\"1935-01-01\",\"1935-01-01\",\"1935\",\"1935-01-10\",\"1935\",\"1935-01-04\",\"1935\",\"1935\",\"1935\",\"1935-01-01\",\"1935-01-01\",\"1935\",\"1935-01-01\",\"1935\",\"1935\",\"1935-01-10\",\"1935-01-10\",\"1935\",\"1935\",\"1935\",\"1935-01-01\",\"1935-01-01\",\"1935\",\"1935-01-01\",\"1935-01-01\",\"1935\",\"1935-01-01\",\"1935\",\"1935-01-01\",\"1935\",\"1935\",\"1935\",\"1935\",\"1935\",\"1935\",\"1935\",\"1935-01-10\",\"1935\",\"1935-01-01\",\"1935\",\"1935-01-12\",\"1935-01-01\",\"1935\",\"1935\",\"1935\",\"1935\",\"1935-01-01\",\"1935-01-01\",\"1935\",\"1935\",\"1935\",\"1935\",\"1935-01-01\",\"1935\",\"1935\",\"1935\",\"1935-01-01\",\"1935-01-01\",\"1935-01-01\",\"1935\",\"1935-11-11\",\"1935\",\"1935-12-31\",\"1935\",\"1935-04-01\",\"1935\",\"1935-01-01\",\"1935\",\"1935\",\"1935-08-28\",\"1935-01-01\",\"1935-01-04\",\"1935-01-01\",\"1935\",\"1935\",\"1935\",\"1935-01-01\",\"1935\",\"1935\",\"1935\",\"1935\",\"1935\",\"1935\",\"1935\",\"1935\",\"1935-01-04\",\"1935\",\"1935\",\"1935-12-31\",\"1935-01-01\",\"1935-01-01\",\"1935\",\"1935\",\"1935\",\"1935-01-01\",\"1935\",\"1935\",\"1935\",\"1935\",\"1935\",\"1935\",\"1935-02-04\",\"1935-01-01\",\"1935\",\"1935-01-01\",\"1935-01-01\",\"1935-01-01\",\"1935\",\"1935\",\"1935\",\"1935\",\"1935\",\"1935-01-01\",\"1935\",\"1935\",\"1935\",\"1935-01-01\",\"1935-01-04\",\"1935\",\"1935-01-01\",\"1935\",\"1935\",\"1935-01-01\",\"1935\",\"1935-01-10\",\"1935\",\"1935-01-01\",\"1935\",\"1935\",\"1935\",\"1935-01-01\",\"1935-01-01\",\"1935\",\"1935\",\"1935-01-04\",\"1935-01-10\",\"1935-01-10\",\"1935-12-01\",\"1935\",\"1935\",\"1935\",\"1935\",\"1935\",\"1935-01-04\",\"1935\",\"1935\",\"1935-01-01\",\"1935\",\"1935\",\"1935-01-01\",\"1935-01-01\",\"1935\",\"1935\",\"1935-01-01\",\"1935-12-31\",\"1935\",\"1935-01-01\",\"1935\",\"1935-12-01\",\"1935\",\"1935-01-01\",\"1935\",\"1935\",\"1935\",\"1935\",\"1935\",\"1935\",\"1935\",\"1935\",\"1935\",\"1935\",\"1935\",\"1935\",\"1935\",\"1935-12-31\",\"1935-01-01\",\"1935\",\"1935\",\"1935\",\"1935\",\"1935\",\"1935\",\"1935\",\"1935\",\"1935-01-01\",\"1935\",\"1935\",\"1935\",\"1935\",\"1935-01-01\",\"1935-01-01\",\"1935\",\"1935\",\"1935\",\"1935\",\"1935-01-01\",\"1935\",\"1935\",\"1935\",\"1935\",\"1935\",\"1935\",\"1935\",\"1935-01-01\",\"1935\",\"1935\",\"1935\",\"1935\",\"1935\",\"1935-12-01\",\"1935-01-01\",\"1935\",\"1935\",\"1935-12-01\",\"1935\",\"1935\",\"1935\",\"1935\",\"1935\",\"1935-01-01\",\"1935\",\"1935-01-01\",\"1935\",\"1935-01-01\",\"1935\",\"1935\",\"1935\",\"1935\",\"1935-01-01\",\"1935\",\"1935\",\"1935-01-01\",\"1935\",\"1935\",\"1935\",\"1935\",\"1935\",\"1935-01-10\",\"1935\",\"1935\",\"1935\",\"1935-01-01\",\"1935-01-04\",\"1935\",\"1935\",\"1935-01-12\",\"1935-01-01\",\"1935\",\"1935-01-01\",\"1935-01-01\",\"1935-01-01\",\"1935-05-11\",\"1935-01-01\",\"1935\",\"1935-01-01\",\"1935\",\"1935\",\"1935-12-01\",\"1935-01-01\",\"1935-01-01\",\"1935-01-01\",\"1935-01-01\",\"1935\",\"1935\",\"1935\",\"1935\",\"1935\",\"1936\",\"1936\",\"1936\",\"1936\",\"1936\",\"1936\",\"1936\",\"1936\",\"1936-03-12\",\"1936\",\"1936\",\"1936\",\"1936\",\"1936\",\"1936\",\"1936\",\"1936\",\"1936\",\"1936\",\"1936\",\"1936\",\"1936\",\"1936\",\"1936\",\"1936\",\"1936\",\"1936\",\"1936\",\"1936\",\"1936\",\"1936\",\"1936\",\"1936\",\"1936\",\"1936\",\"1936\",\"1936\",\"1936\",\"1936\",\"1936\",\"1936\",\"1936\",\"1936\",\"1936\",\"1936\",\"1936\",\"1936\",\"1936\",\"1936\",\"1936\",\"1936\",\"1936\",\"1936\",\"1936\",\"1936\",\"1936\",\"1936\",\"1936\",\"1936\",\"1936\",\"1936\",\"1936\",\"1936\",\"1936\",\"1936\",\"1936\",\"1936\",\"1936\",\"1936\",\"1936\",\"1936\",\"1936\",\"1936\",\"1936\",\"1936\",\"1936\",\"1936\",\"1936\",\"1936\",\"1936\",\"1936\",\"1936\",\"1936\",\"1936\",\"1936\",\"1936\",\"1936\",\"1936\",\"1936\",\"1936\",\"1936\",\"1936\",\"1936\",\"1936\",\"1936\",\"1936\",\"1936\",\"1936\",\"1936\",\"1936\",\"1936\",\"1936\",\"1936\",\"1936\",\"1936\",\"1936\",\"1936\",\"1936\",\"1936\",\"1936\",\"1936\",\"1936\",\"1936\",\"1936\",\"1936\",\"1936\",\"1936\",\"1936\",\"1936\",\"1936-04-20\",\"1936\",\"1936\",\"1936\",\"1936\",\"1936\",\"1936\",\"1936\",\"1936\",\"1936\",\"1936\",\"1936\",\"1936\",\"1936-08-15\",\"1936\",\"1936\",\"1936-06-15\",\"1936\",\"1936\",\"1936\",\"1936\",\"1936\",\"1936\",\"1936-06-15\",\"1936\",\"1936\",\"1936\",\"1936\",\"1936\",\"1936\",\"1936\",\"1936\",\"1936-05-21\",\"1936\",\"1936\",\"1936\",\"1936\",\"1936-08-15\",\"1936\",\"1936\",\"1936\",\"1936-04-20\",\"1936\",\"1936\",\"1936\",\"1936\",\"1936\",\"1936\",\"1936\",\"1936\",\"1936\",\"1936\",\"1936\",\"1936\",\"1936\",\"1936\",\"1936\",\"1936\",\"1936\",\"1936\",\"1936\",\"1936\",\"1936\",\"1936\",\"1936\",\"1936-08-15\",\"1936\",\"1936\",\"1936\",\"1936\",\"1936\",\"1936\",\"1936\",\"1936\",\"1936\",\"1936\",\"1936\",\"1936\",\"1936\",\"1936\",\"1936\",\"1936\",\"1936\",\"1936\",\"1936\",\"1936\",\"1936\",\"1936-04-20\",\"1936\",\"1936\",\"1936\",\"1936\",\"1936\",\"1936\",\"1936-03-12\",\"1936-01-01\",\"1936-08-15\",\"1936\",\"1936\",\"1936\",\"1936\",\"1936\",\"1936\",\"1936\",\"1936\",\"1936\",\"1936\",\"1936\",\"1936\",\"1936\",\"1936\",\"1936\",\"1936\",\"1936\",\"1936\",\"1936\",\"1936\",\"1936\",\"1936\",\"1936-08-15\",\"1936\",\"1936\",\"1936\",\"1936\",\"1936\",\"1936\",\"1936\",\"1936\",\"1936\",\"1936-04-20\",\"1936\",\"1936\",\"1936\",\"1936\",\"1936\",\"1936\",\"1936-08-15\",\"1936\",\"1936\",\"1936\",\"1936-08-15\",\"1936\",\"1936\",\"1936\",\"1936\",\"1936\",\"1936\",\"1936\",\"1936\",\"1936\",\"1936\",\"1936\",\"1936\",\"1936\",\"1936\",\"1936-08-15\",\"1936\",\"1936\",\"1936-03-12\",\"1936-03-12\",\"1936\",\"1936\",\"1936\",\"1936-08-15\",\"1936\",\"1936\",\"1936\",\"1936\",\"1936\",\"1936\",\"1936\",\"1936\",\"1936\",\"1936-04-20\",\"1936\",\"1936\",\"1936\",\"1936-04-20\",\"1936\",\"1936\",\"1936\",\"1936-03-12\",\"1936\",\"1936\",\"1936-04-20\",\"1936\",\"1936\",\"1936\",\"1936\",\"1936\",\"1936\",\"1936\",\"1936\",\"1936-04-20\",\"1936\",\"1936\",\"1936\",\"1936\",\"1936-03-12\",\"1936\",\"1936-03-12\",\"1936-04-20\",\"1936-08-15\",\"1936-05-21\",\"1936\",\"1936-03-12\",\"1936-03-12\",\"1936\",\"1936\",\"1936\",\"1936\",\"1936\",\"1936\",\"1936\",\"1936\",\"1936\",\"1936\",\"1936\",\"1936\",\"1936\",\"1936\",\"1936\",\"1936\",\"1936-04-20\",\"1936\",\"1936\",\"1936\",\"1936\",\"1936-03-12\",\"1936\",\"1936-03-12\",\"1936-06-15\",\"1936\",\"1936-08-15\",\"1936-05-21\",\"1936\",\"1936\",\"1936\",\"1936\",\"1936-03-12\",\"1936\",\"1936-11-27\",\"1936\",\"1936-12-23\",\"1936-12-23\",\"1936-01-01\",\"1936-11-27\",\"1936-11-27\",\"1936-11-27\",\"1936\",\"1936-12-31\",\"1936-01-01\",\"1936-11-27\",\"1936-12-23\",\"1936-11-27\",\"1936\",\"1936-12-23\",\"1936-01-01\",\"1936-01-10\",\"1936-11-27\",\"1936-05-27\",\"1936-12-23\",\"1936\",\"1936-12-23\",\"1936-11-27\",\"1936\",\"1936-11-27\",\"1936-12-23\",\"1936-01-01\",\"1936\",\"1936-01-10\",\"1936\",\"1936\",\"1936-01-18\",\"1936-11-27\",\"1936-11-27\",\"1936\",\"1936-11-27\",\"1936-12-23\",\"1936-12-23\",\"1936\",\"1936-11-19\",\"1936-12-23\",\"1936-04-10\",\"1936-12-23\",\"1936-11-27\",\"1936-12-23\",\"1936-11-27\",\"1936-11-27\",\"1936-11-27\",\"1936-11-27\",\"1936-11-27\",\"1936\",\"1936-05-21\",\"1936\",\"1936-10-31\",\"1936\",\"1936-04-20\",\"1936-11-27\",\"1936-02-10\",\"1936-11-27\",\"1936-11-27\",\"1936-11-27\",\"1936-11-27\",\"1936-11-27\",\"1936-11-27\",\"1936-12-23\",\"1936-11-27\",\"1936-11-27\",\"1936-11-27\",\"1936\",\"1936-12-31\",\"1936\",\"1936\",\"1936-11-15\",\"1936\",\"1936\",\"1936-12-23\",\"1936-12-23\",\"1936\",\"1936-12-23\",\"1936-11-27\",\"1936-12-23\",\"1936-11-27\",\"1936-11-27\",\"1936-12-01\",\"1936-12-23\",\"1936-12-23\",\"1936-12-23\",\"1936-11-27\",\"1936\",\"1936-12-31\",\"1936-06-15\",\"1936-12-23\",\"1936-12-23\",\"1936\",\"1936-12-23\",\"1936-12-23\",\"1936-12-23\",\"1936-12-23\",\"1936\",\"1936-11-27\",\"1936-11-15\",\"1936-11-27\",\"1936-11-27\",\"1936-12-01\",\"1936-11-27\",\"1936\",\"1936-12-23\",\"1936-01-10\",\"1936-01-18\",\"1936-11-15\",\"1936-11-27\",\"1936-11-27\",\"1936-12-23\",\"1936\",\"1936\",\"1936-11-27\",\"1936-12-23\",\"1936-11-27\",\"1936-12-23\",\"1936-12-01\",\"1936-01-10\",\"1936-11-27\",\"1936\",\"1936\",\"1936-11-27\",\"1936-01-01\",\"1936\",\"1936-11-27\",\"1936-11-27\",\"1936-11-27\",\"1936-12-23\",\"1936-12-23\",\"1936\",\"1936-01-01\",\"1936-11-27\",\"1936-12-23\",\"1936-12-23\",\"1936-04-10\",\"1936\",\"1936\",\"1936-11-27\",\"1936-01-01\",\"1936-11-27\",\"1936-11-27\",\"1936\",\"1936-12-23\",\"1936-03-12\",\"1936-11-27\",\"1936\",\"1936-11-27\",\"1936-12-23\",\"1936\",\"1936-11-27\",\"1936\",\"1936-12-23\",\"1936-11-27\",\"1936-11-27\",\"1936-11-27\",\"1936-12-23\",\"1936\",\"1936\",\"1936\",\"1936-01-01\",\"1936\",\"1936\",\"1936\",\"1936-12-01\",\"1936-11-27\",\"1936-12-23\",\"1936\",\"1936-05-21\",\"1936-11-27\",\"1936-12-01\",\"1936-12-23\",\"1936-11-27\",\"1936-12-23\",\"1936-11-27\",\"1936\",\"1936\",\"1936-01-10\",\"1936-12-23\",\"1936-11-27\",\"1936-11-27\",\"1936-11-27\",\"1936\",\"1936-12-23\",\"1936\",\"1936\",\"1936\",\"1936\",\"1936-12-23\",\"1936-11-27\",\"1936-11-27\",\"1936-12-23\",\"1936-11-27\",\"1936\",\"1936-12-23\",\"1936-11-27\",\"1936-11-27\",\"1936-01-18\",\"1936-11-27\",\"1936-12-23\",\"1936-01-01\",\"1936-11-27\",\"1936-12-23\",\"1936-11-27\",\"1936-11-27\",\"1936-12-23\",\"1936-11-27\",\"1936-11-27\",\"1936\",\"1936-11-27\",\"1936-11-27\",\"1936\",\"1936-12-23\",\"1936-12-31\",\"1936\",\"1936\",\"1936-12-23\",\"1936-11-27\",\"1936-12-23\",\"1936-11-27\",\"1936-12-31\",\"1936-11-27\",\"1936-11-27\",\"1936-01-01\",\"1936-11-27\",\"1936-12-23\",\"1936\",\"1936-11-27\",\"1936-11-27\",\"1936-12-23\",\"1936-01-01\",\"1936-11-27\",\"1936-05-21\",\"1936\",\"1936-11-27\",\"1936-11-27\",\"1936-12-23\",\"1936-01-01\",\"1936\",\"1936\",\"1936-12-23\",\"1936-11-27\",\"1936-12-23\",\"1936-12-23\",\"1936-04-10\",\"1936\",\"1936\",\"1936-03-12\",\"1936-01-18\",\"1936-12-23\",\"1936-12-01\",\"1936-12-23\",\"1936-12-23\",\"1936-12-23\",\"1936\",\"1936-11-27\",\"1936\",\"1936\",\"1936-12-23\",\"1936\",\"1936-12-23\",\"1936\",\"1936-12-23\",\"1936-12-23\",\"1936-01-01\",\"1936\",\"1936-12-23\",\"1936\",\"1936-12-23\",\"1936-12-23\",\"1936-01-01\",\"1936\",\"1936-11-27\",\"1936\",\"1936-12-23\",\"1936-12-23\",\"1936\",\"1936-12-23\",\"1936-06-15\",\"1936-12-23\",\"1936-04-10\",\"1936\",\"1936\",\"1936-12-23\",\"1936-12-23\",\"1936\",\"1936-11-27\",\"1936\",\"1936-01-18\",\"1936-12-23\",\"1936-11-27\",\"1936-11-27\",\"1936-11-27\",\"1936-12-23\",\"1936\",\"1936\",\"1936-11-27\",\"1936-01-01\",\"1936-11-27\",\"1936-01-12\",\"1936-11-27\",\"1936-01-01\",\"1936-11-27\",\"1936-11-27\",\"1936-12-01\",\"1936-12-23\",\"1936-12-23\",\"1936-11-27\",\"1936-11-27\",\"1936-11-27\",\"1936\",\"1936-11-27\",\"1936-12-23\",\"1936-12-23\",\"1936-11-27\",\"1936-11-27\",\"1936\",\"1936-11-27\",\"1936\",\"1936-12-23\",\"1936\",\"1936-12-23\",\"1936-11-27\",\"1936-12-23\",\"1936-01-01\",\"1936-11-27\",\"1936-12-23\",\"1936-11-27\",\"1936-12-23\",\"1936-11-27\",\"1936-12-23\",\"1936-11-27\",\"1936-12-23\",\"1936\",\"1936-11-27\",\"1936-11-27\",\"1936-11-27\",\"1936-11-27\",\"1936-12-01\",\"1936-11-27\",\"1936-11-27\",\"1936\",\"1936-12-23\",\"1936-12-23\",\"1936\",\"1936-11-27\",\"1936-08-15\",\"1936\",\"1936-06-15\",\"1936\",\"1936-12-31\",\"1936-01-01\",\"1936-12-01\",\"1936-11-27\",\"1936\",\"1936-11-27\",\"1936-12-23\",\"1936-12-23\",\"1936\",\"1936-12-23\",\"1936\",\"1936\",\"1936-12-23\",\"1936\",\"1936-12-23\",\"1936-11-27\",\"1936\",\"1936-12-23\",\"1936-12-23\",\"1936\",\"1936\",\"1936-12-23\",\"1936-11-27\",\"1936-12-23\",\"1936-12-23\",\"1936\",\"1936-11-27\",\"1936-12-23\",\"1936\",\"1936-11-27\",\"1936-12-23\",\"1936-12-01\",\"1936-11-27\",\"1936-11-27\",\"1936-11-27\",\"1936-12-23\",\"1936\",\"1936-01-18\",\"1936-12-23\",\"1936-12-01\",\"1936-12-31\",\"1936-01-10\",\"1936-11-27\",\"1936-11-27\",\"1936-11-18\",\"1936-01-18\",\"1936-12-01\",\"1936-06-11\",\"1936\",\"1936-11-27\",\"1936-12-23\",\"1936-11-27\",\"1936-12-23\",\"1936\",\"1936-11-27\",\"1936\",\"1936\",\"1936-01-01\",\"1936-11-27\",\"1936-12-23\",\"1936\",\"1936-12-23\",\"1936-11-27\",\"1936\",\"1936\",\"1936-11-27\",\"1936-11-27\",\"1936-12-23\",\"1936-01-01\",\"1936-11-27\",\"1936-11-27\",\"1936-05-03\",\"1936-11-27\",\"1936-11-27\",\"1936-11-27\",\"1936-12-23\",\"1936-12-23\",\"1936-12-23\",\"1936-11-27\",\"1936-11-27\",\"1936-01-01\",\"1936-12-23\",\"1936-11-27\",\"1936\",\"1936-11-27\",\"1936-12-23\",\"1936\",\"1936\",\"1936-11-27\",\"1936-11-27\",\"1936-11-27\",\"1936-12-23\",\"1936-10-31\",\"1936\",\"1936-06-15\",\"1936-12-23\",\"1936-11-27\",\"1936\",\"1936-11-27\",\"1936-12-23\",\"1936-12-23\",\"1936-12-23\",\"1936\",\"1936-12-31\",\"1936-12-23\",\"1936-11-27\",\"1936\",\"1936-12-23\",\"1936-11-27\",\"1936-12-23\",\"1936-01-01\",\"1936-12-23\",\"1936-11-27\",\"1936-11-27\",\"1936-01-01\",\"1936-12-23\",\"1936-12-23\",\"1936-11-27\",\"1936-11-27\",\"1936-12-23\",\"1936\",\"1936\",\"1936-01-01\",\"1936\",\"1936-11-27\",\"1936\",\"1936-12-23\",\"1936-11-01\",\"1936-11-27\",\"1936-11-27\",\"1936-11-27\",\"1936\",\"1936-12-23\",\"1936-11-27\",\"1936-01-01\",\"1936-12-23\",\"1936-12-23\",\"1936-12-23\",\"1936-12-23\",\"1936-05-21\",\"1936-09-01\",\"1936-11-27\",\"1936-11-27\",\"1936-11-27\",\"1936-01-01\",\"1936-12-23\",\"1936-12-23\",\"1936-11-27\",\"1936-12-23\",\"1936-12-23\",\"1936-12-23\",\"1936-11-27\",\"1936-11-27\",\"1936-12-23\",\"1936\",\"1936-12-23\",\"1936-12-23\",\"1936-12-23\",\"1936-12-23\",\"1936-11-27\",\"1936-12-23\",\"1936-11-27\",\"1936-12-23\",\"1936\",\"1936-12-23\",\"1936-12-23\",\"1936-12-23\",\"1936-11-27\",\"1936-12-23\",\"1936-11-27\",\"1936-11-27\",\"1936-12-31\",\"1936-12-23\",\"1936\",\"1936-12-23\",\"1936-12-23\",\"1936-11-27\",\"1936-11-27\",\"1936-06-24\",\"1936-12-23\",\"1936\",\"1936-11-27\",\"1936-12-23\",\"1936-11-27\",\"1936-12-23\",\"1936-12-23\",\"1936-11-27\",\"1936-11-27\",\"1936-01-10\",\"1936-05-03\",\"1936-11-27\",\"1936-11-27\",\"1936-11-27\",\"1936-12-23\",\"1936-11-27\",\"1936\",\"1936\",\"1936\",\"1936-12-23\",\"1936-11-27\",\"1936\",\"1936-12-23\",\"1936-11-27\",\"1936-11-27\",\"1936\",\"1936-11-27\",\"1936\",\"1936-11-27\",\"1936-11-27\",\"1936-12-31\",\"1936-11-27\",\"1936-12-23\",\"1936-11-27\",\"1936-12-23\",\"1936-01-01\",\"1936-11-27\",\"1936-12-23\",\"1936-01-01\",\"1936-12-23\",\"1936-11-27\",\"1936-06-15\",\"1936\",\"1936-11-27\",\"1936\",\"1936-01-10\",\"1936\",\"1936-12-23\",\"1936-12-23\",\"1936-12-23\",\"1936-01-01\",\"1936-11-27\",\"1936-12-31\",\"1936-11-27\",\"1936-11-27\",\"1936-11-27\",\"1936\",\"1936-12-23\",\"1936-11-27\",\"1936-11-27\",\"1936-11-27\",\"1936\",\"1936-01-18\",\"1936-12-23\",\"1936\",\"1936-11-27\",\"1936-01-01\",\"1936-12-23\",\"1936-01-10\",\"1936-12-23\",\"1936\",\"1936-12-23\",\"1936-11-27\",\"1936-11-27\",\"1936-11-27\",\"1936-12-23\",\"1936-12-23\",\"1936-12-23\",\"1936-01-01\",\"1936\",\"1936-12-23\",\"1936-01-18\",\"1936-11-27\",\"1936-12-23\",\"1936-12-23\",\"1936-11-27\",\"1936\",\"1936-11-27\",\"1936-11-27\",\"1936\",\"1936\",\"1936\",\"1936\",\"1936-11-27\",\"1936\",\"1936-11-27\",\"1936-01-10\",\"1936-11-27\",\"1936-12-23\",\"1936-12-23\",\"1936\",\"1936\",\"1936-12-23\",\"1936-11-27\",\"1936\",\"1936-11-27\",\"1936-01-10\",\"1936-12-23\",\"1937\",\"1937\",\"1937\",\"1937\",\"1937\",\"1937\",\"1937\",\"1937\",\"1937\",\"1937\",\"1937\",\"1937\",\"1937\",\"1937\",\"1937\",\"1937\",\"1937\",\"1937\",\"1937\",\"1937\",\"1937\",\"1937\",\"1937\",\"1937\",\"1937-01-01\",\"1937\",\"1937\",\"1937-01-01\",\"1937\",\"1937-01-01\",\"1937-01-01\",\"1937-01-01\",\"1937\",\"1937\",\"1937\",\"1937\",\"1937\",\"1937\",\"1937\",\"1937\",\"1937\",\"1937-12-01\",\"1937\",\"1937-01-01\",\"1937\",\"1937\",\"1937\",\"1937\",\"1937\",\"1937\",\"1937-01-01\",\"1937\",\"1937-01-01\",\"1937-01-01\",\"1937\",\"1937-01-01\",\"1937\",\"1937\",\"1937-01-01\",\"1937\",\"1937\",\"1937\",\"1937\",\"1937-01-01\",\"1937\",\"1937\",\"1937\",\"1937\",\"1937\",\"1937-06-19\",\"1937\",\"1937-01-01\",\"1937\",\"1937\",\"1937-01-01\",\"1937\",\"1937-01-01\",\"1937-01-01\",\"1937\",\"1937\",\"1937\",\"1937\",\"1937\",\"1937-04-12\",\"1937\",\"1937\",\"1937\",\"1937-12-01\",\"1937-04-12\",\"1937\",\"1937-01-01\",\"1937\",\"1937\",\"1937\",\"1937\",\"1937\",\"1937\",\"1937\",\"1937\",\"1937\",\"1937\",\"1937-01-01\",\"1937\",\"1937\",\"1937\",\"1937\",\"1937-01-01\",\"1937\",\"1937\",\"1937\",\"1937\",\"1937\",\"1937\",\"1937\",\"1937\",\"1937\",\"1937\",\"1937\",\"1937\",\"1937-12-01\",\"1937-01-01\",\"1937-01-01\",\"1937\",\"1937\",\"1937\",\"1937\",\"1937\",\"1937\",\"1937\",\"1937\",\"1937\",\"1937\",\"1937-01-01\",\"1937\",\"1937\",\"1937-04-12\",\"1937\",\"1937\",\"1937-01-01\",\"1937-01-01\",\"1937\",\"1937\",\"1937\",\"1937\",\"1937-01-01\",\"1937-12-31\",\"1937\",\"1937\",\"1937\",\"1937-01-01\",\"1937-01-18\",\"1937-01-01\",\"1937-12-01\",\"1937\",\"1937-12-31\",\"1937\",\"1937-12-31\",\"1937-01-01\",\"1937\",\"1937-01-01\",\"1937-01-01\",\"1937\",\"1937-12-31\",\"1937\",\"1937\",\"1937-01-18\",\"1937\",\"1937-12-31\",\"1937-01-01\",\"1937-01-01\",\"1937\",\"1937-12-31\",\"1937-12-31\",\"1937\",\"1937\",\"1937\",\"1937\",\"1937-01-01\",\"1937-12-31\",\"1937-01-17\",\"1937\",\"1937-01-18\",\"1937-12-01\",\"1937-01-01\",\"1937-12-31\",\"1937-04-12\",\"1937\",\"1937-12-31\",\"1937-01-18\",\"1937\",\"1937-01-01\",\"1937-01-18\",\"1937-12-31\",\"1937-01-01\",\"1937-01-01\",\"1937-01-01\",\"1937-12-31\",\"1937-01-01\",\"1937-01-18\",\"1937-12-01\",\"1937-12-31\",\"1937-01-12\",\"1937\",\"1937\",\"1937\",\"1937-04-12\",\"1937\",\"1937\",\"1937-01-01\",\"1937-09-22\",\"1937\",\"1937-01-17\",\"1937-12-31\",\"1937-01-18\",\"1937-01-18\",\"1937\",\"1937-01-17\",\"1937-12-31\",\"1937\",\"1937\",\"1937\",\"1937\",\"1937-01-01\",\"1937-12-31\",\"1937\",\"1937-01-18\",\"1937-04-12\",\"1937\",\"1937-01-12\",\"1937-12-31\",\"1937-01-18\",\"1937\",\"1937-01-18\",\"1937-01-01\",\"1937-01-18\",\"1937-12-31\",\"1937\",\"1937\",\"1937-01-17\",\"1937-01-01\",\"1937\",\"1937\",\"1937-01-12\",\"1937-01-18\",\"1937-04-12\",\"1937-01-12\",\"1937\",\"1937\",\"1937-04-12\",\"1937-12-31\",\"1937-01-18\",\"1937-01-01\",\"1937-01-01\",\"1937\",\"1937\",\"1937\",\"1937-04-12\",\"1937\",\"1937\",\"1937\",\"1937-01-01\",\"1937-01-01\",\"1937-12-31\",\"1937\",\"1937\",\"1937-01-01\",\"1937-01-01\",\"1937-10-14\",\"1937-01-01\",\"1937-12-31\",\"1937-01-01\",\"1937-01-01\",\"1937-01-18\",\"1937\",\"1937\",\"1937\",\"1937-12-31\",\"1937\",\"1937-01-01\",\"1937\",\"1937-12-31\",\"1937\",\"1937-01-18\",\"1937\",\"1937\",\"1937-06-19\",\"1937-01-18\",\"1937-04-12\",\"1937-01-01\",\"1937\",\"1937-01-01\",\"1937-01-18\",\"1937-01-01\",\"1937-01-01\",\"1937-01-01\",\"1937-01-01\",\"1937\",\"1937-01-01\",\"1937\",\"1937-12-31\",\"1937-01-01\",\"1937-12-31\",\"1937-01-01\",\"1937\",\"1937-01-01\",\"1937-03-04\",\"1937-01-18\",\"1937-01-01\",\"1937-11-12\",\"1937-04-12\",\"1937\",\"1937-01-17\",\"1937\",\"1937\",\"1937-01-01\",\"1937-06-19\",\"1937\",\"1937\",\"1937-12-31\",\"1937\",\"1937\",\"1937\",\"1937-06-19\",\"1937-12-31\",\"1937-01-17\",\"1937\",\"1937-01-18\",\"1937-01-01\",\"1937-01-18\",\"1937\",\"1937-01-17\",\"1937\",\"1937-01-01\",\"1937-01-01\",\"1937-01-17\",\"1937\",\"1937-01-17\",\"1937-12-01\",\"1937\",\"1937\",\"1937-01-17\",\"1937-12-31\",\"1937-01-01\",\"1937-01-18\",\"1937-01-17\",\"1937\",\"1937-12-31\",\"1937-01-01\",\"1937-12-31\",\"1937\",\"1937\",\"1937-12-31\",\"1937\",\"1937\",\"1937\",\"1937-01-18\",\"1937\",\"1937-01-01\",\"1937\",\"1937-11-12\",\"1937-01-17\",\"1937-12-31\",\"1937-12-31\",\"1937-01-01\",\"1937\",\"1937-12-31\",\"1937\",\"1937\",\"1937\",\"1937-01-18\",\"1937-01-18\",\"1937\",\"1937-01-01\",\"1937\",\"1937-01-01\",\"1937-01-18\",\"1937-04-12\",\"1937-01-17\",\"1937\",\"1937-12-31\",\"1937\",\"1937\",\"1937-01-01\",\"1937\",\"1937-01-01\",\"1937\",\"1937-01-01\",\"1937-12-31\",\"1937-01-01\",\"1937-12-31\",\"1937\",\"1937-01-01\",\"1937-12-31\",\"1937\",\"1937-01-18\",\"1937\",\"1937\",\"1937-04-12\",\"1937\",\"1937-01-01\",\"1937-01-01\",\"1937\",\"1937-01-25\",\"1937\",\"1937-12-31\",\"1937-12-31\",\"1937-12-31\",\"1937-12-31\",\"1937\",\"1937\",\"1937\",\"1937\",\"1937-01-18\",\"1937\",\"1937-01-17\",\"1937\",\"1937\",\"1937\",\"1937\",\"1937\",\"1937-01-17\",\"1937-01-01\",\"1937\",\"1937-01-12\",\"1937-01-18\",\"1937-01-17\",\"1937-01-01\",\"1937-01-18\",\"1937-01-01\",\"1937-01-01\",\"1937\",\"1937\",\"1937\",\"1937-12-01\",\"1937\",\"1937\",\"1937-01-01\",\"1937\",\"1937\",\"1937-01-18\",\"1937-01-01\",\"1937\",\"1937\",\"1937-01-18\",\"1937-12-31\",\"1937-01-01\",\"1937\",\"1937\",\"1937-01-01\",\"1937\",\"1937\",\"1937-12-31\",\"1937-01-01\",\"1937-12-01\",\"1937-01-01\",\"1937-01-01\",\"1937-04-12\",\"1937-12-31\",\"1937-12-31\",\"1937\",\"1937-01-18\",\"1937-12-31\",\"1937\",\"1937-01-01\",\"1937-12-31\",\"1937\",\"1937-12-31\",\"1937\",\"1937-12-31\",\"1937-12-31\",\"1937\",\"1937-01-18\",\"1937-12-31\",\"1937-01-18\",\"1937-01-01\",\"1937\",\"1937\",\"1937\",\"1937-01-18\",\"1937-12-31\",\"1937-01-01\",\"1937-12-01\",\"1937\",\"1937\",\"1937\",\"1937\",\"1937\",\"1937\",\"1937-01-18\",\"1937-01-18\",\"1937\",\"1937-12-31\",\"1937\",\"1937\",\"1937\",\"1937-01-12\",\"1937\",\"1937\",\"1937\",\"1937\",\"1937-12-31\",\"1937-12-01\",\"1937-01-17\",\"1937-01-01\",\"1937-01-01\",\"1937\",\"1937-12-31\",\"1937-01-01\",\"1937-11-12\",\"1937\",\"1937-12-01\",\"1937-12-31\",\"1937-01-01\",\"1937-01-18\",\"1937\",\"1937\",\"1937-01-01\",\"1937\",\"1937-12-31\",\"1937-01-01\",\"1937-01-18\",\"1937-01-18\",\"1937\",\"1937-01-01\",\"1937-01-18\",\"1937-01-01\",\"1937-01-01\",\"1937\",\"1937-12-31\",\"1937\",\"1937\",\"1937-12-31\",\"1937-01-01\",\"1937-12-31\",\"1937\",\"1937\",\"1937\",\"1937-01-01\",\"1937\",\"1937-12-31\",\"1937-01-01\",\"1937-12-31\",\"1937\",\"1937-12-01\",\"1937\",\"1937-01-18\",\"1937-01-18\",\"1937-01-01\",\"1937-01-01\",\"1937\",\"1937-12-01\",\"1937-12-31\",\"1937-12-31\",\"1937-12-31\",\"1937-01-01\",\"1937\",\"1937\",\"1937\",\"1937\",\"1937\",\"1937-12-31\",\"1937\",\"1937\",\"1937-01-01\",\"1937-04-12\",\"1937-12-01\",\"1937-01-17\",\"1937-12-31\",\"1937-11-12\",\"1937-12-31\",\"1937-12-01\",\"1937-01-17\",\"1937-01-01\",\"1937\",\"1937\",\"1937\",\"1937\",\"1937-12-01\",\"1937-01-01\",\"1937-01-01\",\"1937-01-18\",\"1937\",\"1937-01-17\",\"1937-12-22\",\"1937-01-18\",\"1937-04-12\",\"1937-01-18\",\"1937\",\"1937-01-01\",\"1937-01-01\",\"1937-01-01\",\"1937-12-31\",\"1937\",\"1937\",\"1937\",\"1937\",\"1937-12-31\",\"1937-01-01\",\"1937-01-01\",\"1937-01-18\",\"1937\",\"1937-01-01\",\"1937-01-01\",\"1937-01-18\",\"1937-12-31\",\"1937-01-01\",\"1937\",\"1937\",\"1937\",\"1937-04-12\",\"1937-01-01\",\"1937-01-01\",\"1937\",\"1937-01-01\",\"1937\",\"1937\",\"1937\",\"1937-01-01\",\"1937-04-12\",\"1937\",\"1937-04-12\",\"1937\",\"1937-01-01\",\"1937-01-18\",\"1937\",\"1937\",\"1937-01-01\",\"1937-01-01\",\"1937\",\"1937-01-18\",\"1937\",\"1937\",\"1937\",\"1937-09-08\",\"1937\",\"1937-01-01\",\"1937-01-18\",\"1937-04-12\",\"1937-01-01\",\"1937\",\"1937\",\"1937-01-17\",\"1937-12-01\",\"1937\",\"1937-01-01\",\"1937\",\"1937-12-31\",\"1937\",\"1937-01-18\",\"1937\",\"1937-03-04\",\"1937\",\"1937\",\"1937-01-17\",\"1937-12-31\",\"1937-12-01\",\"1937-01-17\",\"1937\",\"1937\",\"1937\",\"1937-01-01\",\"1937\",\"1937\",\"1937-08-03\",\"1937\",\"1937-01-01\",\"1937\",\"1937-05-02\",\"1937-08-03\",\"1937-08-03\",\"1937-01-01\",\"1937\",\"1937-05-02\",\"1937-12-31\",\"1937-02-11\",\"1937-12-31\",\"1937\",\"1937\",\"1937-05-02\",\"1937-02-11\",\"1937-01-01\",\"1937\",\"1937-08-03\",\"1937-08-03\",\"1937-01-01\",\"1937-05-02\",\"1937-08-03\",\"1937-01-01\",\"1937-01-01\",\"1937\",\"1937\",\"1937-05-02\",\"1937-01-01\",\"1937-01-01\",\"1937\",\"1937\",\"1937-02-11\",\"1937\",\"1937\",\"1937\",\"1937\",\"1937\",\"1937-01-01\",\"1937-05-02\",\"1937-01-01\",\"1937-01-01\",\"1937-12-31\",\"1937\",\"1937-01-01\",\"1937-08-03\",\"1937\",\"1937-01-01\",\"1937-08-03\",\"1937-08-03\",\"1937-05-02\",\"1937-01-01\",\"1937\",\"1937-01-01\",\"1937\",\"1937-01-01\",\"1937-01-01\",\"1937-05-02\",\"1937-12-31\",\"1937-01-01\",\"1937\",\"1937\",\"1937-01-01\",\"1937\",\"1937\",\"1937\",\"1937-05-02\",\"1937-02-11\",\"1937\",\"1937-02-11\",\"1937-01-01\",\"1937\",\"1937-01-01\",\"1937-01-01\",\"1937-08-03\",\"1937-01-01\",\"1937-08-03\",\"1937\",\"1937\",\"1937-01-01\",\"1937\",\"1937-12-31\",\"1937-08-03\",\"1937\",\"1937\",\"1937-01-01\",\"1937-08-03\",\"1937\",\"1937-08-03\",\"1937\",\"1937\",\"1937\",\"1937-12-31\",\"1937-05-02\",\"1937-01-01\",\"1937\",\"1937-08-03\",\"1937-01-01\",\"1937-12-31\",\"1937-12-31\",\"1937\",\"1938\",\"1938\",\"1938\",\"1938\",\"1938\",\"1938\",\"1938\",\"1938\",\"1938\",\"1938\",\"1938\",\"1938-01-01\",\"1938\",\"1938\",\"1938\",\"1938\",\"1938\",\"1938\",\"1938-01-01\",\"1938-01-01\",\"1938\",\"1938\",\"1938-01-01\",\"1938\",\"1938-01-01\",\"1938\",\"1938\",\"1938\",\"1938\",\"1938-01-01\",\"1938\",\"1938-01-01\",\"1938\",\"1938\",\"1938\",\"1938\",\"1938\",\"1938\",\"1938\",\"1938\",\"1938\",\"1938\",\"1938\",\"1938\",\"1938\",\"1938-01-01\",\"1938\",\"1938-01-01\",\"1938\",\"1938-01-01\",\"1938-01-01\",\"1938\",\"1938\",\"1938\",\"1938\",\"1938-01-01\",\"1938\",\"1938\",\"1938\",\"1938\",\"1938-01-01\",\"1938-01-01\",\"1938\",\"1938-01-01\",\"1938-01-01\",\"1938-01-01\",\"1938\",\"1938\",\"1938\",\"1938\",\"1938\",\"1938\",\"1938\",\"1938\",\"1938-02-03\",\"1938\",\"1938\",\"1938\",\"1938-01-01\",\"1938\",\"1938\",\"1938\",\"1938\",\"1938\",\"1938-01-01\",\"1938\",\"1938\",\"1938\",\"1938\",\"1938-01-01\",\"1938\",\"1938\",\"1938-01-01\",\"1938\",\"1938\",\"1938\",\"1938\",\"1938\",\"1938\",\"1938\",\"1938-01-01\",\"1938-12-31\",\"1938-12-31\",\"1938-01-01\",\"1938\",\"1938-12-31\",\"1938-01-01\",\"1938\",\"1938-12-31\",\"1938-12-01\",\"1938\",\"1938\",\"1938-01-01\",\"1938-12-31\",\"1938-12-31\",\"1938\",\"1938\",\"1938-12-31\",\"1938\",\"1938\",\"1938-12-01\",\"1938-12-31\",\"1938\",\"1938\",\"1938\",\"1938\",\"1938\",\"1938\",\"1938\",\"1938-12-01\",\"1938-02-26\",\"1938-01-01\",\"1938-01-01\",\"1938-05-12\",\"1938-12-31\",\"1938-01-24\",\"1938-01-01\",\"1938-01-01\",\"1938\",\"1938-01-01\",\"1938\",\"1938\",\"1938-12-31\",\"1938-12-31\",\"1938\",\"1938-01-01\",\"1938-01-01\",\"1938-01-01\",\"1938\",\"1938-01-24\",\"1938\",\"1938-12-01\",\"1938\",\"1938-12-31\",\"1938-01-01\",\"1938-12-31\",\"1938-01-24\",\"1938\",\"1938-01-01\",\"1938-01-01\",\"1938-01-24\",\"1938-01-01\",\"1938-12-31\",\"1938-01-01\",\"1938-01-01\",\"1938-12-31\",\"1938-12-31\",\"1938\",\"1938-01-01\",\"1938-12-01\",\"1938-12-01\",\"1938-12-31\",\"1938-12-31\",\"1938-01-01\",\"1938-12-31\",\"1938\",\"1938-01-24\",\"1938-01-01\",\"1938-03-05\",\"1938-12-31\",\"1938\",\"1938-12-31\",\"1938\",\"1938-12-31\",\"1938\",\"1938-01-24\",\"1938-12-31\",\"1938\",\"1938-01-21\",\"1938\",\"1938\",\"1938-12-31\",\"1938\",\"1938\",\"1938\",\"1938-01-01\",\"1938-12-31\",\"1938-12-31\",\"1938-01-24\",\"1938\",\"1938\",\"1938\",\"1938\",\"1938\",\"1938-01-21\",\"1938-01-21\",\"1938\",\"1938\",\"1938-12-31\",\"1938-12-01\",\"1938-01-24\",\"1938-01-24\",\"1938\",\"1938-12-31\",\"1938-01-01\",\"1938-04-17\",\"1938-01-12\",\"1938-04-26\",\"1938-01-01\",\"1938\",\"1938-12-31\",\"1938\",\"1938-12-01\",\"1938-01-21\",\"1938\",\"1938-12-01\",\"1938\",\"1938-12-31\",\"1938\",\"1938-12-31\",\"1938\",\"1938-12-31\",\"1938\",\"1938\",\"1938\",\"1938-12-01\",\"1938-12-31\",\"1938\",\"1938\",\"1938\",\"1938\",\"1938-01-01\",\"1938-12-31\",\"1938\",\"1938\",\"1938-03-05\",\"1938-12-31\",\"1938\",\"1938\",\"1938-12-31\",\"1938\",\"1938-12-31\",\"1938-01-24\",\"1938\",\"1938\",\"1938-12-31\",\"1938\",\"1938-01-01\",\"1938-12-31\",\"1938-04-17\",\"1938-01-24\",\"1938-01-24\",\"1938-01-01\",\"1938\",\"1938-12-01\",\"1938\",\"1938\",\"1938-01-21\",\"1938-01-24\",\"1938-03-15\",\"1938\",\"1938\",\"1938-12-31\",\"1938\",\"1938-01-01\",\"1938-01-01\",\"1938\",\"1938\",\"1938\",\"1938-01-24\",\"1938\",\"1938-12-31\",\"1938\",\"1938-12-31\",\"1938\",\"1938\",\"1938-07-14\",\"1938-01-24\",\"1938\",\"1938\",\"1938-12-01\",\"1938-12-31\",\"1938\",\"1938\",\"1938-12-01\",\"1938\",\"1938-12-31\",\"1938-01-01\",\"1938-12-31\",\"1938-01-24\",\"1938-01-24\",\"1938-01-01\",\"1938-12-31\",\"1938-01-01\",\"1938-01-01\",\"1938-12-01\",\"1938-01-24\",\"1938-12-31\",\"1938\",\"1938-12-01\",\"1938-01-01\",\"1938-01-01\",\"1938\",\"1938-01-01\",\"1938\",\"1938-12-01\",\"1938\",\"1938\",\"1938-12-01\",\"1938\",\"1938\",\"1938\",\"1938\",\"1938\",\"1938-12-31\",\"1938-12-31\",\"1938-12-01\",\"1938-01-01\",\"1938\",\"1938-12-31\",\"1938-01-21\",\"1938\",\"1938\",\"1938\",\"1938-01-01\",\"1938-12-01\",\"1938\",\"1938\",\"1938-12-01\",\"1938-12-01\",\"1938\",\"1938-01-24\",\"1938-01-01\",\"1938\",\"1938-12-01\",\"1938\",\"1938-12-31\",\"1938\",\"1938-12-31\",\"1938-12-31\",\"1938\",\"1938-01-01\",\"1938-12-31\",\"1938\",\"1938-01-01\",\"1938\",\"1938-01-01\",\"1938\",\"1938-12-31\",\"1938-01-21\",\"1938\",\"1938-01-01\",\"1938-01-24\",\"1938\",\"1938\",\"1938\",\"1938-01-24\",\"1938-04-23\",\"1938-12-31\",\"1938-01-01\",\"1938-12-31\",\"1938-12-31\",\"1938\",\"1938\",\"1938-01-21\",\"1938\",\"1938\",\"1938-01-24\",\"1938-12-31\",\"1938\",\"1938-01-21\",\"1938-01-21\",\"1938-01-01\",\"1938\",\"1938\",\"1938-12-31\",\"1938-01-01\",\"1938-01-01\",\"1938-01-01\",\"1938-12-01\",\"1938\",\"1938-01-24\",\"1938-12-01\",\"1938-01-21\",\"1938\",\"1938-01-01\",\"1938-12-31\",\"1938\",\"1938-01-01\",\"1938\",\"1938-12-31\",\"1938\",\"1938-01-24\",\"1938-01-01\",\"1938-01-21\",\"1938\",\"1938\",\"1938-12-31\",\"1938\",\"1938\",\"1938-01-24\",\"1938\",\"1938-12-31\",\"1938-01-01\",\"1938-12-31\",\"1938-01-01\",\"1938-01-01\",\"1938\",\"1938-12-01\",\"1938-01-01\",\"1938\",\"1938-01-01\",\"1938-01-24\",\"1938\",\"1938-01-24\",\"1938\",\"1938-01-21\",\"1938-12-01\",\"1938-12-31\",\"1938\",\"1938\",\"1938-12-01\",\"1938\",\"1938-12-31\",\"1938\",\"1938-12-01\",\"1938-01-12\",\"1938-01-24\",\"1938-01-24\",\"1938-01-01\",\"1938-12-31\",\"1938-01-01\",\"1938\",\"1938-12-31\",\"1938\",\"1938-06-30\",\"1938-01-12\",\"1938\",\"1938\",\"1938\",\"1938\",\"1938-12-31\",\"1938-01-01\",\"1938-12-31\",\"1938-12-31\",\"1938\",\"1938\",\"1938\",\"1938-12-31\",\"1938\",\"1938-12-31\",\"1938-01-24\",\"1938-01-01\",\"1938-01-01\",\"1938\",\"1938-01-01\",\"1938-01-24\",\"1938-01-24\",\"1938\",\"1938-12-01\",\"1938\",\"1938\",\"1938-01-01\",\"1938-12-01\",\"1938\",\"1938-01-12\",\"1938-12-31\",\"1938\",\"1938-01-24\",\"1938-01-21\",\"1938\",\"1938-01-01\",\"1938\",\"1938-12-31\",\"1938-01-21\",\"1938-01-01\",\"1938-01-21\",\"1938-12-31\",\"1938\",\"1938\",\"1938-12-31\",\"1938-01-01\",\"1938-12-01\",\"1938\",\"1938\",\"1938\",\"1938\",\"1938\",\"1938-01-24\",\"1938-01-21\",\"1938-01-21\",\"1938\",\"1938-01-24\",\"1938-12-31\",\"1938-01-01\",\"1938\",\"1938-01-24\",\"1938\",\"1938-01-24\",\"1938\",\"1938-12-31\",\"1938-01-01\",\"1938\",\"1938\",\"1938-12-31\",\"1938\",\"1938-12-31\",\"1938-01-01\",\"1938-06-01\",\"1938\",\"1938-12-31\",\"1938-01-01\",\"1938-01-01\",\"1938-01-24\",\"1938\",\"1938\",\"1938-12-31\",\"1938\",\"1938\",\"1938\",\"1938\",\"1938\",\"1938\",\"1938\",\"1938\",\"1938\",\"1938\",\"1938\",\"1938\",\"1938-12-31\",\"1938-12-31\",\"1938\",\"1938\",\"1938\",\"1938\",\"1938\",\"1938\",\"1938-12-31\",\"1938\",\"1938\",\"1938\",\"1938\",\"1938\",\"1938\",\"1938\",\"1938\",\"1938\",\"1938-12-31\",\"1938\",\"1938\",\"1938\",\"1938-12-31\",\"1938\",\"1938\",\"1938\",\"1938\",\"1938-12-31\",\"1938\",\"1938\",\"1938\",\"1938\",\"1938-12-31\",\"1938\",\"1938\",\"1938\",\"1938\",\"1938\",\"1938\",\"1938-12-31\",\"1938\",\"1938\",\"1938\",\"1938\",\"1938\",\"1938\",\"1938\",\"1938\",\"1938\",\"1938\",\"1938\",\"1938\",\"1938\",\"1938\",\"1938\",\"1938\",\"1938\",\"1938\",\"1938\",\"1938\",\"1938\",\"1938\",\"1938\",\"1938\",\"1938\",\"1938\",\"1938\",\"1938\",\"1938-12-31\",\"1938\",\"1938-12-31\",\"1938\",\"1938\",\"1938\",\"1938-12-31\",\"1938\",\"1938\",\"1938\",\"1938\",\"1938\",\"1938-12-31\",\"1938\",\"1938\",\"1938-12-31\",\"1938-12-31\",\"1938\",\"1938\",\"1938\",\"1938\",\"1938\",\"1938-12-31\",\"1938\",\"1938-12-31\",\"1938-12-31\",\"1938\",\"1938\",\"1938\",\"1938\",\"1938-12-31\",\"1938\",\"1938\",\"1938\",\"1938\",\"1938\",\"1938-12-31\",\"1938\",\"1938-12-31\",\"1938\",\"1938\",\"1938\",\"1938-12-31\",\"1938\",\"1938-12-31\",\"1938\",\"1938\",\"1938\",\"1938\",\"1938\",\"1938\",\"1938\",\"1938-12-31\",\"1938-12-31\",\"1938\",\"1938\",\"1938-12-31\",\"1938\",\"1938\",\"1938\",\"1938\",\"1938\",\"1938\",\"1938\",\"1938\",\"1938\",\"1938\",\"1938-12-31\",\"1938\",\"1938\",\"1938\",\"1938\",\"1938\",\"1938-12-31\",\"1938\",\"1938\",\"1938-12-31\",\"1938\",\"1938\",\"1938\",\"1938-12-31\",\"1938\",\"1938\",\"1938\",\"1938\",\"1938\",\"1938\",\"1938\",\"1938\",\"1939-09-03\",\"1939\",\"1939-08-25\",\"1939-08-25\",\"1939-08-25\",\"1939\",\"1939-08-25\",\"1939\",\"1939-09-03\",\"1939-08-25\",\"1939-08-25\",\"1939-08-25\",\"1939-08-25\",\"1939-08-25\",\"1939-08-25\",\"1939-08-25\",\"1939-08-25\",\"1939-09-03\",\"1939-08-25\",\"1939-08-25\",\"1939-08-25\",\"1939-08-25\",\"1939-08-25\",\"1939-08-25\",\"1939-08-25\",\"1939-08-25\",\"1939-08-25\",\"1939-08-25\",\"1939-08-25\",\"1939-08-25\",\"1939-08-25\",\"1939-08-25\",\"1939-08-25\",\"1939-08-25\",\"1939-09-03\",\"1939-08-25\",\"1939-08-25\",\"1939-08-25\",\"1939-08-25\",\"1939-08-25\",\"1939-08-25\",\"1939-01-01\",\"1939-09-03\",\"1939-08-25\",\"1939-08-25\",\"1939-08-25\",\"1939-08-25\",\"1939-08-25\",\"1939-08-25\",\"1939-04-19\",\"1939-08-25\",\"1939-08-25\",\"1939-08-25\",\"1939-08-25\",\"1939-08-25\",\"1939\",\"1939-08-25\",\"1939-08-25\",\"1939-08-25\",\"1939-08-25\",\"1939-09-03\",\"1939\",\"1939-08-25\",\"1939-08-25\",\"1939-09-03\",\"1939-08-25\",\"1939-08-25\",\"1939-08-25\",\"1939-08-25\",\"1939\",\"1939-08-25\",\"1939-09-03\",\"1939-08-25\",\"1939-08-25\",\"1939-08-25\",\"1939\",\"1939\",\"1939-08-25\",\"1939-08-25\",\"1939-08-25\",\"1939-08-25\",\"1939-09-03\",\"1939-09-03\",\"1939-08-25\",\"1939-08-25\",\"1939-08-25\",\"1939-08-25\",\"1939-09-03\",\"1939-08-25\",\"1939-08-25\",\"1939-08-25\",\"1939-09-03\",\"1939-08-25\",\"1939\",\"1939-08-25\",\"1939-09-03\",\"1939-08-25\",\"1939-08-25\",\"1939\",\"1939-09-03\",\"1939-08-25\",\"1939-08-25\",\"1939-08-25\",\"1939-08-25\",\"1939-08-25\",\"1939-08-25\",\"1939-09-03\",\"1939-04-19\",\"1939\",\"1939-08-25\",\"1939-08-25\",\"1939-08-25\",\"1939-12-16\",\"1939-08-25\",\"1939-09-03\",\"1939-09-03\",\"1939\",\"1939-08-25\",\"1939-08-25\",\"1939-08-25\",\"1939\",\"1939-08-25\",\"1939-09-09\",\"1939\",\"1939-09-03\",\"1939\",\"1939-08-25\",\"1939-09-03\",\"1939-09-03\",\"1939-04-19\",\"1939-09-03\",\"1939\",\"1939\",\"1939-09-03\",\"1939-04-19\",\"1939\",\"1939-09-03\",\"1939\",\"1939\",\"1939\",\"1939\",\"1939\",\"1939\",\"1939\",\"1939\",\"1939\",\"1939\",\"1939\",\"1939\",\"1939\",\"1939\",\"1939\",\"1939\",\"1939\",\"1939\",\"1939-04-19\",\"1939\",\"1939-12-31\",\"1939\",\"1939-01-01\",\"1939\",\"1939-01-28\",\"1939-01-01\",\"1939\",\"1939\",\"1939\",\"1939-04-19\",\"1939\",\"1939-04-19\",\"1939\",\"1939\",\"1939\",\"1939\",\"1939\",\"1939-01-13\",\"1939-01-24\",\"1939-04-19\",\"1939-12-16\",\"1939-08-25\",\"1939\",\"1939\",\"1939\",\"1939\",\"1939\",\"1939\",\"1939\",\"1939\",\"1939-08-25\",\"1939-01-24\",\"1939\",\"1939-01-24\",\"1939-12-01\",\"1939-01-24\",\"1939-02-22\",\"1939\",\"1939-12-31\",\"1939-01-01\",\"1939-09-12\",\"1939-12-31\",\"1939\",\"1939\",\"1939-04-19\",\"1939\",\"1939-05-11\",\"1939-12-31\",\"1939\",\"1939-01-01\",\"1939-01-01\",\"1939\",\"1939\",\"1939-12-31\",\"1939-07-01\",\"1939\",\"1939\",\"1939\",\"1939-12-16\",\"1939-01-01\",\"1939-12-15\",\"1939-12-31\",\"1939\",\"1939-01-24\",\"1939\",\"1939-01-01\",\"1939-01-01\",\"1939-01-28\",\"1939-02-22\",\"1939-09-12\",\"1939-12-31\",\"1939-01-01\",\"1939-01-01\",\"1939-07-01\",\"1939-01-01\",\"1939-01-01\",\"1939-07-01\",\"1939-01-28\",\"1939-12-01\",\"1939\",\"1939\",\"1939-12-12\",\"1939-01-24\",\"1939\",\"1939\",\"1939\",\"1939-12-31\",\"1939\",\"1939-01-01\",\"1939\",\"1939\",\"1939-01-01\",\"1939-01-01\",\"1939-01-01\",\"1939\",\"1939-12-31\",\"1939-01-01\",\"1939-01-01\",\"1939-01-24\",\"1939\",\"1939-12-12\",\"1939-07-01\",\"1939\",\"1939-01-24\",\"1939-01-12\",\"1939-12-31\",\"1939\",\"1939-01-24\",\"1939-12-31\",\"1939-12-31\",\"1939-01-01\",\"1939-12-12\",\"1939\",\"1939\",\"1939-12-31\",\"1939-01-01\",\"1939-04-19\",\"1939-01-01\",\"1939-12-31\",\"1939\",\"1939-12-31\",\"1939-01-01\",\"1939-12-16\",\"1939-01-24\",\"1939\",\"1939\",\"1939-01-28\",\"1939\",\"1939\",\"1939\",\"1939-12-31\",\"1939-12-31\",\"1939\",\"1939\",\"1939\",\"1939-12-31\",\"1939-01-01\",\"1939\",\"1939-04-19\",\"1939-12-12\",\"1939\",\"1939\",\"1939\",\"1939-01-01\",\"1939-01-24\",\"1939\",\"1939\",\"1939\",\"1939-01-01\",\"1939-01-01\",\"1939-12-01\",\"1939-12-16\",\"1939-01-01\",\"1939-01-01\",\"1939-01-01\",\"1939\",\"1939-01-01\",\"1939-08-25\",\"1939-04-19\",\"1939\",\"1939-01-01\",\"1939-01-01\",\"1939-01-01\",\"1939-01-01\",\"1939-12-12\",\"1939\",\"1939-12-01\",\"1939-02-22\",\"1939-01-01\",\"1939-01-24\",\"1939-08-25\",\"1939-04-19\",\"1939\",\"1939-07-01\",\"1939-01-01\",\"1939-12-31\",\"1939-12-31\",\"1939\",\"1939-01-01\",\"1939-01-28\",\"1939-01-01\",\"1939-12-01\",\"1939-01-01\",\"1939\",\"1939\",\"1939-01-01\",\"1939-03-20\",\"1939\",\"1939-12-12\",\"1939-01-01\",\"1939\",\"1939\",\"1939\",\"1939-02-22\",\"1939\",\"1939-01-24\",\"1939-08-25\",\"1939-01-24\",\"1939\",\"1939-01-24\",\"1939-01-24\",\"1939-12-31\",\"1939-12-31\",\"1939-01-01\",\"1939-01-24\",\"1939\",\"1939-05-02\",\"1939\",\"1939-12-31\",\"1939-12-01\",\"1939-12-01\",\"1939\",\"1939-04-19\",\"1939\",\"1939-12-31\",\"1939-02-22\",\"1939\",\"1939-01-05\",\"1939-01-01\",\"1939-09-09\",\"1939-01-28\",\"1939\",\"1939\",\"1939-07-01\",\"1939\",\"1939\",\"1939-02-01\",\"1939-07-01\",\"1939\",\"1939\",\"1939\",\"1939-02-01\",\"1939-01-01\",\"1939-12-31\",\"1939-01-01\",\"1939-12-12\",\"1939-01-01\",\"1939-12-31\",\"1939-01-28\",\"1939-12-31\",\"1939-01-01\",\"1939-12-31\",\"1939\",\"1939-12-31\",\"1939-01-01\",\"1939-07-01\",\"1939\",\"1939-10-05\",\"1939-01-24\",\"1939-07-01\",\"1939-04-19\",\"1939-12-31\",\"1939-01-01\",\"1939\",\"1939-01-01\",\"1939-12-31\",\"1939-01-24\",\"1939-12-31\",\"1939\",\"1939\",\"1939-12-31\",\"1939\",\"1939-12-12\",\"1939-01-01\",\"1939\",\"1939-12-31\",\"1939-08-25\",\"1939\",\"1939-09-09\",\"1939-12-01\",\"1939-01-28\",\"1939\",\"1939\",\"1939\",\"1939-12-31\",\"1939-01-01\",\"1939\",\"1939-03-20\",\"1939\",\"1939\",\"1939\",\"1939\",\"1939\",\"1939-01-01\",\"1939\",\"1939-07-01\",\"1939-01-01\",\"1939-12-01\",\"1939\",\"1939-01-01\",\"1939\",\"1939-01-28\",\"1939-12-01\",\"1939-01-24\",\"1939-02-22\",\"1939-01-01\",\"1939-01-12\",\"1939\",\"1939\",\"1939-12-31\",\"1939\",\"1939-07-01\",\"1939-12-31\",\"1939-01-01\",\"1939-12-12\",\"1939-12-31\",\"1939-04-19\",\"1939\",\"1939-12-31\",\"1939\",\"1939\",\"1939-02-22\",\"1939-12-01\",\"1939\",\"1939\",\"1939-12-01\",\"1939-01-24\",\"1939-12-31\",\"1939-01-01\",\"1939-07-01\",\"1939\",\"1939-12-12\",\"1939-07-01\",\"1939-07-01\",\"1939-01-01\",\"1939-12-01\",\"1939\",\"1939\",\"1939-01-01\",\"1939-01-24\",\"1939-12-31\",\"1939\",\"1939-12-01\",\"1939-01-01\",\"1939-01-24\",\"1939-01-01\",\"1939-12-01\",\"1939-01-01\",\"1939\",\"1939-01-01\",\"1939-12-31\",\"1939\",\"1939\",\"1939-07-01\",\"1939\",\"1939\",\"1939-08-25\",\"1939-09-09\",\"1939-12-31\",\"1939\",\"1939-09-09\",\"1939\",\"1939-01-01\",\"1939\",\"1939-01-01\",\"1939-09-09\",\"1939-12-31\",\"1939\",\"1939-12-31\",\"1939\",\"1939-01-24\",\"1939\",\"1939-05-11\",\"1939-12-31\",\"1939-07-01\",\"1939-12-01\",\"1939-12-01\",\"1939-01-28\",\"1939-12-31\",\"1939-01-01\",\"1939-01-24\",\"1939\",\"1939\",\"1939\",\"1939\",\"1939-12-31\",\"1939-12-31\",\"1939-01-24\",\"1939-12-01\",\"1939-07-01\",\"1939\",\"1939\",\"1939\",\"1939\",\"1939-04-19\",\"1939-01-01\",\"1939-01-28\",\"1939\",\"1939-12-01\",\"1939\",\"1939\",\"1939-07-01\",\"1939-12-15\",\"1939\",\"1939\",\"1939\",\"1939-12-31\",\"1939-12-01\",\"1939-01-01\",\"1939\",\"1939\",\"1939-12-01\",\"1939\",\"1939\",\"1939-01-24\",\"1939-01-01\",\"1939\",\"1939-12-31\",\"1939-01-01\",\"1939\",\"1939\",\"1939-01-01\",\"1939-01-01\",\"1939-01-01\",\"1939-01-01\",\"1939-01-01\",\"1939-01-01\",\"1939-12-01\",\"1939-12-31\",\"1939\",\"1939-08-25\",\"1939\",\"1939-12-31\",\"1939\",\"1939-01-01\",\"1939\",\"1939\",\"1939\",\"1939-12-12\",\"1939\",\"1939\",\"1939-02-22\",\"1939\",\"1939-12-15\",\"1939-12-31\",\"1939-12-16\",\"1939-12-01\",\"1939-01-01\",\"1939\",\"1939-12-31\",\"1939\",\"1939-01-01\",\"1939-01-01\",\"1939-01-01\",\"1939-12-12\",\"1939\",\"1939\",\"1939-12-31\",\"1939-12-31\",\"1939-01-01\",\"1939\",\"1939\",\"1939-12-31\",\"1939\",\"1939\",\"1939-12-01\",\"1939\",\"1939\",\"1939-07-01\",\"1939\",\"1939-01-24\",\"1939-01-01\",\"1939\",\"1939-12-31\",\"1939-12-12\",\"1939-02-22\",\"1939-01-12\",\"1939-12-01\",\"1939\",\"1939-12-31\",\"1939-12-01\",\"1939\",\"1939-01-01\",\"1939-12-01\",\"1939\",\"1939\",\"1939-01-01\",\"1939-12-31\",\"1939\",\"1939-01-01\",\"1939-12-01\",\"1939\",\"1939-12-31\",\"1939\",\"1939\",\"1939-01-01\",\"1939\",\"1939-12-01\",\"1939\",\"1939\",\"1939-07-01\",\"1939-01-01\",\"1939\",\"1939\",\"1939\",\"1939-01-01\",\"1939\",\"1939\",\"1939\",\"1939-01-24\",\"1939-12-31\",\"1939-01-01\",\"1939-12-15\",\"1939-12-12\",\"1939-12-31\",\"1939-12-01\",\"1939\",\"1939-01-01\",\"1939-01-01\",\"1939\",\"1939-07-01\",\"1939\",\"1939\",\"1939-01-24\",\"1939\",\"1939-01-01\",\"1939-01-24\",\"1939-12-31\",\"1939-07-01\",\"1939\",\"1939\",\"1939-01-01\",\"1939-12-31\",\"1939-12-01\",\"1939-07-01\",\"1939-01-01\",\"1939\",\"1939-12-31\",\"1939-12-31\",\"1939\",\"1939-07-01\",\"1939\",\"1939-12-01\",\"1939-12-31\",\"1939\",\"1939-01-01\",\"1939-12-31\",\"1939\",\"1939-09-09\",\"1939-12-01\",\"1939-04-19\",\"1939-02-22\",\"1939-01-01\",\"1939-01-01\",\"1939-12-12\",\"1939\",\"1939\",\"1939-12-12\",\"1939-01-01\",\"1939\",\"1939\",\"1939-02-22\",\"1939\",\"1939\",\"1939\",\"1939-01-01\",\"1939-01-01\",\"1939-01-01\",\"1939-07-01\",\"1939\",\"1939-01-24\",\"1939-12-31\",\"1939-01-24\",\"1939-01-01\",\"1939-12-31\",\"1939-01-24\",\"1939-01-01\",\"1939-01-24\",\"1939-12-01\",\"1939\",\"1939-12-01\",\"1939-01-01\",\"1939\",\"1939-01-01\",\"1939-01-01\",\"1939\",\"1939\",\"1939\",\"1939-04-19\",\"1939-04-19\",\"1939\",\"1939-01-01\",\"1939-12-01\",\"1939\",\"1939-01-01\",\"1939\",\"1939-01-01\",\"1939\",\"1939-12-15\",\"1939-07-01\",\"1939\",\"1939-01-01\",\"1939-01-01\",\"1939-05-23\",\"1939-01-01\",\"1939\",\"1939\",\"1939\",\"1939\",\"1939\",\"1939-12-01\",\"1939-12-12\",\"1939\",\"1939-01-01\",\"1939-12-31\",\"1939-01-24\",\"1939-12-31\",\"1939-01-24\",\"1939-01-01\",\"1939-01-24\",\"1939\",\"1939-02-22\",\"1939-01-01\",\"1939-04-19\",\"1939-12-31\",\"1939\",\"1939-07-01\",\"1939-01-12\",\"1939-01-01\",\"1939-12-31\",\"1939\",\"1939-01-24\",\"1939\",\"1939-01-24\",\"1939-12-01\",\"1939-07-01\",\"1939\",\"1939-01-01\",\"1939-01-01\",\"1939-12-31\",\"1939-12-01\",\"1939\",\"1939-05-02\",\"1939-09-09\",\"1939-01-01\",\"1939-02-22\",\"1939\",\"1939-09-07\",\"1939-12-31\",\"1939\",\"1939-01-24\",\"1939-01-01\",\"1939\",\"1939-01-01\",\"1939\",\"1939-12-31\",\"1939-01-24\",\"1939\",\"1939-12-31\",\"1939\",\"1939\",\"1939-01-28\",\"1939\",\"1939-12-31\",\"1939\",\"1939-01-01\",\"1939\",\"1939\",\"1939-01-01\",\"1939\",\"1939\",\"1939-01-28\",\"1939-01-24\",\"1939\",\"1939-12-01\",\"1939\",\"1939-02-22\",\"1939-01-24\",\"1939\",\"1939\",\"1939-12-01\",\"1939-07-01\",\"1939\",\"1939\",\"1939-12-12\",\"1939-01-28\",\"1939-01-01\",\"1939\",\"1939-12-31\",\"1939\",\"1939\",\"1939\",\"1939\",\"1939-12-01\",\"1939\",\"1939-07-01\",\"1939-12-31\",\"1939-01-24\",\"1939\",\"1939\",\"1939\",\"1939-09-09\",\"1939-01-01\",\"1939-01-01\",\"1939-09-09\",\"1939\",\"1939\",\"1939\",\"1939\",\"1939-01-28\",\"1939\",\"1939-01-01\",\"1939-01-01\",\"1939-12-31\",\"1939-01-24\",\"1939-01-01\",\"1939-12-01\",\"1939-09-09\",\"1939-01-28\",\"1939\",\"1939\",\"1939\",\"1939-12-31\",\"1939\",\"1939-01-01\",\"1939-12-31\",\"1939-04-19\",\"1939-01-01\",\"1939\",\"1939-01-24\",\"1939-02-22\",\"1939\",\"1939-01-01\",\"1939-02-22\",\"1939\",\"1939\",\"1939-01-01\",\"1939\",\"1939-12-31\",\"1939-12-31\",\"1939-07-01\",\"1939\",\"1939\",\"1939\",\"1939-12-16\",\"1939-01-24\",\"1939-04-19\",\"1939-01-01\",\"1939-12-01\",\"1939\",\"1939-01-01\",\"1939-12-15\",\"1939-09-09\",\"1939-01-01\",\"1939-01-24\",\"1939\",\"1939\",\"1939\",\"1939\",\"1939-01-01\",\"1939\",\"1939\",\"1939\",\"1939-01-24\",\"1939-07-01\",\"1939-07-01\",\"1939-12-16\",\"1939-02-22\",\"1939\",\"1939\",\"1939-01-24\",\"1939\",\"1939-07-01\",\"1939\",\"1939-01-24\",\"1939-07-01\",\"1939\",\"1939-01-28\",\"1939-01-01\",\"1939-09-09\",\"1939\",\"1939-01-24\",\"1939-01-01\",\"1939\",\"1939-01-01\",\"1939-01-01\",\"1939-04-19\",\"1939\",\"1939-01-12\",\"1939\",\"1939\",\"1939-04-19\",\"1939-12-01\",\"1939-12-31\",\"1939-01-01\",\"1939-12-31\",\"1939-01-28\",\"1939-12-31\",\"1939\",\"1939\",\"1939-01-01\",\"1939-01-01\",\"1939-07-01\",\"1939-12-01\",\"1939\",\"1939-12-31\",\"1939-07-01\",\"1939\",\"1939-01-01\",\"1939-08-25\",\"1939-01-01\",\"1939-12-01\",\"1939\",\"1939\",\"1939-02-22\",\"1939-01-01\",\"1939-12-31\",\"1939-12-31\",\"1939\",\"1939-12-31\",\"1939\",\"1939-01-01\",\"1939-07-01\",\"1939\",\"1939-01-01\",\"1939-01-12\",\"1939-08-25\",\"1939\",\"1939\",\"1939\",\"1939\",\"1939\",\"1939\",\"1939\",\"1939\",\"1939\",\"1939\",\"1939\",\"1939\",\"1939\",\"1939\",\"1939\",\"1939\",\"1939\",\"1939\",\"1939\",\"1939\",\"1939\",\"1939\",\"1939\",\"1939\",\"1939\",\"1939\",\"1940-01-17\",\"1940\",\"1940\",\"1940-01-01\",\"1940\",\"1940\",\"1940-01-01\",\"1940\",\"1940-01-01\",\"1940\",\"1940-01-01\",\"1940-01-17\",\"1940-01-17\",\"1940-08-30\",\"1940\",\"1940\",\"1940-01-01\",\"1940-01-17\",\"1940-01-17\",\"1940-01-17\",\"1940\",\"1940-01-01\",\"1940-01-01\",\"1940-01-01\",\"1940-02-01\",\"1940-01-17\",\"1940\",\"1940-01-17\",\"1940-01-17\",\"1940-01-17\",\"1940-02-01\",\"1940-02-01\",\"1940-01-17\",\"1940\",\"1940-02-01\",\"1940\",\"1940\",\"1940-12-13\",\"1940-01-17\",\"1940\",\"1940-01-17\",\"1940-01-17\",\"1940-01-17\",\"1940-01-01\",\"1940-01-01\",\"1940-01-01\",\"1940-01-17\",\"1940\",\"1940-01-17\",\"1940-02-01\",\"1940-01-17\",\"1940\",\"1940-01-17\",\"1940\",\"1940\",\"1940-01-01\",\"1940-01-01\",\"1940\",\"1940-01-01\",\"1940-06-26\",\"1940-01-17\",\"1940\",\"1940\",\"1940-02-01\",\"1940\",\"1940-01-17\",\"1940-01-17\",\"1940-08-30\",\"1940-01-01\",\"1940\",\"1940\",\"1940-06-29\",\"1940-01-01\",\"1940-02-01\",\"1940\",\"1940\",\"1940-01-01\",\"1940\",\"1940\",\"1940\",\"1940-02-01\",\"1940-02-01\",\"1940-01-01\",\"1940-01-01\",\"1940-08-30\",\"1940\",\"1940-01-01\",\"1940\",\"1940\",\"1940-02-01\",\"1940-01-01\",\"1940-01-01\",\"1940\",\"1940\",\"1940-01-01\",\"1940\",\"1940-01-01\",\"1940-02-01\",\"1940-12-01\",\"1940\",\"1940-02-01\",\"1940-06-29\",\"1940-11-23\",\"1940-01-01\",\"1940\",\"1940-01-01\",\"1940\",\"1940-01-01\",\"1940-02-01\",\"1940\",\"1940\",\"1940-12-01\",\"1940\",\"1940-01-01\",\"1940\",\"1940-01-01\",\"1940-01-01\",\"1940-01-01\",\"1940-08-30\",\"1940\",\"1940-02-01\",\"1940\",\"1940-01-01\",\"1940\",\"1940-11-15\",\"1940\",\"1940\",\"1940-01-01\",\"1940\",\"1940\",\"1940-01-01\",\"1940\",\"1940-01-01\",\"1940-02-01\",\"1940\",\"1940\",\"1940\",\"1940-01-01\",\"1940\",\"1940-08-30\",\"1940-06-29\",\"1940\",\"1940-01-01\",\"1940\",\"1940-07-04\",\"1940-01-01\",\"1940-01-01\",\"1940\",\"1940-01-01\",\"1940\",\"1940\",\"1940-01-01\",\"1940-01-01\",\"1940-01-01\",\"1940-01-01\",\"1940-01-01\",\"1940-01-24\",\"1940\",\"1940-01-01\",\"1940-01-01\",\"1940-06-29\",\"1940-01-01\",\"1940-01-01\",\"1940-12-31\",\"1940\",\"1940\",\"1940-01-01\",\"1940-06-26\",\"1940\",\"1940-06-29\",\"1940-12-01\",\"1940-01-01\",\"1940-01-01\",\"1940-01-01\",\"1940-01-01\",\"1940-01-01\",\"1940-01-01\",\"1940-01-01\",\"1940-01-01\",\"1940-01-01\",\"1940-01-01\",\"1940-02-01\",\"1940-06-29\",\"1940-12-31\",\"1940-01-01\",\"1940-01-01\",\"1940-01-01\",\"1940-01-01\",\"1940\",\"1940\",\"1940-01-01\",\"1940-01-01\",\"1940-02-01\",\"1940-01-01\",\"1940-01-01\",\"1940\",\"1940-08-30\",\"1940\",\"1940-12-31\",\"1940-01-01\",\"1940-12-01\",\"1940-01-01\",\"1940\",\"1940-01-01\",\"1940-01-01\",\"1940-01-24\",\"1940-01-01\",\"1940\",\"1940-01-01\",\"1940-12-31\",\"1940-01-01\",\"1940-01-01\",\"1940-01-01\",\"1940\",\"1940-01-01\",\"1940-01-01\",\"1940-12-01\",\"1940-01-01\",\"1940-11-15\",\"1940-01-01\",\"1940-01-01\",\"1940\",\"1940\",\"1940-06-29\",\"1940-12-31\",\"1940\",\"1940-06-29\",\"1940-01-01\",\"1940-01-01\",\"1940-01-01\",\"1940-06-29\",\"1940-01-01\",\"1940\",\"1940-01-01\",\"1940\",\"1940-01-01\",\"1940-01-01\",\"1940-08-30\",\"1940-01-01\",\"1940-01-01\",\"1940-01-01\",\"1940-12-31\",\"1940-01-01\",\"1940\",\"1940-02-01\",\"1940-06-29\",\"1940\",\"1940-01-01\",\"1940-01-01\",\"1940-01-01\",\"1940-01-01\",\"1940-01-01\",\"1940-01-01\",\"1940\",\"1940-01-24\",\"1940-01-01\",\"1940-01-01\",\"1940\",\"1940-01-01\",\"1940-01-01\",\"1940-12-01\",\"1940-01-01\",\"1940-01-01\",\"1940-12-31\",\"1940-12-01\",\"1940-01-01\",\"1940-01-01\",\"1940-01-01\",\"1940-06-29\",\"1940-06-20\",\"1940-01-01\",\"1940-01-01\",\"1940-12-01\",\"1940\",\"1940\",\"1940-06-29\",\"1940-06-26\",\"1940\",\"1940\",\"1940-01-01\",\"1940-12-01\",\"1940-01-01\",\"1940-01-01\",\"1940-01-01\",\"1940\",\"1940-01-01\",\"1940-01-01\",\"1940-05-14\",\"1940-01-01\",\"1940\",\"1940-01-01\",\"1940-12-31\",\"1940\",\"1940-01-01\",\"1940-06-29\",\"1940-12-01\",\"1940-11-22\",\"1940-01-01\",\"1940-01-01\",\"1940-01-01\",\"1940-01-01\",\"1940\",\"1940-01-01\",\"1940-01-01\",\"1940-01-01\",\"1940-01-01\",\"1940-06-29\",\"1940-12-01\",\"1940\",\"1940-01-01\",\"1940-01-01\",\"1940-01-01\",\"1940-01-01\",\"1940-01-01\",\"1940-01-24\",\"1940\",\"1940-12-01\",\"1940-01-01\",\"1940-11-23\",\"1940-01-01\",\"1940-12-01\",\"1940-01-01\",\"1940-01-24\",\"1940-01-01\",\"1940-01-01\",\"1940-01-01\",\"1940-01-01\",\"1940-01-01\",\"1940-01-01\",\"1940\",\"1940\",\"1940-01-01\",\"1940-01-01\",\"1940-01-01\",\"1940-02-01\",\"1940-01-01\",\"1940-01-01\",\"1940-12-31\",\"1940-01-01\",\"1940\",\"1940\",\"1940-01-01\",\"1940-01-01\",\"1940-06-20\",\"1940\",\"1940-01-01\",\"1940-01-01\",\"1940-01-01\",\"1940\",\"1940-01-01\",\"1940-01-01\",\"1940\",\"1940-01-01\",\"1940-01-01\",\"1940\",\"1940-01-01\",\"1940-01-01\",\"1940-01-01\",\"1940-01-01\",\"1940-01-01\",\"1940-01-01\",\"1940-01-01\",\"1940\",\"1940-01-01\",\"1940-01-01\",\"1940-12-01\",\"1940-01-01\",\"1940\",\"1940-01-01\",\"1940-01-01\",\"1940-01-01\",\"1940-01-01\",\"1940\",\"1940\",\"1940-01-01\",\"1940-11-15\",\"1940-12-01\",\"1940-12-01\",\"1940-01-01\",\"1940\",\"1940-01-01\",\"1940-08-30\",\"1940-01-01\",\"1940\",\"1940-01-01\",\"1940-01-01\",\"1940-01-01\",\"1940-05-14\",\"1940-01-01\",\"1940-08-30\",\"1940-01-01\",\"1940-01-01\",\"1940-01-01\",\"1940-01-01\",\"1940-01-01\",\"1940-06-29\",\"1940-01-01\",\"1940-01-01\",\"1940-01-01\",\"1940-06-29\",\"1940-01-01\",\"1940-01-01\",\"1940-01-01\",\"1940-01-01\",\"1940-06-29\",\"1940-01-24\",\"1940-06-29\",\"1940-01-01\",\"1940-02-01\",\"1940-05-06\",\"1940-01-01\",\"1940-06-26\",\"1940-01-01\",\"1940\",\"1940-01-01\",\"1940-01-01\",\"1940-01-01\",\"1940-01-01\",\"1940-06-20\",\"1940-01-01\",\"1940-11-15\",\"1940-06-20\",\"1940-01-01\",\"1940-01-01\",\"1940-01-01\",\"1940-01-01\",\"1940-12-01\",\"1940-12-31\",\"1940-01-01\",\"1940-02-01\",\"1940-01-01\",\"1940-01-01\",\"1940\",\"1940-01-01\",\"1940-01-01\",\"1940-01-01\",\"1940-01-01\",\"1940\",\"1940-01-01\",\"1940\",\"1940-01-01\",\"1940-11-15\",\"1940-01-01\",\"1940-01-01\",\"1940-01-01\",\"1940-01-01\",\"1940-01-01\",\"1940\",\"1940-12-01\",\"1940\",\"1940-01-01\",\"1940\",\"1940-01-01\",\"1940-01-01\",\"1940\",\"1940-01-01\",\"1940-01-01\",\"1940-01-01\",\"1940-12-01\",\"1940\",\"1940-01-01\",\"1940\",\"1940\",\"1940-01-01\",\"1940-01-01\",\"1940-01-01\",\"1940-01-01\",\"1940\",\"1940-01-01\",\"1940-01-01\",\"1940-12-01\",\"1940-01-01\",\"1940-01-01\",\"1940-01-01\",\"1940-08-30\",\"1940-01-01\",\"1940-01-01\",\"1940-02-01\",\"1940-11-23\",\"1940\",\"1940-01-01\",\"1940-01-01\",\"1940-01-01\",\"1940-11-22\",\"1940-01-01\",\"1940-01-01\",\"1940-01-01\",\"1940-01-01\",\"1940\",\"1940\",\"1940\",\"1940-01-01\",\"1940-01-01\",\"1940-06-29\",\"1940\",\"1940-01-01\",\"1940-01-01\",\"1940-12-01\",\"1940-01-01\",\"1940-12-31\",\"1940-01-01\",\"1940-01-01\",\"1940-01-01\",\"1940\",\"1940-01-01\",\"1940-01-01\",\"1940-12-01\",\"1940-01-01\",\"1940-12-01\",\"1940-12-01\",\"1940-01-01\",\"1940-01-01\",\"1940-01-01\",\"1940-06-20\",\"1940-01-01\",\"1940-01-01\",\"1940-02-01\",\"1940\",\"1940-01-01\",\"1940-01-01\",\"1940-01-01\",\"1940\",\"1940-01-24\",\"1940\",\"1940-01-01\",\"1940-01-01\",\"1940-01-01\",\"1940-01-01\",\"1940-01-01\",\"1940-12-31\",\"1940-01-01\",\"1940-01-01\",\"1940-01-01\",\"1940-01-01\",\"1940-01-01\",\"1940-01-01\",\"1940-01-01\",\"1940-01-01\",\"1940-01-01\",\"1940-01-24\",\"1940-01-01\",\"1940-01-01\",\"1940-01-01\",\"1940-01-01\",\"1940-01-01\",\"1940-01-01\",\"1940-01-01\",\"1940-01-01\",\"1940\",\"1940-01-01\",\"1940-01-01\",\"1940-01-01\",\"1940-01-01\",\"1940\",\"1940-11-18\",\"1940-01-01\",\"1940\",\"1940-11-15\",\"1940-02-01\",\"1940-01-01\",\"1940-01-01\",\"1940-01-01\",\"1940-01-01\",\"1940\",\"1940-01-01\",\"1940\",\"1940-06-26\",\"1940-12-31\",\"1940-01-01\",\"1940\",\"1940-01-01\",\"1940-01-01\",\"1940-01-01\",\"1940\",\"1940-01-01\",\"1940-01-24\",\"1940\",\"1940-01-01\",\"1940-01-01\",\"1940\",\"1940\",\"1940-02-01\",\"1940-01-01\",\"1940-06-26\",\"1940-06-29\",\"1940-02-01\",\"1940-01-01\",\"1940-01-01\",\"1940-01-01\",\"1940-01-01\",\"1940-01-01\",\"1940-01-01\",\"1940-01-24\",\"1940-01-01\",\"1940-01-01\",\"1940-06-20\",\"1940-12-01\",\"1940-01-01\",\"1940-01-01\",\"1940-01-01\",\"1940-01-01\",\"1940-01-01\",\"1940-01-01\",\"1940-01-01\",\"1940-01-01\",\"1940-01-01\",\"1940-11-23\",\"1940\",\"1940-01-01\",\"1940\",\"1940-01-01\",\"1940-12-31\",\"1940\",\"1940-01-01\",\"1940\",\"1940-01-01\",\"1940-01-09\",\"1940-01-01\",\"1940-01-01\",\"1940-12-01\",\"1940-01-01\",\"1940-01-01\",\"1940-01-01\",\"1940-01-01\",\"1940-01-01\",\"1940-01-01\",\"1940-01-01\",\"1940-01-01\",\"1940-01-01\",\"1940-06-29\",\"1940-01-01\",\"1940-01-01\",\"1940\",\"1940-01-01\",\"1940-01-01\",\"1940-01-01\",\"1940-01-01\",\"1940-12-01\",\"1940-06-29\",\"1940\",\"1940\",\"1940-01-01\",\"1940-01-01\",\"1940-01-01\",\"1940-01-01\",\"1940-01-01\",\"1940-01-01\",\"1940-01-24\",\"1940\",\"1940\",\"1940-01-01\",\"1940-01-01\",\"1940-12-31\",\"1940-12-31\",\"1940-06-20\",\"1940-01-01\",\"1940-01-01\",\"1940-01-01\",\"1940-01-01\",\"1940-01-01\",\"1940-01-01\",\"1940-01-01\",\"1940-01-01\",\"1940-01-01\",\"1940-01-01\",\"1940-01-01\",\"1940-01-01\",\"1940-01-01\",\"1940-01-01\",\"1940-01-01\",\"1940-06-29\",\"1940-01-01\",\"1940-01-01\",\"1940-06-29\",\"1940-01-01\",\"1940\",\"1940-01-01\",\"1940-01-01\",\"1940-01-01\",\"1940\",\"1940-01-01\",\"1940-12-01\",\"1940-01-01\",\"1940-12-31\",\"1940\",\"1940-01-01\",\"1940-01-01\",\"1940-01-24\",\"1940-01-01\",\"1940\",\"1940-01-01\",\"1940-01-01\",\"1940\",\"1940-01-01\",\"1940-01-01\",\"1940-01-01\",\"1940-12-31\",\"1940-01-01\",\"1940-01-01\",\"1940\",\"1940\",\"1940-12-01\",\"1940-06-20\",\"1940\",\"1940-01-01\",\"1940-01-01\",\"1940-01-01\",\"1940-01-01\",\"1940\",\"1940-01-01\",\"1940-01-01\",\"1940\",\"1940-01-01\",\"1940-01-01\",\"1940-12-31\",\"1940-01-24\",\"1940\",\"1940-01-01\",\"1940-01-01\",\"1940\",\"1940-02-01\",\"1940-01-01\",\"1940-12-31\",\"1940-01-01\",\"1940-01-01\",\"1940-01-01\",\"1940\",\"1940-01-01\",\"1940-01-01\",\"1940-12-31\",\"1940-01-01\",\"1940-01-01\",\"1940\",\"1940-06-29\",\"1940-01-01\",\"1940-01-01\",\"1940\",\"1940-01-01\",\"1940-12-01\",\"1940-01-01\",\"1940-01-01\",\"1940-01-01\",\"1940-01-01\",\"1940-01-01\",\"1940-01-01\",\"1940-01-01\",\"1940-01-01\",\"1940-01-01\",\"1940-01-01\",\"1940-01-01\",\"1940-01-01\",\"1940-08-20\",\"1940-01-01\",\"1940-08-30\",\"1940-01-01\",\"1940-01-01\",\"1940-01-01\",\"1940-01-01\",\"1940-01-01\",\"1940\",\"1940-01-01\",\"1940\",\"1940-01-01\",\"1940-12-01\",\"1940-01-01\",\"1940-01-01\",\"1940-01-24\",\"1940-01-01\",\"1940-01-01\",\"1940-01-01\",\"1940-02-01\",\"1940-01-01\",\"1940\",\"1940\",\"1940-06-20\",\"1940-01-01\",\"1940-12-01\",\"1940-11-23\",\"1940-06-26\",\"1940-01-01\",\"1940-01-01\",\"1940\",\"1940\",\"1940-02-01\",\"1940-01-01\",\"1940\",\"1940-06-29\",\"1940\",\"1940-01-01\",\"1940-06-20\",\"1940-12-31\",\"1940\",\"1940-01-24\",\"1940\",\"1940-01-01\",\"1940-01-01\",\"1940-01-01\",\"1940-01-01\",\"1940-01-01\",\"1940-01-01\",\"1940-01-01\",\"1940-06-29\",\"1940-01-01\",\"1940-12-01\",\"1940-01-01\",\"1940-01-01\",\"1940-01-01\",\"1940-12-31\",\"1940-01-01\",\"1940-01-01\",\"1940-01-01\",\"1940-01-01\",\"1940-01-01\",\"1940-01-01\",\"1940-01-01\",\"1940-12-01\",\"1940\",\"1940-02-01\",\"1940-01-01\",\"1940-01-01\",\"1940-01-01\",\"1940-01-01\",\"1940-01-01\",\"1940-01-01\",\"1940\",\"1940\",\"1940\",\"1940-06-20\",\"1940\",\"1940-01-01\",\"1940-01-01\",\"1940-01-01\",\"1940\",\"1940-01-01\",\"1940-01-01\",\"1940-01-24\",\"1940-01-01\",\"1940-01-01\",\"1940-01-01\",\"1940-01-01\",\"1940-01-01\",\"1940-01-01\",\"1940-01-01\",\"1940-01-01\",\"1940-01-01\",\"1940-01-12\",\"1940-01-01\",\"1940-01-01\",\"1940-12-01\",\"1940-01-01\",\"1940-01-01\",\"1940-01-01\",\"1940-12-01\",\"1940-01-01\",\"1940-01-01\",\"1940-01-01\",\"1940-01-01\",\"1940-01-01\",\"1940\",\"1940\",\"1940-11-23\",\"1940-01-01\",\"1940-01-01\",\"1940-01-24\",\"1940-12-01\",\"1940-01-01\",\"1940-01-01\",\"1940-01-01\",\"1940-01-01\",\"1940-01-01\",\"1940-01-01\",\"1940-01-01\",\"1940-01-01\",\"1940\",\"1940\",\"1940-01-01\",\"1940-01-01\",\"1940-05-06\",\"1940-02-01\",\"1940-01-01\",\"1940-01-01\",\"1940-08-30\",\"1940-06-29\",\"1940-01-01\",\"1940-01-01\",\"1940-12-31\",\"1940-01-01\",\"1940-07-04\",\"1940-01-24\",\"1940-12-01\",\"1940-06-20\",\"1940-06-29\",\"1940-01-01\",\"1940-01-01\",\"1940-01-01\",\"1940-01-01\",\"1940-01-12\",\"1940-08-20\",\"1940-01-01\",\"1940-01-01\",\"1940-01-01\",\"1940\",\"1940-01-01\",\"1940-01-01\",\"1940-01-01\",\"1940-01-01\",\"1940-11-15\",\"1940-01-01\",\"1940-02-01\",\"1940-02-01\",\"1940\",\"1940-01-01\",\"1940-01-01\",\"1940-01-01\",\"1940-01-01\",\"1940-01-01\",\"1940-01-01\",\"1940-01-01\",\"1940-01-01\",\"1940-01-01\",\"1940-02-01\",\"1940-12-31\",\"1940-01-01\",\"1940\",\"1940\",\"1940\",\"1940-01-01\",\"1940-01-01\",\"1940-12-01\",\"1940-01-01\",\"1940-01-01\",\"1940-12-31\",\"1940-02-01\",\"1940-01-01\",\"1940-01-01\",\"1940\",\"1940-01-01\",\"1940\",\"1940-01-01\",\"1940-01-01\",\"1940-01-01\",\"1940-12-01\",\"1940-01-01\",\"1940-01-01\",\"1940-01-01\",\"1940-01-01\",\"1940-01-01\",\"1940\",\"1940-01-01\",\"1940-01-01\",\"1940-08-30\",\"1940-08-30\",\"1940-01-01\",\"1940-01-01\",\"1940-01-01\",\"1940-01-01\",\"1940-01-01\",\"1940-01-01\",\"1940-01-01\",\"1940-01-01\",\"1940-01-24\",\"1940-02-01\",\"1940-01-01\",\"1940\",\"1940-01-01\",\"1940-01-09\",\"1940\",\"1940\",\"1940\",\"1940-01-01\",\"1940-01-01\",\"1940-01-01\",\"1940-01-01\",\"1940-08-30\",\"1940-01-01\",\"1940\",\"1940-01-01\",\"1940-01-01\",\"1940-01-01\",\"1940-01-01\",\"1940\",\"1940\",\"1940-01-01\",\"1940-01-01\",\"1940\",\"1940\",\"1940-08-30\",\"1940-01-01\",\"1940-01-01\",\"1940-01-01\",\"1940-12-31\",\"1940\",\"1940-01-01\",\"1940-01-01\",\"1940-01-01\",\"1940\",\"1940\",\"1940-12-01\",\"1940-01-01\",\"1940-01-01\",\"1941\",\"1941\",\"1941\",\"1941\",\"1941\",\"1941\",\"1941\",\"1941\",\"1941\",\"1941\",\"1941\",\"1941\",\"1941\",\"1941-12-01\",\"1941\",\"1941\",\"1941\",\"1941\",\"1941\",\"1941\",\"1941\",\"1941\",\"1941\",\"1941\",\"1941\",\"1941\",\"1941\",\"1941-12-01\",\"1941\",\"1941\",\"1941\",\"1941\",\"1941\",\"1941\",\"1941\",\"1941\",\"1941\",\"1941\",\"1941\",\"1941\",\"1941\",\"1941\",\"1941\",\"1941\",\"1941\",\"1941\",\"1941\",\"1941\",\"1941\",\"1941\",\"1941\",\"1941\",\"1941\",\"1941\",\"1941\",\"1941\",\"1941\",\"1941\",\"1941\",\"1941\",\"1941\",\"1941\",\"1941\",\"1941\",\"1941\",\"1941\",\"1941\",\"1941\",\"1941\",\"1941\",\"1941\",\"1941\",\"1941-12-01\",\"1941\",\"1941\",\"1941\",\"1941-06-07\",\"1941\",\"1941-01-03\",\"1941-10-04\",\"1941\",\"1941-01-01\",\"1941\",\"1941\",\"1941-12-31\",\"1941\",\"1941-01-01\",\"1941-01-01\",\"1941\",\"1941\",\"1941\",\"1941-12-01\",\"1941\",\"1941\",\"1941-12-31\",\"1941\",\"1941-12-14\",\"1941-12-31\",\"1941\",\"1941-12-01\",\"1941\",\"1941-01-01\",\"1941\",\"1941\",\"1941\",\"1941\",\"1941\",\"1941-01-01\",\"1941\",\"1941-03-06\",\"1941\",\"1941-12-01\",\"1941\",\"1941\",\"1941\",\"1941\",\"1941\",\"1941-12-01\",\"1941-04-03\",\"1941-12-01\",\"1941\",\"1941\",\"1941\",\"1941\",\"1941\",\"1941\",\"1941-01-01\",\"1941-01-01\",\"1941-12-31\",\"1941-12-31\",\"1941-11-01\",\"1941-03-06\",\"1941-01-01\",\"1941-01-01\",\"1941\",\"1941-12-31\",\"1941\",\"1941-12-01\",\"1941\",\"1941\",\"1941\",\"1941-01-01\",\"1941\",\"1941\",\"1941-01-01\",\"1941-12-31\",\"1941\",\"1941-01-01\",\"1941-01-01\",\"1941\",\"1941-01-01\",\"1941-01-24\",\"1941-06-06\",\"1941\",\"1941-12-01\",\"1941-01-01\",\"1941-01-01\",\"1941-01-01\",\"1941\",\"1941\",\"1941\",\"1941\",\"1941-01-01\",\"1941\",\"1941-01-01\",\"1941-12-01\",\"1941\",\"1941\",\"1941-12-31\",\"1941-01-01\",\"1941-09-30\",\"1941-12-31\",\"1941-03-06\",\"1941-10-03\",\"1941-06-06\",\"1941\",\"1941-03-06\",\"1941-05-01\",\"1941-05-05\",\"1941\",\"1941\",\"1941-05-05\",\"1941-12-31\",\"1941-03-06\",\"1941\",\"1941\",\"1941-01-01\",\"1941-12-01\",\"1941\",\"1941\",\"1941-01-01\",\"1941-12-31\",\"1941-01-01\",\"1941\",\"1941\",\"1941-08-31\",\"1941\",\"1941-01-24\",\"1941-01-01\",\"1941-12-01\",\"1941-01-01\",\"1941\",\"1941\",\"1941\",\"1941-03-06\",\"1941\",\"1941-01-24\",\"1941\",\"1941\",\"1941\",\"1941\",\"1941\",\"1941\",\"1941\",\"1941\",\"1941-12-31\",\"1941-01-01\",\"1941-12-31\",\"1941\",\"1941\",\"1941\",\"1941\",\"1941\",\"1941-01-01\",\"1941-01-24\",\"1941\",\"1941-01-01\",\"1941-12-31\",\"1941\",\"1941-12-31\",\"1941-12-31\",\"1941\",\"1941-12-31\",\"1941-01-01\",\"1941\",\"1941-05-05\",\"1941-01-01\",\"1941-12-31\",\"1941\",\"1941\",\"1941-12-01\",\"1941-01-01\",\"1941-12-31\",\"1941-01-01\",\"1941\",\"1941\",\"1941-07-10\",\"1941-01-01\",\"1941\",\"1941\",\"1941\",\"1941\",\"1941-03-06\",\"1941\",\"1941-12-31\",\"1941\",\"1941-12-01\",\"1941-03-06\",\"1941-12-01\",\"1941\",\"1941\",\"1941-01-01\",\"1941\",\"1941\",\"1941-12-01\",\"1941\",\"1941\",\"1941-01-01\",\"1941\",\"1941\",\"1941-01-01\",\"1941\",\"1941\",\"1941-01-01\",\"1941\",\"1941\",\"1941\",\"1941-01-01\",\"1941\",\"1941\",\"1941-06-06\",\"1941-01-01\",\"1941-05-05\",\"1941-03-06\",\"1941-12-31\",\"1941-12-31\",\"1941-01-01\",\"1941-12-31\",\"1941\",\"1941-01-01\",\"1941\",\"1941\",\"1941\",\"1941-01-24\",\"1941-12-31\",\"1941\",\"1941-01-01\",\"1941-12-31\",\"1941-01-12\",\"1941-12-01\",\"1941-12-31\",\"1941\",\"1941-01-01\",\"1941\",\"1941\",\"1941\",\"1941\",\"1941\",\"1941\",\"1941\",\"1941\",\"1941-12-31\",\"1941\",\"1941-01-01\",\"1941-01-01\",\"1941\",\"1941-12-31\",\"1941-01-01\",\"1941-12-31\",\"1941\",\"1941\",\"1941\",\"1941\",\"1941-12-01\",\"1941\",\"1941\",\"1941\",\"1941\",\"1941\",\"1941-12-01\",\"1941\",\"1941\",\"1941\",\"1941-12-31\",\"1941-12-31\",\"1941-01-24\",\"1941\",\"1941\",\"1941\",\"1941-03-06\",\"1941-01-01\",\"1941-01-24\",\"1941-01-01\",\"1941-03-06\",\"1941-12-01\",\"1941-12-01\",\"1941\",\"1941\",\"1941\",\"1941-12-31\",\"1941\",\"1941-01-01\",\"1941-12-31\",\"1941-11-01\",\"1941-01-12\",\"1941\",\"1941-01-12\",\"1941\",\"1941\",\"1941\",\"1941\",\"1941\",\"1941\",\"1941-12-31\",\"1941\",\"1941-01-01\",\"1941\",\"1941\",\"1941\",\"1941\",\"1941\",\"1941\",\"1941\",\"1941\",\"1941-01-01\",\"1941-06-06\",\"1941-01-01\",\"1941\",\"1941-01-01\",\"1941-12-01\",\"1941\",\"1941\",\"1941\",\"1941-03-06\",\"1941-01-01\",\"1941\",\"1941\",\"1941-01-01\",\"1941\",\"1941\",\"1941-06-06\",\"1941\",\"1941\",\"1941\",\"1941\",\"1941\",\"1941-01-24\",\"1941-12-31\",\"1941-12-01\",\"1941-01-01\",\"1941\",\"1941\",\"1941\",\"1941\",\"1941\",\"1941\",\"1941-12-31\",\"1941\",\"1941-01-01\",\"1941-12-01\",\"1941\",\"1941-01-12\",\"1941-01-01\",\"1941-12-31\",\"1941-12-31\",\"1941-01-01\",\"1941-01-01\",\"1941\",\"1941-01-01\",\"1941\",\"1941\",\"1941\",\"1941-01-01\",\"1941\",\"1941-01-16\",\"1941\",\"1941-01-24\",\"1941-12-31\",\"1941-12-01\",\"1941-05-01\",\"1941\",\"1941\",\"1941-01-01\",\"1941-01-01\",\"1941-01-01\",\"1941-01-01\",\"1941-09-09\",\"1941-01-01\",\"1941\",\"1941\",\"1941-06-06\",\"1941\",\"1941\",\"1941-01-01\",\"1941-06-06\",\"1941\",\"1941\",\"1941\",\"1941\",\"1941\",\"1941-08-31\",\"1941-12-31\",\"1941\",\"1941-01-01\",\"1941\",\"1941-03-06\",\"1941\",\"1941\",\"1941\",\"1941-12-01\",\"1941\",\"1941\",\"1941\",\"1941\",\"1941-01-01\",\"1941-12-01\",\"1941-01-01\",\"1941-12-01\",\"1941\",\"1941\",\"1941\",\"1941\",\"1941-01-01\",\"1941\",\"1941\",\"1941\",\"1941\",\"1941\",\"1941\",\"1941\",\"1941-12-31\",\"1941\",\"1941\",\"1941\",\"1941-12-31\",\"1941\",\"1941-01-01\",\"1941-01-01\",\"1941-06-06\",\"1941-12-31\",\"1941\",\"1941-03-06\",\"1941-12-31\",\"1941\",\"1941-01-12\",\"1941\",\"1941-12-31\",\"1941-01-01\",\"1941-01-01\",\"1941\",\"1941\",\"1941\",\"1941-12-31\",\"1941\",\"1941\",\"1941-01-01\",\"1941-12-31\",\"1941\",\"1941\",\"1941-01-01\",\"1941-12-31\",\"1941\",\"1941\",\"1941\",\"1941\",\"1941-12-31\",\"1941\",\"1941-12-01\",\"1941-09-11\",\"1941\",\"1941-12-01\",\"1941\",\"1941\",\"1941\",\"1941\",\"1941\",\"1941-06-07\",\"1941\",\"1941\",\"1941\",\"1941\",\"1941\",\"1941-05-01\",\"1941-01-01\",\"1941\",\"1941\",\"1941-05-05\",\"1941\",\"1941-01-01\",\"1941\",\"1941-12-01\",\"1941-03-06\",\"1941\",\"1941\",\"1941\",\"1941-01-01\",\"1941\",\"1941-12-01\",\"1941\",\"1941\",\"1941\",\"1941-12-01\",\"1941-12-01\",\"1941\",\"1941\",\"1941\",\"1941-12-01\",\"1941-01-01\",\"1941-12-31\",\"1941\",\"1941\",\"1941\",\"1941-12-31\",\"1941-01-01\",\"1941-12-31\",\"1941\",\"1941-01-12\",\"1941\",\"1941\",\"1941-12-31\",\"1941\",\"1941\",\"1941-01-01\",\"1941-12-01\",\"1941\",\"1941\",\"1941-01-01\",\"1941-12-01\",\"1941\",\"1941\",\"1941\",\"1941-06-06\",\"1941\",\"1941-12-31\",\"1941-01-01\",\"1941-06-06\",\"1941\",\"1941-01-01\",\"1941\",\"1941-01-01\",\"1941-01-01\",\"1941-12-31\",\"1941-01-01\",\"1941\",\"1941-01-01\",\"1941\",\"1941-12-31\",\"1941-01-01\",\"1941-01-01\",\"1941\",\"1941\",\"1941-01-24\",\"1941-01-01\",\"1941\",\"1941\",\"1941-12-01\",\"1941\",\"1941-01-01\",\"1941-01-01\",\"1941-01-01\",\"1941\",\"1941\",\"1941\",\"1941\",\"1941-01-01\",\"1941-12-31\",\"1941\",\"1941-01-24\",\"1941-01-01\",\"1941\",\"1941\",\"1941-01-24\",\"1941\",\"1941\",\"1941\",\"1941-12-01\",\"1941-12-31\",\"1941\",\"1941-05-01\",\"1941-03-06\",\"1941\",\"1941-01-01\",\"1941\",\"1941-01-01\",\"1941\",\"1941-05-05\",\"1941-12-01\",\"1941\",\"1941-12-31\",\"1941-12-01\",\"1941\",\"1941-12-01\",\"1941\",\"1941\",\"1941-01-01\",\"1941-01-01\",\"1941\",\"1941\",\"1941-09-11\",\"1941-01-01\",\"1941\",\"1941\",\"1941\",\"1941\",\"1941\",\"1941-12-31\",\"1941-01-01\",\"1941\",\"1941-05-05\",\"1941-01-12\",\"1941\",\"1941\",\"1941\",\"1941\",\"1941\",\"1941\",\"1941\",\"1941\",\"1941\",\"1941-12-01\",\"1941-05-01\",\"1941\",\"1941\",\"1941-01-01\",\"1941\",\"1941-05-01\",\"1941\",\"1941\",\"1941\",\"1941\",\"1941\",\"1941\",\"1941-01-01\",\"1941\",\"1941-12-31\",\"1941\",\"1941-01-24\",\"1941-05-05\",\"1941-12-01\",\"1941\",\"1941\",\"1941-01-01\",\"1941\",\"1941-01-01\",\"1941\",\"1941\",\"1941\",\"1941-01-01\",\"1941\",\"1941-12-01\",\"1941\",\"1941\",\"1941\",\"1941-12-01\",\"1941\",\"1941\",\"1941\",\"1941-12-31\",\"1941-01-24\",\"1941-12-31\",\"1941\",\"1941\",\"1941-12-01\",\"1941\",\"1941-01-01\",\"1941-06-06\",\"1941\",\"1941-08-31\",\"1941\",\"1941-01-01\",\"1941\",\"1941\",\"1941-12-31\",\"1941-12-31\",\"1941\",\"1941\",\"1941-12-01\",\"1941-12-31\",\"1941-12-31\",\"1941-01-01\",\"1941\",\"1941\",\"1941-12-01\",\"1941-01-01\",\"1941-12-31\",\"1941\",\"1941\",\"1941-01-01\",\"1941\",\"1941-01-24\",\"1941\",\"1941\",\"1941-01-01\",\"1941-12-31\",\"1941-01-01\",\"1941\",\"1941\",\"1941\",\"1941-12-31\",\"1941\",\"1941\",\"1941-01-01\",\"1941-01-01\",\"1941-01-01\",\"1941-12-31\",\"1941\",\"1941\",\"1941-12-01\",\"1941-12-31\",\"1941\",\"1941\",\"1941\",\"1941-06-06\",\"1941\",\"1941-03-06\",\"1941-01-24\",\"1941\",\"1941\",\"1941\",\"1941\",\"1941-01-12\",\"1941\",\"1941\",\"1941-12-31\",\"1941\",\"1941-01-01\",\"1941\",\"1941\",\"1941-01-01\",\"1941-01-01\",\"1941\",\"1941-01-01\",\"1941-12-31\",\"1941\",\"1941-12-31\",\"1941-11-06\",\"1941-12-31\",\"1941\",\"1941\",\"1941-01-01\",\"1941\",\"1941-12-01\",\"1941\",\"1941\",\"1941\",\"1941\",\"1941\",\"1941-11-01\",\"1941\",\"1941\",\"1941\",\"1941-01-01\",\"1941-01-01\",\"1941-01-01\",\"1941\",\"1941-12-31\",\"1941\",\"1941\",\"1941-12-31\",\"1941\",\"1941\",\"1941-12-31\",\"1941\",\"1941-12-01\",\"1941\",\"1941-12-01\",\"1941-08-31\",\"1941-01-12\",\"1941\",\"1941-12-31\",\"1941\",\"1941-01-01\",\"1941-12-31\",\"1941\",\"1941-01-01\",\"1941\",\"1941-01-01\",\"1941\",\"1941-01-01\",\"1941-12-01\",\"1941-12-31\",\"1941-01-24\",\"1941\",\"1941\",\"1941-12-31\",\"1941-12-31\",\"1941\",\"1941-01-01\",\"1941\",\"1941-12-01\",\"1941-01-01\",\"1941\",\"1941-01-01\",\"1941\",\"1941-12-31\",\"1941-01-24\",\"1941\",\"1941\",\"1941\",\"1941\",\"1941\",\"1941\",\"1941-01-01\",\"1941-12-31\",\"1941\",\"1941-05-05\",\"1941\",\"1941\",\"1941\",\"1941\",\"1941\",\"1941-01-01\",\"1941-01-01\",\"1941-12-01\",\"1941\",\"1941-12-31\",\"1941\",\"1941\",\"1941\",\"1941\",\"1941\",\"1941\",\"1941\",\"1941-01-01\",\"1941-01-01\",\"1941-12-31\",\"1941\",\"1941-01-01\",\"1941-05-01\",\"1941\",\"1941-12-31\",\"1941-12-01\",\"1941-08-31\",\"1941-12-01\",\"1941\",\"1941-12-31\",\"1941\",\"1941\",\"1941\",\"1941\",\"1941-01-01\",\"1941\",\"1941\",\"1941\",\"1941-08-31\",\"1941\",\"1941\",\"1941\",\"1941\",\"1941\",\"1941\",\"1941\",\"1941-01-01\",\"1941\",\"1941\",\"1941\",\"1941-11-06\",\"1941\",\"1941\",\"1941\",\"1941\",\"1941-01-01\",\"1941\",\"1941\",\"1941-08-31\",\"1941-01-01\",\"1941-01-01\",\"1941-12-01\",\"1941\",\"1941\",\"1941-12-31\",\"1941-12-01\",\"1941-01-01\",\"1941-12-01\",\"1941-12-01\",\"1941-01-01\",\"1941\",\"1941\",\"1941-06-06\",\"1941\",\"1941\",\"1941\",\"1941-05-01\",\"1941-12-31\",\"1941-01-01\",\"1941\",\"1941\",\"1941\",\"1941-05-05\",\"1941-10-03\",\"1941-07-07\",\"1941\",\"1941\",\"1941-01-01\",\"1941-12-31\",\"1941\",\"1941\",\"1941-12-31\",\"1941-06-06\",\"1941\",\"1941\",\"1941-12-31\",\"1941-01-01\",\"1941-12-31\",\"1941-03-06\",\"1941-01-01\",\"1941\",\"1941\",\"1941\",\"1941-05-05\",\"1941\",\"1941-01-24\",\"1941-01-01\",\"1941\",\"1941-01-01\",\"1941\",\"1941\",\"1941-12-31\",\"1941\",\"1941\",\"1941\",\"1941\",\"1941\",\"1941-12-01\",\"1941\",\"1941-12-31\",\"1941-01-01\",\"1941\",\"1941\",\"1941\",\"1941-01-01\",\"1941\",\"1941-12-31\",\"1941-03-06\",\"1941\",\"1941-01-01\",\"1941-08-31\",\"1941\",\"1941\",\"1941\",\"1941-01-01\",\"1941-08-31\",\"1941\",\"1941-05-05\",\"1941-06-06\",\"1941\",\"1941\",\"1941-01-01\",\"1941\",\"1941-12-01\",\"1942-06-20\",\"1942-01-01\",\"1942-11-13\",\"1942-11-13\",\"1942-01-01\",\"1942-01-01\",\"1942\",\"1942\",\"1942-01-01\",\"1942-01-01\",\"1942-01-01\",\"1942-11-13\",\"1942-01-01\",\"1942-06-20\",\"1942\",\"1942-01-01\",\"1942-12-01\",\"1942-06-20\",\"1942-11-13\",\"1942-06-20\",\"1942-01-01\",\"1942-06-20\",\"1942-01-01\",\"1942-01-01\",\"1942-01-01\",\"1942-06-20\",\"1942-06-20\",\"1942-01-01\",\"1942-06-20\",\"1942-01-01\",\"1942-06-20\",\"1942-01-01\",\"1942-01-01\",\"1942-11-13\",\"1942\",\"1942-06-20\",\"1942-01-01\",\"1942-11-13\",\"1942-05-01\",\"1942-11-13\",\"1942-06-20\",\"1942-06-20\",\"1942-06-20\",\"1942-11-13\",\"1942-06-20\",\"1942-06-20\",\"1942-01-01\",\"1942-11-13\",\"1942-06-20\",\"1942\",\"1942-06-20\",\"1942-01-01\",\"1942-06-20\",\"1942-01-01\",\"1942-12-01\",\"1942-06-20\",\"1942-01-01\",\"1942-11-13\",\"1942-01-01\",\"1942-06-20\",\"1942-01-01\",\"1942-01-01\",\"1942-06-20\",\"1942-01-01\",\"1942-01-01\",\"1942-01-01\",\"1942\",\"1942-01-01\",\"1942-11-13\",\"1942-01-01\",\"1942-01-01\",\"1942-01-01\",\"1942-01-01\",\"1942\",\"1942-01-01\",\"1942-01-01\",\"1942-06-20\",\"1942-01-01\",\"1942-01-01\",\"1942-01-01\",\"1942-06-20\",\"1942-01-01\",\"1942-01-01\",\"1942-01-01\",\"1942-06-20\",\"1942-01-01\",\"1942-01-01\",\"1942-01-01\",\"1942-01-01\",\"1942-01-01\",\"1942-01-01\",\"1942-01-01\",\"1942\",\"1942\",\"1942-01-01\",\"1942-06-20\",\"1942-01-01\",\"1942-01-01\",\"1942\",\"1942-01-01\",\"1942-12-01\",\"1942-01-01\",\"1942-01-01\",\"1942-01-01\",\"1942-01-01\",\"1942\",\"1942-01-01\",\"1942\",\"1942-01-01\",\"1942-11-13\",\"1942-11-13\",\"1942-11-13\",\"1942\",\"1942\",\"1942\",\"1942\",\"1942-01-01\",\"1942-11-13\",\"1942-11-13\",\"1942\",\"1942-01-01\",\"1942-11-13\",\"1942\",\"1942-01-01\",\"1942-01-01\",\"1942-01-01\",\"1942-01-01\",\"1942-01-12\",\"1942\",\"1942-11-13\",\"1942-11-23\",\"1942-12-01\",\"1942-01-01\",\"1942\",\"1942-12-31\",\"1942-11-13\",\"1942-12-31\",\"1942-11-13\",\"1942-11-13\",\"1942\",\"1942-12-31\",\"1942\",\"1942\",\"1942-01-01\",\"1942-03-08\",\"1942\",\"1942-11-13\",\"1942-11-13\",\"1942\",\"1942-11-23\",\"1942-11-13\",\"1942-12-31\",\"1942-12-31\",\"1942-05-18\",\"1942-12-01\",\"1942-01-12\",\"1942-05-01\",\"1942\",\"1942-12-01\",\"1942-01-01\",\"1942\",\"1942\",\"1942\",\"1942\",\"1942-01-01\",\"1942\",\"1942-12-01\",\"1942-11-13\",\"1942-12-31\",\"1942-11-13\",\"1942-12-01\",\"1942\",\"1942\",\"1942-11-23\",\"1942-11-13\",\"1942-01-01\",\"1942-12-01\",\"1942-11-13\",\"1942-12-31\",\"1942\",\"1942-11-13\",\"1942-11-13\",\"1942\",\"1942\",\"1942\",\"1942-12-01\",\"1942-12-31\",\"1942\",\"1942\",\"1942-12-31\",\"1942-03-08\",\"1942\",\"1942-11-13\",\"1942-05-01\",\"1942-12-31\",\"1942\",\"1942\",\"1942-03-08\",\"1942-11-23\",\"1942\",\"1942-11-13\",\"1942-11-13\",\"1942\",\"1942-12-01\",\"1942-11-23\",\"1942\",\"1942-11-13\",\"1942-12-31\",\"1942-12-31\",\"1942-11-13\",\"1942-12-31\",\"1942\",\"1942-01-01\",\"1942-05-30\",\"1942-11-23\",\"1942-11-13\",\"1942\",\"1942-11-13\",\"1942-12-01\",\"1942-11-13\",\"1942-11-13\",\"1942\",\"1942-11-13\",\"1942-11-13\",\"1942\",\"1942\",\"1942\",\"1942\",\"1942-04-06\",\"1942-11-23\",\"1942-05-01\",\"1942\",\"1942-11-13\",\"1942-11-13\",\"1942-12-01\",\"1942\",\"1942-05-30\",\"1942\",\"1942-11-13\",\"1942-11-13\",\"1942-05-01\",\"1942-11-23\",\"1942-12-31\",\"1942\",\"1942\",\"1942-01-01\",\"1942-05-01\",\"1942-12-31\",\"1942-11-13\",\"1942-11-23\",\"1942-11-13\",\"1942-11-13\",\"1942-11-13\",\"1942-12-31\",\"1942\",\"1942\",\"1942-11-13\",\"1942-01-01\",\"1942\",\"1942\",\"1942\",\"1942-04-06\",\"1942\",\"1942\",\"1942-11-13\",\"1942-01-01\",\"1942-11-13\",\"1942-11-13\",\"1942-12-31\",\"1942-12-31\",\"1942-04-06\",\"1942\",\"1942-12-31\",\"1942-12-31\",\"1942-03-08\",\"1942\",\"1942-11-13\",\"1942-11-23\",\"1942-12-31\",\"1942-11-13\",\"1942-12-31\",\"1942-08-22\",\"1942\",\"1942-12-01\",\"1942-12-31\",\"1942-11-23\",\"1942\",\"1942-11-13\",\"1942-01-01\",\"1942\",\"1942-11-13\",\"1942-11-13\",\"1942-11-23\",\"1942-11-13\",\"1942-12-31\",\"1942-11-13\",\"1942-11-13\",\"1942\",\"1942-12-31\",\"1942-11-13\",\"1942\",\"1942\",\"1942-11-13\",\"1942-04-17\",\"1942-11-13\",\"1942-11-13\",\"1942-12-31\",\"1942-01-01\",\"1942-03-08\",\"1942\",\"1942-01-12\",\"1942-12-31\",\"1942-04-06\",\"1942-11-23\",\"1942-12-31\",\"1942-11-13\",\"1942-04-06\",\"1942\",\"1942-01-01\",\"1942\",\"1942-11-13\",\"1942-11-13\",\"1942\",\"1942\",\"1942\",\"1942-11-13\",\"1942-05-30\",\"1942\",\"1942-04-06\",\"1942-05-01\",\"1942-12-31\",\"1942\",\"1942-01-01\",\"1942\",\"1942-11-13\",\"1942-03-08\",\"1942\",\"1942-11-13\",\"1942-12-31\",\"1942-11-13\",\"1942-11-13\",\"1942\",\"1942-01-01\",\"1942-11-13\",\"1942\",\"1942\",\"1942-12-01\",\"1942-03-08\",\"1942\",\"1942-11-23\",\"1942\",\"1942-12-31\",\"1942-11-13\",\"1942-11-13\",\"1942-12-01\",\"1942-12-31\",\"1942\",\"1942\",\"1942\",\"1942\",\"1942-12-31\",\"1942-11-13\",\"1942-12-01\",\"1942\",\"1942-12-31\",\"1942\",\"1942-05-30\",\"1942\",\"1942-11-13\",\"1942-01-01\",\"1942-01-01\",\"1942-11-13\",\"1942-11-23\",\"1942-03-08\",\"1942-11-13\",\"1942\",\"1942\",\"1942-01-01\",\"1942-11-13\",\"1942-12-31\",\"1942\",\"1942-11-13\",\"1942-12-31\",\"1942-11-13\",\"1942\",\"1942-01-01\",\"1942-12-31\",\"1942\",\"1942-11-13\",\"1942-12-31\",\"1942\",\"1942\",\"1942\",\"1942-11-13\",\"1942-03-31\",\"1942-03-29\",\"1942-11-23\",\"1942-03-08\",\"1942-12-01\",\"1942-11-13\",\"1942-11-13\",\"1942-11-13\",\"1942-12-01\",\"1942-01-01\",\"1942\",\"1942-01-01\",\"1942-11-23\",\"1942\",\"1942\",\"1942-01-01\",\"1942-11-23\",\"1942-11-23\",\"1942-11-13\",\"1942\",\"1942-11-13\",\"1942-11-23\",\"1942\",\"1942-11-13\",\"1942\",\"1942\",\"1942-05-01\",\"1942-11-13\",\"1942-01-01\",\"1942-11-13\",\"1942-11-13\",\"1942-01-01\",\"1942-03-08\",\"1942-11-23\",\"1942-12-31\",\"1942\",\"1942\",\"1942-11-13\",\"1942\",\"1942-11-13\",\"1942-11-13\",\"1942\",\"1942\",\"1942-03-08\",\"1942-11-13\",\"1942\",\"1942-11-23\",\"1942\",\"1942\",\"1942\",\"1942-01-01\",\"1942-11-13\",\"1942-11-23\",\"1942-12-31\",\"1942-12-31\",\"1942-12-31\",\"1942-11-13\",\"1942-01-01\",\"1942-11-23\",\"1942-04-06\",\"1942-11-23\",\"1942-01-01\",\"1942-11-13\",\"1942\",\"1942\",\"1942-11-13\",\"1942-04-06\",\"1942-12-31\",\"1942-11-23\",\"1942-11-13\",\"1942-11-23\",\"1942-01-01\",\"1942-01-01\",\"1942\",\"1942-12-01\",\"1942\",\"1942\",\"1942\",\"1942\",\"1942-12-31\",\"1942-03-08\",\"1942-04-06\",\"1942-11-13\",\"1942-11-23\",\"1942-05-30\",\"1942-11-13\",\"1942-11-13\",\"1942-11-13\",\"1942\",\"1942-04-06\",\"1942\",\"1942-12-01\",\"1942-12-31\",\"1942-05-01\",\"1942-11-13\",\"1942\",\"1942-11-13\",\"1942-11-13\",\"1942-12-31\",\"1942\",\"1942-11-13\",\"1942\",\"1942\",\"1942-11-13\",\"1942\",\"1942-11-23\",\"1942-05-01\",\"1942-11-13\",\"1942-11-13\",\"1942-08-18\",\"1942\",\"1942\",\"1942\",\"1942-01-01\",\"1942-01-01\",\"1942\",\"1942-12-01\",\"1942-01-12\",\"1942-03-08\",\"1942-12-31\",\"1942-12-31\",\"1942\",\"1942\",\"1942-01-01\",\"1942-11-13\",\"1942-12-01\",\"1942-11-23\",\"1942-11-13\",\"1942\",\"1942\",\"1942-12-01\",\"1942-11-13\",\"1942-12-01\",\"1942-11-13\",\"1942-12-31\",\"1942-05-29\",\"1942-11-13\",\"1942\",\"1942-12-31\",\"1942\",\"1942-11-13\",\"1942-04-06\",\"1942-04-06\",\"1942\",\"1942-12-31\",\"1942\",\"1942\",\"1942\",\"1942\",\"1942-11-13\",\"1942-11-13\",\"1942\",\"1942\",\"1942-11-13\",\"1942-11-13\",\"1942-11-13\",\"1942-11-23\",\"1942\",\"1942\",\"1942\",\"1942-11-23\",\"1942-11-23\",\"1942\",\"1942\",\"1942-11-23\",\"1942-01-01\",\"1942\",\"1942-01-01\",\"1942\",\"1942\",\"1942-11-13\",\"1942-11-13\",\"1942-11-13\",\"1942-12-01\",\"1942\",\"1942-12-01\",\"1942-11-13\",\"1942\",\"1942-01-01\",\"1942-11-09\",\"1942-05-01\",\"1942-03-31\",\"1942-06-06\",\"1942-06-06\",\"1942-12-31\",\"1942-12-31\",\"1942\",\"1942-11-13\",\"1942-05-01\",\"1942-01-01\",\"1942\",\"1942\",\"1942\",\"1942-01-01\",\"1942-11-13\",\"1942-12-01\",\"1942-11-13\",\"1942-05-30\",\"1942-11-23\",\"1942-11-13\",\"1942-12-31\",\"1942-03-08\",\"1942-12-31\",\"1942\",\"1942-11-13\",\"1942-11-13\",\"1942\",\"1942-12-31\",\"1942-03-29\",\"1942-11-13\",\"1942-01-01\",\"1942-01-01\",\"1942-11-13\",\"1942-11-13\",\"1942-11-13\",\"1942-11-13\",\"1942-04-06\",\"1942-05-30\",\"1942-12-01\",\"1942\",\"1942-11-13\",\"1942-11-13\",\"1942-07-01\",\"1942-03-08\",\"1942-12-01\",\"1942\",\"1942\",\"1942\",\"1942-11-13\",\"1942-11-13\",\"1942-11-13\",\"1942-11-13\",\"1942-11-13\",\"1942\",\"1942-10-01\",\"1942-06-06\",\"1942-12-31\",\"1942-01-01\",\"1942\",\"1942\",\"1942\",\"1942\",\"1942-12-31\",\"1942\",\"1942\",\"1942\",\"1942-01-12\",\"1942-12-01\",\"1942\",\"1942-12-01\",\"1942-11-13\",\"1942-11-23\",\"1942\",\"1942-01-01\",\"1942-03-08\",\"1942\",\"1942-12-01\",\"1942\",\"1942-12-31\",\"1942-01-01\",\"1942\",\"1942\",\"1942-12-01\",\"1942\",\"1942-11-13\",\"1942-01-12\",\"1942-12-01\",\"1942\",\"1942-11-13\",\"1942-05-30\",\"1942-11-13\",\"1942-11-13\",\"1942-11-23\",\"1942\",\"1942-11-13\",\"1942\",\"1942-11-13\",\"1942-07-01\",\"1942-11-23\",\"1942\",\"1942\",\"1942-12-01\",\"1942\",\"1942\",\"1942-11-23\",\"1942\",\"1942-11-23\",\"1942-11-13\",\"1942-04-06\",\"1942-12-01\",\"1942-12-31\",\"1942-01-01\",\"1942-12-01\",\"1942-12-31\",\"1942\",\"1942-04-06\",\"1942-01-01\",\"1942-11-23\",\"1942-11-13\",\"1942-11-13\",\"1942\",\"1942\",\"1942-01-01\",\"1942-11-13\",\"1942-11-13\",\"1942\",\"1942-11-13\",\"1942-03-31\",\"1942-11-23\",\"1942-01-01\",\"1942-04-06\",\"1942-01-01\",\"1942-12-31\",\"1942\",\"1942\",\"1942\",\"1942-05-01\",\"1942-11-13\",\"1942-12-31\",\"1942-11-13\",\"1942-05-01\",\"1942-11-13\",\"1942-05-01\",\"1942-11-13\",\"1942-11-13\",\"1942-01-01\",\"1942-12-31\",\"1942-12-31\",\"1942\",\"1942\",\"1942-11-13\",\"1942\",\"1942\",\"1942-11-23\",\"1942\",\"1942-12-31\",\"1942-11-23\",\"1942\",\"1942-01-01\",\"1942\",\"1942-11-23\",\"1942-04-06\",\"1942\",\"1942-11-13\",\"1942-11-23\",\"1942-11-13\",\"1942-11-13\",\"1942-11-13\",\"1942-11-13\",\"1942-12-31\",\"1942-11-23\",\"1942\",\"1942-11-13\",\"1942-11-13\",\"1942-12-01\",\"1942\",\"1942-05-01\",\"1942-12-31\",\"1942\",\"1942-02-23\",\"1942-12-31\",\"1942-04-06\",\"1942\",\"1942-12-31\",\"1942-03-08\",\"1942-05-30\",\"1942-04-06\",\"1942-12-31\",\"1942-11-13\",\"1942-06-06\",\"1942\",\"1942\",\"1942\",\"1942-11-23\",\"1942-11-13\",\"1942\",\"1942-04-06\",\"1942\",\"1942-11-13\",\"1942-11-13\",\"1942\",\"1942-12-01\",\"1942-12-31\",\"1942-11-13\",\"1942-12-01\",\"1942-03-08\",\"1942-11-13\",\"1942-12-31\",\"1942-11-13\",\"1942-11-23\",\"1942-03-08\",\"1942-11-23\",\"1942-11-13\",\"1942-12-31\",\"1942-11-13\",\"1942\",\"1942\",\"1942\",\"1942\",\"1942-11-13\",\"1942-11-23\",\"1942-11-13\",\"1942-11-23\",\"1942-03-08\",\"1942-01-01\",\"1942-03-08\",\"1942-05-30\",\"1942-01-01\",\"1942\",\"1942-11-13\",\"1942\",\"1942-12-31\",\"1942\",\"1942-11-13\",\"1942\",\"1942-11-13\",\"1942\",\"1942-11-23\",\"1942\",\"1942-05-30\",\"1942-11-13\",\"1942-11-13\",\"1942-11-23\",\"1942\",\"1942-05-30\",\"1942-11-13\",\"1942-01-01\",\"1942\",\"1942-11-23\",\"1942-11-13\",\"1942\",\"1942-11-23\",\"1942-05-30\",\"1942-11-23\",\"1942\",\"1942-01-01\",\"1942-01-01\",\"1942\",\"1942-11-23\",\"1942-11-13\",\"1942-01-01\",\"1942\",\"1942\",\"1942\",\"1942\",\"1942\",\"1942-05-01\",\"1942-12-01\",\"1942-11-13\",\"1942-04-06\",\"1942-04-06\",\"1942\",\"1942-12-31\",\"1942\",\"1942-11-13\",\"1942-11-23\",\"1942-11-23\",\"1942\",\"1942-03-31\",\"1942-11-23\",\"1942\",\"1942\",\"1942-11-13\",\"1942-01-12\",\"1942-12-31\",\"1942-12-31\",\"1942-12-01\",\"1942-11-13\",\"1942-04-06\",\"1942-12-31\",\"1942-11-13\",\"1942\",\"1942-11-13\",\"1942\",\"1942-11-13\",\"1942-12-31\",\"1942-04-06\",\"1942-12-31\",\"1942\",\"1942\",\"1942-11-13\",\"1942-11-13\",\"1942-11-13\",\"1942-01-01\",\"1942\",\"1942-04-06\",\"1942\",\"1942-11-13\",\"1942\",\"1942-06-25\",\"1942-01-01\",\"1942-11-13\",\"1942-11-13\",\"1942-01-01\",\"1942-11-13\",\"1942\",\"1942\",\"1942-05-30\",\"1942-12-01\",\"1942\",\"1942-11-13\",\"1942\",\"1942-12-31\",\"1942-01-01\",\"1942-12-31\",\"1942\",\"1942-11-13\",\"1942-12-31\",\"1942\",\"1942-03-08\",\"1942-12-31\",\"1942-12-31\",\"1942-11-23\",\"1942\",\"1942\",\"1942-01-01\",\"1942\",\"1942-11-23\",\"1942-11-13\",\"1942\",\"1942\",\"1942-12-31\",\"1942\",\"1942\",\"1942-11-13\",\"1942\",\"1942-03-08\",\"1942-11-13\",\"1942-11-23\",\"1942-01-01\",\"1942-01-01\",\"1942-11-13\",\"1942-11-13\",\"1942\",\"1942-01-12\",\"1942\",\"1942\",\"1942\",\"1942-12-01\",\"1942-11-23\",\"1942-12-31\",\"1942\",\"1942\",\"1942-01-01\",\"1942-05-30\",\"1942-05-01\",\"1942-11-13\",\"1942-03-08\",\"1942-11-13\",\"1942\",\"1942-11-23\",\"1942-01-01\",\"1942-03-08\",\"1942-05-01\",\"1942\",\"1942-12-31\",\"1942\",\"1942\",\"1942-11-13\",\"1942-01-01\",\"1942\",\"1942-11-23\",\"1942-12-01\",\"1942-11-13\",\"1942\",\"1942-01-12\",\"1942\",\"1942-11-13\",\"1942-11-13\",\"1942-12-01\",\"1942-12-31\",\"1942\",\"1942\",\"1942\",\"1942-12-31\",\"1942-11-13\",\"1942\",\"1942-11-13\",\"1942-12-31\",\"1942\",\"1942\",\"1942\",\"1942\",\"1942\",\"1942-01-01\",\"1942-11-13\",\"1942-11-13\",\"1942-12-31\",\"1942-11-23\",\"1942-02-23\",\"1942-11-23\",\"1942-12-31\",\"1942-12-31\",\"1942\",\"1942-11-13\",\"1942-11-13\",\"1942-11-13\",\"1942-11-13\",\"1942-12-31\",\"1942\",\"1942-11-23\",\"1942-11-13\",\"1942-12-01\",\"1942\",\"1942-12-01\",\"1942-04-06\",\"1943\",\"1943-01-23\",\"1943\",\"1943-12-02\",\"1943-01-01\",\"1943-01-23\",\"1943-01-23\",\"1943\",\"1943-12-02\",\"1943\",\"1943\",\"1943-01-23\",\"1943-01-23\",\"1943-01-23\",\"1943-01-23\",\"1943\",\"1943-01-01\",\"1943-01-23\",\"1943\",\"1943-01-23\",\"1943-01-23\",\"1943-01-23\",\"1943\",\"1943\",\"1943-12-02\",\"1943\",\"1943-01-01\",\"1943\",\"1943-01-23\",\"1943-01-23\",\"1943\",\"1943-01-23\",\"1943\",\"1943-07-01\",\"1943\",\"1943\",\"1943-01-23\",\"1943-01-23\",\"1943\",\"1943-01-23\",\"1943-01-23\",\"1943\",\"1943-01-23\",\"1943-12-02\",\"1943\",\"1943-01-23\",\"1943-01-01\",\"1943-12-02\",\"1943\",\"1943-12-02\",\"1943-12-02\",\"1943-01-01\",\"1943-01-01\",\"1943-12-31\",\"1943\",\"1943-12-31\",\"1943-01-01\",\"1943\",\"1943-12-31\",\"1943-12-31\",\"1943-12-31\",\"1943-12-31\",\"1943\",\"1943\",\"1943-12-31\",\"1943-12-31\",\"1943-01-01\",\"1943\",\"1943\",\"1943-01-01\",\"1943-03-12\",\"1943-12-31\",\"1943\",\"1943\",\"1943-05-20\",\"1943\",\"1943-12-31\",\"1943-03-12\",\"1943-03-23\",\"1943-03-12\",\"1943-12-31\",\"1943-12-31\",\"1943-12-31\",\"1943\",\"1943-12-31\",\"1943\",\"1943\",\"1943\",\"1943-12-31\",\"1943-03-23\",\"1943\",\"1943-03-12\",\"1943-12-02\",\"1943-12-01\",\"1943\",\"1943-05-09\",\"1943-03-23\",\"1943-01-01\",\"1943-12-01\",\"1943\",\"1943-12-01\",\"1943-12-31\",\"1943\",\"1943-12-31\",\"1943-12-01\",\"1943-07-28\",\"1943\",\"1943\",\"1943-12-31\",\"1943\",\"1943-05-09\",\"1943-12-31\",\"1943-01-01\",\"1943\",\"1943\",\"1943\",\"1943-12-31\",\"1943\",\"1943-12-31\",\"1943\",\"1943\",\"1943-12-31\",\"1943-01-01\",\"1943-12-01\",\"1943-12-31\",\"1943-01-01\",\"1943-01-01\",\"1943-12-31\",\"1943-01-01\",\"1943\",\"1943\",\"1943-12-31\",\"1943-12-31\",\"1943\",\"1943-12-31\",\"1943-12-31\",\"1943-05-09\",\"1943-03-23\",\"1943-12-31\",\"1943-01-01\",\"1943-12-31\",\"1943\",\"1943\",\"1943\",\"1943-03-12\",\"1943\",\"1943\",\"1943\",\"1943-12-31\",\"1943-01-01\",\"1943\",\"1943\",\"1943-12-31\",\"1943-12-31\",\"1943\",\"1943\",\"1943-01-01\",\"1943\",\"1943-01-01\",\"1943-05-09\",\"1943-12-02\",\"1943-12-31\",\"1943-12-31\",\"1943\",\"1943-12-31\",\"1943-03-23\",\"1943-01-01\",\"1943-12-31\",\"1943-03-12\",\"1943-01-01\",\"1943-01-01\",\"1943-12-01\",\"1943-01-01\",\"1943\",\"1943\",\"1943-12-31\",\"1943\",\"1943-03-23\",\"1943-01-01\",\"1943-12-01\",\"1943\",\"1943-12-31\",\"1943-01-01\",\"1943-01-01\",\"1943-12-31\",\"1943-12-31\",\"1943-12-31\",\"1943-01-01\",\"1943-12-31\",\"1943\",\"1943\",\"1943-03-23\",\"1943-12-31\",\"1943-12-31\",\"1943-12-31\",\"1943-01-01\",\"1943\",\"1943-12-31\",\"1943\",\"1943-03-12\",\"1943\",\"1943-03-12\",\"1943-05-09\",\"1943\",\"1943-12-31\",\"1943-12-31\",\"1943-03-12\",\"1943-01-01\",\"1943\",\"1943\",\"1943\",\"1943\",\"1943-12-31\",\"1943-01-01\",\"1943\",\"1943\",\"1943-12-31\",\"1943\",\"1943-12-31\",\"1943\",\"1943\",\"1943\",\"1943\",\"1943-12-01\",\"1943-03-12\",\"1943-01-01\",\"1943-03-23\",\"1943-12-31\",\"1943\",\"1943-03-12\",\"1943\",\"1943-12-01\",\"1943\",\"1943-12-31\",\"1943-05-09\",\"1943-05-09\",\"1943\",\"1943-12-02\",\"1943-12-01\",\"1943\",\"1943\",\"1943-12-31\",\"1943\",\"1943-12-31\",\"1943-12-31\",\"1943\",\"1943-12-31\",\"1943-12-31\",\"1943-12-31\",\"1943\",\"1943-12-31\",\"1943-12-31\",\"1943-12-31\",\"1943-03-12\",\"1943\",\"1943-01-01\",\"1943-12-31\",\"1943-01-01\",\"1943\",\"1943-01-01\",\"1943-01-01\",\"1943-12-01\",\"1943\",\"1943-01-01\",\"1943\",\"1943-12-31\",\"1943-01-01\",\"1943-01-01\",\"1943-12-31\",\"1943\",\"1943-12-31\",\"1943-12-01\",\"1943\",\"1943-12-01\",\"1943-12-31\",\"1943-12-31\",\"1943\",\"1943-12-31\",\"1943-12-01\",\"1943-05-09\",\"1943-12-31\",\"1943-03-12\",\"1943-01-01\",\"1943-12-01\",\"1943\",\"1943\",\"1943-03-12\",\"1943-05-09\",\"1943-12-01\",\"1943-03-12\",\"1943-03-23\",\"1943-12-31\",\"1943\",\"1943-12-31\",\"1943-12-31\",\"1943-12-31\",\"1943-12-31\",\"1943\",\"1943-01-01\",\"1943-12-31\",\"1943-03-23\",\"1943-12-31\",\"1943-12-31\",\"1943-03-12\",\"1943-12-31\",\"1943-12-01\",\"1943-12-01\",\"1943-01-01\",\"1943\",\"1943\",\"1943-01-01\",\"1943\",\"1943-12-31\",\"1943-12-31\",\"1943-05-09\",\"1943-12-01\",\"1943-12-31\",\"1943\",\"1943\",\"1943-03-12\",\"1943-12-31\",\"1943-12-31\",\"1943-12-31\",\"1943-12-31\",\"1943-12-31\",\"1943-01-01\",\"1943-12-31\",\"1943\",\"1943-12-31\",\"1943-01-01\",\"1943-12-31\",\"1943\",\"1943\",\"1943-12-31\",\"1943-12-31\",\"1943-12-31\",\"1943\",\"1943\",\"1943-01-01\",\"1943-01-01\",\"1943-12-31\",\"1943-01-01\",\"1943-12-31\",\"1943-08-30\",\"1943-12-01\",\"1943-12-31\",\"1943-01-01\",\"1943\",\"1943-01-01\",\"1943-12-01\",\"1943\",\"1943\",\"1943\",\"1943\",\"1943-03-12\",\"1943-12-31\",\"1943-01-07\",\"1943\",\"1943-12-31\",\"1943-12-01\",\"1943-12-31\",\"1943\",\"1943-01-01\",\"1943-03-12\",\"1943-01-01\",\"1943-05-05\",\"1943-01-01\",\"1943-12-31\",\"1943-01-07\",\"1943-12-01\",\"1943\",\"1943-12-31\",\"1943-04-17\",\"1943-07-28\",\"1943-12-31\",\"1943-12-31\",\"1943-12-31\",\"1943-12-31\",\"1943\",\"1943-01-01\",\"1943-12-31\",\"1943-12-31\",\"1943\",\"1943\",\"1943\",\"1943-12-01\",\"1943\",\"1943\",\"1943-01-12\",\"1943-12-02\",\"1943\",\"1943-12-01\",\"1943\",\"1943-01-01\",\"1943-01-01\",\"1943\",\"1943-03-12\",\"1943\",\"1943-12-02\",\"1943-01-01\",\"1943-12-31\",\"1943-12-31\",\"1943-03-23\",\"1943\",\"1943\",\"1943-12-01\",\"1943\",\"1943-03-23\",\"1943\",\"1943\",\"1943\",\"1943\",\"1943-01-01\",\"1943-12-31\",\"1943-12-01\",\"1943-12-31\",\"1943-01-01\",\"1943-03-01\",\"1943\",\"1943-12-31\",\"1943-01-01\",\"1943-03-12\",\"1943-01-07\",\"1943-12-01\",\"1943-12-31\",\"1943-03-23\",\"1943-12-31\",\"1943-12-31\",\"1943-03-12\",\"1943-03-12\",\"1943-03-23\",\"1943-12-01\",\"1943-12-31\",\"1943-01-01\",\"1943\",\"1943-01-01\",\"1943-01-01\",\"1943-01-01\",\"1943-01-01\",\"1943-01-01\",\"1943\",\"1943-12-31\",\"1943-12-01\",\"1943-01-01\",\"1943-12-31\",\"1943-01-01\",\"1943-12-31\",\"1943-01-01\",\"1943-01-01\",\"1943-03-23\",\"1943\",\"1943\",\"1943\",\"1943-12-01\",\"1943\",\"1943\",\"1943-03-12\",\"1943-12-31\",\"1943\",\"1943\",\"1943-12-01\",\"1943\",\"1943-01-01\",\"1943-12-02\",\"1943\",\"1943-12-31\",\"1943\",\"1943-01-01\",\"1943-01-01\",\"1943-01-01\",\"1943-03-12\",\"1943\",\"1943-01-01\",\"1943-01-01\",\"1943\",\"1943-12-01\",\"1943-03-12\",\"1943-12-01\",\"1943\",\"1943\",\"1943\",\"1943\",\"1943-03-23\",\"1943-01-01\",\"1943-01-01\",\"1943-12-01\",\"1943-12-31\",\"1943-12-31\",\"1943\",\"1943\",\"1943\",\"1943\",\"1943-12-02\",\"1943-12-31\",\"1943-12-31\",\"1943-03-23\",\"1943\",\"1943-12-31\",\"1943\",\"1943\",\"1943-12-31\",\"1943-07-28\",\"1943-03-12\",\"1943-01-01\",\"1943-03-12\",\"1943-01-12\",\"1943-12-31\",\"1943-12-01\",\"1943\",\"1943-12-31\",\"1943-03-12\",\"1943\",\"1943-01-01\",\"1943-03-12\",\"1943-12-02\",\"1943-12-31\",\"1943-12-31\",\"1943-12-31\",\"1943-12-31\",\"1943\",\"1943\",\"1943\",\"1943-12-01\",\"1943-12-31\",\"1943-03-12\",\"1943-12-02\",\"1943-12-31\",\"1943\",\"1943-12-31\",\"1943\",\"1943\",\"1943-12-01\",\"1943-05-11\",\"1943-12-31\",\"1943-12-01\",\"1943\",\"1943-12-01\",\"1943-01-01\",\"1943-12-31\",\"1943-12-31\",\"1943-01-01\",\"1943-01-01\",\"1943-12-31\",\"1943-12-01\",\"1943-01-01\",\"1943-12-31\",\"1943-12-02\",\"1943-05-09\",\"1943-12-31\",\"1943-01-01\",\"1943-03-12\",\"1943\",\"1943-12-31\",\"1943-03-12\",\"1943\",\"1943-12-31\",\"1943-12-31\",\"1943\",\"1943\",\"1943-12-02\",\"1943-12-31\",\"1943\",\"1943-12-02\",\"1943-01-07\",\"1943-12-31\",\"1943-12-31\",\"1943-12-31\",\"1943\",\"1943-12-31\",\"1943-01-01\",\"1943-01-01\",\"1943\",\"1943\",\"1943-01-01\",\"1943-12-31\",\"1943-01-01\",\"1943\",\"1943-12-31\",\"1943\",\"1943-12-01\",\"1943-05-09\",\"1943-04-18\",\"1943\",\"1943-12-31\",\"1943-12-31\",\"1943-12-31\",\"1943-12-31\",\"1943-12-01\",\"1943-03-12\",\"1943\",\"1943-01-01\",\"1943\",\"1943-12-31\",\"1943-01-01\",\"1943-01-01\",\"1943-12-31\",\"1943-12-31\",\"1943-03-12\",\"1943-01-01\",\"1943\",\"1943\",\"1943-03-12\",\"1943-12-01\",\"1943-12-01\",\"1943\",\"1943-01-01\",\"1943-03-23\",\"1943\",\"1943-01-01\",\"1943\",\"1943\",\"1943-12-01\",\"1943\",\"1943-12-31\",\"1943\",\"1943-04-17\",\"1943-01-01\",\"1943-03-12\",\"1943-12-31\",\"1943\",\"1943-03-12\",\"1943\",\"1943-12-31\",\"1943-01-01\",\"1943-12-31\",\"1943-03-23\",\"1943-12-31\",\"1943\",\"1943\",\"1943-10-14\",\"1943\",\"1943-12-31\",\"1943\",\"1943\",\"1943\",\"1943\",\"1943\",\"1943\",\"1943-10-14\",\"1943-12-31\",\"1943-12-31\",\"1943\",\"1943-12-31\",\"1943\",\"1943-01-01\",\"1943\",\"1943-12-31\",\"1943-10-14\",\"1943-12-31\",\"1943-12-31\",\"1943\",\"1943\",\"1943\",\"1943-10-14\",\"1943-10-14\",\"1943\",\"1943\",\"1943-12-31\",\"1943\",\"1943\",\"1943\",\"1943-10-14\",\"1943-01-01\",\"1943\",\"1943\",\"1943-01-01\",\"1943-01-01\",\"1943\",\"1943\",\"1943-01-01\",\"1943\",\"1943\",\"1943\",\"1943\",\"1943-12-31\",\"1943-10-14\",\"1943\",\"1943-12-31\",\"1943\",\"1943\",\"1943-10-14\",\"1943\",\"1943-01-01\",\"1943-10-14\",\"1943-01-01\",\"1943\",\"1943-01-01\",\"1943-01-01\",\"1943-01-01\",\"1943-01-01\",\"1943-01-01\",\"1943\",\"1943\",\"1943-10-14\",\"1943-01-01\",\"1943\",\"1943\",\"1943\",\"1943\",\"1943-01-01\",\"1943\",\"1943\",\"1943\",\"1943\",\"1943-12-31\",\"1943\",\"1943\",\"1943-01-01\",\"1943-10-14\",\"1943\",\"1943-01-01\",\"1943-10-14\",\"1943-10-14\",\"1943\",\"1943-12-31\",\"1943\",\"1943\",\"1943\",\"1943\",\"1943-12-31\",\"1943\",\"1943-01-01\",\"1943\",\"1943-12-31\",\"1943\",\"1943\",\"1943\",\"1943-01-01\",\"1943-12-31\",\"1943\",\"1943\",\"1943\",\"1943-10-14\",\"1943\",\"1943-10-14\",\"1943-12-31\",\"1943\",\"1943\",\"1943-10-14\",\"1943\",\"1943-01-01\",\"1943\",\"1944\",\"1944\",\"1944\",\"1944-01-01\",\"1944\",\"1944\",\"1944\",\"1944-01-01\",\"1944-01-01\",\"1944\",\"1944\",\"1944\",\"1944\",\"1944\",\"1944-01-01\",\"1944-01-22\",\"1944\",\"1944-01-01\",\"1944\",\"1944\",\"1944\",\"1944-01-01\",\"1944\",\"1944-01-01\",\"1944\",\"1944-01-01\",\"1944\",\"1944\",\"1944\",\"1944\",\"1944\",\"1944-01-01\",\"1944\",\"1944\",\"1944-01-01\",\"1944\",\"1944\",\"1944\",\"1944\",\"1944\",\"1944\",\"1944\",\"1944\",\"1944\",\"1944\",\"1944\",\"1944\",\"1944\",\"1944-12-01\",\"1944\",\"1944\",\"1944\",\"1944\",\"1944\",\"1944\",\"1944\",\"1944\",\"1944\",\"1944\",\"1944\",\"1944\",\"1944\",\"1944\",\"1944\",\"1944\",\"1944\",\"1944\",\"1944\",\"1944\",\"1944\",\"1944\",\"1944\",\"1944\",\"1944\",\"1944\",\"1944\",\"1944\",\"1944\",\"1944\",\"1944\",\"1944\",\"1944\",\"1944\",\"1944\",\"1944\",\"1944\",\"1944\",\"1944\",\"1944\",\"1944\",\"1944\",\"1944\",\"1944\",\"1944\",\"1944\",\"1944\",\"1944\",\"1944\",\"1944\",\"1944\",\"1944\",\"1944\",\"1944\",\"1944\",\"1944\",\"1944-01-01\",\"1944\",\"1944\",\"1944\",\"1944\",\"1944-01-01\",\"1944\",\"1944\",\"1944\",\"1944-01-01\",\"1944\",\"1944-12-01\",\"1944-12-01\",\"1944\",\"1944-01-01\",\"1944\",\"1944\",\"1944\",\"1944\",\"1944-01-01\",\"1944-01-01\",\"1944-01-01\",\"1944\",\"1944\",\"1944-01-22\",\"1944-01-01\",\"1944\",\"1944-01-01\",\"1944\",\"1944\",\"1944\",\"1944\",\"1944-01-12\",\"1944-01-01\",\"1944-12-01\",\"1944\",\"1944\",\"1944-12-01\",\"1944-01-01\",\"1944-01-31\",\"1944-03-31\",\"1944-01-01\",\"1944\",\"1944-03-31\",\"1944\",\"1944\",\"1944-12-31\",\"1944\",\"1944\",\"1944-04-23\",\"1944-12-01\",\"1944-03-31\",\"1944\",\"1944-01-01\",\"1944-03-11\",\"1944-12-31\",\"1944-06-09\",\"1944-12-12\",\"1944-12-31\",\"1944-01-01\",\"1944-12-31\",\"1944-12-01\",\"1944\",\"1944\",\"1944-03-11\",\"1944\",\"1944-12-01\",\"1944\",\"1944-03-11\",\"1944-06-09\",\"1944-11-01\",\"1944\",\"1944-12-31\",\"1944-12-01\",\"1944-02-21\",\"1944-03-11\",\"1944\",\"1944-01-01\",\"1944-12-31\",\"1944-01-01\",\"1944-12-01\",\"1944\",\"1944\",\"1944-12-31\",\"1944-12-31\",\"1944-12-31\",\"1944-12-31\",\"1944-01-01\",\"1944-08-13\",\"1944-01-22\",\"1944\",\"1944-12-31\",\"1944-12-31\",\"1944\",\"1944-12-01\",\"1944-12-31\",\"1944-12-01\",\"1944-12-31\",\"1944-08-31\",\"1944-01-01\",\"1944-12-31\",\"1944-12-01\",\"1944\",\"1944-01-01\",\"1944-04-23\",\"1944-12-31\",\"1944\",\"1944-04-23\",\"1944-12-01\",\"1944-12-31\",\"1944\",\"1944-03-11\",\"1944-01-12\",\"1944-01-01\",\"1944\",\"1944-03-11\",\"1944-01-01\",\"1944\",\"1944-01-01\",\"1944-08-13\",\"1944-01-01\",\"1944-12-01\",\"1944-12-01\",\"1944-03-31\",\"1944\",\"1944\",\"1944\",\"1944-12-31\",\"1944-01-01\",\"1944-01-01\",\"1944-03-11\",\"1944-12-31\",\"1944-01-01\",\"1944\",\"1944\",\"1944-12-01\",\"1944-12-31\",\"1944-01-01\",\"1944-01-01\",\"1944\",\"1944-12-31\",\"1944\",\"1944\",\"1944-01-01\",\"1944\",\"1944\",\"1944-03-11\",\"1944\",\"1944\",\"1944-12-31\",\"1944-12-31\",\"1944\",\"1944-01-01\",\"1944-12-01\",\"1944-12-01\",\"1944-12-01\",\"1944-01-01\",\"1944-04-23\",\"1944\",\"1944-12-31\",\"1944\",\"1944-12-01\",\"1944\",\"1944-01-01\",\"1944-01-01\",\"1944-12-31\",\"1944-12-31\",\"1944-12-31\",\"1944-01-01\",\"1944-12-01\",\"1944-12-01\",\"1944-12-31\",\"1944-03-31\",\"1944\",\"1944-12-01\",\"1944\",\"1944\",\"1944-12-31\",\"1944-12-31\",\"1944-12-01\",\"1944-12-31\",\"1944\",\"1944\",\"1944-12-31\",\"1944\",\"1944-03-11\",\"1944-01-01\",\"1944-04-23\",\"1944-12-01\",\"1944-06-05\",\"1944-03-11\",\"1944-01-22\",\"1944-12-31\",\"1944-12-31\",\"1944-06-09\",\"1944-06-15\",\"1944-12-01\",\"1944-12-31\",\"1944-12-01\",\"1944-04-23\",\"1944-12-31\",\"1944-03-11\",\"1944-01-22\",\"1944-01-01\",\"1944\",\"1944\",\"1944-01-22\",\"1944-12-01\",\"1944-01-01\",\"1944-08-31\",\"1944-12-01\",\"1944-01-01\",\"1944\",\"1944\",\"1944-12-01\",\"1944-12-31\",\"1944-01-01\",\"1944\",\"1944-01-01\",\"1944-12-01\",\"1944-06-09\",\"1944-12-31\",\"1944-01-01\",\"1944-12-31\",\"1944-01-01\",\"1944\",\"1944-01-01\",\"1944-01-01\",\"1944-12-31\",\"1944\",\"1944-12-31\",\"1944-08-13\",\"1944\",\"1944\",\"1944-03-11\",\"1944\",\"1944\",\"1944-12-31\",\"1944-03-11\",\"1944-01-01\",\"1944-12-31\",\"1944-01-01\",\"1944-01-01\",\"1944\",\"1944\",\"1944\",\"1944-01-01\",\"1944-12-31\",\"1944-08-13\",\"1944-12-01\",\"1944-01-01\",\"1944-01-01\",\"1944\",\"1944\",\"1944-12-01\",\"1944-12-12\",\"1944-12-01\",\"1944-01-01\",\"1944-12-31\",\"1944\",\"1944\",\"1944-12-31\",\"1944-12-31\",\"1944-12-01\",\"1944\",\"1944-03-11\",\"1944-12-01\",\"1944\",\"1944-01-01\",\"1944-01-01\",\"1944-12-31\",\"1944-12-31\",\"1944-01-01\",\"1944-12-31\",\"1944-01-01\",\"1944-01-01\",\"1944-01-01\",\"1944-01-01\",\"1944-12-31\",\"1944\",\"1944-03-11\",\"1944\",\"1944-01-01\",\"1944-12-01\",\"1944\",\"1944-01-01\",\"1944-01-01\",\"1944-12-31\",\"1944\",\"1944-01-01\",\"1944-06-09\",\"1944-12-01\",\"1944-01-01\",\"1944-12-31\",\"1944-12-01\",\"1944-01-22\",\"1944\",\"1944-12-01\",\"1944-12-31\",\"1944-03-31\",\"1944-12-31\",\"1944-01-01\",\"1944\",\"1944-12-31\",\"1944-12-31\",\"1944-12-01\",\"1944-01-31\",\"1944-02-24\",\"1944\",\"1944-12-01\",\"1944-12-31\",\"1944-12-01\",\"1944\",\"1944\",\"1944-01-01\",\"1944\",\"1944-12-01\",\"1944-12-01\",\"1944\",\"1944-06-09\",\"1944\",\"1944\",\"1944-01-01\",\"1944-01-01\",\"1944\",\"1944-12-01\",\"1944-12-31\",\"1944-12-31\",\"1944-01-01\",\"1944-01-01\",\"1944\",\"1944-12-01\",\"1944\",\"1944-01-01\",\"1944-08-13\",\"1944-01-01\",\"1944-01-22\",\"1944-01-01\",\"1944\",\"1944\",\"1944-01-01\",\"1944-03-11\",\"1944-01-01\",\"1944-03-11\",\"1944-01-01\",\"1944\",\"1944-12-01\",\"1944\",\"1944-01-01\",\"1944-01-01\",\"1944-12-31\",\"1944-12-31\",\"1944-12-01\",\"1944-12-01\",\"1944-12-01\",\"1944-12-31\",\"1944\",\"1944-12-31\",\"1944\",\"1944\",\"1944-12-31\",\"1944-12-31\",\"1944-12-31\",\"1944-12-01\",\"1944-12-01\",\"1944-12-01\",\"1944-12-31\",\"1944-01-01\",\"1944-12-31\",\"1944-12-01\",\"1944-12-31\",\"1944-12-31\",\"1944-01-01\",\"1944-02-21\",\"1944-01-01\",\"1944-01-01\",\"1944-12-31\",\"1944-12-31\",\"1944-12-01\",\"1944-12-31\",\"1944-12-01\",\"1944-12-31\",\"1944-12-31\",\"1944-01-22\",\"1944-01-22\",\"1944-01-01\",\"1944\",\"1944-12-31\",\"1944\",\"1944\",\"1944-01-01\",\"1944-12-31\",\"1944\",\"1944-12-01\",\"1944\",\"1944\",\"1944-01-01\",\"1944\",\"1944\",\"1944\",\"1944\",\"1944-12-31\",\"1944\",\"1944-12-01\",\"1944-12-01\",\"1944-12-31\",\"1944-04-23\",\"1944-01-01\",\"1944\",\"1944-12-31\",\"1944-12-31\",\"1944-12-31\",\"1944-01-01\",\"1944\",\"1944\",\"1944-12-01\",\"1944-01-01\",\"1944-01-01\",\"1944\",\"1944-03-11\",\"1944-03-31\",\"1944-12-31\",\"1944\",\"1944-12-01\",\"1944-12-31\",\"1944-12-01\",\"1944-03-11\",\"1944-12-31\",\"1944-12-31\",\"1944-01-01\",\"1944-01-12\",\"1944-01-01\",\"1944-01-01\",\"1944-01-01\",\"1944-12-01\",\"1944-01-01\",\"1944\",\"1944-12-01\",\"1944-12-01\",\"1944-01-01\",\"1944\",\"1944\",\"1944-12-01\",\"1944-12-31\",\"1944-01-01\",\"1944-01-22\",\"1944-12-31\",\"1944-12-01\",\"1944-01-01\",\"1944-01-01\",\"1944-03-11\",\"1944-12-01\",\"1944-12-01\",\"1944\",\"1944-12-31\",\"1944-01-01\",\"1944-12-31\",\"1944\",\"1944-01-22\",\"1944-12-01\",\"1944-12-31\",\"1944-01-01\",\"1944-03-11\",\"1944-01-01\",\"1944-12-31\",\"1944-01-01\",\"1944-12-01\",\"1944-12-01\",\"1944-12-12\",\"1944-01-01\",\"1944-12-01\",\"1944-12-01\",\"1944-12-31\",\"1944-03-11\",\"1944-01-12\",\"1944\",\"1944-03-11\",\"1944\",\"1944-12-01\",\"1944\",\"1944-12-12\",\"1944-01-01\",\"1944-12-31\",\"1944\",\"1944\",\"1944\",\"1944-12-31\",\"1944-12-31\",\"1944-01-01\",\"1944-01-01\",\"1944-04-23\",\"1944-12-31\",\"1944-01-01\",\"1944-01-01\",\"1944\",\"1944-12-31\",\"1944-03-11\",\"1944-01-01\",\"1944-01-01\",\"1944\",\"1944\",\"1944\",\"1944-12-31\",\"1944-06-09\",\"1944-03-11\",\"1944-06-05\",\"1944-01-01\",\"1944-12-31\",\"1944-12-01\",\"1944\",\"1944-12-01\",\"1944\",\"1944-12-31\",\"1944-01-22\",\"1944-12-31\",\"1944-12-31\",\"1944-03-31\",\"1944-01-01\",\"1944\",\"1944-01-01\",\"1944\",\"1944-12-01\",\"1944-01-01\",\"1944-12-31\",\"1944\",\"1944-03-11\",\"1944-12-31\",\"1944\",\"1944\",\"1944-03-11\",\"1944-01-01\",\"1944-03-11\",\"1944\",\"1944\",\"1944\",\"1944-12-31\",\"1944\",\"1944-01-01\",\"1944-01-01\",\"1944-12-01\",\"1944-01-01\",\"1944\",\"1944-12-31\",\"1944\",\"1944-01-01\",\"1944-12-31\",\"1944-08-13\",\"1944\",\"1944-12-01\",\"1944-12-31\",\"1944-01-01\",\"1944\",\"1944\",\"1944-12-31\",\"1944-01-31\",\"1944-01-01\",\"1944-12-01\",\"1944-12-31\",\"1944-03-11\",\"1944-03-11\",\"1944-12-31\",\"1944\",\"1944-01-01\",\"1944-03-11\",\"1944-12-31\",\"1944-12-31\",\"1944\",\"1944\",\"1944-01-01\",\"1944-01-01\",\"1944-03-11\",\"1944-01-01\",\"1944\",\"1944\",\"1944-12-31\",\"1944-12-31\",\"1944\",\"1944-01-01\",\"1944-12-31\",\"1944\",\"1944\",\"1944-01-01\",\"1944-01-01\",\"1944\",\"1944-01-01\",\"1944-12-31\",\"1944\",\"1944-12-01\",\"1944-08-13\",\"1944-12-31\",\"1944\",\"1944\",\"1944-01-01\",\"1944-01-01\",\"1944-06-09\",\"1944-01-01\",\"1944\",\"1944\",\"1944-01-01\",\"1944\",\"1944-12-31\",\"1944-12-01\",\"1944-03-11\",\"1944-12-31\",\"1944-01-01\",\"1944\",\"1944-12-01\",\"1944-01-31\",\"1944-01-01\",\"1944-12-31\",\"1944-03-31\",\"1944\",\"1944-12-01\",\"1944-01-01\",\"1944\",\"1944-04-23\",\"1944-12-31\",\"1944-03-11\",\"1944-01-01\",\"1944\",\"1944-12-01\",\"1944-04-23\",\"1944-03-11\",\"1944\",\"1944-01-01\",\"1944\",\"1944\",\"1944\",\"1944\",\"1944-12-01\",\"1944-01-01\",\"1944-01-01\",\"1944-06-14\",\"1944-12-01\",\"1944-08-13\",\"1944-12-31\",\"1944-01-01\",\"1944-03-11\",\"1944\",\"1944-01-01\",\"1944\",\"1944-01-01\",\"1944-12-01\",\"1944-12-12\",\"1944-01-01\",\"1944-12-31\",\"1944-01-01\",\"1944-03-11\",\"1944\",\"1944\",\"1944-03-11\",\"1944-03-11\",\"1944-01-01\",\"1944-01-22\",\"1944-01-01\",\"1944-01-01\",\"1944-12-01\",\"1944-12-31\",\"1944\",\"1944-01-12\",\"1944\",\"1944-03-11\",\"1944-01-01\",\"1944-06-05\",\"1944-01-01\",\"1944\",\"1944-12-31\",\"1944-01-01\",\"1944-01-01\",\"1944-01-01\",\"1944\",\"1944-12-31\",\"1944-01-01\",\"1944-12-01\",\"1944\",\"1944-01-01\",\"1944-01-12\",\"1944-01-01\",\"1944\",\"1944-12-01\",\"1944-01-01\",\"1944-12-31\",\"1944-12-01\",\"1944-12-31\",\"1944-12-12\",\"1944-01-01\",\"1944-01-01\",\"1944-01-01\",\"1944-01-01\",\"1944-01-01\",\"1944-12-12\",\"1944-10-31\",\"1944-01-01\",\"1944-01-01\",\"1944-12-12\",\"1944-10-31\",\"1944-10-31\",\"1944-01-01\",\"1944-12-12\",\"1944-10-31\",\"1944-01-01\",\"1944-01-01\",\"1944-01-01\",\"1944-10-31\",\"1944-01-01\",\"1944-01-01\",\"1944-01-01\",\"1944-01-01\",\"1944-10-31\",\"1944-01-01\",\"1944-01-01\",\"1944-01-01\",\"1944-12-12\",\"1944-01-01\",\"1944-01-01\",\"1944-01-01\",\"1944-01-01\",\"1944-01-01\",\"1944-01-01\",\"1944-12-12\",\"1944-01-01\",\"1944-01-01\",\"1944-10-31\",\"1944-01-01\",\"1944-01-01\",\"1944-01-01\",\"1944-01-01\",\"1944-01-01\",\"1944-01-01\",\"1944-01-01\",\"1944-01-01\",\"1944-01-01\",\"1944-10-31\",\"1944-12-12\",\"1944-01-01\",\"1944-01-01\",\"1944-01-01\",\"1944-12-12\",\"1944-12-12\",\"1944-01-01\",\"1944-12-12\",\"1944-01-01\",\"1944-01-01\",\"1944-01-01\",\"1944-12-12\",\"1944-12-12\",\"1944-01-01\",\"1944-12-12\",\"1944-01-01\",\"1944-12-12\",\"1944-01-01\",\"1945\",\"1945\",\"1945\",\"1945\",\"1945\",\"1945-01-01\",\"1945\",\"1945\",\"1945-01-01\",\"1945-01-01\",\"1945\",\"1945\",\"1945\",\"1945\",\"1945-01-01\",\"1945\",\"1945-01-01\",\"1945\",\"1945\",\"1945-01-01\",\"1945\",\"1945-01-01\",\"1945\",\"1945-01-01\",\"1945-01-01\",\"1945-01-01\",\"1945\",\"1945-01-01\",\"1945\",\"1945-08-25\",\"1945-01-01\",\"1945\",\"1945-01-01\",\"1945-01-01\",\"1945-01-01\",\"1945-01-01\",\"1945\",\"1945\",\"1945\",\"1945-01-01\",\"1945-01-01\",\"1945-01-01\",\"1945\",\"1945\",\"1945\",\"1945\",\"1945\",\"1945-01-01\",\"1945\",\"1945-01-01\",\"1945\",\"1945\",\"1945\",\"1945\",\"1945\",\"1945\",\"1945\",\"1945\",\"1945-01-01\",\"1945\",\"1945\",\"1945\",\"1945\",\"1945\",\"1945-01-01\",\"1945\",\"1945\",\"1945\",\"1945\",\"1945\",\"1945\",\"1945\",\"1945\",\"1945\",\"1945\",\"1945\",\"1945\",\"1945\",\"1945\",\"1945\",\"1945\",\"1945\",\"1945\",\"1945\",\"1945-01-01\",\"1945\",\"1945-01-01\",\"1945-01-01\",\"1945-12-01\",\"1945\",\"1945\",\"1945-01-01\",\"1945\",\"1945\",\"1945\",\"1945\",\"1945\",\"1945-01-01\",\"1945-01-01\",\"1945-01-01\",\"1945\",\"1945-12-01\",\"1945-02-01\",\"1945\",\"1945\",\"1945-11-01\",\"1945\",\"1945-02-01\",\"1945\",\"1945-01-01\",\"1945-01-01\",\"1945\",\"1945\",\"1945-01-01\",\"1945\",\"1945\",\"1945\",\"1945\",\"1945\",\"1945\",\"1945\",\"1945\",\"1945-01-01\",\"1945\",\"1945\",\"1945\",\"1945-01-01\",\"1945-01-01\",\"1945\",\"1945\",\"1945\",\"1945\",\"1945-05-02\",\"1945\",\"1945-11-01\",\"1945\",\"1945\",\"1945\",\"1945-01-01\",\"1945-02-01\",\"1945\",\"1945\",\"1945\",\"1945-05-02\",\"1945-05-02\",\"1945\",\"1945-01-01\",\"1945-02-01\",\"1945\",\"1945\",\"1945\",\"1945\",\"1945\",\"1945-12-01\",\"1945-05-02\",\"1945-01-01\",\"1945-05-02\",\"1945\",\"1945\",\"1945-01-01\",\"1945\",\"1945-01-01\",\"1945\",\"1945\",\"1945\",\"1945-05-02\",\"1945-01-01\",\"1945-01-01\",\"1945\",\"1945\",\"1945\",\"1945\",\"1945\",\"1945-01-01\",\"1945-01-01\",\"1945-05-02\",\"1945\",\"1945\",\"1945-05-02\",\"1945-11-01\",\"1945\",\"1945-01-01\",\"1945-02-01\",\"1945-05-02\",\"1945-01-01\",\"1945\",\"1945-11-01\",\"1945\",\"1945-01-01\",\"1945-12-01\",\"1945\",\"1945-11-01\",\"1945-11-01\",\"1945\",\"1945-05-02\",\"1945-02-01\",\"1945\",\"1945\",\"1945-01-01\",\"1945\",\"1945-01-01\",\"1945-05-02\",\"1945\",\"1945\",\"1945-02-01\",\"1945-01-01\",\"1945-05-02\",\"1945-01-01\",\"1945\",\"1945\",\"1945\",\"1945\",\"1945-08-25\",\"1945-11-03\",\"1945-11-01\",\"1945-01-01\",\"1945-01-01\",\"1945\",\"1945-05-02\",\"1945\",\"1945-02-01\",\"1945\",\"1945-01-01\",\"1945\",\"1945\",\"1945\",\"1945-08-25\",\"1945\",\"1945\",\"1945\",\"1945\",\"1945\",\"1945\",\"1945\",\"1945-01-01\",\"1945-01-01\",\"1945\",\"1945\",\"1945\",\"1945\",\"1945\",\"1945-01-01\",\"1945\",\"1945\",\"1945\",\"1945-01-01\",\"1945-01-01\",\"1945\",\"1945\",\"1945\",\"1945-05-02\",\"1945-01-01\",\"1945\",\"1945-12-01\",\"1945-12-01\",\"1945-12-31\",\"1945\",\"1945-02-01\",\"1945-03-01\",\"1945-12-01\",\"1945\",\"1945\",\"1945-12-31\",\"1945-12-01\",\"1945-12-31\",\"1945-01-01\",\"1945\",\"1945\",\"1945\",\"1945-12-31\",\"1945\",\"1945\",\"1945\",\"1945\",\"1945-12-01\",\"1945-12-31\",\"1945\",\"1945\",\"1945-12-01\",\"1945\",\"1945\",\"1945-12-31\",\"1945\",\"1945\",\"1945\",\"1945-03-06\",\"1945\",\"1945-12-01\",\"1945-12-31\",\"1945-12-01\",\"1945\",\"1945\",\"1945\",\"1945\",\"1945-03-06\",\"1945-01-01\",\"1945-12-31\",\"1945\",\"1945\",\"1945\",\"1945-05-08\",\"1945\",\"1945-02-01\",\"1945\",\"1945-12-31\",\"1945-01-01\",\"1945\",\"1945-12-01\",\"1945-12-01\",\"1945\",\"1945-12-01\",\"1945-12-01\",\"1945\",\"1945\",\"1945-12-31\",\"1945\",\"1945-01-01\",\"1945-03-06\",\"1945\",\"1945\",\"1945\",\"1945-01-01\",\"1945\",\"1945\",\"1945\",\"1945\",\"1945\",\"1945-03-13\",\"1945\",\"1945\",\"1945-01-01\",\"1945-02-01\",\"1945-03-13\",\"1945\",\"1945\",\"1945\",\"1945-12-31\",\"1945\",\"1945\",\"1945-12-31\",\"1945\",\"1945\",\"1945-01-12\",\"1945-01-01\",\"1945-12-01\",\"1945\",\"1945\",\"1945\",\"1945\",\"1945-01-01\",\"1945-03-06\",\"1945\",\"1945\",\"1945\",\"1945-03-13\",\"1945-12-31\",\"1945-03-12\",\"1945\",\"1945\",\"1945-01-01\",\"1945\",\"1945\",\"1945\",\"1945\",\"1945\",\"1945\",\"1945\",\"1945-12-01\",\"1945\",\"1945\",\"1945\",\"1945\",\"1945\",\"1945-09-06\",\"1945-01-01\",\"1945\",\"1945-01-01\",\"1945\",\"1945\",\"1945\",\"1945\",\"1945\",\"1945-12-01\",\"1945-01-01\",\"1945-02-01\",\"1945-12-31\",\"1945-12-31\",\"1945-01-01\",\"1945\",\"1945-12-01\",\"1945\",\"1945-01-01\",\"1945-01-01\",\"1945-03-06\",\"1945\",\"1945\",\"1945\",\"1945-12-31\",\"1945\",\"1945\",\"1945-01-01\",\"1945\",\"1945-01-01\",\"1945-01-01\",\"1945\",\"1945\",\"1945\",\"1945-01-01\",\"1945\",\"1945\",\"1945\",\"1945\",\"1945\",\"1945\",\"1945\",\"1945\",\"1945-12-01\",\"1945\",\"1945\",\"1945\",\"1945\",\"1945\",\"1945\",\"1945\",\"1945-01-01\",\"1945\",\"1945-01-01\",\"1945\",\"1945\",\"1945\",\"1945\",\"1945\",\"1945-12-31\",\"1945\",\"1945-02-01\",\"1945\",\"1945\",\"1945-03-06\",\"1945\",\"1945-02-01\",\"1945\",\"1945-02-01\",\"1945\",\"1945-02-01\",\"1945\",\"1945\",\"1945\",\"1945-01-01\",\"1945\",\"1945\",\"1945\",\"1945\",\"1945\",\"1945\",\"1945-03-06\",\"1945-03-12\",\"1945\",\"1945\",\"1945\",\"1945\",\"1945\",\"1945\",\"1945-01-13\",\"1945-03-06\",\"1945-01-09\",\"1945\",\"1945\",\"1945\",\"1945-03-06\",\"1945\",\"1945-01-01\",\"1945-01-01\",\"1945\",\"1945-01-01\",\"1945-11-03\",\"1945-01-01\",\"1945\",\"1945-01-01\",\"1945-01-01\",\"1945-01-12\",\"1945-01-01\",\"1945\",\"1945\",\"1945-04-17\",\"1945\",\"1945\",\"1945-12-31\",\"1945-01-01\",\"1945\",\"1945\",\"1945-12-31\",\"1945\",\"1945-12-31\",\"1945\",\"1945\",\"1945-01-01\",\"1945-03-13\",\"1945\",\"1945\",\"1945\",\"1945\",\"1945-11-03\",\"1945\",\"1945-12-01\",\"1945\",\"1945-01-01\",\"1945-12-01\",\"1945-12-31\",\"1945\",\"1945\",\"1945-12-31\",\"1945-01-01\",\"1945\",\"1945\",\"1945-03-12\",\"1945\",\"1945-01-01\",\"1945-01-01\",\"1945\",\"1945-12-01\",\"1945\",\"1945-12-31\",\"1945\",\"1945\",\"1945-12-31\",\"1945\",\"1945-02-01\",\"1945-02-01\",\"1945\",\"1945\",\"1945\",\"1945\",\"1945\",\"1945\",\"1945-12-31\",\"1945-12-31\",\"1945-12-31\",\"1945\",\"1945\",\"1945\",\"1945-01-01\",\"1945-12-31\",\"1945-03-06\",\"1945\",\"1945\",\"1945-03-06\",\"1945-01-01\",\"1945-03-06\",\"1945\",\"1945\",\"1945\",\"1945-01-01\",\"1945-12-01\",\"1945-01-01\",\"1945-02-01\",\"1945\",\"1945-01-01\",\"1945-12-01\",\"1945\",\"1945-01-01\",\"1945\",\"1945-12-01\",\"1945-12-01\",\"1945\",\"1945\",\"1945\",\"1945\",\"1945-01-01\",\"1945\",\"1945-12-31\",\"1945\",\"1945\",\"1945\",\"1945-03-06\",\"1945\",\"1945\",\"1945\",\"1945-01-01\",\"1945\",\"1945\",\"1945\",\"1945-03-13\",\"1945\",\"1945-01-01\",\"1945-12-31\",\"1945\",\"1945\",\"1945-12-31\",\"1945-03-13\",\"1945\",\"1945\",\"1945\",\"1945\",\"1945\",\"1945\",\"1945-03-06\",\"1945\",\"1945\",\"1945\",\"1945-02-01\",\"1945-01-01\",\"1945\",\"1945\",\"1945-01-01\",\"1945-01-01\",\"1945\",\"1945\",\"1945\",\"1945-01-01\",\"1945\",\"1945-12-31\",\"1945-02-01\",\"1945-11-03\",\"1945\",\"1945-03-06\",\"1945\",\"1945\",\"1945\",\"1945\",\"1945-12-01\",\"1945\",\"1945-12-31\",\"1945-02-01\",\"1945\",\"1945-02-01\",\"1945\",\"1945\",\"1945\",\"1945\",\"1945\",\"1945-12-01\",\"1945-12-01\",\"1945\",\"1945\",\"1945-01-01\",\"1945-08-25\",\"1945\",\"1945\",\"1945-12-31\",\"1945\",\"1945\",\"1945-03-12\",\"1945-01-01\",\"1945-01-01\",\"1945-01-01\",\"1945-12-01\",\"1945-01-01\",\"1945-01-01\",\"1945\",\"1945\",\"1945-12-31\",\"1945\",\"1945-01-01\",\"1945-04-12\",\"1945-01-01\",\"1945\",\"1945-01-01\",\"1945\",\"1945-01-01\",\"1945\",\"1945-01-01\",\"1945\",\"1945-12-31\",\"1945\",\"1945-01-01\",\"1945-02-01\",\"1945\",\"1945\",\"1945\",\"1945\",\"1945\",\"1945\",\"1945-01-01\",\"1945-01-01\",\"1945\",\"1945\",\"1945-11-03\",\"1945\",\"1945-02-01\",\"1945\",\"1945\",\"1945\",\"1945\",\"1945-02-01\",\"1945-02-01\",\"1945-04-17\",\"1945\",\"1945-01-01\",\"1945\",\"1945\",\"1945\",\"1945\",\"1945\",\"1945-12-31\",\"1945\",\"1945\",\"1945-12-01\",\"1945\",\"1945\",\"1945-12-31\",\"1945\",\"1945\",\"1945\",\"1945-01-01\",\"1945\",\"1945\",\"1945-02-01\",\"1945-12-31\",\"1945\",\"1945-01-01\",\"1945-02-01\",\"1945\",\"1945\",\"1945-04-12\",\"1945\",\"1945\",\"1945\",\"1945\",\"1945-12-31\",\"1945-03-06\",\"1945\",\"1945-05-08\",\"1945-02-01\",\"1945-01-01\",\"1945\",\"1945-12-01\",\"1945\",\"1945\",\"1945\",\"1945\",\"1945-01-01\",\"1945-03-06\",\"1945-02-01\",\"1945\",\"1945\",\"1945-12-31\",\"1945\",\"1945\",\"1945\",\"1945-12-31\",\"1945\",\"1945\",\"1945\",\"1945-01-01\",\"1945\",\"1945-02-01\",\"1945-03-13\",\"1945\",\"1945\",\"1945\",\"1945-01-01\",\"1945\",\"1945-02-01\",\"1945\",\"1945\",\"1945\",\"1945\",\"1945\",\"1945\",\"1945\",\"1945\",\"1945\",\"1945\",\"1945\",\"1945\",\"1945-12-31\",\"1945-02-01\",\"1945\",\"1945\",\"1945\",\"1945-01-01\",\"1945\",\"1945-12-31\",\"1945-02-01\",\"1945\",\"1945\",\"1945-03-06\",\"1945\",\"1945-12-31\",\"1945\",\"1945-01-12\",\"1945-12-31\",\"1945\",\"1945-03-06\",\"1945\",\"1945\",\"1945-02-01\",\"1945-01-01\",\"1945\",\"1945\",\"1945\",\"1945-12-31\",\"1945\",\"1945-02-01\",\"1945-12-01\",\"1945-01-01\",\"1945-03-06\",\"1945-12-31\",\"1945-06-13\",\"1945-01-01\",\"1945\",\"1945\",\"1945\",\"1945-02-01\",\"1945\",\"1945\",\"1945\",\"1945-12-01\",\"1945\",\"1945-04-12\",\"1945\",\"1945-01-01\",\"1945\",\"1945\",\"1945\",\"1945\",\"1945-12-01\",\"1945\",\"1945\",\"1945\",\"1945-02-01\",\"1945\",\"1945\",\"1945\",\"1945\",\"1945\",\"1945-03-06\",\"1945-01-12\",\"1945-03-01\",\"1945\",\"1945\",\"1945-01-01\",\"1945-03-13\",\"1945\",\"1945-03-12\",\"1945-01-12\",\"1945\",\"1945-12-31\",\"1945-01-01\",\"1945\",\"1945-03-12\",\"1945\",\"1945-12-01\",\"1945\",\"1945\",\"1945\",\"1945-12-01\",\"1945-01-01\",\"1945-11-03\",\"1945-01-01\",\"1945\",\"1945\",\"1945\",\"1945\",\"1945\",\"1945\",\"1945\",\"1945\",\"1945-01-01\",\"1945\",\"1945\",\"1945-01-01\",\"1945\",\"1945\",\"1945-01-01\",\"1945\",\"1945\",\"1945-12-01\",\"1945-01-01\",\"1945\",\"1945\",\"1945-01-01\",\"1945\",\"1945\",\"1945-12-01\",\"1945-03-06\",\"1945-03-06\",\"1945\",\"1945-12-01\",\"1945-10-12\",\"1945-01-01\",\"1945-03-06\",\"1945-01-01\",\"1945\",\"1945\",\"1945\",\"1945\",\"1945-02-01\",\"1945-01-01\",\"1945-01-01\",\"1945\",\"1945-11-03\",\"1945\",\"1945\",\"1945\",\"1945\",\"1945\",\"1945-12-31\",\"1945\",\"1945-01-01\",\"1945\",\"1945-02-01\",\"1945\",\"1945-12-01\",\"1945\",\"1945\",\"1945\",\"1945-02-01\",\"1945\",\"1945\",\"1945\",\"1945-03-06\",\"1945\",\"1945\",\"1945-03-06\",\"1945-08-25\",\"1945\",\"1945-12-31\",\"1945-08-25\",\"1945\",\"1945\",\"1945\",\"1945-02-01\",\"1945-12-31\",\"1945\",\"1945\",\"1945\",\"1945\",\"1945-01-01\",\"1945-12-01\",\"1945\",\"1945\",\"1945-01-01\",\"1945-02-01\",\"1945\",\"1945-12-31\",\"1945\",\"1945-01-01\",\"1945-12-01\",\"1945-12-31\",\"1945-12-31\",\"1945-01-01\",\"1945\",\"1945\",\"1945\",\"1945\",\"1945-12-31\",\"1945\",\"1945\",\"1945-12-31\",\"1945-03-06\",\"1945\",\"1945\",\"1945\",\"1945\",\"1945\",\"1945\",\"1945\",\"1945\",\"1945\",\"1945\",\"1945-03-12\",\"1945\",\"1945\",\"1945-12-01\",\"1945\",\"1945-12-31\",\"1945\",\"1945\",\"1945-02-01\",\"1945\",\"1945-01-01\",\"1945\",\"1945-01-01\",\"1945-01-01\",\"1945\",\"1945-12-01\",\"1945-01-01\",\"1945-01-01\",\"1945-01-01\",\"1945-02-01\",\"1945\",\"1945-01-01\",\"1945\",\"1945-03-06\",\"1945\",\"1945\",\"1945-01-01\",\"1945-03-06\",\"1945-01-01\",\"1945\",\"1945\",\"1945\",\"1945-12-31\",\"1945-12-01\",\"1945\",\"1945\",\"1945\",\"1945-03-06\",\"1945\",\"1946\",\"1946\",\"1946\",\"1946-01-01\",\"1946\",\"1946\",\"1946\",\"1946-12-01\",\"1946\",\"1946-03-04\",\"1946-03-04\",\"1946\",\"1946-03-04\",\"1946-03-04\",\"1946-03-04\",\"1946\",\"1946-03-04\",\"1946\",\"1946-01-01\",\"1946\",\"1946-03-04\",\"1946-03-04\",\"1946\",\"1946-01-01\",\"1946\",\"1946\",\"1946\",\"1946\",\"1946-01-01\",\"1946-01-01\",\"1946-01-01\",\"1946\",\"1946\",\"1946\",\"1946\",\"1946-12-01\",\"1946\",\"1946\",\"1946\",\"1946\",\"1946\",\"1946-12-01\",\"1946\",\"1946\",\"1946-10-12\",\"1946\",\"1946\",\"1946\",\"1946\",\"1946\",\"1946\",\"1946-12-31\",\"1946\",\"1946-12-01\",\"1946-12-31\",\"1946-01-01\",\"1946\",\"1946\",\"1946-01-01\",\"1946\",\"1946\",\"1946-01-01\",\"1946\",\"1946\",\"1946-10-12\",\"1946-12-01\",\"1946\",\"1946-01-01\",\"1946\",\"1946\",\"1946-01-01\",\"1946\",\"1946-01-01\",\"1946-01-01\",\"1946-01-01\",\"1946\",\"1946\",\"1946-12-01\",\"1946\",\"1946\",\"1946-01-01\",\"1946-10-01\",\"1946-01-01\",\"1946\",\"1946\",\"1946-01-01\",\"1946\",\"1946\",\"1946\",\"1946-01-01\",\"1946\",\"1946-01-01\",\"1946\",\"1946-12-01\",\"1946\",\"1946\",\"1946-01-01\",\"1946\",\"1946-01-01\",\"1946\",\"1946-12-02\",\"1946-01-01\",\"1946-01-01\",\"1946\",\"1946\",\"1946\",\"1946-01-01\",\"1946\",\"1946-01-01\",\"1946-01-01\",\"1946-01-01\",\"1946-12-02\",\"1946-12-01\",\"1946-01-01\",\"1946-01-01\",\"1946\",\"1946-01-01\",\"1946-01-01\",\"1946-01-01\",\"1946\",\"1946-10-12\",\"1946-01-01\",\"1946-01-01\",\"1946\",\"1946-01-01\",\"1946-01-01\",\"1946-01-01\",\"1946-01-01\",\"1946-01-01\",\"1946\",\"1946-01-01\",\"1946-01-01\",\"1946-01-01\",\"1946-01-01\",\"1946\",\"1946\",\"1946-12-02\",\"1946\",\"1946\",\"1946\",\"1946\",\"1946-10-12\",\"1946-01-01\",\"1946-12-02\",\"1946\",\"1946\",\"1946-12-01\",\"1946\",\"1946-12-01\",\"1946\",\"1946\",\"1946\",\"1946\",\"1946-02-01\",\"1946\",\"1946\",\"1946\",\"1946\",\"1946-12-02\",\"1946\",\"1946\",\"1946\",\"1946\",\"1946\",\"1946-12-01\",\"1946-01-01\",\"1946-04-13\",\"1946-01-01\",\"1946\",\"1946\",\"1946-12-02\",\"1946\",\"1946-12-31\",\"1946-04-13\",\"1946\",\"1946\",\"1946\",\"1946\",\"1946-12-01\",\"1946-12-02\",\"1946-01-01\",\"1946\",\"1946\",\"1946\",\"1946\",\"1946\",\"1946\",\"1946\",\"1946-10-12\",\"1946\",\"1946\",\"1946-01-01\",\"1946\",\"1946\",\"1946\",\"1946-01-01\",\"1946\",\"1946\",\"1946\",\"1946\",\"1946-04-13\",\"1946-01-01\",\"1946-12-31\",\"1946-12-31\",\"1946\",\"1946\",\"1946-01-01\",\"1946\",\"1946\",\"1946\",\"1946\",\"1946\",\"1946\",\"1946\",\"1946\",\"1946-01-01\",\"1946\",\"1946-01-01\",\"1946-12-31\",\"1946\",\"1946\",\"1946\",\"1946-01-01\",\"1946-01-01\",\"1946-01-01\",\"1946-01-01\",\"1946\",\"1946\",\"1946-12-02\",\"1946\",\"1946\",\"1946-01-01\",\"1946\",\"1946\",\"1946\",\"1946-01-01\",\"1946\",\"1946-01-01\",\"1946\",\"1946\",\"1946-11-29\",\"1946\",\"1946-12-31\",\"1946-12-31\",\"1946\",\"1946\",\"1946\",\"1946\",\"1946-10-01\"],\"xaxis\":\"x\",\"y\":[6,0,0,0,0,0,0,0,0,0,0,0,0,1,0,0,0,0,0,0,0,0,0,0,0,0,4,0,0,0,0,0,0,0,0,0,0,0,0,0,0,0,0,0,0,0,0,0,0,0,0,0,0,0,0,0,0,0,0,0,0,0,0,0,0,0,0,0,0,0,0,0,0,0,0,0,0,0,0,0,0,0,0,0,0,0,0,0,0,0,0,0,0,0,0,0,0,0,0,0,0,0,0,0,0,0,0,0,0,0,0,0,0,0,0,0,0,0,0,0,0,0,0,0,0,0,0,0,0,0,0,0,0,0,0,0,0,0,0,0,0,0,0,0,0,0,0,0,0,41,38,30,28,27,27,26,25,25,23,23,23,23,22,22,20,18,17,16,15,14,14,14,11,11,10,11,10,11,10,11,10,10,8,8,8,9,10,8,8,8,8,8,6,5,6,7,5,5,5,5,5,5,7,5,5,6,5,6,6,5,5,6,5,5,7,5,6,5,6,6,5,7,7,7,7,6,5,6,6,7,5,7,5,5,5,6,5,0,0,0,0,0,0,0,0,0,0,0,0,0,0,0,0,0,0,0,0,0,0,0,0,0,4,0,0,0,0,0,0,0,0,4,0,0,0,0,0,0,0,0,4,0,0,0,0,0,4,0,0,0,0,0,0,0,0,0,0,0,0,0,2,0,0,0,0,0,0,0,0,0,0,0,0,0,0,0,0,0,0,0,0,0,0,0,0,0,0,0,0,0,1,0,0,0,0,0,0,0,0,0,0,0,0,0,0,0,0,0,0,0,0,0,0,0,0,0,0,0,0,0,0,0,0,0,0,0,0,0,0,0,0,0,0,0,0,0,0,0,0,0,0,0,0,0,0,0,0,0,0,0,0,0,0,0,0,0,0,0,0,4,0,0,0,0,0,0,0,0,4,0,0,0,0,0,0,0,0,0,0,0,0,0,0,0,0,0,0,0,0,0,0,0,0,0,0,0,0,0,0,0,0,0,0,0,0,0,0,0,0,0,0,0,0,0,0,0,0,0,0,0,0,0,0,0,0,0,0,0,0,4,0,0,0,0,0,0,0,0,0,4,0,0,0,0,0,0,0,0,0,0,0,0,0,0,0,0,0,0,0,0,0,0,0,0,0,0,0,0,0,0,0,4,0,0,0,0,0,0,0,0,0,0,0,0,0,0,0,0,0,0,0,4,0,0,0,0,0,0,0,0,0,0,0,0,0,0,0,0,0,0,0,0,0,0,0,0,0,0,0,0,0,0,0,0,0,0,0,0,0,0,0,0,0,0,0,0,0,0,0,0,0,0,0,0,0,0,0,0,0,0,0,0,0,0,4,0,0,0,0,0,0,0,0,0,0,0,0,0,0,0,0,0,0,0,0,0,0,0,0,0,0,0,0,0,0,0,0,0,0,0,0,0,0,0,0,0,0,0,0,0,0,0,0,0,0,0,0,0,0,0,0,0,0,0,0,0,0,0,0,0,0,0,0,0,0,0,0,0,0,0,0,0,0,0,0,0,4,0,0,0,0,0,0,0,0,0,0,0,0,0,0,0,0,0,0,0,0,0,0,0,0,0,0,0,0,0,0,0,2,0,0,0,0,0,0,0,2,0,0,0,0,0,0,0,0,0,0,0,0,0,0,0,0,0,0,0,0,0,0,1,0,0,0,0,0,0,0,0,0,0,1,0,0,0,0,0,0,0,0,0,0,0,0,0,0,0,0,0,0,0,0,0,0,0,0,0,0,0,0,0,0,0,0,0,0,0,0,0,0,0,0,0,0,0,0,0,0,0,0,0,0,0,0,0,0,0,0,0,0,0,0,0,0,0,0,0,0,1,1,0,0,0,0,0,0,0,0,0,0,0,0,0,0,0,0,0,0,0,0,0,0,0,0,0,0,0,0,0,0,0,0,0,0,0,0,0,0,1,0,0,0,0,0,0,0,0,0,0,0,0,0,0,0,0,0,0,0,0,0,0,0,0,0,0,0,0,0,0,0,0,0,0,0,0,0,0,0,0,0,0,0,0,0,0,0,0,0,0,0,0,0,0,0,0,0,0,0,0,0,0,0,0,0,0,0,0,0,0,0,0,0,0,0,0,0,0,0,0,0,0,0,0,0,0,0,0,0,0,0,0,0,0,0,0,0,0,0,0,0,0,0,0,0,0,0,0,0,0,0,0,0,0,0,0,0,0,0,0,0,0,0,0,0,0,0,0,0,0,0,0,2,0,0,0,0,0,0,0,0,0,0,0,0,0,0,0,0,0,0,0,0,0,0,0,0,0,0,0,0,0,0,0,0,0,0,0,0,0,0,0,0,0,0,0,0,0,0,0,0,0,0,0,0,0,0,0,0,0,0,0,0,0,0,0,0,0,0,0,0,0,0,0,0,0,0,0,0,0,0,0,0,0,0,0,0,0,0,2,0,0,0,0,0,0,0,0,0,0,0,0,0,0,0,1,0,0,0,0,0,0,0,0,0,0,0,0,0,0,0,0,0,0,0,0,0,0,0,0,0,0,0,0,0,0,0,0,0,0,39,33,32,32,30,30,26,24,21,20,19,17,17,16,13,13,12,10,10,10,11,10,9,8,8,9,8,5,6,5,5,5,5,5,7,6,5,6,6,6,5,6,5,6,5,7,5,5,5,5,5,7,6,6,5,7,6,6,6,6,7,5,6,5,5,5,5,1,3,0,0,0,2,0,4,0,0,0,1,2,0,0,0,0,0,0,0,0,3,0,0,3,0,1,0,0,0,0,0,3,0,1,0,0,0,1,0,0,0,1,0,0,0,3,0,0,0,0,0,0,0,0,1,3,0,0,0,0,0,0,0,1,0,4,0,0,1,2,0,0,0,0,0,0,0,2,0,0,0,1,0,0,2,0,4,0,0,1,0,0,0,3,0,0,4,3,0,1,3,0,0,1,4,0,0,0,3,0,3,0,0,3,2,0,0,0,0,2,0,0,0,2,0,3,1,0,1,0,0,0,0,0,0,4,0,0,3,0,0,0,1,0,1,0,0,0,0,0,0,4,1,0,0,0,0,0,0,0,0,0,1,0,0,0,0,2,1,0,0,3,0,2,1,0,0,0,0,0,1,1,0,1,4,0,0,0,0,0,0,0,0,0,0,1,0,0,0,0,0,3,0,0,2,2,0,0,0,0,0,0,1,3,1,4,0,0,0,0,0,0,0,3,0,0,0,0,0,2,0,0,0,0,0,0,0,0,2,0,4,0,0,0,0,0,0,0,4,0,0,2,0,0,1,0,0,1,2,0,3,0,1,1,0,0,1,2,0,0,0,0,2,0,0,2,0,3,3,0,4,0,0,0,0,0,3,3,0,0,4,2,0,0,0,0,0,0,0,1,4,3,0,0,0,0,0,0,0,0,0,2,0,1,1,0,0,0,0,0,1,0,0,0,4,0,3,2,0,0,0,0,0,0,0,0,3,0,0,0,0,0,2,0,1,4,0,0,1,0,0,0,0,1,0,0,0,0,0,0,0,0,2,1,0,0,0,0,0,0,0,0,0,4,0,0,0,2,0,0,0,0,0,3,0,0,0,1,0,0,1,0,0,4,0,3,0,0,0,2,1,2,3,4,0,0,1,3,0,0,0,1,0,0,0,1,0,1,2,0,4,0,0,0,0,2,0,0,0,0,0,0,0,0,4,0,0,0,3,0,0,0,0,0,0,0,0,0,0,0,0,0,3,2,2,0,0,3,3,1,0,0,0,0,0,0,0,0,1,0,1,0,0,1,0,0,0,1,0,1,0,0,2,0,1,3,1,0,2,0,0,0,1,0,1,0,0,0,0,0,0,0,0,0,0,0,0,0,0,1,3,0,0,0,0,0,3,0,0,1,0,0,3,0,2,2,0,0,0,0,0,0,0,0,0,0,0,0,0,2,0,2,0,0,0,0,1,4,0,0,4,0,0,2,0,0,0,0,0,0,1,0,0,0,4,0,1,3,0,0,0,0,4,0,0,0,3,3,0,0,0,0,0,0,0,0,0,0,0,0,0,2,0,1,0,0,0,0,0,0,0,0,0,0,0,0,0,0,0,0,1,0,2,0,1,1,0,0,1,0,0,4,0,2,4,0,1,0,0,0,0,0,0,0,0,0,0,0,0,3,0,0,2,4,0,0,0,0,0,0,0,0,0,0,1,0,0,0,0,0,2,51,48,33,30,28,27,26,24,23,23,22,21,21,20,19,19,19,17,17,17,17,16,16,16,16,16,15,14,14,14,14,14,13,13,13,13,13,12,12,12,12,12,12,12,10,11,10,11,11,10,11,11,11,10,10,10,11,10,11,11,10,11,10,10,11,11,8,8,9,8,9,9,9,9,9,8,9,9,9,8,9,9,8,9,9,7,8,9,9,8,8,9,9,9,8,8,8,9,9,9,9,8,9,8,8,8,8,8,9,9,5,5,6,7,5,5,6,7,5,6,6,7,7,7,6,7,6,5,7,6,7,7,7,5,7,7,6,6,6,7,7,5,6,5,7,5,6,5,6,5,7,5,5,6,6,7,6,6,5,5,6,7,5,5,5,5,5,5,5,7,5,7,1,0,0,0,0,1,1,3,1,0,1,1,1,1,0,1,0,0,1,1,1,1,1,0,1,2,0,0,1,0,1,3,3,0,1,1,0,1,3,3,1,2,0,1,0,1,2,0,1,0,2,1,1,0,0,1,0,1,0,1,0,0,0,0,1,0,2,0,1,0,0,1,2,1,1,1,2,0,1,1,0,0,2,0,0,1,1,0,1,1,1,0,1,1,1,0,0,1,0,0,0,1,0,1,0,1,0,0,1,2,1,1,1,1,0,1,4,0,1,3,1,0,2,1,0,0,2,1,1,3,3,0,1,0,0,1,0,3,0,2,0,1,1,0,1,4,0,3,0,1,0,0,1,1,3,0,1,4,0,2,1,0,0,0,2,1,1,1,2,0,1,1,0,1,3,0,1,0,1,1,1,3,1,0,1,0,0,0,0,1,0,1,1,1,1,0,0,1,0,1,1,0,1,1,0,0,4,1,0,0,0,3,1,1,0,0,1,1,0,1,0,1,1,0,1,3,0,1,1,1,0,1,2,0,1,2,1,0,1,1,2,1,1,1,0,1,0,2,0,1,1,1,1,3,0,2,0,0,2,1,1,1,0,0,0,0,1,1,3,1,1,1,1,1,1,0,1,1,1,2,2,0,3,0,0,4,1,1,1,3,0,0,0,0,0,0,1,1,0,2,2,0,1,0,1,0,0,1,3,2,2,0,1,0,0,1,1,0,0,1,1,0,1,1,0,1,0,2,1,0,0,3,0,0,1,0,1,1,1,1,0,2,1,1,1,1,0,0,3,1,2,0,2,1,0,0,1,3,3,1,1,1,1,0,0,1,0,0,2,1,1,1,0,1,1,1,0,0,3,0,0,1,2,1,1,0,1,1,0,0,1,0,1,3,1,1,1,0,0,0,1,1,3,1,0,0,0,0,4,1,1,1,2,1,1,1,0,0,1,1,1,1,0,1,1,0,0,1,0,1,2,0,0,0,1,1,0,2,1,1,1,0,0,1,1,1,1,1,0,1,1,0,0,1,0,2,1,1,1,2,1,0,0,1,0,1,1,1,0,0,1,0,3,0,1,2,1,1,0,0,1,0,0,0,1,0,2,0,1,1,0,0,1,2,1,1,0,1,1,1,0,0,1,1,3,1,0,0,1,0,0,1,0,1,1,2,1,0,2,1,0,1,1,1,0,1,1,1,3,2,1,0,1,0,0,1,1,0,1,1,0,1,0,1,3,1,1,4,0,0,1,1,0,0,0,1,1,1,1,0,1,0,1,1,1,1,0,0,0,0,1,0,1,1,1,0,1,1,0,0,3,1,1,1,0,0,0,1,1,0,1,0,4,1,1,0,1,1,1,1,1,0,1,1,1,0,0,0,0,1,1,1,0,1,0,0,0,3,0,0,1,3,0,0,0,0,0,0,2,2,0,0,1,1,1,0,0,2,0,0,1,1,1,2,1,0,1,0,1,1,0,4,0,0,3,0,0,0,0,1,0,0,1,0,1,1,2,1,0,0,1,0,1,2,1,0,0,2,0,0,1,1,0,1,1,1,1,0,0,0,1,1,0,2,0,0,0,1,1,0,0,0,1,1,3,4,2,0,1,1,3,0,0,1,0,1,1,1,0,4,1,0,0,1,0,1,2,4,0,1,0,1,1,1,3,0,3,1,0,1,0,0,2,1,2,0,3,0,0,4,1,0,1,2,1,3,0,0,0,1,1,0,0,1,2,1,0,2,1,1,1,1,0,1,0,1,0,0,0,1,0,1,0,1,0,1,0,0,2,1,1,1,0,1,1,1,0,0,1,1,1,0,0,0,1,2,2,1,0,1,1,0,1,1,0,1,1,1,4,1,0,1,1,1,1,1,0,0,40,34,29,28,26,24,22,21,19,18,18,19,17,17,15,14,13,13,13,13,13,13,12,11,12,12,12,12,11,10,10,11,10,11,10,9,8,9,9,10,7,5,7,0,0,0,0,0,0,0,0,0,0,0,0,0,0,0,0,0,0,0,0,0,0,0,0,0,0,0,0,0,0,0,0,0,0,0,0,0,0,0,0,0,0,0,0,0,0,0,0,0,0,0,0,1,0,0,0,0,0,0,0,0,0,0,0,0,0,0,0,0,0,0,0,0,0,0,0,0,1,0,0,0,0,0,0,0,0,0,0,0,0,0,0,0,0,0,0,0,0,0,2,0,1,0,4,0,0,0,0,0,0,0,0,0,0,0,0,0,0,0,0,0,0,0,0,0,0,0,0,0,3,1,0,0,0,0,1,0,0,0,0,0,1,0,0,0,3,0,0,0,3,0,0,0,0,0,0,0,0,0,0,0,0,0,0,0,1,0,0,0,0,0,0,0,0,0,0,1,0,0,0,1,0,0,2,0,0,0,1,0,0,0,0,0,0,0,0,0,0,0,0,0,1,0,0,0,0,0,0,0,0,0,0,0,0,0,0,0,0,0,0,3,0,0,0,0,0,0,1,1,0,0,0,0,0,0,4,0,0,0,0,0,0,0,0,0,0,0,0,1,0,0,0,0,0,0,0,0,0,0,0,0,0,0,0,0,0,0,0,0,0,0,0,0,0,0,0,0,0,0,1,0,0,0,0,0,0,0,0,0,0,0,1,0,0,0,0,0,0,0,0,0,0,0,0,1,0,0,0,0,0,0,0,0,0,0,0,0,0,0,0,0,0,0,0,0,0,0,0,0,0,0,0,0,0,0,0,0,0,0,0,0,0,0,0,0,0,0,0,0,2,0,0,0,0,0,0,0,0,0,0,0,0,0,0,0,0,0,0,0,0,0,0,0,0,0,0,0,0,0,0,0,0,0,0,0,0,0,0,0,0,0,0,0,0,0,1,0,0,0,0,0,0,0,0,0,0,1,0,0,0,1,0,0,0,0,1,0,0,0,0,0,2,1,0,0,0,0,0,0,0,0,0,0,0,0,0,0,0,0,0,0,0,0,0,0,0,0,0,0,2,0,1,0,0,0,0,0,0,0,2,0,0,0,2,0,0,0,0,0,3,0,0,1,2,0,0,0,0,0,0,0,0,0,1,0,0,0,0,0,0,0,0,0,0,0,0,0,0,0,0,1,0,0,0,0,2,0,0,1,0,0,0,0,0,0,0,0,0,0,0,0,0,0,0,0,0,0,0,0,0,0,4,0,0,0,0,0,0,0,2,0,0,0,0,0,4,0,0,0,0,0,0,0,0,0,0,0,0,0,0,0,0,0,1,0,0,0,0,2,0,0,0,0,0,0,0,0,0,0,0,0,0,0,0,1,0,0,0,0,0,0,0,0,0,0,0,2,0,0,0,0,0,0,0,0,0,0,0,0,0,0,0,0,0,0,0,0,0,0,2,0,0,0,0,0,0,0,0,0,0,0,0,0,2,0,0,0,0,0,0,0,0,0,0,1,0,0,0,0,0,1,0,0,0,0,0,0,0,2,0,0,0,0,0,0,0,0,0,0,0,3,0,0,0,0,0,0,1,0,1,0,0,0,0,0,0,0,0,0,0,0,0,0,0,0,0,0,0,0,0,0,0,0,0,0,0,0,0,0,0,0,0,0,0,0,0,0,0,0,0,0,0,1,0,0,0,0,0,0,0,0,0,0,0,0,0,0,0,0,0,0,0,0,0,0,0,0,0,0,0,0,0,0,0,0,0,0,0,1,0,0,0,0,0,0,0,0,0,0,0,0,0,0,0,0,0,0,0,0,3,0,0,0,0,2,0,0,0,0,1,0,0,3,0,0,0,0,0,0,0,0,0,0,0,0,0,0,0,0,0,0,0,0,0,0,0,0,0,0,0,0,1,0,0,0,0,2,0,0,0,0,0,0,0,0,0,0,0,0,0,0,0,0,0,0,0,0,0,0,0,0,0,0,0,0,0,0,0,0,0,0,0,1,0,0,0,0,0,0,0,0,0,0,0,0,1,0,0,1,0,0,0,0,0,0,0,0,0,0,0,0,0,0,0,0,0,0,0,0,0,0,0,0,1,0,0,0,0,0,0,0,0,0,0,0,0,0,0,0,2,3,0,0,0,0,0,0,0,0,0,0,0,0,0,0,0,0,0,0,0,0,0,0,0,0,0,0,0,0,0,0,1,0,0,1,0,0,51,47,43,37,35,31,30,30,28,28,24,23,23,23,22,22,22,21,20,20,19,19,19,20,19,19,18,18,18,18,17,17,17,16,16,15,16,16,16,15,15,15,15,15,14,14,14,13,13,13,13,13,13,13,13,14,11,11,11,11,12,12,11,11,10,11,10,10,10,10,11,11,11,10,10,11,10,10,10,9,9,9,9,9,9,9,8,9,8,8,8,8,8,9,8,9,9,8,8,9,6,7,7,5,5,7,7,6,5,5,5,6,6,6,7,5,5,6,6,7,3,0,0,0,0,0,0,0,1,0,0,0,0,0,0,0,0,0,1,0,0,0,0,0,0,0,3,0,0,0,0,3,0,0,0,0,0,0,0,0,0,0,0,0,0,0,0,0,0,0,0,0,4,0,0,0,1,0,0,0,0,1,0,0,2,0,0,1,0,0,0,0,0,0,0,0,0,0,0,0,0,1,0,0,0,0,0,0,0,0,0,0,1,0,0,0,0,0,0,0,0,0,0,0,0,0,0,0,0,0,0,0,0,2,0,0,1,0,0,0,0,0,0,0,0,0,0,0,0,0,0,0,0,0,0,0,0,0,0,0,1,0,0,0,0,0,0,0,1,0,0,0,0,0,0,0,0,0,3,0,0,0,0,1,0,1,0,0,0,0,3,0,0,0,0,0,0,0,0,0,0,0,0,0,0,0,3,0,0,0,0,0,1,0,0,0,0,0,0,0,0,0,0,0,0,0,0,0,0,0,0,0,0,0,0,0,0,1,1,0,0,1,3,1,0,0,0,0,0,0,0,0,0,0,0,0,0,0,0,0,1,0,1,1,0,0,0,3,0,0,0,0,0,0,0,0,0,0,0,0,0,0,0,0,0,0,0,0,0,0,0,0,0,1,0,0,0,0,0,0,0,1,0,0,0,0,3,0,0,1,0,0,0,0,0,0,0,0,0,0,0,0,0,0,0,0,0,0,0,1,0,0,0,0,0,1,2,0,0,0,0,3,0,1,0,0,0,1,1,0,0,2,2,0,3,0,0,3,0,3,0,0,0,2,0,0,0,0,0,0,0,3,0,0,0,0,0,0,0,0,0,0,0,0,0,0,0,2,0,0,0,0,0,0,0,0,0,0,4,0,0,0,0,1,0,0,0,0,0,0,1,0,0,1,0,0,0,0,0,0,0,0,0,2,0,0,0,0,0,0,0,0,0,1,0,0,0,0,0,0,1,0,0,0,0,0,0,3,0,0,0,0,0,0,1,0,0,0,0,0,0,0,0,0,0,0,0,0,0,0,0,0,0,0,0,0,0,2,0,0,0,0,0,0,0,0,0,0,1,0,0,0,0,0,0,0,0,0,0,0,0,0,0,0,0,0,0,0,0,0,0,0,0,0,0,0,0,0,1,0,0,0,0,0,0,0,0,0,0,0,0,0,0,0,0,0,0,0,0,1,0,0,0,0,0,0,0,2,0,1,0,0,0,0,0,0,0,0,0,0,0,0,0,4,0,0,0,1,0,3,1,0,0,0,0,0,0,0,1,0,0,3,0,2,0,1,0,0,0,0,0,0,0,0,0,0,0,0,0,0,1,0,1,0,0,0,0,0,0,0,0,0,0,2,0,0,0,0,1,1,0,0,0,0,0,0,0,0,0,0,0,0,0,0,0,1,0,0,0,0,0,0,1,0,0,0,1,0,0,0,0,0,0,0,0,0,0,0,2,0,1,0,0,0,0,1,0,0,0,0,0,0,0,0,0,0,0,0,0,1,0,0,0,0,0,0,0,1,0,0,0,0,1,0,0,0,0,0,0,0,0,0,0,1,0,0,0,1,0,0,0,0,0,0,0,0,0,0,0,0,0,0,0,0,0,0,0,0,0,0,2,0,1,0,0,0,1,0,0,0,0,0,0,0,0,0,0,0,0,0,0,0,0,0,0,0,0,3,0,0,0,0,1,0,3,0,0,0,0,0,0,0,0,0,0,0,0,0,0,0,0,0,0,0,1,0,0,0,0,0,0,0,0,0,0,0,0,0,0,0,0,0,0,0,0,1,0,4,0,1,3,0,0,0,0,0,0,0,0,0,0,1,4,0,0,0,0,0,0,0,0,0,0,0,0,1,0,3,0,0,0,0,0,4,0,0,0,0,0,0,0,0,3,0,0,0,0,0,0,0,0,4,0,0,3,0,0,0,0,0,0,0,1,0,0,0,0,0,3,0,1,0,0,0,0,0,0,4,0,0,0,0,0,0,0,1,0,0,0,0,55,43,17,16,15,14,12,11,10,11,11,10,9,9,9,8,8,5,5,6,5,6,0,0,0,2,0,0,0,0,0,0,0,0,0,0,0,0,0,0,0,0,0,0,0,0,0,0,0,0,0,2,0,0,0,0,0,1,0,0,0,0,0,0,0,0,0,1,0,0,1,0,0,0,0,0,0,0,0,0,0,0,0,0,0,1,0,0,0,0,0,0,0,0,0,0,0,0,0,0,0,0,0,1,0,0,1,0,0,0,0,0,0,1,0,0,0,0,0,0,0,0,0,0,0,0,0,0,0,0,0,0,0,0,0,0,0,0,0,1,0,0,0,0,0,0,0,0,1,0,1,2,0,0,0,1,1,0,0,0,0,0,0,3,0,0,0,0,0,0,0,0,0,0,0,2,0,0,0,0,0,0,0,0,0,1,0,0,0,0,0,0,0,0,0,0,0,0,0,1,0,0,0,0,0,0,0,0,0,0,0,0,0,0,0,2,0,0,0,0,0,0,0,0,0,0,0,0,0,0,0,0,0,0,0,0,0,0,0,0,0,0,0,0,0,0,0,0,0,0,0,0,0,0,0,0,0,0,0,0,0,0,0,0,0,1,0,0,0,0,0,0,0,2,0,0,0,0,0,0,1,0,0,0,0,0,0,0,0,0,0,0,0,0,0,0,0,1,0,0,0,2,0,0,0,0,0,0,0,0,0,0,0,0,0,0,0,0,0,0,0,0,0,0,0,0,0,0,4,0,0,0,0,0,0,0,0,0,0,0,0,0,0,0,0,0,0,0,0,0,0,0,0,2,0,0,0,0,0,0,0,0,0,0,0,0,1,0,0,0,0,0,0,0,0,0,0,0,0,0,0,0,2,0,0,0,0,0,3,0,0,0,0,0,0,3,1,0,0,0,0,0,0,0,0,0,0,0,0,0,0,0,0,0,0,1,0,0,0,0,0,0,0,0,0,0,0,0,0,0,0,0,2,0,0,0,0,0,0,0,0,0,0,0,0,0,0,0,0,0,0,0,0,0,0,0,0,0,0,0,1,0,0,0,0,0,0,0,0,0,0,0,0,0,0,0,0,0,0,0,0,0,0,0,1,0,0,0,0,0,0,0,0,0,0,0,0,0,0,0,0,0,0,0,1,0,0,0,0,0,0,0,1,0,0,0,1,0,0,0,0,0,0,0,0,0,0,0,0,0,0,0,0,0,0,0,0,0,0,0,0,0,0,0,0,0,0,0,1,0,0,0,0,0,0,0,0,0,0,0,1,0,0,0,0,0,0,0,0,0,0,0,0,0,0,0,0,0,0,0,0,0,0,0,0,0,0,0,0,0,0,0,0,0,0,0,0,1,0,0,0,0,0,0,0,0,0,0,0,0,0,0,0,0,0,0,0,0,0,1,0,0,0,0,0,1,0,0,0,0,0,0,0,0,0,0,0,0,0,0,0,0,0,0,0,0,0,0,48,38,37,31,30,29,28,27,26,24,22,22,19,18,18,17,16,15,15,15,15,14,14,14,14,15,13,13,13,11,12,12,11,10,11,11,10,10,11,11,11,11,10,9,8,9,8,7,8,8,9,8,8,9,9,8,9,8,8,8,9,8,8,9,8,9,8,8,8,9,9,7,6,5,5,5,6,7,6,5,5,6,6,5,6,5,5,7,5,6,5,5,5,5,6,5,6,5,5,6,5,6,5,5,7,5,5,5,5,7,5,5,6,6,5,0,0,1,0,0,4,0,3,0,0,1,0,0,2,0,0,0,0,0,0,0,0,0,0,0,0,2,0,0,1,0,0,0,0,0,0,0,0,0,0,0,0,0,0,1,0,0,0,0,0,0,0,0,1,0,0,0,0,0,0,0,0,0,0,0,0,0,0,0,4,0,0,0,0,0,0,0,0,1,0,0,4,0,0,0,0,2,0,4,0,0,0,0,0,0,2,0,0,3,0,0,0,0,0,0,2,0,0,0,0,0,0,0,0,0,0,0,0,2,2,0,3,0,2,0,0,0,0,0,2,0,0,0,0,4,0,0,0,0,0,0,0,0,0,0,0,0,1,1,0,0,3,0,0,1,0,0,1,0,0,0,0,0,0,0,0,0,1,0,0,0,0,0,0,0,0,1,0,1,2,0,0,4,0,0,1,0,0,0,0,0,0,0,0,0,0,0,3,1,0,2,0,1,1,0,0,0,0,0,0,0,0,1,0,0,0,0,0,0,0,0,0,0,0,0,0,0,1,0,0,0,0,3,0,0,0,0,1,3,0,0,0,0,0,4,2,0,0,0,0,0,0,0,0,0,0,1,0,0,1,0,0,1,0,0,0,0,4,0,0,0,0,0,2,0,0,0,0,0,0,0,0,0,0,0,1,0,0,0,0,0,0,0,1,0,0,0,2,0,0,0,0,0,0,0,0,0,0,0,0,0,0,0,0,0,1,0,4,0,0,0,0,0,0,0,0,0,0,0,0,0,0,0,0,0,0,0,0,0,0,0,0,0,0,0,0,0,0,0,4,0,0,0,0,2,0,0,0,0,1,0,0,0,0,0,0,3,0,0,0,0,0,0,0,0,0,0,0,2,0,0,1,0,0,0,0,0,0,0,2,0,0,0,1,0,0,0,0,0,3,0,0,0,0,0,0,1,0,0,4,0,0,0,0,1,0,0,2,0,2,0,0,0,0,1,1,0,0,0,0,0,0,0,0,3,0,0,1,0,0,0,0,0,0,0,0,0,0,0,0,0,0,0,0,0,0,0,0,0,0,0,1,0,0,1,0,0,0,0,0,0,1,0,2,0,0,0,0,0,2,0,0,0,0,0,0,0,3,0,4,0,0,1,0,1,0,0,0,1,2,0,0,0,0,0,3,0,0,0,0,0,0,0,0,0,2,0,0,0,1,0,2,0,0,0,0,0,1,0,0,0,2,0,0,0,0,0,0,0,0,0,0,0,0,0,0,0,0,0,0,0,0,3,0,0,0,0,0,0,0,0,0,0,1,0,1,0,0,0,2,0,0,0,0,0,0,0,0,0,0,2,0,0,0,0,0,0,0,1,0,0,1,0,0,0,0,0,4,0,0,0,0,0,2,0,0,0,0,0,1,0,0,0,1,0,0,0,0,0,0,0,0,0,0,0,0,0,0,0,0,0,0,0,2,0,0,0,0,0,0,0,0,2,0,0,0,0,3,1,1,0,0,0,0,0,2,0,0,0,0,0,0,0,0,0,1,1,0,0,3,0,0,0,0,0,0,0,1,0,0,0,0,0,0,4,0,0,0,0,0,0,0,0,0,1,0,1,2,0,0,0,0,2,0,0,0,0,0,0,0,0,0,0,0,1,0,1,0,0,0,0,0,0,0,0,1,0,0,0,0,1,0,0,0,0,0,0,0,0,0,1,2,0,0,1,0,0,1,0,0,0,1,0,0,0,1,0,1,0,0,3,3,0,0,0,0,0,0,0,0,0,2,0,0,0,0,0,0,2,0,0,0,0,0,0,2,0,3,0,1,0,0,0,0,0,0,0,0,0,0,0,0,0,0,0,0,0,0,0,1,0,3,0,0,0,0,0,0,0,0,0,0,0,0,4,0,0,0,0,1,0,0,0,0,0,0,0,0,0,0,0,3,0,0,0,0,0,0,3,0,0,0,0,0,0,0,4,0,0,0,0,0,0,0,0,0,0,0,0,0,0,2,0,0,0,0,1,0,0,2,1,0,4,0,0,50,36,33,28,27,26,24,23,23,20,20,17,18,17,17,16,11,12,12,11,9,8,6,5,6,5,5,6,5,5,5,0,0,0,0,0,0,0,0,0,0,0,0,0,1,0,0,0,0,0,0,0,0,0,0,0,0,1,0,0,1,0,0,0,0,0,0,4,1,0,0,0,0,0,0,0,0,0,0,2,0,0,0,0,0,0,0,0,0,0,0,0,0,1,0,0,0,0,0,0,0,0,0,1,2,0,0,0,0,0,0,0,0,0,0,0,0,3,0,0,0,0,0,0,0,0,0,0,3,0,0,0,0,0,0,0,0,0,0,2,0,0,0,0,0,0,0,0,4,0,0,0,0,0,0,0,0,0,3,0,0,0,0,0,0,1,0,0,0,0,0,0,0,0,0,0,0,0,0,0,0,0,0,0,0,0,0,0,0,0,0,0,0,0,0,0,0,1,0,0,0,0,0,0,0,0,0,2,0,0,0,0,0,0,0,0,0,0,0,1,0,0,0,0,0,0,0,0,0,0,0,2,0,0,0,0,0,0,0,0,0,0,0,0,0,0,0,0,0,0,0,0,1,0,1,0,0,0,0,0,0,0,0,0,0,0,0,0,0,0,0,0,0,0,1,2,0,0,0,1,1,0,0,0,0,0,0,0,0,0,0,0,0,0,1,0,0,0,0,0,0,0,0,0,0,0,2,0,0,0,0,0,0,0,0,0,1,0,0,0,0,0,4,0,0,0,0,0,0,1,0,0,0,0,0,0,0,0,0,0,1,0,0,3,0,0,0,0,0,0,0,0,0,0,0,0,1,0,1,0,0,0,0,0,0,0,0,0,0,0,0,0,0,0,0,0,0,0,0,0,0,0,3,0,0,1,0,0,0,0,0,3,0,0,0,0,0,0,0,0,0,0,0,0,0,0,0,0,0,0,0,0,0,0,0,0,2,0,0,0,0,0,0,0,0,0,1,0,0,0,2,1,0,0,2,0,0,0,0,0,0,0,0,0,0,0,0,0,0,0,0,1,0,0,0,0,0,0,0,0,0,0,0,0,0,0,0,0,0,0,1,0,0,0,0,0,0,0,0,0,0,0,0,0,0,0,0,0,0,0,1,0,4,0,0,0,0,0,0,1,0,0,0,2,0,0,0,0,0,0,0,4,0,0,0,0,0,0,0,0,0,0,0,0,0,0,0,0,0,0,0,0,0,0,0,0,2,0,0,0,0,0,0,0,0,0,0,0,0,0,0,0,0,0,0,0,0,0,0,0,0,0,0,0,0,0,0,0,0,0,0,0,0,0,0,1,0,0,0,0,0,0,0,0,1,0,0,0,0,0,0,0,0,0,0,0,0,0,0,0,0,0,0,0,0,2,0,0,0,0,0,0,0,0,0,0,0,0,0,0,0,0,0,0,0,0,0,3,3,0,0,0,0,0,0,0,4,0,0,1,0,1,0,0,0,2,0,0,0,0,0,0,0,0,1,0,0,0,0,0,0,0,0,0,0,0,0,0,0,0,3,0,0,0,0,0,0,0,0,0,2,0,0,0,0,0,0,0,0,2,0,0,0,0,0,0,1,0,0,0,0,0,0,0,0,1,0,0,0,0,0,0,0,0,2,0,0,0,1,0,0,2,0,0,2,0,0,0,0,0,0,0,0,2,0,0,0,0,0,0,0,0,0,0,0,0,0,0,0,1,0,0,0,0,0,0,0,1,0,0,0,0,0,0,0,0,0,1,42,36,32,31,26,22,21,20,20,19,19,18,17,17,16,15,14,12,11,12,12,10,10,10,10,11,8,8,8,8,8,8,8,9,8,9,8,8,9,8,7,7,5,7,5,7,5,6,5,5,6,7,5,5,7,5,7,7,6,6,5,5,7,5,6,7,5,5,6,6,6,5,5,0,0,0,0,0,0,0,0,0,1,0,0,1,2,0,0,4,0,1,1,0,0,0,0,0,0,0,0,0,0,0,0,0,4,1,0,0,0,0,0,0,0,1,0,0,1,1,0,0,1,1,0,0,1,0,4,0,0,0,4,0,0,0,4,4,0,0,0,0,3,1,0,0,0,0,0,0,0,3,4,0,0,0,0,0,0,1,0,0,1,0,0,0,0,0,0,1,0,0,0,0,0,0,0,0,2,0,0,0,0,0,3,0,0,1,0,0,0,0,1,3,4,0,0,0,0,0,0,0,0,0,0,0,1,0,0,0,0,0,0,3,0,0,0,0,0,0,0,0,0,0,0,0,0,0,0,1,0,0,0,2,1,0,0,0,0,0,0,0,0,0,0,0,0,0,0,0,0,1,1,0,0,0,0,0,0,0,0,0,1,0,1,0,0,1,1,0,0,3,0,3,1,1,1,0,3,0,0,0,0,0,0,0,0,0,0,0,0,0,0,0,0,0,0,0,0,0,0,1,0,1,0,1,0,0,0,0,0,1,1,0,0,0,0,0,0,0,0,2,0,0,0,0,0,0,0,4,0,0,0,0,0,0,0,0,0,0,0,1,0,0,0,1,0,0,0,3,0,1,4,0,0,0,0,0,0,0,1,0,1,0,0,1,3,0,0,0,0,0,0,0,3,4,0,0,0,0,1,0,0,0,0,1,0,1,0,4,0,1,0,0,0,0,0,0,0,0,0,0,2,0,0,1,0,0,0,0,0,0,1,1,0,0,0,0,1,0,0,0,1,1,0,0,0,0,0,0,1,0,0,3,0,0,0,0,1,0,0,0,0,1,0,1,0,0,0,0,0,0,1,0,3,0,0,0,0,1,0,0,1,0,0,0,1,0,0,0,0,1,0,0,0,0,0,0,0,0,1,0,1,1,0,0,0,0,0,3,0,0,0,0,0,1,1,0,1,0,2,0,0,0,1,0,0,0,1,0,0,0,0,0,0,4,0,1,0,0,0,1,0,0,0,0,0,1,4,0,0,0,0,2,1,0,0,1,0,0,0,1,0,0,0,0,0,0,0,0,0,0,0,0,0,0,0,0,0,0,0,0,1,3,0,0,0,0,4,0,0,2,0,0,1,0,0,1,0,0,0,1,0,0,0,0,0,0,0,0,0,0,1,2,0,0,1,0,0,0,4,0,0,0,0,0,1,0,4,1,0,0,4,0,0,0,0,1,4,0,4,0,0,0,0,0,0,1,0,0,0,0,0,0,0,0,0,0,0,0,1,0,0,0,0,0,0,0,0,0,0,1,0,0,1,0,0,0,0,0,0,0,0,0,0,0,0,0,0,0,1,0,0,0,0,0,3,2,0,0,0,0,0,1,1,1,1,0,1,0,1,0,0,1,0,0,0,4,0,0,0,0,0,1,3,0,0,0,0,0,0,0,0,0,0,1,2,0,0,0,0,0,0,1,0,0,0,0,0,2,0,3,0,0,0,0,0,0,1,1,0,0,0,1,0,1,0,0,1,1,0,0,0,0,0,0,0,0,1,3,0,2,0,0,0,0,3,0,0,0,1,0,1,0,0,0,1,0,0,1,0,0,1,0,0,0,0,0,0,1,1,0,0,0,18,5,5,1,1,2,3,1,0,1,3,3,1,1,1,0,2,0,1,0,4,1,1,1,0,4,1,0,65,53,53,51,51,47,45,42,40,36,36,36,35,34,34,33,33,33,33,32,31,30,30,29,29,29,29,29,29,28,27,27,26,26,26,26,26,26,26,24,24,24,24,24,23,23,23,23,22,22,22,22,21,21,21,21,21,20,20,21,20,20,20,20,19,19,20,19,19,19,19,19,19,19,19,18,18,18,18,17,17,17,17,17,17,17,17,17,17,16,16,17,16,16,17,16,16,17,17,17,17,16,15,16,16,16,16,16,16,15,16,16,16,16,15,15,16,15,16,15,15,15,15,15,15,15,15,15,15,15,15,15,15,15,14,14,14,14,14,14,14,14,14,14,14,14,13,13,13,13,13,13,13,13,13,13,13,13,12,13,13,13,13,13,13,13,13,13,11,11,12,12,12,12,12,12,12,11,11,12,12,12,12,11,11,12,12,12,11,12,12,11,11,11,10,11,10,10,10,11,11,10,10,11,10,10,10,10,10,10,10,11,10,10,11,10,11,11,11,11,10,11,11,11,11,10,11,10,10,10,11,10,11,10,10,10,10,10,10,10,11,11,11,11,10,11,9,8,9,9,9,8,9,9,9,8,9,9,8,9,8,9,9,8,8,9,8,8,9,9,8,9,9,8,9,8,9,8,8,9,9,8,9,9,9,9,8,9,8,9,8,7,7,5,5,7,6,6,5,6,6,0,0,0,0,0,0,0,0,0,0,2,0,2,0,0,0,0,0,0,0,0,1,0,0,0,0,0,0,1,0,0,2,3,2,0,0,0,3,2,0,0,0,0,0,0,0,0,0,0,4,0,0,0,0,0,0,2,0,0,0,0,0,0,0,0,0,0,0,0,0,2,0,0,0,0,0,0,0,0,1,0,0,2,0,0,0,0,0,0,0,0,0,0,0,0,0,0,0,0,0,0,0,0,0,4,0,0,0,0,0,1,0,0,0,0,0,0,0,0,0,0,0,2,0,0,0,0,0,0,0,0,0,0,0,3,0,0,0,0,0,0,0,0,0,0,0,0,0,0,0,0,0,0,2,0,0,0,0,1,0,0,0,0,0,0,0,0,0,1,0,0,0,0,2,0,0,2,0,0,0,0,0,0,0,0,0,0,0,3,0,0,1,0,0,0,4,0,0,0,0,0,0,3,0,0,0,0,0,0,1,0,0,0,0,0,0,0,0,0,0,0,0,2,0,1,0,0,2,0,0,0,0,0,0,0,2,0,0,0,0,0,1,0,0,0,0,2,0,0,0,0,0,2,0,0,0,0,0,0,0,0,0,0,0,0,0,0,0,3,0,0,1,2,0,2,0,0,0,0,0,0,0,0,0,1,0,0,0,4,0,0,0,0,0,0,0,0,0,0,0,1,0,0,4,0,3,0,0,1,1,0,0,0,0,1,3,0,0,0,0,0,0,0,0,2,1,0,0,0,0,0,0,0,0,0,0,2,0,0,0,0,0,0,0,0,1,0,0,0,0,0,0,0,0,0,0,0,0,0,0,0,1,0,0,0,0,0,0,1,0,0,2,0,0,0,0,0,0,0,0,0,0,0,0,0,0,0,0,0,0,0,0,0,0,0,0,0,0,0,0,0,0,0,0,0,0,0,0,0,0,0,0,0,0,0,0,0,0,0,0,0,0,0,0,0,0,0,0,0,0,0,0,0,0,0,0,0,0,36,31,29,28,19,18,17,17,17,17,14,13,13,12,12,8,9,9,7,7,6,5,5,5,5,6,7,7,7,5,6,5,5,6,0,3,2,0,0,0,0,2,0,0,0,0,0,0,0,1,0,0,0,1,0,0,2,0,0,0,0,0,1,4,0,0,0,0,0,3,0,0,0,1,0,0,0,0,0,1,2,2,2,2,0,0,0,1,0,1,0,1,0,4,1,1,0,1,0,1,3,2,3,2,0,0,0,0,3,2,1,0,2,2,1,0,0,3,0,0,0,3,1,0,0,0,0,4,0,0,0,0,1,0,0,2,2,0,0,1,0,1,2,2,0,0,0,0,0,0,2,1,0,0,4,4,3,0,0,0,0,0,1,1,1,0,0,1,0,0,0,0,0,0,0,0,0,0,0,3,0,3,0,0,0,0,0,4,1,0,0,0,0,4,0,0,3,0,1,0,0,0,0,0,0,0,1,0,0,0,0,3,0,2,4,0,0,0,0,0,2,3,0,0,0,2,1,0,0,0,0,1,4,0,1,0,0,0,1,2,3,0,4,0,0,0,0,0,1,0,2,0,0,0,0,0,0,2,0,0,0,0,0,2,0,0,0,0,0,0,1,0,0,0,0,0,3,3,4,0,0,0,0,2,0,1,0,0,4,0,0,0,0,0,3,2,1,0,0,0,0,1,3,0,0,0,0,0,4,0,0,1,0,0,0,0,0,0,0,0,0,0,0,2,0,0,0,0,0,0,0,0,0,1,0,0,0,0,0,0,2,0,1,1,0,3,0,0,2,0,0,0,4,0,0,2,0,0,0,0,1,1,0,0,4,0,1,1,0,0,2,2,0,0,0,1,0,0,0,0,0,0,3,0,0,0,0,0,2,0,3,0,0,0,0,0,0,0,0,1,0,1,0,0,0,0,0,0,0,0,0,2,0,3,0,0,0,3,0,0,3,0,0,0,0,2,0,2,0,0,0,0,3,0,0,0,3,1,0,0,0,0,0,0,1,0,1,0,0,1,2,0,0,0,0,0,3,1,0,0,4,0,0,0,0,2,0,0,3,4,0,0,0,0,3,0,0,0,2,2,0,0,2,0,2,0,0,0,0,1,1,0,0,0,0,0,0,0,2,2,0,2,0,0,2,2,0,0,0,0,2,0,1,0,0,0,0,0,1,0,0,0,0,0,0,3,0,0,0,4,0,0,0,0,0,1,3,0,0,0,2,0,0,0,0,0,0,0,3,0,0,0,0,0,0,2,0,0,0,0,1,3,4,0,0,0,0,0,0,4,0,0,0,0,2,0,0,0,0,0,0,0,0,0,0,0,0,0,0,0,0,0,0,0,0,0,0,0,0,0,0,0,0,0,0,0,0,0,0,0,0,0,0,0,0,0,0,0,0,1,0,0,0,0,0,0,0,0,1,0,0,0,0,3,0,0,0,0,0,0,0,0,0,0,0,0,0,0,0,0,0,0,1,0,0,0,51,42,41,40,36,34,28,28,27,25,25,25,23,23,23,21,20,20,19,19,19,19,19,18,18,18,18,17,17,17,17,17,17,17,17,16,16,16,15,15,15,15,14,14,14,14,14,14,14,15,13,13,13,13,13,13,13,13,12,12,11,12,12,12,12,12,11,11,11,12,12,11,12,11,10,11,10,10,10,10,10,10,11,10,10,11,9,9,9,9,8,9,9,8,9,9,8,8,9,8,9,8,9,8,9,8,6,5,7,5,5,5,5,6,7,5,7,6,5,5,6,6,6,7,7,5,6,5,6,5,6,5,7,5,5,5,5,5,6,7,6,5,6,6,0,0,1,0,0,0,0,0,0,0,1,0,0,0,0,0,1,0,0,0,0,0,1,0,2,0,0,0,0,1,0,0,0,0,0,2,2,0,0,0,0,0,0,1,0,2,0,0,0,0,0,4,0,0,0,0,0,1,0,0,0,0,0,0,0,0,0,3,0,0,0,0,0,0,0,0,0,0,0,0,0,0,0,0,0,1,0,1,0,0,0,0,2,0,0,0,0,0,0,0,0,1,1,0,0,0,0,1,2,0,0,0,0,0,0,0,0,0,0,0,0,0,0,0,0,0,3,1,0,1,0,0,0,1,0,0,0,0,1,0,0,0,0,0,0,0,0,0,1,0,1,0,0,0,1,1,0,3,0,0,0,0,0,0,0,0,0,0,0,0,0,0,0,0,1,0,1,0,0,0,1,1,0,0,0,2,0,0,0,0,0,0,0,0,0,0,0,3,0,2,0,0,0,0,0,0,0,0,1,1,1,0,0,0,0,0,0,3,0,0,0,0,1,0,0,1,0,0,0,1,1,0,0,0,0,0,0,0,0,0,0,0,0,0,0,0,0,0,3,0,0,0,0,0,0,0,0,0,0,0,0,0,0,0,0,0,0,0,0,4,1,0,0,0,0,0,3,2,0,0,0,0,0,0,0,0,0,1,0,0,0,0,0,0,1,0,0,0,0,0,0,0,0,0,0,0,1,0,0,1,0,0,0,0,0,2,0,1,0,0,0,0,0,1,1,0,1,0,0,0,0,0,1,0,0,0,0,0,0,0,0,0,0,0,0,0,0,3,0,0,0,0,0,0,0,0,0,0,0,0,0,0,0,0,0,0,0,0,0,2,0,0,0,0,0,0,0,0,0,0,0,0,0,0,0,0,0,0,0,0,1,0,0,1,1,0,1,0,0,0,0,3,0,0,0,0,0,0,1,0,0,0,0,0,0,0,1,0,0,0,0,1,0,0,0,0,0,0,0,0,0,0,0,1,0,0,0,0,0,0,1,0,0,0,0,0,1,0,0,0,0,0,0,0,0,0,1,0,0,0,0,0,1,0,2,0,0,1,0,0,1,0,0,0,0,0,0,0,0,0,0,0,0,0,0,0,0,0,0,0,0,0,0,0,0,1,0,0,0,0,0,1,0,0,0,0,0,0,0,0,0,0,0,0,0,0,0,0,0,0,0,1,0,0,0,0,0,3,0,0,0,0,0,0,0,0,1,0,0,0,0,0,0,0,0,0,0,1,0,0,0,0,0,1,0,0,1,1,0,0,0,1,0,0,0,1,1,0,0,0,0,0,0,0,0,0,0,4,0,0,0,0,0,0,1,0,0,0,0,0,0,0,0,0,0,0,2,0,1,4,0,0,0,0,0,0,0,1,0,2,0,0,0,1,0,0,0,0,0,0,2,0,0,0,0,0,0,0,2,0,0,1,0,1,0,0,0,0,0,1,0,0,0,0,0,0,0,0,0,0,0,0,0,0,0,0,0,0,0,3,0,0,0,0,0,0,0,0,2,0,0,0,0,0,0,0,0,0,0,0,0,0,0,0,3,0,0,0,1,0,0,0,0,0,0,3,0,3,0,0,0,0,0,0,0,0,0,0,0,0,0,0,0,0,0,0,0,0,3,0,0,0,0,0,0,0,0,0,0,0,0,0,0,3,0,0,0,0,1,0,0,0,0,0,0,0,2,0,0,4,0,0,2,0,1,0,0,0,0,0,0,0,0,0,0,0,0,0,0,0,0,0,0,0,0,0,0,0,0,0,0,0,0,0,1,0,0,1,0,0,1,0,0,1,0,0,0,0,0,0,0,1,0,0,0,0,0,0,0,0,0,0,0,1,0,0,0,0,0,0,0,0,0,0,0,0,0,0,0,0,0,0,0,0,0,0,0,0,0,0,0,0,0,2,1,0,0,0,0,0,0,0,1,0,0,0,49,46,45,39,37,36,36,35,34,34,32,32,30,29,27,26,25,26,25,25,25,25,25,25,25,24,24,24,24,24,24,23,23,23,23,23,23,23,23,22,22,22,22,22,22,22,22,22,22,22,22,22,22,22,21,21,21,21,21,21,21,21,21,21,20,21,21,20,20,20,20,20,20,20,20,20,20,19,19,19,20,19,19,19,19,19,20,19,19,19,19,19,19,19,19,19,19,19,19,19,19,19,19,19,18,18,18,18,18,18,18,18,19,18,18,18,18,18,18,18,18,17,18,18,18,18,17,17,17,17,17,17,17,17,17,17,17,17,17,17,17,17,17,16,17,17,17,17,16,17,17,15,16,16,15,16,16,15,15,15,15,15,15,15,15,15,15,15,15,15,15,15,15,15,15,15,15,15,15,15,15,15,15,15,14,14,14,14,14,14,14,14,14,14,14,14,14,14,14,14,14,14,14,14,14,14,14,13,13,13,13,13,14,14,13,13,14,13,13,13,13,13,13,14,13,12,12,12,12,12,12,12,12,12,12,12,12,12,12,12,11,11,12,10,11,10,11,11,10,10,11,11,10,11,11,11,10,10,10,10,10,10,11,11,10,9,9,9,8,8,8,8,9,9,9,8,8,9,8,8,9,8,8,9,10,8,9,9,8,9,9,5,6,6,5,5,5,7,6,7,6,5,5,6,5,7,7,6,6,5,6,5,7,6,6,7,6,6,5,5,7,7,5,7,6,6,7,5,6,7,5,5,7,5,7,5,5,6,7,5,5,6,7,6,5,6,5,5,5,5,7,5,6,6,7,5,5,7,5,6,0,0,0,0,0,0,0,0,0,0,0,0,0,0,3,0,3,0,0,0,0,2,0,0,0,0,0,0,3,0,1,4,0,0,0,0,0,0,0,0,0,0,0,0,0,0,0,0,0,0,0,0,3,0,0,1,2,0,0,0,0,0,0,0,0,0,0,0,0,2,0,0,0,0,2,2,0,0,0,0,0,0,0,0,0,0,0,0,0,1,0,4,0,0,2,0,0,0,0,3,0,0,0,0,0,0,0,0,0,0,0,0,0,0,0,1,0,0,0,0,0,0,0,0,2,0,0,1,0,0,0,0,0,2,0,0,0,0,0,0,0,0,1,0,0,3,0,2,0,0,0,0,0,0,1,0,0,0,0,0,0,3,0,0,0,0,3,0,0,0,3,2,0,0,0,0,0,0,0,0,0,0,0,0,0,3,0,0,0,0,4,0,0,0,0,0,0,0,0,0,0,0,0,0,0,0,0,0,0,0,0,0,0,0,0,0,0,0,0,0,0,0,0,0,0,0,0,0,0,0,0,0,0,0,0,2,4,0,0,0,0,4,0,0,0,0,0,0,0,4,3,0,0,0,0,0,0,0,0,3,4,0,0,0,0,0,0,0,0,0,0,0,0,0,0,0,0,0,0,0,0,3,0,0,3,0,0,0,0,0,0,1,0,0,0,0,0,0,0,0,0,0,0,0,0,0,0,0,0,0,0,0,0,0,0,0,0,0,0,0,0,0,0,0,0,0,0,1,0,0,0,0,0,0,0,0,0,0,0,0,0,0,0,0,0,0,0,0,0,4,1,3,0,0,0,0,0,0,0,0,0,0,0,0,0,0,2,0,0,0,0,0,4,0,0,0,0,0,0,0,0,3,0,0,0,0,0,0,0,0,0,0,0,0,0,0,0,0,0,0,0,0,0,0,0,0,0,0,0,0,0,0,0,2,0,0,2,0,0,0,0,0,0,0,0,0,0,0,0,0,0,0,0,0,0,0,3,0,0,3,0,0,0,0,0,0,0,3,0,0,0,0,0,0,0,0,0,0,0,2,0,0,0,0,0,0,0,0,0,0,0,0,0,0,0,0,0,0,1,0,0,0,0,0,0,0,0,0,0,0,0,0,4,0,0,0,0,0,0,0,0,0,0,0,0,0,0,0,0,0,0,0,0,0,0,0,0,0,0,0,0,0,0,0,0,0,2,0,0,0,0,0,0,1,0,0,0,0,0,0,0,0,0,0,0,0,0,0,4,2,0,0,0,3,0,0,0,0,0,0,0,0,0,0,0,0,0,0,0,0,0,0,0,4,4,0,0,0,1,0,0,0,0,0,0,0,0,0,0,0,0,0,0,0,0,0,0,0,0,0,0,0,0,0,0,0,0,0,0,0,0,0,0,0,0,0,0,0,1,0,0,1,0,2,1,0,4,0,0,0,0,0,3,2,0,0,0,0,0,0,55,47,44,44,43,42,40,37,35,34,33,33,31,31,30,30,29,29,29,28,28,27,25,25,24,23,23,22,22,22,22,21,20,21,21,20,20,20,19,18,18,18,18,18,17,17,17,17,17,17,17,16,16,16,15,15,14,14,13,13,13,13,12,12,11,12,11,11,11,11,10,11,11,10,11,11,10,7,8,9,8,8,8,8,9,8,7,8,8,7,7,5,7,5,6,5,7,7,5,7,5,5,5,6,6,6,5,6,5,7,5,6,6,7,7,6,5,5,6,7,7,6,5,7,5,7,5,6,6,5,5,5,6,5,5,5,7,6,6,7,5,5,5,7,7,0,0,4,3,0,0,0,0,3,0,4,0,0,4,0,0,1,0,0,2,0,0,0,0,0,0,0,0,0,0,0,0,0,0,0,3,3,0,0,0,3,3,0,0,0,3,0,0,0,0,0,0,0,0,2,0,0,4,0,4,0,0,0,2,0,0,0,0,0,0,0,0,0,0,5,1,0,0,0,0,0,4,0,0,0,0,2,0,0,0,0,0,1,0,0,3,4,0,0,3,0,3,1,0,0,2,0,0,0,0,4,1,0,0,4,0,0,0,0,0,0,0,0,0,0,0,0,0,0,0,0,0,0,3,0,0,0,0,0,0,1,0,1,0,0,0,0,0,0,0,0,0,0,0,0,0,0,0,3,0,0,0,0,0,0,0,0,4,0,0,1,0,0,0,4,0,0,0,0,0,0,0,0,0,1,0,0,3,0,0,4,0,0,0,3,0,0,4,0,0,1,0,0,0,0,1,0,0,0,3,0,0,2,0,0,0,0,0,0,0,0,0,0,0,0,0,0,0,0,0,0,0,0,3,0,0,4,0,0,0,0,0,0,2,0,0,2,0,1,0,2,0,0,0,0,0,0,0,0,0,0,0,0,0,1,0,0,0,0,0,2,4,0,0,1,0,0,3,0,0,0,0,0,0,3,0,0,4,1,4,0,0,0,2,1,0,1,1,0,0,0,0,4,0,1,1,0,0,0,0,0,1,0,0,0,0,0,0,0,0,0,0,0,0,0,0,0,0,0,0,0,3,0,0,0,0,0,1,4,0,0,0,0,0,0,2,0,0,0,0,0,0,3,4,0,0,0,0,0,0,4,0,0,0,3,0,0,0,0,0,4,0,0,0,0,0,0,2,0,0,4,0,4,0,0,0,0,2,0,3,4,3,0,4,0,0,0,0,0,0,0,0,0,0,0,2,0,0,0,2,0,1,0,4,2,0,3,0,0,0,0,0,0,0,0,0,0,4,4,0,4,0,0,0,0,0,4,0,0,0,1,0,4,0,0,0,0,4,0,0,4,0,0,0,0,0,0,2,0,0,2,1,2,4,1,0,0,0,0,4,0,3,0,0,4,2,0,0,0,0,4,0,0,0,0,0,0,0,0,0,0,0,1,0,4,3,0,1,0,4,4,0,0,0,4,0,0,4,0,0,1,0,0,0,2,0,0,0,0,0,0,0,0,0,0,0,0,0,0,0,0,0,0,1,0,0,0,0,0,0,0,0,0,0,0,0,0,0,0,0,0,0,0,0,0,0,0,0,0,0,0,0,0,0,0,0,0,0,0,0,0,0,0,0,0,0,0,0,0,0,0,0,0,0,0,0,0,0,0,0,0,0,0,0,0,0,0,0,0,0,0,0,0,0,0,0,0,0,0,0,0,0,0,0,0,0,0,0,0,0,41,38,35,24,20,18,17,17,17,17,17,16,16,14,14,13,13,13,11,12,12,12,12,12,12,11,12,12,11,11,10,10,11,10,11,11,10,11,10,11,10,10,9,9,8,8,9,10,9,8,8,8,9,9,9,8,9,8,9,9,9,7,9,8,9,8,8,6,6,6,6,6,7,7,7,5,7,5,7,5,5,6,7,5,7,7,7,6,6,7,5,7,7,7,6,7,6,7,0,0,0,0,0,0,0,0,4,1,0,0,0,0,0,0,0,3,1,0,4,0,0,0,0,0,0,2,0,0,0,0,0,0,0,0,0,0,0,0,0,0,3,1,0,0,1,0,1,1,0,0,3,0,4,0,0,0,0,1,0,0,0,0,0,3,1,0,0,1,0,0,0,0,0,1,0,0,0,1,1,0,4,0,2,0,0,0,0,0,0,2,2,0,2,0,0,1,0,0,0,2,4,0,2,0,0,0,0,4,0,0,0,0,0,0,0,1,0,0,1,2,0,0,0,0,0,0,0,0,1,0,2,0,1,0,0,0,0,0,4,0,0,1,0,1,2,0,0,4,1,0,0,0,0,2,2,0,2,0,0,1,0,0,0,2,0,4,4,0,0,0,0,0,0,0,0,0,4,1,3,0,0,0,0,0,0,4,0,0,3,1,0,0,3,0,0,0,0,0,0,0,1,0,0,0,0,0,0,0,3,0,0,0,0,1,3,0,1,1,0,1,0,0,0,0,0,0,0,0,0,0,0,2,2,1,1,0,0,0,0,0,0,0,0,3,0,0,0,2,0,0,3,0,0,1,1,2,0,0,0,0,0,0,0,4,2,0,0,0,0,0,0,0,0,0,0,0,0,0,0,0,0,0,0,0,2,0,0,1,0,0,4,0,0,0,0,0,0,4,0,0,0,0,0,1,0,1,0,0,0,2,0,0,0,1,0,0,0,0,0,0,0,0,0,3,0,2,0,0,0,1,0,0,0,0,0,0,2,0,0,0,0,0,0,0,4,0,0,0,0,2,0,0,0,0,0,0,2,3,0,0,0,0,1,0,4,1,0,0,0,0,1,2,0,0,0,0,0,4,0,0,0,1,2,0,0,0,0,0,0,4,0,0,0,0,2,0,2,4,0,0,0,3,0,0,0,3,0,3,0,4,0,0,0,4,0,3,0,0,0,3,0,1,0,0,0,0,0,0,0,0,0,0,0,0,0,1,0,0,0,0,0,0,0,0,0,0,0,0,0,0,0,0,0,0,0,0,0,0,0,0,0,0,0,0,0,0,0,0,0,0,0,0,0,0,0,0,0,1,0,0,1,0,0,0,0,0,0,0,0,0,0,0,0,0,0,0,0,0,0,0,0,0,0,0,0,0,0,0,0,0,0,0,0,0,0,0,0,0,0,0,0,0,0,0,0,0,0,0,0,0,0,0,0,0,0,0,0,0,0,0,0,0,0,0,0,0,0,0,0,0,0,0,0,0,1,0,0,0,0,0,0,0,0,0,0,0,0,0,0,0,0,0,0,0,0,0,0,1,0,0,0,0,0,0,0,0,0,0,0,0,0,0,0,0,0,0,53,52,43,40,39,38,37,36,34,33,33,31,31,30,29,28,27,27,27,27,26,26,25,25,25,25,25,25,25,24,25,24,23,24,24,23,23,23,23,22,22,22,22,22,22,22,22,22,21,21,21,21,21,20,20,20,19,19,19,18,19,18,18,18,18,18,18,18,18,18,18,17,17,17,17,17,17,16,17,16,17,16,17,17,17,16,16,16,16,15,16,15,16,16,16,16,15,15,15,15,15,15,15,15,15,15,15,15,14,14,15,14,14,14,14,14,14,14,14,13,13,14,14,13,13,13,13,14,13,13,12,11,11,12,12,11,12,12,12,10,10,10,11,10,11,10,10,10,10,8,9,8,9,8,8,8,8,5,5,5,7,7,6,5,6,5,5,5,6,6,5,5,7,5,5,7,6,5,5,5,5,5,6,5,5,5,6,7,0,0,1,0,4,0,0,0,0,0,0,0,3,3,1,0,0,0,2,0,0,1,0,1,0,0,3,1,0,0,0,0,0,0,1,0,0,0,0,1,2,0,0,1,0,0,0,0,0,0,0,0,0,1,0,0,1,0,1,0,0,0,1,1,0,3,0,0,4,0,0,4,3,0,0,0,0,0,0,0,0,5,0,0,0,4,0,0,1,0,0,1,1,0,0,0,2,0,0,0,0,0,0,0,0,2,0,3,0,0,3,0,0,0,0,0,0,0,3,0,3,3,0,0,1,0,0,3,0,1,0,2,0,0,0,0,0,0,0,0,4,0,0,0,0,0,0,0,0,0,0,0,1,0,0,1,0,0,0,0,0,0,0,0,0,0,2,1,0,0,0,0,1,0,4,0,0,0,0,0,3,3,0,0,0,0,1,0,1,0,0,0,0,0,0,0,0,0,0,4,0,0,1,0,0,0,0,1,0,0,0,1,0,1,0,4,0,0,0,4,0,4,0,2,0,0,0,0,0,0,1,1,0,0,0,0,0,3,0,0,0,4,0,0,0,0,4,0,0,0,1,3,2,4,3,0,0,0,0,2,3,0,0,0,0,0,0,1,0,0,0,1,1,0,0,4,0,0,3,0,0,0,0,1,0,0,0,0,0,0,0,0,0,1,0,0,0,0,0,0,4,0,0,0,0,0,0,1,0,3,0,4,0,0,1,1,3,0,0,1,1,2,0,3,2,0,1,0,4,0,0,0,0,0,0,0,0,0,0,0,0,0,0,0,0,0,0,0,0,3,3,0,0,3,0,0,0,0,0,0,0,0,3,0,0,0,0,0,0,1,0,0,4,0,1,0,0,0,0,0,0,0,1,0,0,0,0,0,0,0,3,2,0,0,1,0,3,0,0,0,0,0,0,0,1,0,0,1,0,0,0,0,1,0,0,0,0,0,0,0,0,0,1,2,0,0,3,3,0,0,0,4,0,0,0,0,0,0,0,0,0,0,0,1,0,1,0,1,0,0,0,0,0,0,0,2,0,2,2,0,0,0,0,0,0,0,0,3,0,0,0,0,0,0,0,4,1,0,3,0,0,0,0,0,3,4,0,1,0,0,1,0,0,1,0,1,0,0,3,0,3,0,0,0,0,0,3,1,0,4,0,1,0,0,1,1,0,0,0,0,0,3,1,0,0,1,1,0,3,0,0,0,0,0,0,0,0,0,0,0,0,0,0,0,0,4,0,4,3,0,0,0,0,0,1,2,4,0,0,4,1,0,0,0,1,0,0,0,3,0,0,0,0,0,0,0,0,0,0,2,0,1,3,0,0,0,1,0,0,4,3,0,0,0,1,0,0,0,0,0,0,0,4,0,0,0,0,0,1,0,0,2,0,0,0,0,0,0,0,4,0,4,0,0,0,3,0,0,0,0,0,0,0,0,2,0,0,0,3,0,0,1,0,0,2,0,0,0,0,2,3,0,0,0,0,0,0,0,0,4,3,0,0,1,0,4,0,3,0,3,0,0,0,0,0,0,2,1,1,1,0,0,2,1,0,4,0,3,0,0,0,0,0,3,1,1,0,0,0,0,0,0,0,0,2,3,1,0,0,0,0,2,2,0,0,3,0,0,3,0,3,0,0,0,0,1,0,2,2,0,0,0,0,0,0,0,0,0,1,1,0,1,0,0,0,4,4,0,2,0,4,0,0,0,0,0,0,0,0,0,1,0,0,0,0,0,0,0,0,1,0,0,0,0,0,0,0,2,0,0,0,0,0,0,0,0,0,0,0,0,0,0,0,0,0,0,0,0,0,0,0,0,0,0,4,0,0,0,0,0,0,0,33,29,28,27,26,24,23,22,21,21,21,19,19,19,19,18,19,18,17,17,17,16,15,15,15,15,15,15,14,14,14,14,14,14,14,13,13,13,13,13,13,13,13,12,13,12,11,11,11,12,11,10,11,10,10,10,10,10,10,10,11,10,11,10,10,11,11,9,8,9,9,7,9,8,9,8,8,9,9,8,8,8,8,9,6,5,5,6,7,5,6,5,5,7,7,6,5,5,6,6,6,6,7,7,7,6,5,5,5,6,6,7,6,7,6,6,5,6,5,5,7,6,7,5,6,6,5,5,5,7,7,5,6,6,6,5,5,5,5,7,5,6,6,4,0,0,1,0,0,4,0,0,0,0,0,0,0,0,0,1,0,0,1,0,3,0,0,0,1,0,0,0,0,0,0,0,0,0,0,0,0,1,0,0,0,0,0,0,1,3,0,0,1,0,0,1,0,1,0,0,0,0,4,0,0,0,0,0,0,0,0,0,0,0,0,0,0,0,1,0,0,0,4,0,0,2,0,0,0,0,0,0,2,0,3,1,0,0,0,0,1,0,1,0,0,0,2,0,0,0,0,0,3,3,0,0,0,0,0,0,0,0,0,0,0,0,1,0,0,0,1,0,0,0,0,0,0,1,3,0,0,0,0,0,0,0,0,0,0,4,0,0,1,0,0,0,0,0,0,0,0,1,0,0,0,2,0,0,0,0,0,1,0,0,0,2,4,0,3,0,0,0,0,0,0,0,0,0,0,4,4,0,0,0,4,0,0,0,0,0,1,0,0,0,0,0,0,0,4,0,0,3,0,0,3,0,0,0,0,0,0,0,3,0,0,0,0,2,0,0,0,0,0,0,0,1,0,0,0,0,0,3,0,0,0,0,0,0,0,4,0,0,0,0,0,0,0,0,0,0,0,0,0,0,0,0,0,0,0,0,0,0,0,0,0,0,0,0,0,0,0,0,0,0,0,1,4,0,0,3,0,0,0,0,0,0,0,1,0,0,0,0,0,0,0,0,0,0,0,0,0,0,0,0,0,0,0,0,3,0,0,0,0,0,0,0,0,0,0,0,0,0,0,0,1,0,0,2,3,3,1,0,1,0,0,0,0,0,0,0,0,0,0,1,4,1,0,0,0,0,0,0,0,0,0,0,0,0,0,0,0,0,0,0,0,0,2,0,0,0,0,0,0,0,0,0,0,1,0,0,2,0,0,0,0,0,0,0,0,0,0,0,0,0,0,0,0,0,0,0,0,0,0,2,2,0,0,0,3,0,0,0,0,0,0,0,0,0,0,0,0,0,0,0,0,0,0,0,0,0,1,4,3,0,0,2,0,0,0,0,0,0,0,0,0,0,0,0,0,0,0,0,0,0,0,0,2,1,0,2,0,0,2,0,0,0,0,0,0,0,0,4,0,0,0,0,0,0,0,0,0,0,3,0,2,0,2,0,0,1,0,0,0,0,0,0,0,0,0,0,0,0,0,0,0,0,0,0,0,0,0,0,0,0,0,0,0,0,0,0,0,0,1,0,0,0,0,0,1,0,0,0,0,0,0,0,0,0,0,0,0,0,0,0,0,0,0,0,0,0,4,0,0,0,0,0,1,0,0,0,0,0,0,0,0,0,0,0,0,0,4,0,0,0,0,0,0,0,0,0,0,0,0,0,0,0,0,1,0,0,1,0,0,0,1,0,0,0,0,0,0,1,0,0,2,0,0,0,0,0,0,3,0,0,0,0,0,0,0,0,2,0,0,0,1,0,0,1,0,0,0,0,0,1,0,3,0,0,0,0,0,0,0,0,0,0,0,0,0,0,0,0,0,0,0,0,0,0,0,1,0,0,0,0,0,0,3,0,0,0,0,0,0,0,0,0,0,0,4,0,1,0,2,0,0,0,0,0,0,0,0,0,0,0,0,0,3,0,0,0,0,1,0,0,0,0,0,0,0,0,0,0,0,0,0,0,0,2,0,0,0,0,0,0,0,0,0,0,1,0,0,0,0,0,0,0,0,0,0,0,3,0,0,0,0,0,0,1,0,0,0,0,0,0,0,0,0,0,3,1,4,0,0,1,0,1,0,0,0,0,2,0,0,4,0,0,0,0,0,0,0,0,1,0,1,0,0,0,0,0,0,0,0,0,0,0,2,0,0,2,0,3,0,0,0,0,0,0,0,0,0,3,0,1,0,0,1,2,1,0,0,0,0,1,0,0,0,0,0,0,0,0,0,0,0,4,2,0,0,0,0,4,0,0,3,1,0,0,0,0,41,35,32,31,27,24,21,21,21,21,20,18,18,18,17,17,16,14,14,14,14,13,13,13,13,13,13,13,12,12,11,12,11,12,11,12,11,12,11,12,12,11,10,11,10,10,10,10,10,10,10,9,8,9,9,9,8,9,9,9,9,8,9,9,9,6,7,6,6,6,6,7,7,7,7,7,7,6,6,6,5,0,0,0,0,0,0,0,0,2,1,0,0,2,0,0,0,0,0,0,0,0,0,0,1,1,0,1,1,0,0,0,1,2,0,0,3,0,0,0,0,1,0,0,3,0,0,0,0,0,0,0,0,0,1,0,0,0,0,0,0,0,1,1,0,0,0,0,0,0,0,2,0,0,0,0,0,1,0,0,0,0,0,1,1,0,1,0,0,0,0,0,0,0,0,1,0,2,0,0,1,0,0,0,1,1,0,0,0,0,0,0,0,0,0,0,0,0,0,0,0,0,0,0,0,1,0,3,1,0,0,0,0,0,1,0,0,0,0,0,0,0,0,0,0,1,0,0,0,0,0,0,0,0,0,0,0,0,2,0,0,0,0,0,0,0,0,0,0,0,0,0,0,0,0,0,0,0,0,0,4,0,0,0,0,0,0,0,0,0,0,0,0,0,0,3,0,0,0,0,0,0,0,0,0,0,0,0,0,0,0,0,1,0,0,0,0,0,0,0,0,0,0,0,0,0,0,4,1,0,0,0,0,0,0,0,0,0,0,0,1,0,0,0,0,0,0,2,0,0,0,0,1,0,0,0,0,2,0,0,0,0,0,0,0,0,0,1,0,0,1,0,0,0,0,0,0,0,0,0,0,0,0,0,0,0,0,0,0,0,0,0,3,0,0,0,0,0,0,0,0,0,0,0,0,1,0,0,1,0,0,0,0,0,1,0,0,0,0,0,0,1,1,0,2,0,0,1,0,0,0,0,0,0,0,0,0,0,0,0,0,0,0,1,0,0,0,0,0,0,0,0,0,0,1,0,0,0,0,0,0,1,0,0,0,0,0,0,0,1,1,0,0,0,0,0,0,0,0,0,0,0,1,0,0,0,0,0,0,0,2,0,0,0,1,0,0,0,0,0,0,0,0,0,0,1,0,0,0,0,0,0,0,2,0,0,0,0,0,1,0,0,0,0,0,0,0,1,2,0,0,0,0,3,1,0,0,0,0,0,0,2,0,0,0,1,1,0,0,0,0,0,0,0,2,1,0,1,0,0,0,0,0,1,0,0,0,0,0,0,0,0,0,1,0,0,0,0,0,0,0,0,0,0,0,1,0,0,0,0,1,0,0,0,0,0,0,0,0,0,0,0,0,0,0,0,0,0,0,0,0,0,0,0,0,0,0,0,0,1,0,0,0,0,0,0,0,0,0,1,0,1,0,0,0,0,1,0,0,0,0,1,0,1,0,0,0,0,1,0,0,0,1,0,0,0,0,0,0,0,0,0,0,0,0,1,0,0,0,0,0,0,3,0,0,0,0,0,0,0,0,0,0,0,0,0,0,0,0,0,0,0,0,0,0,0,1,0,0,0,0,0,0,0,0,0,0,0,0,0,4,0,0,0,1,1,0,0,0,0,0,2,0,0,0,0,0,0,0,0,0,0,0,0,0,0,0,0,0,0,0,1,0,0,0,0,0,0,0,0,0,0,0,0,0,0,0,0,0,0,0,1,0,0,0,1,0,0,0,0,2,0,0,0,0,1,0,0,0,1,0,0,0,1,0,0,1,0,0,1,0,0,1,0,0,0,0,0,0,0,0,0,0,0,0,0,0,2,1,0,0,0,0,1,0,4,0,0,0,0,0,0,0,0,1,0,0,0,0,0,0,1,0,0,0,0,0,0,0,0,0,0,0,0,0,1,0,1,0,0,0,0,2,0,0,0,0,0,0,0,0,1,0,1,0,0,0,0,0,1,0,0,0,0,0,0,0,0,0,0,1,1,0,0,1,0,3,0,0,0,1,0,0,0,1,0,0,0,0,1,0,0,1,0,0,0,0,0,2,0,0,0,1,0,1,0,0,0,0,0,0,0,0,3,0,0,0,1,0,0,0,0,0,0,1,0,0,0,1,0,0,0,0,1,0,0,0,0,0,0,0,0,0,0,0,0,1,0,0,0,1,0,0,0,2,0,1,0,0,1,0,0,0,0,0,0,0,0,0,0,0,0,0,1,0,1,0,0,1,0,0,0,0,0,0,0,0,0,0,1,0,0,0,0,0,0,0,0,4,1,0,0,0,0,0,0,0,0,0,0,56,56,44,42,41,37,36,33,28,27,27,27,22,22,20,19,19,19,19,18,18,18,18,18,17,17,17,16,16,16,15,15,14,14,14,13,13,13,13,13,13,13,12,11,12,11,12,12,12,12,10,11,10,11,11,10,10,11,10,10,10,11,10,10,10,11,8,8,8,9,9,9,8,8,9,8,9,8,8,9,9,8,8,8,8,8,8,9,9,9,8,8,9,8,8,9,8,8,7,7,7,6,7,7,6,5,6,6,7,5,5,5,5,6,5,6,7,5,5,6,7,5,6,7,7,7,1,0,0,0,0,0,0,0,0,0,0,0,0,0,0,0,0,0,0,0,0,0,0,0,1,0,0,0,0,0,2,0,0,0,0,0,0,0,0,0,0,1,0,0,0,0,4,0,0,0,0,0,0,0,1,0,0,0,0,0,0,0,0,0,0,0,0,0,0,1,0,0,0,1,0,0,0,0,0,0,0,0,0,0,0,0,0,0,0,1,1,0,1,3,0,0,0,0,0,0,0,0,0,0,3,3,0,0,0,2,0,0,1,0,3,1,0,2,0,0,2,0,0,0,0,1,0,0,0,0,0,0,0,1,0,0,0,0,0,0,0,0,0,0,0,0,0,0,0,0,2,0,0,3,0,0,0,0,0,0,3,0,0,0,0,0,0,1,0,0,0,2,0,3,2,0,0,0,0,0,0,0,0,1,0,0,0,0,0,0,0,1,0,0,0,0,0,4,0,0,0,0,0,4,0,0,0,2,1,0,0,0,0,0,0,0,0,1,0,1,0,0,0,0,0,0,0,0,0,0,2,0,0,0,0,2,0,0,0,0,0,0,0,0,0,1,0,0,3,0,2,0,0,0,1,0,0,0,0,0,0,0,0,0,0,0,0,0,0,0,1,0,0,0,0,0,0,0,0,0,0,0,0,0,0,0,0,0,0,0,1,0,0,0,3,0,0,3,0,0,0,1,0,0,0,0,3,0,0,0,2,0,0,0,0,0,0,0,0,0,0,0,0,0,0,0,0,0,0,0,0,0,0,0,0,0,0,0,0,0,0,0,0,1,0,0,0,0,0,0,0,0,0,0,0,0,0,0,0,0,0,3,0,0,0,0,0,0,0,2,1,0,0,1,0,0,0,0,0,0,0,0,1,0,0,0,0,0,0,0,1,0,0,4,3,0,0,0,0,3,4,0,0,0,0,0,0,1,0,0,0,0,0,0,0,0,0,0,0,0,0,0,1,0,0,0,0,0,3,0,0,0,0,0,0,0,0,0,1,0,0,1,2,0,0,0,0,0,2,0,0,0,0,0,0,0,1,0,0,0,3,0,1,0,0,0,0,0,0,0,0,0,0,0,0,0,0,0,0,0,0,0,0,0,0,0,0,0,0,1,0,0,0,0,0,0,0,0,3,0,0,2,0,0,0,0,0,3,0,0,0,0,0,0,0,0,0,0,0,0,0,0,0,0,0,0,0,0,0,0,0,0,0,0,0,0,0,0,0,0,0,0,0,1,0,0,2,0,0,0,4,0,0,0,0,0,0,0,0,0,0,0,1,0,0,0,0,0,0,0,0,0,0,0,0,0,0,0,0,0,0,0,0,1,3,0,0,0,3,1,4,0,0,0,0,0,0,0,0,0,1,0,1,0,0,1,0,0,0,0,1,3,0,0,0,0,0,0,0,1,0,0,0,2,3,0,0,0,0,0,1,0,0,0,0,0,0,0,0,0,1,0,0,0,0,0,1,0,1,0,0,0,2,0,0,0,0,0,0,0,0,0,0,0,0,1,1,0,0,0,0,0,0,0,0,0,0,0,4,0,1,0,0,0,0,0,0,0,0,0,0,2,0,0,0,1,0,0,0,0,0,0,0,0,0,0,0,0,0,0,0,0,0,0,2,0,0,0,0,0,0,0,0,0,0,3,0,0,0,1,0,0,0,0,0,0,4,0,0,0,0,0,0,0,0,0,0,0,0,0,0,0,0,0,1,0,0,0,0,0,3,0,0,1,0,0,0,0,0,0,0,0,0,1,0,0,0,0,0,0,0,0,1,0,0,0,0,0,0,0,2,0,0,1,0,0,0,1,0,0,2,0,0,3,2,0,1,0,0,0,0,0,0,0,0,0,0,1,0,0,0,4,0,0,1,0,0,0,0,0,0,0,0,1,0,0,1,0,0,0,0,0,0,0,0,2,0,1,1,0,0,0,0,0,0,0,0,0,0,0,0,0,0,0,0,0,0,0,0,3,0,0,0,0,54,37,22,21,21,20,20,20,18,18,16,16,16,16,14,13,13,12,12,11,12,12,10,10,10,10,10,11,11,10,10,10,11,11,10,11,11,11,11,8,8,8,10,9,9,8,5,6,5,5,7,6,5,0,1,0,3,0,0,0,0,0,0,0,0,0,0,0,0,0,0,0,0,0,0,0,0,0,0,0,1,0,0,0,0,1,0,0,0,0,0,0,1,0,0,0,1,0,0,0,0,0,0,0,0,0,0,0,0,0,0,0,0,0,0,1,0,0,0,0,1,0,1,0,0,0,0,0,0,0,1,0,0,0,0,0,0,0,0,0,0,1,0,0,0,0,0,0,0,0,0,3,1,0,0,0,0,0,0,0,3,0,0,3,0,0,0,0,0,0,0,0,0,0,1,0,1,0,0,0,1,0,0,4,0,1,0,0,0,0,0,0,0,0,0,0,1,0,0,0,0,0,0,0,0,0,0,0,0,0,0,0,0,0,0,1,0,0,0,0,0,0,0,0,0,0,0,1,2,1,0,0,2,0,0,0,0,2,0,0,1,0,2,0,0,0,0,0,0,0,0,0,0,0,0,0,0,0,0,0,3,0,0,0,0,3,2,0,0,0,0,0,0,0,0,0,1,0,0,0,0,0,0,0,0,0,0,0,0,0,0,0,0,0,0,0,1,2,1,0,0,0,1,0,4,0,1,0,2,0,0,0,0,1,0,0,0,0,0,0,0,0,0,0,0,0,0,0,0,0,0,0,0,0,0,1,0,0,0,0,0,0,0,0,0,0,0,0,0,0,0,0,0,0,0,0,0,0,0,0,0,1,0,0,0,0,0,0,0,0,0,0,0,0,0,0,0,0,0,4,0,0,2,0,2,0,0,2,0,3,1,0,1,0,0,0,0,0,3,1,0,0,0,0,0,0,0,0,0,0,0,0,0,0,0,0,0,0,0,1,0,0,0,0,0,0,0,0,0,0,0,0,0,0,0,0,1,0,0,0,0,0,0,0,0,0,0,0,0,0,0,0,2,0,0,0,0,0,1,0,0,0,0,2,0,0,0,3,0,4,0,1,0,1,0,0,0,0,1,0,2,0,0,0,0,0,0,0,0,0,0,0,4,0,0,0,0,0,0,0,0,0,0,1,3,0,0,0,0,0,0,0,1,1,4,0,0,0,0,0,0,2,0,0,0,2,0,0,0,0,1,0,0,0,1,0,0,0,0,0,0,0,0,0,0,0,4,0,0,0,0,0,0,0,0,0,0,0,0,3,0,0,1,0,0,0,0,1,1,0,0,0,0,0,0,0,0,0,0,0,0,0,0,0,0,0,0,0,0,0,0,0,0,0,0,0,0,0,0,0,1,0,0,0,0,0,0,0,0,0,0,0,0,0,1,0,2,0,0,0,0,0,0,0,0,0,0,1,1,0,0,0,0,0,0,0,0,0,0,0,0,0,0,0,0,0,0,2,0,0,0,0,0,0,0,0,0,0,0,0,0,0,0,0,0,0,0,0,0,0,0,0,0,0,0,0,0,0,0,0,1,0,0,0,0,0,0,0,0,0,0,0,0,1,0,0,0,0,0,0,0,0,0,0,0,0,0,0,2,0,0,0,0,0,0,0,0,0,0,0,0,0,0,0,0,0,0,0,0,0,0,0,0,0,0,0,0,0,0,0,0,0,55,54,53,50,39,38,33,31,30,29,28,28,27,27,26,24,24,24,23,22,22,21,21,21,20,20,19,20,19,19,19,18,18,18,18,18,18,17,17,17,17,17,17,17,16,17,17,17,16,16,16,16,15,15,15,15,15,15,15,14,14,14,14,14,14,14,14,15,14,12,13,13,12,13,13,12,13,13,14,13,13,13,13,12,12,12,11,12,12,12,12,12,12,12,12,12,12,12,11,12,12,12,11,11,11,11,11,10,11,11,11,10,8,8,8,9,8,10,9,8,9,8,9,9,7,6,6,7,5,5,5,7,6,5,5,5,6,0,0,0,1,0,0,0,0,0,0,0,0,1,0,0,0,0,0,0,0,0,0,0,0,0,2,0,0,0,0,0,0,0,0,0,0,0,0,0,0,0,0,0,0,0,4,0,0,0,0,0,0,0,0,0,1,0,1,0,0,0,0,0,0,0,0,0,0,0,0,0,4,0,0,0,0,0,0,0,0,0,0,0,0,0,0,0,0,4,2,0,0,0,1,1,0,0,0,0,0,1,0,0,0,0,1,2,0,0,0,0,2,0,0,0,0,4,0,0,0,3,0,0,0,4,0,1,0,0,0,0,0,0,0,0,0,0,0,0,0,0,4,0,4,1,0,0,0,0,0,2,0,0,0,0,1,0,0,0,3,0,0,0,0,0,0,0,0,0,0,2,0,0,0,3,0,0,0,3,0,0,0,1,0,0,0,0,1,0,0,0,0,0,2,0,0,0,1,0,0,0,0,0,2,0,0,0,0,0,0,0,0,0,0,0,0,0,0,0,1,0,0,0,3,0,1,0,1,0,0,0,0,2,0,0,1,1,2,0,0,3,0,0,0,0,0,0,0,0,0,2,0,2,0,2,0,0,1,0,0,0,0,0,1,0,0,0,0,0,0,1,0,0,0,0,0,0,0,0,0,0,3,2,0,0,1,0,0,0,0,0,0,0,0,0,0,0,0,1,0,0,0,0,0,4,0,0,0,3,0,0,0,3,3,0,0,0,0,0,0,0,0,0,0,0,0,0,0,0,0,0,0,0,0,0,3,0,0,0,1,3,0,2,0,0,0,0,0,0,0,0,0,1,1,0,0,0,0,4,0,0,0,0,0,0,0,0,3,0,0,0,0,1,0,0,0,0,0,0,0,0,0,0,0,0,1,0,0,0,0,0,0,0,0,0,0,0,0,0,0,0,0,0,1,0,0,0,2,0,0,0,0,0,1,1,0,0,0,0,3,0,0,0,2,0,0,1,0,0,0,0,0,0,0,0,0,2,1,0,0,0,0,0,0,0,1,0,0,2,0,0,0,0,0,0,0,2,0,0,0,1,1,0,0,0,1,1,0,0,0,0,0,0,0,0,0,0,0,0,0,0,1,0,0,0,0,0,1,0,0,0,0,0,0,0,0,0,0,0,0,0,1,0,0,0,0,2,0,2,0,0,0,0,0,0,0,0,0,0,0,1,0,0,0,0,0,0,0,0,0,1,0,0,0,0,0,0,3,0,0,2,0,0,0,1,0,0,0,0,2,0,2,0,0,0,2,0,0,0,0,1,0,0,0,0,0,1,0,0,0,0,0,4,0,0,0,1,0,0,0,0,0,2,0,0,0,0,0,0,0,0,0,0,0,0,0,0,0,1,0,1,0,0,0,0,0,0,0,2,0,1,4,0,0,1,0,1,0,0,0,4,1,0,0,0,0,0,0,2,0,0,0,0,2,0,0,0,0,0,0,3,0,4,0,0,0,0,0,0,0,0,0,5,0,0,0,0,0,0,0,0,0,0,0,0,0,4,0,0,0,0,0,0,0,0,0,0,0,0,0,0,0,0,0,0,0,0,0,0,0,0,0,0,0,0,0,0,0,0,0,0,0,0,0,0,0,0,0,0,0,0,0,0,0,0,0,0,0,0,61,50,45,44,43,41,39,39,37,37,35,35,35,32,31,31,31,30,28,28,28,28,28,27,27,26,25,25,25,25,24,24,24,24,24,24,24,24,24,23,23,23,23,23,22,22,22,22,21,21,21,20,20,20,19,19,19,20,19,19,19,18,18,18,18,18,17,17,17,17,17,17,17,16,16,16,16,16,16,16,15,15,15,15,15,15,15,15,15,14,14,14,14,14,14,14,14,14,14,14,14,13,13,13,13,13,13,13,13,13,13,13,12,12,11,11,12,11,12,10,10,11,11,10,10,11,10,11,10,10,10,11,8,8,9,9,8,9,8,8,8,8,8,7,8,8,8,8,8,9,8,8,8,9,8,8,8,9,9,9,8,8,8,8,8,8,8,9,8,9,8,8,8,8,8,8,9,8,9,8,9,9,8,8,6,7,7,7,7,7,6,7,5,6,7,6,5,6,6,5,6,7,5,6,6,6,6,5,5,5,6,7,5,5,6,7,6,6,7,6,5,6,6,6,6,5,7,6,6,5,5,5,6,6,6,6,6,6,7,7,6,6,6,7,6,7,7,7,6,6,7,5,5,7,5,0,0,0,0,0,0,0,0,0,0,0,0,0,1,0,0,2,3,0,0,0,1,2,0,0,0,0,0,0,0,0,2,0,0,1,0,0,0,0,0,0,0,0,1,0,0,0,1,0,0,0,0,0,0,0,0,2,0,2,0,2,0,0,0,0,0,0,0,0,0,0,1,0,0,0,0,2,0,0,2,1,0,0,0,0,0,0,0,2,0,0,0,0,0,0,0,0,0,0,0,0,0,0,0,0,0,0,3,1,0,0,0,0,0,1,1,0,0,0,0,0,3,0,0,0,3,0,1,0,2,0,0,0,0,0,0,0,0,0,3,1,0,0,3,0,2,0,0,0,0,0,2,2,0,0,0,1,0,0,0,1,0,0,0,0,0,0,0,2,0,0,1,0,0,1,1,0,0,0,0,0,0,0,0,1,1,0,0,0,0,1,0,1,1,0,2,2,0,0,0,0,0,2,0,0,2,0,0,0,1,0,1,0,0,0,1,0,0,0,0,1,0,0,0,0,0,2,0,2,0,0,0,0,0,1,0,0,0,0,1,0,0,0,0,0,0,0,1,0,1,0,0,0,0,2,0,0,0,0,0,0,1,3,0,0,0,0,0,1,0,1,3,1,0,0,0,0,0,0,0,0,0,0,0,0,0,0,0,0,0,0,2,0,0,0,1,0,0,0,3,0,0,0,2,0,0,0,0,0,0,0,0,0,1,0,0,0,0,0,0,0,0,0,0,0,0,0,0,0,0,0,0,0,0,1,0,0,0,0,0,0,1,0,0,2,0,1,0,1,0,0,0,0,0,0,0,2,0,0,0,2,0,0,0,0,1,0,2,0,0,0,0,0,0,2,0,0,0,4,0,3,0,0,0,1,0,0,0,0,0,0,0,0,0,0,0,1,0,0,0,0,0,0,0,0,0,0,0,0,2,2,0,1,0,0,4,0,2,0,0,0,0,0,4,0,0,0,0,4,1,0,0,1,0,0,3,1,3,0,0,0,0,0,0,0,3,0,1,0,3,1,0,0,0,0,1,0,0,0,1,0,0,0,0,0,0,0,1,0,1,0,1,0,0,0,2,0,1,0,0,0,2,1,0,0,2,0,0,0,0,1,0,3,0,0,0,0,0,0,0,0,0,1,0,2,0,0,0,0,1,0,0,0,3,0,0,0,0,3,0,0,0,1,0,2,0,0,0,0,0,0,0,0,0,0,1,0,0,1,0,1,0,0,0,1,0,0,0,0,1,1,0,0,0,0,0,0,0,0,1,0,1,0,0,1,2,2,0,0,0,0,0,0,0,0,0,0,0,0,0,0,0,0,0,0,0,0,0,0,0,1,0,0,0,0,0,0,0,0,0,0,0,0,0,0,1,0,0,1,0,0,0,0,1,0,0,0,0,0,2,0,0,0,0,0,0,0,0,0,0,1,0,0,0,0,1,0,0,0,1,0,0,0,2,4,0,0,0,0,0,2,0,0,0,0,1,0,0,0,0,1,2,0,2,0,1,2,2,0,0,0,0,0,0,0,0,0,0,0,0,0,0,0,0,0,0,0,0,0,0,0,0,0,0,0,0,0,0,0,0,0,0,0,0,0,0,0,0,1,0,0,0,0,0,0,1,1,0,1,0,0,0,0,2,0,1,1,2,0,0,0,0,0,0,0,0,0,0,0,1,0,0,0,0,0,40,38,36,32,31,30,29,29,27,26,24,24,24,24,23,22,21,21,21,21,21,20,20,19,19,19,19,18,18,18,17,17,16,16,16,16,15,15,14,14,14,14,14,12,13,13,13,13,13,13,13,13,13,12,11,12,11,12,12,12,12,12,11,12,12,12,12,11,10,10,10,11,11,11,10,11,10,11,11,10,10,10,10,11,10,11,10,10,11,11,11,8,9,8,8,8,8,8,8,8,8,8,8,8,9,9,8,7,8,8,8,8,8,8,8,8,9,8,9,9,9,9,8,9,8,9,8,9,9,9,8,8,8,8,5,5,5,5,5,7,6,5,5,5,5,7,6,5,5,6,7,5,5,5,5,7,6,5,5,6,5,7,5,5,5,7,5,5,5,7,6,5,5,5,5,5,6,7,7,6,5,5,5,7,6,7,6,6,5,6,5,5,6,5,0,0,3,2,0,0,3,0,0,0,0,0,1,0,0,2,1,1,2,3,0,0,0,1,0,0,3,0,0,0,0,0,0,0,4,1,0,1,0,0,0,0,0,0,0,2,0,0,0,0,0,0,0,0,2],\"yaxis\":\"y\",\"type\":\"scattergl\"}],                        {\"template\":{\"data\":{\"bar\":[{\"error_x\":{\"color\":\"#2a3f5f\"},\"error_y\":{\"color\":\"#2a3f5f\"},\"marker\":{\"line\":{\"color\":\"#E5ECF6\",\"width\":0.5},\"pattern\":{\"fillmode\":\"overlay\",\"size\":10,\"solidity\":0.2}},\"type\":\"bar\"}],\"barpolar\":[{\"marker\":{\"line\":{\"color\":\"#E5ECF6\",\"width\":0.5},\"pattern\":{\"fillmode\":\"overlay\",\"size\":10,\"solidity\":0.2}},\"type\":\"barpolar\"}],\"carpet\":[{\"aaxis\":{\"endlinecolor\":\"#2a3f5f\",\"gridcolor\":\"white\",\"linecolor\":\"white\",\"minorgridcolor\":\"white\",\"startlinecolor\":\"#2a3f5f\"},\"baxis\":{\"endlinecolor\":\"#2a3f5f\",\"gridcolor\":\"white\",\"linecolor\":\"white\",\"minorgridcolor\":\"white\",\"startlinecolor\":\"#2a3f5f\"},\"type\":\"carpet\"}],\"choropleth\":[{\"colorbar\":{\"outlinewidth\":0,\"ticks\":\"\"},\"type\":\"choropleth\"}],\"contour\":[{\"colorbar\":{\"outlinewidth\":0,\"ticks\":\"\"},\"colorscale\":[[0.0,\"#0d0887\"],[0.1111111111111111,\"#46039f\"],[0.2222222222222222,\"#7201a8\"],[0.3333333333333333,\"#9c179e\"],[0.4444444444444444,\"#bd3786\"],[0.5555555555555556,\"#d8576b\"],[0.6666666666666666,\"#ed7953\"],[0.7777777777777778,\"#fb9f3a\"],[0.8888888888888888,\"#fdca26\"],[1.0,\"#f0f921\"]],\"type\":\"contour\"}],\"contourcarpet\":[{\"colorbar\":{\"outlinewidth\":0,\"ticks\":\"\"},\"type\":\"contourcarpet\"}],\"heatmap\":[{\"colorbar\":{\"outlinewidth\":0,\"ticks\":\"\"},\"colorscale\":[[0.0,\"#0d0887\"],[0.1111111111111111,\"#46039f\"],[0.2222222222222222,\"#7201a8\"],[0.3333333333333333,\"#9c179e\"],[0.4444444444444444,\"#bd3786\"],[0.5555555555555556,\"#d8576b\"],[0.6666666666666666,\"#ed7953\"],[0.7777777777777778,\"#fb9f3a\"],[0.8888888888888888,\"#fdca26\"],[1.0,\"#f0f921\"]],\"type\":\"heatmap\"}],\"heatmapgl\":[{\"colorbar\":{\"outlinewidth\":0,\"ticks\":\"\"},\"colorscale\":[[0.0,\"#0d0887\"],[0.1111111111111111,\"#46039f\"],[0.2222222222222222,\"#7201a8\"],[0.3333333333333333,\"#9c179e\"],[0.4444444444444444,\"#bd3786\"],[0.5555555555555556,\"#d8576b\"],[0.6666666666666666,\"#ed7953\"],[0.7777777777777778,\"#fb9f3a\"],[0.8888888888888888,\"#fdca26\"],[1.0,\"#f0f921\"]],\"type\":\"heatmapgl\"}],\"histogram\":[{\"marker\":{\"pattern\":{\"fillmode\":\"overlay\",\"size\":10,\"solidity\":0.2}},\"type\":\"histogram\"}],\"histogram2d\":[{\"colorbar\":{\"outlinewidth\":0,\"ticks\":\"\"},\"colorscale\":[[0.0,\"#0d0887\"],[0.1111111111111111,\"#46039f\"],[0.2222222222222222,\"#7201a8\"],[0.3333333333333333,\"#9c179e\"],[0.4444444444444444,\"#bd3786\"],[0.5555555555555556,\"#d8576b\"],[0.6666666666666666,\"#ed7953\"],[0.7777777777777778,\"#fb9f3a\"],[0.8888888888888888,\"#fdca26\"],[1.0,\"#f0f921\"]],\"type\":\"histogram2d\"}],\"histogram2dcontour\":[{\"colorbar\":{\"outlinewidth\":0,\"ticks\":\"\"},\"colorscale\":[[0.0,\"#0d0887\"],[0.1111111111111111,\"#46039f\"],[0.2222222222222222,\"#7201a8\"],[0.3333333333333333,\"#9c179e\"],[0.4444444444444444,\"#bd3786\"],[0.5555555555555556,\"#d8576b\"],[0.6666666666666666,\"#ed7953\"],[0.7777777777777778,\"#fb9f3a\"],[0.8888888888888888,\"#fdca26\"],[1.0,\"#f0f921\"]],\"type\":\"histogram2dcontour\"}],\"mesh3d\":[{\"colorbar\":{\"outlinewidth\":0,\"ticks\":\"\"},\"type\":\"mesh3d\"}],\"parcoords\":[{\"line\":{\"colorbar\":{\"outlinewidth\":0,\"ticks\":\"\"}},\"type\":\"parcoords\"}],\"pie\":[{\"automargin\":true,\"type\":\"pie\"}],\"scatter\":[{\"marker\":{\"colorbar\":{\"outlinewidth\":0,\"ticks\":\"\"}},\"type\":\"scatter\"}],\"scatter3d\":[{\"line\":{\"colorbar\":{\"outlinewidth\":0,\"ticks\":\"\"}},\"marker\":{\"colorbar\":{\"outlinewidth\":0,\"ticks\":\"\"}},\"type\":\"scatter3d\"}],\"scattercarpet\":[{\"marker\":{\"colorbar\":{\"outlinewidth\":0,\"ticks\":\"\"}},\"type\":\"scattercarpet\"}],\"scattergeo\":[{\"marker\":{\"colorbar\":{\"outlinewidth\":0,\"ticks\":\"\"}},\"type\":\"scattergeo\"}],\"scattergl\":[{\"marker\":{\"colorbar\":{\"outlinewidth\":0,\"ticks\":\"\"}},\"type\":\"scattergl\"}],\"scattermapbox\":[{\"marker\":{\"colorbar\":{\"outlinewidth\":0,\"ticks\":\"\"}},\"type\":\"scattermapbox\"}],\"scatterpolar\":[{\"marker\":{\"colorbar\":{\"outlinewidth\":0,\"ticks\":\"\"}},\"type\":\"scatterpolar\"}],\"scatterpolargl\":[{\"marker\":{\"colorbar\":{\"outlinewidth\":0,\"ticks\":\"\"}},\"type\":\"scatterpolargl\"}],\"scatterternary\":[{\"marker\":{\"colorbar\":{\"outlinewidth\":0,\"ticks\":\"\"}},\"type\":\"scatterternary\"}],\"surface\":[{\"colorbar\":{\"outlinewidth\":0,\"ticks\":\"\"},\"colorscale\":[[0.0,\"#0d0887\"],[0.1111111111111111,\"#46039f\"],[0.2222222222222222,\"#7201a8\"],[0.3333333333333333,\"#9c179e\"],[0.4444444444444444,\"#bd3786\"],[0.5555555555555556,\"#d8576b\"],[0.6666666666666666,\"#ed7953\"],[0.7777777777777778,\"#fb9f3a\"],[0.8888888888888888,\"#fdca26\"],[1.0,\"#f0f921\"]],\"type\":\"surface\"}],\"table\":[{\"cells\":{\"fill\":{\"color\":\"#EBF0F8\"},\"line\":{\"color\":\"white\"}},\"header\":{\"fill\":{\"color\":\"#C8D4E3\"},\"line\":{\"color\":\"white\"}},\"type\":\"table\"}]},\"layout\":{\"annotationdefaults\":{\"arrowcolor\":\"#2a3f5f\",\"arrowhead\":0,\"arrowwidth\":1},\"autotypenumbers\":\"strict\",\"coloraxis\":{\"colorbar\":{\"outlinewidth\":0,\"ticks\":\"\"}},\"colorscale\":{\"diverging\":[[0,\"#8e0152\"],[0.1,\"#c51b7d\"],[0.2,\"#de77ae\"],[0.3,\"#f1b6da\"],[0.4,\"#fde0ef\"],[0.5,\"#f7f7f7\"],[0.6,\"#e6f5d0\"],[0.7,\"#b8e186\"],[0.8,\"#7fbc41\"],[0.9,\"#4d9221\"],[1,\"#276419\"]],\"sequential\":[[0.0,\"#0d0887\"],[0.1111111111111111,\"#46039f\"],[0.2222222222222222,\"#7201a8\"],[0.3333333333333333,\"#9c179e\"],[0.4444444444444444,\"#bd3786\"],[0.5555555555555556,\"#d8576b\"],[0.6666666666666666,\"#ed7953\"],[0.7777777777777778,\"#fb9f3a\"],[0.8888888888888888,\"#fdca26\"],[1.0,\"#f0f921\"]],\"sequentialminus\":[[0.0,\"#0d0887\"],[0.1111111111111111,\"#46039f\"],[0.2222222222222222,\"#7201a8\"],[0.3333333333333333,\"#9c179e\"],[0.4444444444444444,\"#bd3786\"],[0.5555555555555556,\"#d8576b\"],[0.6666666666666666,\"#ed7953\"],[0.7777777777777778,\"#fb9f3a\"],[0.8888888888888888,\"#fdca26\"],[1.0,\"#f0f921\"]]},\"colorway\":[\"#636efa\",\"#EF553B\",\"#00cc96\",\"#ab63fa\",\"#FFA15A\",\"#19d3f3\",\"#FF6692\",\"#B6E880\",\"#FF97FF\",\"#FECB52\"],\"font\":{\"color\":\"#2a3f5f\"},\"geo\":{\"bgcolor\":\"white\",\"lakecolor\":\"white\",\"landcolor\":\"#E5ECF6\",\"showlakes\":true,\"showland\":true,\"subunitcolor\":\"white\"},\"hoverlabel\":{\"align\":\"left\"},\"hovermode\":\"closest\",\"mapbox\":{\"style\":\"light\"},\"paper_bgcolor\":\"white\",\"plot_bgcolor\":\"#E5ECF6\",\"polar\":{\"angularaxis\":{\"gridcolor\":\"white\",\"linecolor\":\"white\",\"ticks\":\"\"},\"bgcolor\":\"#E5ECF6\",\"radialaxis\":{\"gridcolor\":\"white\",\"linecolor\":\"white\",\"ticks\":\"\"}},\"scene\":{\"xaxis\":{\"backgroundcolor\":\"#E5ECF6\",\"gridcolor\":\"white\",\"gridwidth\":2,\"linecolor\":\"white\",\"showbackground\":true,\"ticks\":\"\",\"zerolinecolor\":\"white\"},\"yaxis\":{\"backgroundcolor\":\"#E5ECF6\",\"gridcolor\":\"white\",\"gridwidth\":2,\"linecolor\":\"white\",\"showbackground\":true,\"ticks\":\"\",\"zerolinecolor\":\"white\"},\"zaxis\":{\"backgroundcolor\":\"#E5ECF6\",\"gridcolor\":\"white\",\"gridwidth\":2,\"linecolor\":\"white\",\"showbackground\":true,\"ticks\":\"\",\"zerolinecolor\":\"white\"}},\"shapedefaults\":{\"line\":{\"color\":\"#2a3f5f\"}},\"ternary\":{\"aaxis\":{\"gridcolor\":\"white\",\"linecolor\":\"white\",\"ticks\":\"\"},\"baxis\":{\"gridcolor\":\"white\",\"linecolor\":\"white\",\"ticks\":\"\"},\"bgcolor\":\"#E5ECF6\",\"caxis\":{\"gridcolor\":\"white\",\"linecolor\":\"white\",\"ticks\":\"\"}},\"title\":{\"x\":0.05},\"xaxis\":{\"automargin\":true,\"gridcolor\":\"white\",\"linecolor\":\"white\",\"ticks\":\"\",\"title\":{\"standoff\":15},\"zerolinecolor\":\"white\",\"zerolinewidth\":2},\"yaxis\":{\"automargin\":true,\"gridcolor\":\"white\",\"linecolor\":\"white\",\"ticks\":\"\",\"title\":{\"standoff\":15},\"zerolinecolor\":\"white\",\"zerolinewidth\":2}}},\"xaxis\":{\"anchor\":\"y\",\"domain\":[0.0,1.0],\"title\":{\"text\":\"release_date\"}},\"yaxis\":{\"anchor\":\"x\",\"domain\":[0.0,1.0],\"title\":{\"text\":\"popularity\"}},\"legend\":{\"tracegroupgap\":0},\"title\":{\"text\":\"Release Date vs Popularity\"}},                        {\"responsive\": true}                    ).then(function(){\n",
              "                            \n",
              "var gd = document.getElementById('fb208197-f4c2-42b8-93d4-4ea463487cc0');\n",
              "var x = new MutationObserver(function (mutations, observer) {{\n",
              "        var display = window.getComputedStyle(gd).display;\n",
              "        if (!display || display === 'none') {{\n",
              "            console.log([gd, 'removed!']);\n",
              "            Plotly.purge(gd);\n",
              "            observer.disconnect();\n",
              "        }}\n",
              "}});\n",
              "\n",
              "// Listen for the removal of the full notebook cells\n",
              "var notebookContainer = gd.closest('#notebook-container');\n",
              "if (notebookContainer) {{\n",
              "    x.observe(notebookContainer, {childList: true});\n",
              "}}\n",
              "\n",
              "// Listen for the clearing of the current output cell\n",
              "var outputEl = gd.closest('.output');\n",
              "if (outputEl) {{\n",
              "    x.observe(outputEl, {childList: true});\n",
              "}}\n",
              "\n",
              "                        })                };                            </script>        </div>\n",
              "</body>\n",
              "</html>"
            ]
          },
          "metadata": {}
        }
      ],
      "source": [
        "px.scatter(df, x='release_date', y='popularity', title='Release Date vs Popularity')"
      ]
    },
    {
      "cell_type": "markdown",
      "id": "ec4cf539",
      "metadata": {
        "id": "ec4cf539"
      },
      "source": [
        "we could see the latest songs are having more popularity compared to old songs"
      ]
    },
    {
      "cell_type": "markdown",
      "id": "29b067a6",
      "metadata": {
        "id": "29b067a6"
      },
      "source": [
        "Lets create a new column year based on release date as we could see the data is inconsistently having date or year for some songs "
      ]
    },
    {
      "cell_type": "code",
      "execution_count": 7,
      "id": "45dafe58",
      "metadata": {
        "id": "45dafe58"
      },
      "outputs": [],
      "source": [
        "def to_year(x):\n",
        "    result = []\n",
        "    x.to_string()\n",
        "    for i in x:\n",
        "        result.append(int(i[:4]))\n",
        "    return result\n",
        "\n",
        "df['year'] = to_year(df.release_date)"
      ]
    },
    {
      "cell_type": "code",
      "execution_count": 8,
      "id": "4836fe36",
      "metadata": {
        "colab": {
          "base_uri": "https://localhost:8080/"
        },
        "id": "4836fe36",
        "outputId": "1da63cfc-2d81-44f8-a0be-f4a8063be9cb"
      },
      "outputs": [
        {
          "output_type": "execute_result",
          "data": {
            "text/plain": [
              "array([1922, 1923, 1924, 1925, 1926, 1927, 1928, 1929, 1930, 1931, 1932,\n",
              "       1933, 1934, 1935, 1936, 1937, 1938, 1939, 1940, 1941, 1942, 1943,\n",
              "       1944, 1945, 1946])"
            ]
          },
          "metadata": {},
          "execution_count": 8
        }
      ],
      "source": [
        "df['year'].unique()"
      ]
    },
    {
      "cell_type": "markdown",
      "id": "748da8c6",
      "metadata": {
        "id": "748da8c6"
      },
      "source": [
        "Along with the year column we can also add information about how old the song is at present. For that we will find the max value of year and calculate it's difference with every other row"
      ]
    },
    {
      "cell_type": "code",
      "execution_count": 9,
      "id": "ab856f3b",
      "metadata": {
        "colab": {
          "base_uri": "https://localhost:8080/"
        },
        "id": "ab856f3b",
        "outputId": "b12b3c62-7929-4705-e19e-8521d3aaa2de"
      },
      "outputs": [
        {
          "output_type": "execute_result",
          "data": {
            "text/plain": [
              "8967     12\n",
              "605      23\n",
              "17355     3\n",
              "3331     19\n",
              "7057     15\n",
              "7082     15\n",
              "17816     2\n",
              "5169     17\n",
              "12589     8\n",
              "14486     6\n",
              "Name: years_old, dtype: int64"
            ]
          },
          "metadata": {},
          "execution_count": 9
        }
      ],
      "source": [
        "max_year = df['year'].max()\n",
        "df['years_old'] = max_year - df['year']\n",
        "df['years_old'].sample(10)"
      ]
    },
    {
      "cell_type": "code",
      "execution_count": 10,
      "id": "d7c3cf4e",
      "metadata": {
        "colab": {
          "base_uri": "https://localhost:8080/"
        },
        "id": "d7c3cf4e",
        "outputId": "c316d33a-07e6-4fa7-ceee-bf8b19a6a6a0"
      },
      "outputs": [
        {
          "output_type": "execute_result",
          "data": {
            "text/plain": [
              "0.000      31\n",
              "120.447     5\n",
              "129.452     5\n",
              "85.942      4\n",
              "125.045     4\n",
              "           ..\n",
              "89.408      1\n",
              "128.937     1\n",
              "99.111      1\n",
              "181.620     1\n",
              "74.515      1\n",
              "Name: tempo, Length: 17357, dtype: int64"
            ]
          },
          "metadata": {},
          "execution_count": 10
        }
      ],
      "source": [
        "df['tempo'].value_counts()"
      ]
    },
    {
      "cell_type": "markdown",
      "id": "2d6cce8c",
      "metadata": {
        "id": "2d6cce8c"
      },
      "source": [
        "The tempo column contains many zero values. We will replace the zero values with the mean of all the other non-zero values in the dataset."
      ]
    },
    {
      "cell_type": "code",
      "execution_count": 11,
      "id": "baa21b87",
      "metadata": {
        "colab": {
          "base_uri": "https://localhost:8080/"
        },
        "id": "baa21b87",
        "outputId": "8faf12c6-e926-4060-f998-3567aedc68f0"
      },
      "outputs": [
        {
          "output_type": "execute_result",
          "data": {
            "text/plain": [
              "110.388061    31\n",
              "120.447000     5\n",
              "129.452000     5\n",
              "85.942000      4\n",
              "125.045000     4\n",
              "              ..\n",
              "89.408000      1\n",
              "128.937000     1\n",
              "99.111000      1\n",
              "181.620000     1\n",
              "74.515000      1\n",
              "Name: tempo, Length: 17357, dtype: int64"
            ]
          },
          "metadata": {},
          "execution_count": 11
        }
      ],
      "source": [
        "df.loc[df['tempo'] == 0 , 'tempo'] = df.loc[df['tempo'] > 0 , 'tempo'].mean()\n",
        "\n",
        "df['tempo'].value_counts()"
      ]
    },
    {
      "cell_type": "markdown",
      "id": "bc135033",
      "metadata": {
        "id": "bc135033"
      },
      "source": [
        "The artist of the song can have a large impact on the popularity of the song. So we will add a new column artist_popularity containing the artist's mean popularity. For that we will also need the mean and count columns."
      ]
    },
    {
      "cell_type": "code",
      "execution_count": 12,
      "id": "cad1c7d1",
      "metadata": {
        "id": "cad1c7d1"
      },
      "outputs": [],
      "source": [
        "df['mean'] = df.groupby('artists')['popularity'].transform('mean')\n",
        "df['count'] = df.groupby('artists')['popularity'].transform('count')"
      ]
    },
    {
      "cell_type": "code",
      "execution_count": 13,
      "id": "1ed4e733",
      "metadata": {
        "id": "1ed4e733"
      },
      "outputs": [],
      "source": [
        "def get_artist_popularity(x, y):\n",
        "  result = y.groupby(x.artists).agg(['mean', 'count'])\n",
        "  result.loc[result['count'] <= 2, 'mean'] = y.mean()\n",
        "  result.loc[result['count'] >= 600, 'mean'] = 0\n",
        "  return result"
      ]
    },
    {
      "cell_type": "code",
      "execution_count": 14,
      "id": "e49423e7",
      "metadata": {
        "id": "e49423e7"
      },
      "outputs": [],
      "source": [
        "temp_df = df.drop('popularity', axis=1)\n",
        "result_df = get_artist_popularity(temp_df, df['popularity'])['mean']\n",
        "df['artist_popularity'] = np.where(df['artists'].isin(result_df.index), \n",
        "                                          df['artists'], \n",
        "                                          'unknown')\n",
        "df['artist_popularity'] = df['artist_popularity'].map(result_df)"
      ]
    },
    {
      "cell_type": "code",
      "execution_count": 15,
      "id": "7c0b3dbd",
      "metadata": {
        "colab": {
          "base_uri": "https://localhost:8080/",
          "height": 363
        },
        "id": "7c0b3dbd",
        "outputId": "aeba4175-7a84-413d-9587-ff15de5a279e"
      },
      "outputs": [
        {
          "output_type": "execute_result",
          "data": {
            "text/plain": [
              "                                  artists  artist_popularity\n",
              "18146                 ['Lata Mangeshkar']           2.700000\n",
              "16569                      ['Noor Jehan']           0.692308\n",
              "3333                      ['Sonny Davis']           0.000000\n",
              "755                       ['Mistinguett']           0.043478\n",
              "5962                   ['Boscoe Holders']           2.306193\n",
              "17816                   ['Frank Sinatra']          18.446429\n",
              "11618  ['Billie Holiday', 'Teddy Wilson']          13.487179\n",
              "7916         ['Tadeusz Dolega Mostowicz']           0.000000\n",
              "16749            ['Mohammed Abdel Wahab']           1.400000\n",
              "9807   ['Sinclair Lewis', 'Frank Arnold']           0.081871"
            ],
            "text/html": [
              "\n",
              "  <div id=\"df-b243c642-b592-40cc-973d-911140fbe214\">\n",
              "    <div class=\"colab-df-container\">\n",
              "      <div>\n",
              "<style scoped>\n",
              "    .dataframe tbody tr th:only-of-type {\n",
              "        vertical-align: middle;\n",
              "    }\n",
              "\n",
              "    .dataframe tbody tr th {\n",
              "        vertical-align: top;\n",
              "    }\n",
              "\n",
              "    .dataframe thead th {\n",
              "        text-align: right;\n",
              "    }\n",
              "</style>\n",
              "<table border=\"1\" class=\"dataframe\">\n",
              "  <thead>\n",
              "    <tr style=\"text-align: right;\">\n",
              "      <th></th>\n",
              "      <th>artists</th>\n",
              "      <th>artist_popularity</th>\n",
              "    </tr>\n",
              "  </thead>\n",
              "  <tbody>\n",
              "    <tr>\n",
              "      <th>18146</th>\n",
              "      <td>['Lata Mangeshkar']</td>\n",
              "      <td>2.700000</td>\n",
              "    </tr>\n",
              "    <tr>\n",
              "      <th>16569</th>\n",
              "      <td>['Noor Jehan']</td>\n",
              "      <td>0.692308</td>\n",
              "    </tr>\n",
              "    <tr>\n",
              "      <th>3333</th>\n",
              "      <td>['Sonny Davis']</td>\n",
              "      <td>0.000000</td>\n",
              "    </tr>\n",
              "    <tr>\n",
              "      <th>755</th>\n",
              "      <td>['Mistinguett']</td>\n",
              "      <td>0.043478</td>\n",
              "    </tr>\n",
              "    <tr>\n",
              "      <th>5962</th>\n",
              "      <td>['Boscoe Holders']</td>\n",
              "      <td>2.306193</td>\n",
              "    </tr>\n",
              "    <tr>\n",
              "      <th>17816</th>\n",
              "      <td>['Frank Sinatra']</td>\n",
              "      <td>18.446429</td>\n",
              "    </tr>\n",
              "    <tr>\n",
              "      <th>11618</th>\n",
              "      <td>['Billie Holiday', 'Teddy Wilson']</td>\n",
              "      <td>13.487179</td>\n",
              "    </tr>\n",
              "    <tr>\n",
              "      <th>7916</th>\n",
              "      <td>['Tadeusz Dolega Mostowicz']</td>\n",
              "      <td>0.000000</td>\n",
              "    </tr>\n",
              "    <tr>\n",
              "      <th>16749</th>\n",
              "      <td>['Mohammed Abdel Wahab']</td>\n",
              "      <td>1.400000</td>\n",
              "    </tr>\n",
              "    <tr>\n",
              "      <th>9807</th>\n",
              "      <td>['Sinclair Lewis', 'Frank Arnold']</td>\n",
              "      <td>0.081871</td>\n",
              "    </tr>\n",
              "  </tbody>\n",
              "</table>\n",
              "</div>\n",
              "      <button class=\"colab-df-convert\" onclick=\"convertToInteractive('df-b243c642-b592-40cc-973d-911140fbe214')\"\n",
              "              title=\"Convert this dataframe to an interactive table.\"\n",
              "              style=\"display:none;\">\n",
              "        \n",
              "  <svg xmlns=\"http://www.w3.org/2000/svg\" height=\"24px\"viewBox=\"0 0 24 24\"\n",
              "       width=\"24px\">\n",
              "    <path d=\"M0 0h24v24H0V0z\" fill=\"none\"/>\n",
              "    <path d=\"M18.56 5.44l.94 2.06.94-2.06 2.06-.94-2.06-.94-.94-2.06-.94 2.06-2.06.94zm-11 1L8.5 8.5l.94-2.06 2.06-.94-2.06-.94L8.5 2.5l-.94 2.06-2.06.94zm10 10l.94 2.06.94-2.06 2.06-.94-2.06-.94-.94-2.06-.94 2.06-2.06.94z\"/><path d=\"M17.41 7.96l-1.37-1.37c-.4-.4-.92-.59-1.43-.59-.52 0-1.04.2-1.43.59L10.3 9.45l-7.72 7.72c-.78.78-.78 2.05 0 2.83L4 21.41c.39.39.9.59 1.41.59.51 0 1.02-.2 1.41-.59l7.78-7.78 2.81-2.81c.8-.78.8-2.07 0-2.86zM5.41 20L4 18.59l7.72-7.72 1.47 1.35L5.41 20z\"/>\n",
              "  </svg>\n",
              "      </button>\n",
              "      \n",
              "  <style>\n",
              "    .colab-df-container {\n",
              "      display:flex;\n",
              "      flex-wrap:wrap;\n",
              "      gap: 12px;\n",
              "    }\n",
              "\n",
              "    .colab-df-convert {\n",
              "      background-color: #E8F0FE;\n",
              "      border: none;\n",
              "      border-radius: 50%;\n",
              "      cursor: pointer;\n",
              "      display: none;\n",
              "      fill: #1967D2;\n",
              "      height: 32px;\n",
              "      padding: 0 0 0 0;\n",
              "      width: 32px;\n",
              "    }\n",
              "\n",
              "    .colab-df-convert:hover {\n",
              "      background-color: #E2EBFA;\n",
              "      box-shadow: 0px 1px 2px rgba(60, 64, 67, 0.3), 0px 1px 3px 1px rgba(60, 64, 67, 0.15);\n",
              "      fill: #174EA6;\n",
              "    }\n",
              "\n",
              "    [theme=dark] .colab-df-convert {\n",
              "      background-color: #3B4455;\n",
              "      fill: #D2E3FC;\n",
              "    }\n",
              "\n",
              "    [theme=dark] .colab-df-convert:hover {\n",
              "      background-color: #434B5C;\n",
              "      box-shadow: 0px 1px 3px 1px rgba(0, 0, 0, 0.15);\n",
              "      filter: drop-shadow(0px 1px 2px rgba(0, 0, 0, 0.3));\n",
              "      fill: #FFFFFF;\n",
              "    }\n",
              "  </style>\n",
              "\n",
              "      <script>\n",
              "        const buttonEl =\n",
              "          document.querySelector('#df-b243c642-b592-40cc-973d-911140fbe214 button.colab-df-convert');\n",
              "        buttonEl.style.display =\n",
              "          google.colab.kernel.accessAllowed ? 'block' : 'none';\n",
              "\n",
              "        async function convertToInteractive(key) {\n",
              "          const element = document.querySelector('#df-b243c642-b592-40cc-973d-911140fbe214');\n",
              "          const dataTable =\n",
              "            await google.colab.kernel.invokeFunction('convertToInteractive',\n",
              "                                                     [key], {});\n",
              "          if (!dataTable) return;\n",
              "\n",
              "          const docLinkHtml = 'Like what you see? Visit the ' +\n",
              "            '<a target=\"_blank\" href=https://colab.research.google.com/notebooks/data_table.ipynb>data table notebook</a>'\n",
              "            + ' to learn more about interactive tables.';\n",
              "          element.innerHTML = '';\n",
              "          dataTable['output_type'] = 'display_data';\n",
              "          await google.colab.output.renderOutput(dataTable, element);\n",
              "          const docLink = document.createElement('div');\n",
              "          docLink.innerHTML = docLinkHtml;\n",
              "          element.appendChild(docLink);\n",
              "        }\n",
              "      </script>\n",
              "    </div>\n",
              "  </div>\n",
              "  "
            ]
          },
          "metadata": {},
          "execution_count": 15
        }
      ],
      "source": [
        "df[['artists', 'artist_popularity']].sample(10)"
      ]
    },
    {
      "cell_type": "markdown",
      "id": "4b4fb18e",
      "metadata": {
        "id": "4b4fb18e"
      },
      "source": [
        "We have identified 2 latent variables and added them into our dataframe through computation.\n",
        "\n",
        "Artists Popularity Years old (The songs released more recently have higher popularity)\n",
        "\n"
      ]
    },
    {
      "cell_type": "code",
      "execution_count": 16,
      "id": "0899ae70",
      "metadata": {
        "colab": {
          "base_uri": "https://localhost:8080/",
          "height": 404
        },
        "id": "0899ae70",
        "outputId": "43d71d14-1e6a-406f-edf2-d54d595ca392"
      },
      "outputs": [
        {
          "output_type": "execute_result",
          "data": {
            "text/plain": [
              "                       id                                 name  popularity  \\\n",
              "0  35iwgR4jXetI318WEWsa1Q                                Carve           6   \n",
              "1  021ht4sdgPcrDgSk7JTbKY  Capítulo 2.16 - Banquero Anarquista           0   \n",
              "2  07A5yehtSnoedViJAZkNnc   Vivo para Quererte - Remasterizado           0   \n",
              "3  08FmqUhxtyLTn6pAh6bk45        El Prisionero - Remasterizado           0   \n",
              "4  08y9GfoqCWfOGsKdwojr5e                  Lady of the Evening           0   \n",
              "\n",
              "   duration_ms  explicit              artists                  id_artists  \\\n",
              "0       126903         0              ['Uli']  ['45tIt06XoI0Iio4LBEVpls']   \n",
              "1        98200         0  ['Fernando Pessoa']  ['14jtPCOoNZwquk5wd9DxrY']   \n",
              "2       181640         0  ['Ignacio Corsini']  ['5LiOoJbxVSAMkBS2fUm3X2']   \n",
              "3       176907         0  ['Ignacio Corsini']  ['5LiOoJbxVSAMkBS2fUm3X2']   \n",
              "4       163080         0      ['Dick Haymes']  ['3BiJGZsyX9sJchTqcSA7Su']   \n",
              "\n",
              "  release_date  danceability  energy  ...  liveness  valence    tempo  \\\n",
              "0   1922-02-22         0.645  0.4450  ...     0.151    0.127  104.851   \n",
              "1   1922-06-01         0.695  0.2630  ...     0.148    0.655  102.009   \n",
              "2   1922-03-21         0.434  0.1770  ...     0.212    0.457  130.418   \n",
              "3   1922-03-21         0.321  0.0946  ...     0.104    0.397  169.980   \n",
              "4         1922         0.402  0.1580  ...     0.311    0.196  103.220   \n",
              "\n",
              "   time_signature  year  years_old      mean  count  artist_popularity  \\\n",
              "0             3.0  1922         24  1.000000      6           1.000000   \n",
              "1             1.0  1922         24  0.000000     50           0.000000   \n",
              "2             5.0  1922         24  0.066038    530           0.066038   \n",
              "3             3.0  1922         24  0.066038    530           0.066038   \n",
              "4             4.0  1922         24  2.687500     32           2.687500   \n",
              "\n",
              "   pop_bins  \n",
              "0  (-1, 49]  \n",
              "1  (-1, 49]  \n",
              "2  (-1, 49]  \n",
              "3  (-1, 49]  \n",
              "4  (-1, 49]  \n",
              "\n",
              "[5 rows x 26 columns]"
            ],
            "text/html": [
              "\n",
              "  <div id=\"df-4c34a6e9-3461-4d98-bd3a-d73657c63d46\">\n",
              "    <div class=\"colab-df-container\">\n",
              "      <div>\n",
              "<style scoped>\n",
              "    .dataframe tbody tr th:only-of-type {\n",
              "        vertical-align: middle;\n",
              "    }\n",
              "\n",
              "    .dataframe tbody tr th {\n",
              "        vertical-align: top;\n",
              "    }\n",
              "\n",
              "    .dataframe thead th {\n",
              "        text-align: right;\n",
              "    }\n",
              "</style>\n",
              "<table border=\"1\" class=\"dataframe\">\n",
              "  <thead>\n",
              "    <tr style=\"text-align: right;\">\n",
              "      <th></th>\n",
              "      <th>id</th>\n",
              "      <th>name</th>\n",
              "      <th>popularity</th>\n",
              "      <th>duration_ms</th>\n",
              "      <th>explicit</th>\n",
              "      <th>artists</th>\n",
              "      <th>id_artists</th>\n",
              "      <th>release_date</th>\n",
              "      <th>danceability</th>\n",
              "      <th>energy</th>\n",
              "      <th>...</th>\n",
              "      <th>liveness</th>\n",
              "      <th>valence</th>\n",
              "      <th>tempo</th>\n",
              "      <th>time_signature</th>\n",
              "      <th>year</th>\n",
              "      <th>years_old</th>\n",
              "      <th>mean</th>\n",
              "      <th>count</th>\n",
              "      <th>artist_popularity</th>\n",
              "      <th>pop_bins</th>\n",
              "    </tr>\n",
              "  </thead>\n",
              "  <tbody>\n",
              "    <tr>\n",
              "      <th>0</th>\n",
              "      <td>35iwgR4jXetI318WEWsa1Q</td>\n",
              "      <td>Carve</td>\n",
              "      <td>6</td>\n",
              "      <td>126903</td>\n",
              "      <td>0</td>\n",
              "      <td>['Uli']</td>\n",
              "      <td>['45tIt06XoI0Iio4LBEVpls']</td>\n",
              "      <td>1922-02-22</td>\n",
              "      <td>0.645</td>\n",
              "      <td>0.4450</td>\n",
              "      <td>...</td>\n",
              "      <td>0.151</td>\n",
              "      <td>0.127</td>\n",
              "      <td>104.851</td>\n",
              "      <td>3.0</td>\n",
              "      <td>1922</td>\n",
              "      <td>24</td>\n",
              "      <td>1.000000</td>\n",
              "      <td>6</td>\n",
              "      <td>1.000000</td>\n",
              "      <td>(-1, 49]</td>\n",
              "    </tr>\n",
              "    <tr>\n",
              "      <th>1</th>\n",
              "      <td>021ht4sdgPcrDgSk7JTbKY</td>\n",
              "      <td>Capítulo 2.16 - Banquero Anarquista</td>\n",
              "      <td>0</td>\n",
              "      <td>98200</td>\n",
              "      <td>0</td>\n",
              "      <td>['Fernando Pessoa']</td>\n",
              "      <td>['14jtPCOoNZwquk5wd9DxrY']</td>\n",
              "      <td>1922-06-01</td>\n",
              "      <td>0.695</td>\n",
              "      <td>0.2630</td>\n",
              "      <td>...</td>\n",
              "      <td>0.148</td>\n",
              "      <td>0.655</td>\n",
              "      <td>102.009</td>\n",
              "      <td>1.0</td>\n",
              "      <td>1922</td>\n",
              "      <td>24</td>\n",
              "      <td>0.000000</td>\n",
              "      <td>50</td>\n",
              "      <td>0.000000</td>\n",
              "      <td>(-1, 49]</td>\n",
              "    </tr>\n",
              "    <tr>\n",
              "      <th>2</th>\n",
              "      <td>07A5yehtSnoedViJAZkNnc</td>\n",
              "      <td>Vivo para Quererte - Remasterizado</td>\n",
              "      <td>0</td>\n",
              "      <td>181640</td>\n",
              "      <td>0</td>\n",
              "      <td>['Ignacio Corsini']</td>\n",
              "      <td>['5LiOoJbxVSAMkBS2fUm3X2']</td>\n",
              "      <td>1922-03-21</td>\n",
              "      <td>0.434</td>\n",
              "      <td>0.1770</td>\n",
              "      <td>...</td>\n",
              "      <td>0.212</td>\n",
              "      <td>0.457</td>\n",
              "      <td>130.418</td>\n",
              "      <td>5.0</td>\n",
              "      <td>1922</td>\n",
              "      <td>24</td>\n",
              "      <td>0.066038</td>\n",
              "      <td>530</td>\n",
              "      <td>0.066038</td>\n",
              "      <td>(-1, 49]</td>\n",
              "    </tr>\n",
              "    <tr>\n",
              "      <th>3</th>\n",
              "      <td>08FmqUhxtyLTn6pAh6bk45</td>\n",
              "      <td>El Prisionero - Remasterizado</td>\n",
              "      <td>0</td>\n",
              "      <td>176907</td>\n",
              "      <td>0</td>\n",
              "      <td>['Ignacio Corsini']</td>\n",
              "      <td>['5LiOoJbxVSAMkBS2fUm3X2']</td>\n",
              "      <td>1922-03-21</td>\n",
              "      <td>0.321</td>\n",
              "      <td>0.0946</td>\n",
              "      <td>...</td>\n",
              "      <td>0.104</td>\n",
              "      <td>0.397</td>\n",
              "      <td>169.980</td>\n",
              "      <td>3.0</td>\n",
              "      <td>1922</td>\n",
              "      <td>24</td>\n",
              "      <td>0.066038</td>\n",
              "      <td>530</td>\n",
              "      <td>0.066038</td>\n",
              "      <td>(-1, 49]</td>\n",
              "    </tr>\n",
              "    <tr>\n",
              "      <th>4</th>\n",
              "      <td>08y9GfoqCWfOGsKdwojr5e</td>\n",
              "      <td>Lady of the Evening</td>\n",
              "      <td>0</td>\n",
              "      <td>163080</td>\n",
              "      <td>0</td>\n",
              "      <td>['Dick Haymes']</td>\n",
              "      <td>['3BiJGZsyX9sJchTqcSA7Su']</td>\n",
              "      <td>1922</td>\n",
              "      <td>0.402</td>\n",
              "      <td>0.1580</td>\n",
              "      <td>...</td>\n",
              "      <td>0.311</td>\n",
              "      <td>0.196</td>\n",
              "      <td>103.220</td>\n",
              "      <td>4.0</td>\n",
              "      <td>1922</td>\n",
              "      <td>24</td>\n",
              "      <td>2.687500</td>\n",
              "      <td>32</td>\n",
              "      <td>2.687500</td>\n",
              "      <td>(-1, 49]</td>\n",
              "    </tr>\n",
              "  </tbody>\n",
              "</table>\n",
              "<p>5 rows × 26 columns</p>\n",
              "</div>\n",
              "      <button class=\"colab-df-convert\" onclick=\"convertToInteractive('df-4c34a6e9-3461-4d98-bd3a-d73657c63d46')\"\n",
              "              title=\"Convert this dataframe to an interactive table.\"\n",
              "              style=\"display:none;\">\n",
              "        \n",
              "  <svg xmlns=\"http://www.w3.org/2000/svg\" height=\"24px\"viewBox=\"0 0 24 24\"\n",
              "       width=\"24px\">\n",
              "    <path d=\"M0 0h24v24H0V0z\" fill=\"none\"/>\n",
              "    <path d=\"M18.56 5.44l.94 2.06.94-2.06 2.06-.94-2.06-.94-.94-2.06-.94 2.06-2.06.94zm-11 1L8.5 8.5l.94-2.06 2.06-.94-2.06-.94L8.5 2.5l-.94 2.06-2.06.94zm10 10l.94 2.06.94-2.06 2.06-.94-2.06-.94-.94-2.06-.94 2.06-2.06.94z\"/><path d=\"M17.41 7.96l-1.37-1.37c-.4-.4-.92-.59-1.43-.59-.52 0-1.04.2-1.43.59L10.3 9.45l-7.72 7.72c-.78.78-.78 2.05 0 2.83L4 21.41c.39.39.9.59 1.41.59.51 0 1.02-.2 1.41-.59l7.78-7.78 2.81-2.81c.8-.78.8-2.07 0-2.86zM5.41 20L4 18.59l7.72-7.72 1.47 1.35L5.41 20z\"/>\n",
              "  </svg>\n",
              "      </button>\n",
              "      \n",
              "  <style>\n",
              "    .colab-df-container {\n",
              "      display:flex;\n",
              "      flex-wrap:wrap;\n",
              "      gap: 12px;\n",
              "    }\n",
              "\n",
              "    .colab-df-convert {\n",
              "      background-color: #E8F0FE;\n",
              "      border: none;\n",
              "      border-radius: 50%;\n",
              "      cursor: pointer;\n",
              "      display: none;\n",
              "      fill: #1967D2;\n",
              "      height: 32px;\n",
              "      padding: 0 0 0 0;\n",
              "      width: 32px;\n",
              "    }\n",
              "\n",
              "    .colab-df-convert:hover {\n",
              "      background-color: #E2EBFA;\n",
              "      box-shadow: 0px 1px 2px rgba(60, 64, 67, 0.3), 0px 1px 3px 1px rgba(60, 64, 67, 0.15);\n",
              "      fill: #174EA6;\n",
              "    }\n",
              "\n",
              "    [theme=dark] .colab-df-convert {\n",
              "      background-color: #3B4455;\n",
              "      fill: #D2E3FC;\n",
              "    }\n",
              "\n",
              "    [theme=dark] .colab-df-convert:hover {\n",
              "      background-color: #434B5C;\n",
              "      box-shadow: 0px 1px 3px 1px rgba(0, 0, 0, 0.15);\n",
              "      filter: drop-shadow(0px 1px 2px rgba(0, 0, 0, 0.3));\n",
              "      fill: #FFFFFF;\n",
              "    }\n",
              "  </style>\n",
              "\n",
              "      <script>\n",
              "        const buttonEl =\n",
              "          document.querySelector('#df-4c34a6e9-3461-4d98-bd3a-d73657c63d46 button.colab-df-convert');\n",
              "        buttonEl.style.display =\n",
              "          google.colab.kernel.accessAllowed ? 'block' : 'none';\n",
              "\n",
              "        async function convertToInteractive(key) {\n",
              "          const element = document.querySelector('#df-4c34a6e9-3461-4d98-bd3a-d73657c63d46');\n",
              "          const dataTable =\n",
              "            await google.colab.kernel.invokeFunction('convertToInteractive',\n",
              "                                                     [key], {});\n",
              "          if (!dataTable) return;\n",
              "\n",
              "          const docLinkHtml = 'Like what you see? Visit the ' +\n",
              "            '<a target=\"_blank\" href=https://colab.research.google.com/notebooks/data_table.ipynb>data table notebook</a>'\n",
              "            + ' to learn more about interactive tables.';\n",
              "          element.innerHTML = '';\n",
              "          dataTable['output_type'] = 'display_data';\n",
              "          await google.colab.output.renderOutput(dataTable, element);\n",
              "          const docLink = document.createElement('div');\n",
              "          docLink.innerHTML = docLinkHtml;\n",
              "          element.appendChild(docLink);\n",
              "        }\n",
              "      </script>\n",
              "    </div>\n",
              "  </div>\n",
              "  "
            ]
          },
          "metadata": {},
          "execution_count": 16
        }
      ],
      "source": [
        "df['pop_bins'] = pd.cut(x=df['popularity'], bins=[-1, 49, 100])\n",
        "df.head()"
      ]
    },
    {
      "cell_type": "code",
      "execution_count": 17,
      "id": "09c2e789",
      "metadata": {
        "colab": {
          "base_uri": "https://localhost:8080/"
        },
        "id": "09c2e789",
        "outputId": "8943a659-70a1-405f-811b-f483eb70fa56"
      },
      "outputs": [
        {
          "output_type": "execute_result",
          "data": {
            "text/plain": [
              "[(-1, 49], (49, 100]]\n",
              "Categories (2, interval[int64, right]): [(-1, 49] < (49, 100]]"
            ]
          },
          "metadata": {},
          "execution_count": 17
        }
      ],
      "source": [
        "df['pop_bins'].unique()"
      ]
    },
    {
      "cell_type": "code",
      "execution_count": 18,
      "id": "2f3b67b9",
      "metadata": {
        "colab": {
          "base_uri": "https://localhost:8080/"
        },
        "id": "2f3b67b9",
        "outputId": "fb5c7f11-16e4-4f3c-e287-b7b74224797e"
      },
      "outputs": [
        {
          "output_type": "execute_result",
          "data": {
            "text/plain": [
              "0"
            ]
          },
          "metadata": {},
          "execution_count": 18
        }
      ],
      "source": [
        "df['pop_bins'].isna().sum()"
      ]
    },
    {
      "cell_type": "code",
      "execution_count": 19,
      "id": "408e818e",
      "metadata": {
        "colab": {
          "base_uri": "https://localhost:8080/",
          "height": 404
        },
        "id": "408e818e",
        "outputId": "56494171-9173-4824-925e-a4b39a458fb7"
      },
      "outputs": [
        {
          "output_type": "execute_result",
          "data": {
            "text/plain": [
              "                       id                                 name  popularity  \\\n",
              "0  35iwgR4jXetI318WEWsa1Q                                Carve           6   \n",
              "1  021ht4sdgPcrDgSk7JTbKY  Capítulo 2.16 - Banquero Anarquista           0   \n",
              "2  07A5yehtSnoedViJAZkNnc   Vivo para Quererte - Remasterizado           0   \n",
              "3  08FmqUhxtyLTn6pAh6bk45        El Prisionero - Remasterizado           0   \n",
              "4  08y9GfoqCWfOGsKdwojr5e                  Lady of the Evening           0   \n",
              "\n",
              "   duration_ms  explicit              artists                  id_artists  \\\n",
              "0       126903         0              ['Uli']  ['45tIt06XoI0Iio4LBEVpls']   \n",
              "1        98200         0  ['Fernando Pessoa']  ['14jtPCOoNZwquk5wd9DxrY']   \n",
              "2       181640         0  ['Ignacio Corsini']  ['5LiOoJbxVSAMkBS2fUm3X2']   \n",
              "3       176907         0  ['Ignacio Corsini']  ['5LiOoJbxVSAMkBS2fUm3X2']   \n",
              "4       163080         0      ['Dick Haymes']  ['3BiJGZsyX9sJchTqcSA7Su']   \n",
              "\n",
              "  release_date  danceability  energy  ...  valence    tempo  time_signature  \\\n",
              "0   1922-02-22         0.645  0.4450  ...    0.127  104.851             3.0   \n",
              "1   1922-06-01         0.695  0.2630  ...    0.655  102.009             1.0   \n",
              "2   1922-03-21         0.434  0.1770  ...    0.457  130.418             5.0   \n",
              "3   1922-03-21         0.321  0.0946  ...    0.397  169.980             3.0   \n",
              "4         1922         0.402  0.1580  ...    0.196  103.220             4.0   \n",
              "\n",
              "   year  years_old      mean  count  artist_popularity  pop_bins  popular  \n",
              "0  1922         24  1.000000      6           1.000000  (-1, 49]        0  \n",
              "1  1922         24  0.000000     50           0.000000  (-1, 49]        0  \n",
              "2  1922         24  0.066038    530           0.066038  (-1, 49]        0  \n",
              "3  1922         24  0.066038    530           0.066038  (-1, 49]        0  \n",
              "4  1922         24  2.687500     32           2.687500  (-1, 49]        0  \n",
              "\n",
              "[5 rows x 27 columns]"
            ],
            "text/html": [
              "\n",
              "  <div id=\"df-8451a79b-9b55-4758-8e86-14e0b8683f92\">\n",
              "    <div class=\"colab-df-container\">\n",
              "      <div>\n",
              "<style scoped>\n",
              "    .dataframe tbody tr th:only-of-type {\n",
              "        vertical-align: middle;\n",
              "    }\n",
              "\n",
              "    .dataframe tbody tr th {\n",
              "        vertical-align: top;\n",
              "    }\n",
              "\n",
              "    .dataframe thead th {\n",
              "        text-align: right;\n",
              "    }\n",
              "</style>\n",
              "<table border=\"1\" class=\"dataframe\">\n",
              "  <thead>\n",
              "    <tr style=\"text-align: right;\">\n",
              "      <th></th>\n",
              "      <th>id</th>\n",
              "      <th>name</th>\n",
              "      <th>popularity</th>\n",
              "      <th>duration_ms</th>\n",
              "      <th>explicit</th>\n",
              "      <th>artists</th>\n",
              "      <th>id_artists</th>\n",
              "      <th>release_date</th>\n",
              "      <th>danceability</th>\n",
              "      <th>energy</th>\n",
              "      <th>...</th>\n",
              "      <th>valence</th>\n",
              "      <th>tempo</th>\n",
              "      <th>time_signature</th>\n",
              "      <th>year</th>\n",
              "      <th>years_old</th>\n",
              "      <th>mean</th>\n",
              "      <th>count</th>\n",
              "      <th>artist_popularity</th>\n",
              "      <th>pop_bins</th>\n",
              "      <th>popular</th>\n",
              "    </tr>\n",
              "  </thead>\n",
              "  <tbody>\n",
              "    <tr>\n",
              "      <th>0</th>\n",
              "      <td>35iwgR4jXetI318WEWsa1Q</td>\n",
              "      <td>Carve</td>\n",
              "      <td>6</td>\n",
              "      <td>126903</td>\n",
              "      <td>0</td>\n",
              "      <td>['Uli']</td>\n",
              "      <td>['45tIt06XoI0Iio4LBEVpls']</td>\n",
              "      <td>1922-02-22</td>\n",
              "      <td>0.645</td>\n",
              "      <td>0.4450</td>\n",
              "      <td>...</td>\n",
              "      <td>0.127</td>\n",
              "      <td>104.851</td>\n",
              "      <td>3.0</td>\n",
              "      <td>1922</td>\n",
              "      <td>24</td>\n",
              "      <td>1.000000</td>\n",
              "      <td>6</td>\n",
              "      <td>1.000000</td>\n",
              "      <td>(-1, 49]</td>\n",
              "      <td>0</td>\n",
              "    </tr>\n",
              "    <tr>\n",
              "      <th>1</th>\n",
              "      <td>021ht4sdgPcrDgSk7JTbKY</td>\n",
              "      <td>Capítulo 2.16 - Banquero Anarquista</td>\n",
              "      <td>0</td>\n",
              "      <td>98200</td>\n",
              "      <td>0</td>\n",
              "      <td>['Fernando Pessoa']</td>\n",
              "      <td>['14jtPCOoNZwquk5wd9DxrY']</td>\n",
              "      <td>1922-06-01</td>\n",
              "      <td>0.695</td>\n",
              "      <td>0.2630</td>\n",
              "      <td>...</td>\n",
              "      <td>0.655</td>\n",
              "      <td>102.009</td>\n",
              "      <td>1.0</td>\n",
              "      <td>1922</td>\n",
              "      <td>24</td>\n",
              "      <td>0.000000</td>\n",
              "      <td>50</td>\n",
              "      <td>0.000000</td>\n",
              "      <td>(-1, 49]</td>\n",
              "      <td>0</td>\n",
              "    </tr>\n",
              "    <tr>\n",
              "      <th>2</th>\n",
              "      <td>07A5yehtSnoedViJAZkNnc</td>\n",
              "      <td>Vivo para Quererte - Remasterizado</td>\n",
              "      <td>0</td>\n",
              "      <td>181640</td>\n",
              "      <td>0</td>\n",
              "      <td>['Ignacio Corsini']</td>\n",
              "      <td>['5LiOoJbxVSAMkBS2fUm3X2']</td>\n",
              "      <td>1922-03-21</td>\n",
              "      <td>0.434</td>\n",
              "      <td>0.1770</td>\n",
              "      <td>...</td>\n",
              "      <td>0.457</td>\n",
              "      <td>130.418</td>\n",
              "      <td>5.0</td>\n",
              "      <td>1922</td>\n",
              "      <td>24</td>\n",
              "      <td>0.066038</td>\n",
              "      <td>530</td>\n",
              "      <td>0.066038</td>\n",
              "      <td>(-1, 49]</td>\n",
              "      <td>0</td>\n",
              "    </tr>\n",
              "    <tr>\n",
              "      <th>3</th>\n",
              "      <td>08FmqUhxtyLTn6pAh6bk45</td>\n",
              "      <td>El Prisionero - Remasterizado</td>\n",
              "      <td>0</td>\n",
              "      <td>176907</td>\n",
              "      <td>0</td>\n",
              "      <td>['Ignacio Corsini']</td>\n",
              "      <td>['5LiOoJbxVSAMkBS2fUm3X2']</td>\n",
              "      <td>1922-03-21</td>\n",
              "      <td>0.321</td>\n",
              "      <td>0.0946</td>\n",
              "      <td>...</td>\n",
              "      <td>0.397</td>\n",
              "      <td>169.980</td>\n",
              "      <td>3.0</td>\n",
              "      <td>1922</td>\n",
              "      <td>24</td>\n",
              "      <td>0.066038</td>\n",
              "      <td>530</td>\n",
              "      <td>0.066038</td>\n",
              "      <td>(-1, 49]</td>\n",
              "      <td>0</td>\n",
              "    </tr>\n",
              "    <tr>\n",
              "      <th>4</th>\n",
              "      <td>08y9GfoqCWfOGsKdwojr5e</td>\n",
              "      <td>Lady of the Evening</td>\n",
              "      <td>0</td>\n",
              "      <td>163080</td>\n",
              "      <td>0</td>\n",
              "      <td>['Dick Haymes']</td>\n",
              "      <td>['3BiJGZsyX9sJchTqcSA7Su']</td>\n",
              "      <td>1922</td>\n",
              "      <td>0.402</td>\n",
              "      <td>0.1580</td>\n",
              "      <td>...</td>\n",
              "      <td>0.196</td>\n",
              "      <td>103.220</td>\n",
              "      <td>4.0</td>\n",
              "      <td>1922</td>\n",
              "      <td>24</td>\n",
              "      <td>2.687500</td>\n",
              "      <td>32</td>\n",
              "      <td>2.687500</td>\n",
              "      <td>(-1, 49]</td>\n",
              "      <td>0</td>\n",
              "    </tr>\n",
              "  </tbody>\n",
              "</table>\n",
              "<p>5 rows × 27 columns</p>\n",
              "</div>\n",
              "      <button class=\"colab-df-convert\" onclick=\"convertToInteractive('df-8451a79b-9b55-4758-8e86-14e0b8683f92')\"\n",
              "              title=\"Convert this dataframe to an interactive table.\"\n",
              "              style=\"display:none;\">\n",
              "        \n",
              "  <svg xmlns=\"http://www.w3.org/2000/svg\" height=\"24px\"viewBox=\"0 0 24 24\"\n",
              "       width=\"24px\">\n",
              "    <path d=\"M0 0h24v24H0V0z\" fill=\"none\"/>\n",
              "    <path d=\"M18.56 5.44l.94 2.06.94-2.06 2.06-.94-2.06-.94-.94-2.06-.94 2.06-2.06.94zm-11 1L8.5 8.5l.94-2.06 2.06-.94-2.06-.94L8.5 2.5l-.94 2.06-2.06.94zm10 10l.94 2.06.94-2.06 2.06-.94-2.06-.94-.94-2.06-.94 2.06-2.06.94z\"/><path d=\"M17.41 7.96l-1.37-1.37c-.4-.4-.92-.59-1.43-.59-.52 0-1.04.2-1.43.59L10.3 9.45l-7.72 7.72c-.78.78-.78 2.05 0 2.83L4 21.41c.39.39.9.59 1.41.59.51 0 1.02-.2 1.41-.59l7.78-7.78 2.81-2.81c.8-.78.8-2.07 0-2.86zM5.41 20L4 18.59l7.72-7.72 1.47 1.35L5.41 20z\"/>\n",
              "  </svg>\n",
              "      </button>\n",
              "      \n",
              "  <style>\n",
              "    .colab-df-container {\n",
              "      display:flex;\n",
              "      flex-wrap:wrap;\n",
              "      gap: 12px;\n",
              "    }\n",
              "\n",
              "    .colab-df-convert {\n",
              "      background-color: #E8F0FE;\n",
              "      border: none;\n",
              "      border-radius: 50%;\n",
              "      cursor: pointer;\n",
              "      display: none;\n",
              "      fill: #1967D2;\n",
              "      height: 32px;\n",
              "      padding: 0 0 0 0;\n",
              "      width: 32px;\n",
              "    }\n",
              "\n",
              "    .colab-df-convert:hover {\n",
              "      background-color: #E2EBFA;\n",
              "      box-shadow: 0px 1px 2px rgba(60, 64, 67, 0.3), 0px 1px 3px 1px rgba(60, 64, 67, 0.15);\n",
              "      fill: #174EA6;\n",
              "    }\n",
              "\n",
              "    [theme=dark] .colab-df-convert {\n",
              "      background-color: #3B4455;\n",
              "      fill: #D2E3FC;\n",
              "    }\n",
              "\n",
              "    [theme=dark] .colab-df-convert:hover {\n",
              "      background-color: #434B5C;\n",
              "      box-shadow: 0px 1px 3px 1px rgba(0, 0, 0, 0.15);\n",
              "      filter: drop-shadow(0px 1px 2px rgba(0, 0, 0, 0.3));\n",
              "      fill: #FFFFFF;\n",
              "    }\n",
              "  </style>\n",
              "\n",
              "      <script>\n",
              "        const buttonEl =\n",
              "          document.querySelector('#df-8451a79b-9b55-4758-8e86-14e0b8683f92 button.colab-df-convert');\n",
              "        buttonEl.style.display =\n",
              "          google.colab.kernel.accessAllowed ? 'block' : 'none';\n",
              "\n",
              "        async function convertToInteractive(key) {\n",
              "          const element = document.querySelector('#df-8451a79b-9b55-4758-8e86-14e0b8683f92');\n",
              "          const dataTable =\n",
              "            await google.colab.kernel.invokeFunction('convertToInteractive',\n",
              "                                                     [key], {});\n",
              "          if (!dataTable) return;\n",
              "\n",
              "          const docLinkHtml = 'Like what you see? Visit the ' +\n",
              "            '<a target=\"_blank\" href=https://colab.research.google.com/notebooks/data_table.ipynb>data table notebook</a>'\n",
              "            + ' to learn more about interactive tables.';\n",
              "          element.innerHTML = '';\n",
              "          dataTable['output_type'] = 'display_data';\n",
              "          await google.colab.output.renderOutput(dataTable, element);\n",
              "          const docLink = document.createElement('div');\n",
              "          docLink.innerHTML = docLinkHtml;\n",
              "          element.appendChild(docLink);\n",
              "        }\n",
              "      </script>\n",
              "    </div>\n",
              "  </div>\n",
              "  "
            ]
          },
          "metadata": {},
          "execution_count": 19
        }
      ],
      "source": [
        "df['popular'] = pd.cut(x=df['popularity'], bins=[-1, 49, 100], labels=[0, 1])\n",
        "df.head()"
      ]
    },
    {
      "cell_type": "code",
      "execution_count": 20,
      "id": "d99fe2b1",
      "metadata": {
        "colab": {
          "base_uri": "https://localhost:8080/"
        },
        "id": "d99fe2b1",
        "outputId": "928684f8-8756-40af-9e32-4e9e8749d59a"
      },
      "outputs": [
        {
          "output_type": "execute_result",
          "data": {
            "text/plain": [
              "0    0.998889\n",
              "1    0.001111\n",
              "Name: popular, dtype: float64"
            ]
          },
          "metadata": {},
          "execution_count": 20
        }
      ],
      "source": [
        "df['popular'].value_counts(normalize=True)"
      ]
    },
    {
      "cell_type": "markdown",
      "id": "8343cfbb",
      "metadata": {
        "id": "8343cfbb"
      },
      "source": [
        "Feature Selection"
      ]
    },
    {
      "cell_type": "code",
      "execution_count": 21,
      "id": "ee8b5e9e",
      "metadata": {
        "id": "ee8b5e9e"
      },
      "outputs": [],
      "source": [
        "input_columns = ['years_old', 'duration_ms', 'explicit', 'danceability', 'energy', 'key', \n",
        "                 'loudness', 'mode', 'speechiness', 'acousticness', 'instrumentalness', \n",
        "                 'liveness', 'valence', 'tempo', 'time_signature', 'artist_popularity']\n",
        "\n",
        "target_column = 'popular'"
      ]
    },
    {
      "cell_type": "markdown",
      "id": "31a18ccb",
      "metadata": {
        "id": "31a18ccb"
      },
      "source": [
        "We have two columns that are categorical and we can use one hot encoder to convert the categorical variables"
      ]
    },
    {
      "cell_type": "code",
      "execution_count": 22,
      "id": "afb89a3d",
      "metadata": {
        "colab": {
          "base_uri": "https://localhost:8080/"
        },
        "id": "afb89a3d",
        "outputId": "476433d0-41ff-4ccd-8dc6-5e38f1ea8a2b"
      },
      "outputs": [
        {
          "output_type": "execute_result",
          "data": {
            "text/plain": [
              "0     2212\n",
              "5     2143\n",
              "7     2141\n",
              "1     2067\n",
              "2     1761\n",
              "9     1706\n",
              "10    1653\n",
              "3     1395\n",
              "8     1390\n",
              "4     1229\n",
              "6     1107\n",
              "11     994\n",
              "Name: key, dtype: int64"
            ]
          },
          "metadata": {},
          "execution_count": 22
        }
      ],
      "source": [
        "df['key'].value_counts()"
      ]
    },
    {
      "cell_type": "code",
      "execution_count": 23,
      "id": "01687c06",
      "metadata": {
        "colab": {
          "base_uri": "https://localhost:8080/"
        },
        "id": "01687c06",
        "outputId": "c7d30f51-8065-41d5-98f3-6e882d5db169"
      },
      "outputs": [
        {
          "output_type": "execute_result",
          "data": {
            "text/plain": [
              "4.0    14080\n",
              "3.0     4115\n",
              "5.0      999\n",
              "1.0      572\n",
              "0.0       31\n",
              "Name: time_signature, dtype: int64"
            ]
          },
          "metadata": {},
          "execution_count": 23
        }
      ],
      "source": [
        "df['time_signature'].value_counts()"
      ]
    },
    {
      "cell_type": "markdown",
      "id": "e7ea4a85",
      "metadata": {
        "id": "e7ea4a85"
      },
      "source": [
        "Training, Validation and Test Split"
      ]
    },
    {
      "cell_type": "code",
      "execution_count": 24,
      "id": "61de2f5c",
      "metadata": {
        "colab": {
          "base_uri": "https://localhost:8080/"
        },
        "id": "61de2f5c",
        "outputId": "308e5573-40f3-4dc5-ee51-e1e890e421a1"
      },
      "outputs": [
        {
          "output_type": "stream",
          "name": "stdout",
          "text": [
            "train_df (11878, 27)\n",
            "val_df (3960, 27)\n",
            "test_df (3960, 27)\n"
          ]
        }
      ],
      "source": [
        "train_val_df, test_df = train_test_split(df, test_size=0.2, random_state=42)\n",
        "train_df, val_df = train_test_split(train_val_df, test_size=0.25, random_state=42)\n",
        "print('train_df', train_df.shape)\n",
        "print('val_df', val_df.shape)\n",
        "print('test_df', test_df.shape)"
      ]
    },
    {
      "cell_type": "code",
      "execution_count": 25,
      "id": "5e478992",
      "metadata": {
        "id": "5e478992"
      },
      "outputs": [],
      "source": [
        "train_inputs = train_df[input_columns].copy()\n",
        "val_inputs = val_df[input_columns].copy()\n",
        "test_inputs = test_df[input_columns].copy()"
      ]
    },
    {
      "cell_type": "code",
      "execution_count": 26,
      "id": "811534a2",
      "metadata": {
        "id": "811534a2"
      },
      "outputs": [],
      "source": [
        "Y_train = train_df[target_column].copy()\n",
        "Y_val = val_df[target_column].copy()\n",
        "Y_test = test_df[target_column].copy()"
      ]
    },
    {
      "cell_type": "code",
      "execution_count": 27,
      "id": "a17b4e65",
      "metadata": {
        "colab": {
          "base_uri": "https://localhost:8080/"
        },
        "id": "a17b4e65",
        "outputId": "2a703c5b-87e8-4dca-b668-3a1955449998"
      },
      "outputs": [
        {
          "output_type": "execute_result",
          "data": {
            "text/plain": [
              "years_old            0\n",
              "duration_ms          0\n",
              "explicit             0\n",
              "danceability         0\n",
              "energy               0\n",
              "key                  0\n",
              "loudness             0\n",
              "mode                 0\n",
              "speechiness          0\n",
              "acousticness         0\n",
              "instrumentalness     0\n",
              "liveness             0\n",
              "valence              0\n",
              "tempo                0\n",
              "time_signature       1\n",
              "artist_popularity    0\n",
              "dtype: int64"
            ]
          },
          "metadata": {},
          "execution_count": 27
        }
      ],
      "source": [
        "df[input_columns].isna().sum()"
      ]
    },
    {
      "cell_type": "markdown",
      "id": "3b681f81",
      "metadata": {
        "id": "3b681f81"
      },
      "source": [
        "scaling the columns"
      ]
    },
    {
      "cell_type": "code",
      "execution_count": 28,
      "id": "088f4344",
      "metadata": {
        "id": "088f4344"
      },
      "outputs": [],
      "source": [
        "numeric_cols = ['years_old', 'duration_ms', 'explicit', 'danceability', 'energy', \n",
        "                'loudness', 'mode', 'speechiness', 'acousticness', 'instrumentalness', \n",
        "                'liveness', 'valence', 'tempo', 'artist_popularity']\n",
        "categorical_cols = ['key', 'time_signature']"
      ]
    },
    {
      "cell_type": "code",
      "execution_count": 29,
      "id": "f718233e",
      "metadata": {
        "id": "f718233e"
      },
      "outputs": [],
      "source": [
        "scaler = MinMaxScaler().fit(df[numeric_cols])"
      ]
    },
    {
      "cell_type": "code",
      "execution_count": 30,
      "id": "32e4d35d",
      "metadata": {
        "id": "32e4d35d"
      },
      "outputs": [],
      "source": [
        "train_inputs[numeric_cols] = scaler.transform(train_inputs[numeric_cols])\n",
        "val_inputs[numeric_cols] = scaler.transform(val_inputs[numeric_cols])\n",
        "test_inputs[numeric_cols] = scaler.transform(test_inputs[numeric_cols])"
      ]
    },
    {
      "cell_type": "markdown",
      "id": "701361c7",
      "metadata": {
        "id": "701361c7"
      },
      "source": [
        "One-hot encoder"
      ]
    },
    {
      "cell_type": "code",
      "execution_count": 31,
      "id": "2fc8149b",
      "metadata": {
        "colab": {
          "base_uri": "https://localhost:8080/"
        },
        "id": "2fc8149b",
        "outputId": "fc0992d8-5487-4396-cdf7-0a1f1e58fd99"
      },
      "outputs": [
        {
          "output_type": "stream",
          "name": "stderr",
          "text": [
            "/usr/local/lib/python3.7/dist-packages/sklearn/utils/deprecation.py:87: FutureWarning:\n",
            "\n",
            "Function get_feature_names is deprecated; get_feature_names is deprecated in 1.0 and will be removed in 1.2. Please use get_feature_names_out instead.\n",
            "\n"
          ]
        }
      ],
      "source": [
        "encoder = OneHotEncoder(sparse=False, handle_unknown='ignore').fit(df[categorical_cols])\n",
        "encoded_cols = list(encoder.get_feature_names(categorical_cols))"
      ]
    },
    {
      "cell_type": "code",
      "execution_count": 32,
      "id": "1b3674db",
      "metadata": {
        "id": "1b3674db"
      },
      "outputs": [],
      "source": [
        "train_inputs[encoded_cols] = encoder.transform(train_inputs[categorical_cols])\n",
        "val_inputs[encoded_cols] = encoder.transform(val_inputs[categorical_cols])\n",
        "test_inputs[encoded_cols] = encoder.transform(test_inputs[categorical_cols])"
      ]
    },
    {
      "cell_type": "code",
      "execution_count": 33,
      "id": "80dce804",
      "metadata": {
        "id": "80dce804"
      },
      "outputs": [],
      "source": [
        "X_train = train_inputs[numeric_cols + encoded_cols]\n",
        "X_val = val_inputs[numeric_cols + encoded_cols]\n",
        "X_test = test_inputs[numeric_cols + encoded_cols]"
      ]
    },
    {
      "cell_type": "code",
      "source": [
        "X_train.columns"
      ],
      "metadata": {
        "colab": {
          "base_uri": "https://localhost:8080/"
        },
        "id": "HRXloFy7rB9c",
        "outputId": "8548fe66-99d8-4628-9d8f-2e38b5fa399a"
      },
      "id": "HRXloFy7rB9c",
      "execution_count": 34,
      "outputs": [
        {
          "output_type": "execute_result",
          "data": {
            "text/plain": [
              "Index(['years_old', 'duration_ms', 'explicit', 'danceability', 'energy',\n",
              "       'loudness', 'mode', 'speechiness', 'acousticness', 'instrumentalness',\n",
              "       'liveness', 'valence', 'tempo', 'artist_popularity', 'key_0', 'key_1',\n",
              "       'key_2', 'key_3', 'key_4', 'key_5', 'key_6', 'key_7', 'key_8', 'key_9',\n",
              "       'key_10', 'key_11', 'time_signature_0.0', 'time_signature_1.0',\n",
              "       'time_signature_3.0', 'time_signature_4.0', 'time_signature_5.0',\n",
              "       'time_signature_nan'],\n",
              "      dtype='object')"
            ]
          },
          "metadata": {},
          "execution_count": 34
        }
      ]
    },
    {
      "cell_type": "markdown",
      "id": "9cc4147b",
      "metadata": {
        "id": "9cc4147b"
      },
      "source": [
        "Classification Task\n",
        "\n",
        "we are going to perform Muller Classification Loop using the 5 classification algorithms.\n",
        "\n",
        "1.DecisionTree\n",
        "2.RandomForest\n",
        "3.AdaBoost\n",
        "4.GradientBoosting\n",
        "5.KNN"
      ]
    },
    {
      "cell_type": "code",
      "execution_count": 35,
      "id": "8740fb68",
      "metadata": {
        "id": "8740fb68"
      },
      "outputs": [],
      "source": [
        "names = [\"DecisionTree\", \"RandomForest\", \"AdaBoost\", \"GradientBoosting\"]#, \"KNN\"]\n",
        "classifiers = [DecisionTreeClassifier(), \n",
        "               RandomForestClassifier(),\n",
        "               AdaBoostClassifier(),\n",
        "               GradientBoostingClassifier(),\n",
        "              #  KNeighborsClassifier()\n",
        "               ]\n",
        "clf_models = {}"
      ]
    },
    {
      "cell_type": "code",
      "execution_count": 36,
      "id": "bf994fe3",
      "metadata": {
        "colab": {
          "base_uri": "https://localhost:8080/"
        },
        "id": "bf994fe3",
        "outputId": "edc29a8d-0d12-4471-e02d-e6d250bf71fa"
      },
      "outputs": [
        {
          "output_type": "stream",
          "name": "stdout",
          "text": [
            "The accuracy for  DecisionTree is  99.77272727272727 %\n",
            "The accuracy for  RandomForest is  99.8989898989899 %\n",
            "The accuracy for  AdaBoost is  99.84848484848486 %\n",
            "The accuracy for  GradientBoosting is  99.74747474747475 %\n",
            "The accuracy for  KNN is  99.8989898989899 %\n"
          ]
        }
      ],
      "source": [
        "for name, clf in zip(names, classifiers):\n",
        "  model = clf.fit(X_train, Y_train)\n",
        "  clf_models[name] = model\n",
        "  acc = clf.score(X_test, Y_test)\n",
        "  print('The accuracy for ',name,'is ', acc*100, '%')"
      ]
    },
    {
      "cell_type": "markdown",
      "id": "eeb74752",
      "metadata": {
        "id": "eeb74752"
      },
      "source": [
        "We could see the accuracy for all the 5 classification algorithms, and GradientBoosting performed better out of 5\n",
        "The Accuracy of RandomForest and AdaBoost are almost same"
      ]
    },
    {
      "cell_type": "code",
      "execution_count": 36,
      "id": "c6bfe2d6",
      "metadata": {
        "id": "c6bfe2d6"
      },
      "outputs": [],
      "source": [
        ""
      ]
    }
  ],
  "metadata": {
    "kernelspec": {
      "display_name": "Python 3 (ipykernel)",
      "language": "python",
      "name": "python3"
    },
    "language_info": {
      "codemirror_mode": {
        "name": "ipython",
        "version": 3
      },
      "file_extension": ".py",
      "mimetype": "text/x-python",
      "name": "python",
      "nbconvert_exporter": "python",
      "pygments_lexer": "ipython3",
      "version": "3.9.7"
    },
    "colab": {
      "name": "ClassificationMullerLoop.ipynb",
      "provenance": []
    }
  },
  "nbformat": 4,
  "nbformat_minor": 5
}